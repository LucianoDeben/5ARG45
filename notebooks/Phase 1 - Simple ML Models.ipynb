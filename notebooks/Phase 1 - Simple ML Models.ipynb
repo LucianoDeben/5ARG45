{
 "cells": [
  {
   "cell_type": "markdown",
   "metadata": {},
   "source": [
    "# Import Required Libraries\n",
    "Import the necessary libraries, including scikit-learn, pandas, and numpy."
   ]
  },
  {
   "cell_type": "code",
   "execution_count": 11,
   "metadata": {},
   "outputs": [],
   "source": [
    "## Import Required Libraries\n",
    "import sys\n",
    "\n",
    "import torch\n",
    "\n",
    "sys.path.append(\"../src\")\n",
    "import numpy as np\n",
    "\n",
    "import pandas as pd\n",
    "\n",
    "from sklearn.ensemble import (\n",
    "    GradientBoostingRegressor,\n",
    "    RandomForestRegressor,\n",
    "    AdaBoostRegressor,\n",
    "    BaggingRegressor,\n",
    ")\n",
    "import logging\n",
    "from sklearn.linear_model import (\n",
    "    BayesianRidge,\n",
    "    ElasticNetCV,\n",
    "    HuberRegressor,\n",
    "    RidgeCV,\n",
    "    LassoCV,\n",
    "    LinearRegression,\n",
    ")\n",
    "import pandas as pd\n",
    "from training.train_shallow import evaluate_shallow_model\n",
    "from matplotlib import pyplot as plt\n",
    "\n",
    "from utils.utils import load_config, split_data\n",
    "\n",
    "# Load Config to ensure reproducibility and syncing with other scripts\n",
    "config = load_config(\"../config.yaml\")\n",
    "\n",
    "# Set logging configurations\n",
    "logging.basicConfig(\n",
    "    level=logging.DEBUG,\n",
    "    format=\"%(asctime)s - %(message)s\",\n",
    ")\n",
    "\n",
    "from sklearn.neighbors import KNeighborsRegressor\n",
    "from sklearn.svm import SVR\n",
    "\n",
    "from sklearn.model_selection import RandomizedSearchCV\n",
    "from scipy.stats import randint, uniform\n",
    "from sklearn.feature_selection import VarianceThreshold\n",
    "from sklearn.decomposition import PCA\n",
    "from preprocess.preprocess import perform_pca\n",
    "from visualizations.visualizations import plot_pca_variance, create_pca_biplot, create_tsne_plot, create_coefficients_visualization"
   ]
  },
  {
   "cell_type": "markdown",
   "metadata": {},
   "source": [
    "# Load and Preprocess Dataset\n",
    "Load the gene expression derived TF dataset and preprocess it for model training."
   ]
  },
  {
   "cell_type": "code",
   "execution_count": 21,
   "metadata": {},
   "outputs": [
    {
     "name": "stderr",
     "output_type": "stream",
     "text": [
      "2024-12-11 10:36:39,704 - TF data shape: (1000, 683), Gene data shape: (1000, 978)\n"
     ]
    }
   ],
   "source": [
    "## Load, Split and Preprocess Dataset\n",
    "# Load the dataset\n",
    "tf_df = pd.read_csv(config[\"data_paths\"][\"preprocessed_tf_file\"])\n",
    "gene_df = pd.read_csv(config[\"data_paths\"][\"preprocessed_gene_file\"])\n",
    "\n",
    "# Only sample a subset of the data for faster training\n",
    "tf_df = tf_df.sample(n=1000, random_state=42)\n",
    "gene_df = gene_df.sample(n=1000, random_state=42)\n",
    "\n",
    "logging.debug(f\"TF data shape: {tf_df.shape}, Gene data shape: {gene_df.shape}\")\n",
    "\n",
    "# Split the data into train, validation and test sets as well as features and target\n",
    "X_tf_train, y_tf_train, X_tf_val, y_tf_val, X_tf_test, y_tf_test = split_data(\n",
    "    tf_df, config, target_name=\"viability\"\n",
    ")\n",
    "\n",
    "X_gene_train, y_gene_train, X_gene_val, y_gene_val, X_gene_test, y_gene_test = (\n",
    "    split_data(gene_df, config, target_name=\"viability\")\n",
    ")"
   ]
  },
  {
   "cell_type": "code",
   "execution_count": 23,
   "metadata": {},
   "outputs": [
    {
     "name": "stderr",
     "output_type": "stream",
     "text": [
      "2024-12-11 10:37:33,952 - TF PCA Data shape: (500, 349), Gene PCA Data shape: (500, 341)\n"
     ]
    },
    {
     "data": {
      "application/vnd.plotly.v1+json": {
       "config": {
        "plotlyServerURL": "https://plot.ly"
       },
       "data": [
        {
         "fillpattern": {
          "shape": ""
         },
         "hovertemplate": "# Components=%{x}<br>Cumulative Explained Variance (%)=%{y}<extra></extra>",
         "legendgroup": "",
         "line": {
          "color": "#636efa"
         },
         "marker": {
          "symbol": "circle"
         },
         "mode": "lines",
         "name": "",
         "orientation": "v",
         "showlegend": false,
         "stackgroup": "1",
         "type": "scatter",
         "x": [
          1,
          2,
          3,
          4,
          5,
          6,
          7,
          8,
          9,
          10,
          11,
          12,
          13,
          14,
          15,
          16,
          17,
          18,
          19,
          20,
          21,
          22,
          23,
          24,
          25,
          26,
          27,
          28,
          29,
          30,
          31,
          32,
          33,
          34,
          35,
          36,
          37,
          38,
          39,
          40,
          41,
          42,
          43,
          44,
          45,
          46,
          47,
          48,
          49,
          50,
          51,
          52,
          53,
          54,
          55,
          56,
          57,
          58,
          59,
          60,
          61,
          62,
          63,
          64,
          65,
          66,
          67,
          68,
          69,
          70,
          71,
          72,
          73,
          74,
          75,
          76,
          77,
          78,
          79,
          80,
          81,
          82,
          83,
          84,
          85,
          86,
          87,
          88,
          89,
          90,
          91,
          92,
          93,
          94,
          95,
          96,
          97,
          98,
          99,
          100,
          101,
          102,
          103,
          104,
          105,
          106,
          107,
          108,
          109,
          110,
          111,
          112,
          113,
          114,
          115,
          116,
          117,
          118,
          119,
          120,
          121,
          122,
          123,
          124,
          125,
          126,
          127,
          128,
          129,
          130,
          131,
          132,
          133,
          134,
          135,
          136,
          137,
          138,
          139,
          140,
          141,
          142,
          143,
          144,
          145,
          146,
          147,
          148,
          149,
          150,
          151,
          152,
          153,
          154,
          155,
          156,
          157,
          158,
          159,
          160,
          161,
          162,
          163,
          164,
          165,
          166,
          167,
          168,
          169,
          170,
          171,
          172,
          173,
          174,
          175,
          176,
          177,
          178,
          179,
          180,
          181,
          182,
          183,
          184,
          185,
          186,
          187,
          188,
          189,
          190,
          191,
          192,
          193,
          194,
          195,
          196,
          197,
          198,
          199,
          200,
          201,
          202,
          203,
          204,
          205,
          206,
          207,
          208,
          209,
          210,
          211,
          212,
          213,
          214,
          215,
          216,
          217,
          218,
          219,
          220,
          221,
          222,
          223,
          224,
          225,
          226,
          227,
          228,
          229,
          230,
          231,
          232,
          233,
          234,
          235,
          236,
          237,
          238,
          239,
          240,
          241,
          242,
          243,
          244,
          245,
          246,
          247,
          248,
          249,
          250,
          251,
          252,
          253,
          254,
          255,
          256,
          257,
          258,
          259,
          260,
          261,
          262,
          263,
          264,
          265,
          266,
          267,
          268,
          269,
          270,
          271,
          272,
          273,
          274,
          275,
          276,
          277,
          278,
          279,
          280,
          281,
          282,
          283,
          284,
          285,
          286,
          287,
          288,
          289,
          290,
          291,
          292,
          293,
          294,
          295,
          296,
          297,
          298,
          299,
          300,
          301,
          302,
          303,
          304,
          305,
          306,
          307,
          308,
          309,
          310,
          311,
          312,
          313,
          314,
          315,
          316,
          317,
          318,
          319,
          320,
          321,
          322,
          323,
          324,
          325,
          326,
          327,
          328,
          329,
          330,
          331,
          332,
          333,
          334,
          335,
          336,
          337,
          338,
          339,
          340,
          341,
          342,
          343,
          344,
          345,
          346,
          347,
          348,
          349
         ],
         "xaxis": "x",
         "y": [
          7.247960169705115,
          9.820913271357238,
          11.979442655467892,
          13.885628513078865,
          15.514823308979295,
          17.016484567429412,
          18.472331834277735,
          19.820670584418423,
          21.11822704998803,
          22.397107588115222,
          23.593799059358364,
          24.753880343142256,
          25.901826981233324,
          27.016631519423022,
          28.08311655738812,
          29.139314506075266,
          30.17023808207062,
          31.172401491501567,
          32.15057862856827,
          33.127297492044,
          34.061969430620856,
          34.968399485472005,
          35.84441270769958,
          36.70545708806141,
          37.55906693320533,
          38.39822515784856,
          39.21521569031586,
          40.00429755151103,
          40.78108538215956,
          41.54509515877097,
          42.30547028627867,
          43.05779910700874,
          43.80529254786173,
          44.5297973653352,
          45.23844540395865,
          45.935151804754085,
          46.62531118617474,
          47.30462432805138,
          47.96047849678112,
          48.613723846447115,
          49.2595272701403,
          49.89995575692692,
          50.52878362625215,
          51.14872105298743,
          51.76527753776464,
          52.36609763680923,
          52.95939151178028,
          53.548207028387715,
          54.117280041018944,
          54.67888206944495,
          55.2365472295073,
          55.78002037065281,
          56.315799566211396,
          56.84926268488437,
          57.36260575279477,
          57.871539791917705,
          58.37001477778823,
          58.862656639933256,
          59.349427011210054,
          59.823065385994155,
          60.29205173581506,
          60.75814281091687,
          61.2221292937373,
          61.67683365110588,
          62.12827978119236,
          62.56868296877046,
          63.0017347197819,
          63.43073134074455,
          63.85109913237655,
          64.26437301028146,
          64.67626217524703,
          65.0809454005191,
          65.47747252123571,
          65.87202650837105,
          66.26245260157351,
          66.65036766756998,
          67.03248211424452,
          67.41313186226581,
          67.78653198206422,
          68.15286883587187,
          68.51299883338335,
          68.87106592226228,
          69.22322037715914,
          69.57059333510294,
          69.91573232084554,
          70.25728729518266,
          70.59701496645225,
          70.93156993410578,
          71.26149192318402,
          71.58752017586202,
          71.911700610818,
          72.23230548407982,
          72.54949135564111,
          72.8629043990991,
          73.17318444595412,
          73.4778561972081,
          73.78115215287582,
          74.08162796547852,
          74.37738144725176,
          74.6656429874347,
          74.95210448513843,
          75.23628002213101,
          75.51470022756085,
          75.78871668057238,
          76.06047450757963,
          76.32985687209894,
          76.59684638340917,
          76.86148954760469,
          77.12286754859738,
          77.37986967296906,
          77.6343636313764,
          77.8886740424637,
          78.14100802526305,
          78.39030735665766,
          78.63454600390858,
          78.87700951347831,
          79.11553199023874,
          79.35013684787388,
          79.58430594173413,
          79.81584859341093,
          80.04537469303033,
          80.27280087397195,
          80.4938965336536,
          80.71080853864015,
          80.92643535448673,
          81.14055646862306,
          81.35431828578713,
          81.56490525929098,
          81.77388808787028,
          81.97912749334726,
          82.18260486301388,
          82.38460961265163,
          82.58484705660177,
          82.78337750589867,
          82.97855442270519,
          83.17244293750512,
          83.36405218388472,
          83.55367038923248,
          83.74162263816724,
          83.92629433128931,
          84.11022979583642,
          84.29147702067542,
          84.47012631351514,
          84.64832666757299,
          84.82342796183327,
          84.99787628820002,
          85.16854933215811,
          85.33811262762613,
          85.50599667455798,
          85.67286789885615,
          85.83626393770302,
          85.99873417625977,
          86.15852023129618,
          86.31706826376835,
          86.47409777866007,
          86.62877795922333,
          86.78233176057165,
          86.93480984797655,
          87.08566483361956,
          87.23439914498219,
          87.3815375987959,
          87.52762457701742,
          87.6724319764924,
          87.81569715297819,
          87.95712367250178,
          88.09707824047301,
          88.23515990037937,
          88.37242560390713,
          88.50913145843256,
          88.64334344288986,
          88.77442733348927,
          88.90413235604214,
          89.03219944114855,
          89.15872163155181,
          89.28446149195474,
          89.40924575958606,
          89.53293511630534,
          89.65462738585998,
          89.77495019563095,
          89.89377569297162,
          90.0105294645054,
          90.12654987561922,
          90.2410329477217,
          90.35450695376397,
          90.46696332033056,
          90.57828728785643,
          90.68827115506984,
          90.79687547243913,
          90.90468041217581,
          91.01186538754288,
          91.1181763643833,
          91.2217122488697,
          91.32457877187908,
          91.42703411056034,
          91.5283411076071,
          91.62883105594591,
          91.72801210169118,
          91.82603817374567,
          91.92364056112964,
          92.02021341531868,
          92.11632163369865,
          92.21072715304415,
          92.30410918545992,
          92.39631603482819,
          92.48732597165252,
          92.57752320113599,
          92.6666872117643,
          92.75429774351373,
          92.8407450695462,
          92.92641509097358,
          93.011427194891,
          93.09592458307007,
          93.1798361260546,
          93.26241679749074,
          93.34439990033496,
          93.42611886284324,
          93.50606498518388,
          93.5854856432551,
          93.66423551704192,
          93.74217960604334,
          93.8194709566207,
          93.89513281410076,
          93.97045408781398,
          94.04475795588368,
          94.11708400146316,
          94.18918334630023,
          94.26071037340643,
          94.33183396326743,
          94.40190036056167,
          94.47134996061989,
          94.53973115531427,
          94.60763878819502,
          94.67517548480558,
          94.74186962809058,
          94.80747722651459,
          94.87261094975995,
          94.93680597128518,
          95.00050642549724,
          95.06399886918686,
          95.12686257653927,
          95.18835103497246,
          95.2493329166957,
          95.30992015847862,
          95.36980561531017,
          95.42878761104016,
          95.48738759321243,
          95.54469682127073,
          95.60174593925755,
          95.65870630609767,
          95.71455976377584,
          95.76999910803998,
          95.82470989596911,
          95.87918605794079,
          95.93268061592526,
          95.98571287664662,
          96.0384920260323,
          96.09053374207286,
          96.1417903805438,
          96.19272444667224,
          96.24349365355455,
          96.29378761669037,
          96.34280269920377,
          96.39144783527244,
          96.43978742114405,
          96.48734936987134,
          96.53472814237965,
          96.58121406427826,
          96.62691311051108,
          96.67256234027921,
          96.71695150420713,
          96.76122685865906,
          96.80438924424388,
          96.8473100080609,
          96.88999752112618,
          96.93208936775383,
          96.97350144392729,
          97.01456540929895,
          97.05533513006046,
          97.09537626214274,
          97.13519503033552,
          97.17477883309765,
          97.21372119138998,
          97.25212614291065,
          97.29041974262147,
          97.32770882070034,
          97.36467130995288,
          97.4012942583122,
          97.43758705381545,
          97.47332147158042,
          97.5087390584619,
          97.54374065609481,
          97.57854050494734,
          97.61312553749745,
          97.64735326312058,
          97.68135632637038,
          97.71515579418045,
          97.748701210967,
          97.78166686416611,
          97.81419450239295,
          97.84600576666533,
          97.87705369556322,
          97.90771399127023,
          97.93813109967269,
          97.9684669310697,
          97.99824924418674,
          98.02765211869175,
          98.05692518505901,
          98.08582090309045,
          98.11429751710513,
          98.14247218108078,
          98.17038507917503,
          98.1978677309446,
          98.22482659229854,
          98.25156750033844,
          98.27761933576957,
          98.3035941804049,
          98.32936764788522,
          98.35481926119844,
          98.38016579713954,
          98.40518318642548,
          98.42991946390006,
          98.45441966602223,
          98.47861467265069,
          98.50257144276738,
          98.52622836072655,
          98.54963307383659,
          98.57294374609177,
          98.59580689922394,
          98.6181840923854,
          98.64036716023173,
          98.66208366775221,
          98.68353487509552,
          98.70481344586307,
          98.72572351990647,
          98.74646070173814,
          98.76702885079592,
          98.78692663907235,
          98.80643019726685,
          98.82588742951009,
          98.8451256617492,
          98.86403932349327,
          98.88271311129073,
          98.9010511932827,
          98.91934302502465,
          98.93747451366207,
          98.95509126684541,
          98.97253369940745,
          98.98971102425446,
          99.00675215942559
         ],
         "yaxis": "y"
        }
       ],
       "layout": {
        "legend": {
         "tracegroupgap": 0
        },
        "template": {
         "data": {
          "bar": [
           {
            "error_x": {
             "color": "#2a3f5f"
            },
            "error_y": {
             "color": "#2a3f5f"
            },
            "marker": {
             "line": {
              "color": "#E5ECF6",
              "width": 0.5
             },
             "pattern": {
              "fillmode": "overlay",
              "size": 10,
              "solidity": 0.2
             }
            },
            "type": "bar"
           }
          ],
          "barpolar": [
           {
            "marker": {
             "line": {
              "color": "#E5ECF6",
              "width": 0.5
             },
             "pattern": {
              "fillmode": "overlay",
              "size": 10,
              "solidity": 0.2
             }
            },
            "type": "barpolar"
           }
          ],
          "carpet": [
           {
            "aaxis": {
             "endlinecolor": "#2a3f5f",
             "gridcolor": "white",
             "linecolor": "white",
             "minorgridcolor": "white",
             "startlinecolor": "#2a3f5f"
            },
            "baxis": {
             "endlinecolor": "#2a3f5f",
             "gridcolor": "white",
             "linecolor": "white",
             "minorgridcolor": "white",
             "startlinecolor": "#2a3f5f"
            },
            "type": "carpet"
           }
          ],
          "choropleth": [
           {
            "colorbar": {
             "outlinewidth": 0,
             "ticks": ""
            },
            "type": "choropleth"
           }
          ],
          "contour": [
           {
            "colorbar": {
             "outlinewidth": 0,
             "ticks": ""
            },
            "colorscale": [
             [
              0,
              "#0d0887"
             ],
             [
              0.1111111111111111,
              "#46039f"
             ],
             [
              0.2222222222222222,
              "#7201a8"
             ],
             [
              0.3333333333333333,
              "#9c179e"
             ],
             [
              0.4444444444444444,
              "#bd3786"
             ],
             [
              0.5555555555555556,
              "#d8576b"
             ],
             [
              0.6666666666666666,
              "#ed7953"
             ],
             [
              0.7777777777777778,
              "#fb9f3a"
             ],
             [
              0.8888888888888888,
              "#fdca26"
             ],
             [
              1,
              "#f0f921"
             ]
            ],
            "type": "contour"
           }
          ],
          "contourcarpet": [
           {
            "colorbar": {
             "outlinewidth": 0,
             "ticks": ""
            },
            "type": "contourcarpet"
           }
          ],
          "heatmap": [
           {
            "colorbar": {
             "outlinewidth": 0,
             "ticks": ""
            },
            "colorscale": [
             [
              0,
              "#0d0887"
             ],
             [
              0.1111111111111111,
              "#46039f"
             ],
             [
              0.2222222222222222,
              "#7201a8"
             ],
             [
              0.3333333333333333,
              "#9c179e"
             ],
             [
              0.4444444444444444,
              "#bd3786"
             ],
             [
              0.5555555555555556,
              "#d8576b"
             ],
             [
              0.6666666666666666,
              "#ed7953"
             ],
             [
              0.7777777777777778,
              "#fb9f3a"
             ],
             [
              0.8888888888888888,
              "#fdca26"
             ],
             [
              1,
              "#f0f921"
             ]
            ],
            "type": "heatmap"
           }
          ],
          "heatmapgl": [
           {
            "colorbar": {
             "outlinewidth": 0,
             "ticks": ""
            },
            "colorscale": [
             [
              0,
              "#0d0887"
             ],
             [
              0.1111111111111111,
              "#46039f"
             ],
             [
              0.2222222222222222,
              "#7201a8"
             ],
             [
              0.3333333333333333,
              "#9c179e"
             ],
             [
              0.4444444444444444,
              "#bd3786"
             ],
             [
              0.5555555555555556,
              "#d8576b"
             ],
             [
              0.6666666666666666,
              "#ed7953"
             ],
             [
              0.7777777777777778,
              "#fb9f3a"
             ],
             [
              0.8888888888888888,
              "#fdca26"
             ],
             [
              1,
              "#f0f921"
             ]
            ],
            "type": "heatmapgl"
           }
          ],
          "histogram": [
           {
            "marker": {
             "pattern": {
              "fillmode": "overlay",
              "size": 10,
              "solidity": 0.2
             }
            },
            "type": "histogram"
           }
          ],
          "histogram2d": [
           {
            "colorbar": {
             "outlinewidth": 0,
             "ticks": ""
            },
            "colorscale": [
             [
              0,
              "#0d0887"
             ],
             [
              0.1111111111111111,
              "#46039f"
             ],
             [
              0.2222222222222222,
              "#7201a8"
             ],
             [
              0.3333333333333333,
              "#9c179e"
             ],
             [
              0.4444444444444444,
              "#bd3786"
             ],
             [
              0.5555555555555556,
              "#d8576b"
             ],
             [
              0.6666666666666666,
              "#ed7953"
             ],
             [
              0.7777777777777778,
              "#fb9f3a"
             ],
             [
              0.8888888888888888,
              "#fdca26"
             ],
             [
              1,
              "#f0f921"
             ]
            ],
            "type": "histogram2d"
           }
          ],
          "histogram2dcontour": [
           {
            "colorbar": {
             "outlinewidth": 0,
             "ticks": ""
            },
            "colorscale": [
             [
              0,
              "#0d0887"
             ],
             [
              0.1111111111111111,
              "#46039f"
             ],
             [
              0.2222222222222222,
              "#7201a8"
             ],
             [
              0.3333333333333333,
              "#9c179e"
             ],
             [
              0.4444444444444444,
              "#bd3786"
             ],
             [
              0.5555555555555556,
              "#d8576b"
             ],
             [
              0.6666666666666666,
              "#ed7953"
             ],
             [
              0.7777777777777778,
              "#fb9f3a"
             ],
             [
              0.8888888888888888,
              "#fdca26"
             ],
             [
              1,
              "#f0f921"
             ]
            ],
            "type": "histogram2dcontour"
           }
          ],
          "mesh3d": [
           {
            "colorbar": {
             "outlinewidth": 0,
             "ticks": ""
            },
            "type": "mesh3d"
           }
          ],
          "parcoords": [
           {
            "line": {
             "colorbar": {
              "outlinewidth": 0,
              "ticks": ""
             }
            },
            "type": "parcoords"
           }
          ],
          "pie": [
           {
            "automargin": true,
            "type": "pie"
           }
          ],
          "scatter": [
           {
            "fillpattern": {
             "fillmode": "overlay",
             "size": 10,
             "solidity": 0.2
            },
            "type": "scatter"
           }
          ],
          "scatter3d": [
           {
            "line": {
             "colorbar": {
              "outlinewidth": 0,
              "ticks": ""
             }
            },
            "marker": {
             "colorbar": {
              "outlinewidth": 0,
              "ticks": ""
             }
            },
            "type": "scatter3d"
           }
          ],
          "scattercarpet": [
           {
            "marker": {
             "colorbar": {
              "outlinewidth": 0,
              "ticks": ""
             }
            },
            "type": "scattercarpet"
           }
          ],
          "scattergeo": [
           {
            "marker": {
             "colorbar": {
              "outlinewidth": 0,
              "ticks": ""
             }
            },
            "type": "scattergeo"
           }
          ],
          "scattergl": [
           {
            "marker": {
             "colorbar": {
              "outlinewidth": 0,
              "ticks": ""
             }
            },
            "type": "scattergl"
           }
          ],
          "scattermapbox": [
           {
            "marker": {
             "colorbar": {
              "outlinewidth": 0,
              "ticks": ""
             }
            },
            "type": "scattermapbox"
           }
          ],
          "scatterpolar": [
           {
            "marker": {
             "colorbar": {
              "outlinewidth": 0,
              "ticks": ""
             }
            },
            "type": "scatterpolar"
           }
          ],
          "scatterpolargl": [
           {
            "marker": {
             "colorbar": {
              "outlinewidth": 0,
              "ticks": ""
             }
            },
            "type": "scatterpolargl"
           }
          ],
          "scatterternary": [
           {
            "marker": {
             "colorbar": {
              "outlinewidth": 0,
              "ticks": ""
             }
            },
            "type": "scatterternary"
           }
          ],
          "surface": [
           {
            "colorbar": {
             "outlinewidth": 0,
             "ticks": ""
            },
            "colorscale": [
             [
              0,
              "#0d0887"
             ],
             [
              0.1111111111111111,
              "#46039f"
             ],
             [
              0.2222222222222222,
              "#7201a8"
             ],
             [
              0.3333333333333333,
              "#9c179e"
             ],
             [
              0.4444444444444444,
              "#bd3786"
             ],
             [
              0.5555555555555556,
              "#d8576b"
             ],
             [
              0.6666666666666666,
              "#ed7953"
             ],
             [
              0.7777777777777778,
              "#fb9f3a"
             ],
             [
              0.8888888888888888,
              "#fdca26"
             ],
             [
              1,
              "#f0f921"
             ]
            ],
            "type": "surface"
           }
          ],
          "table": [
           {
            "cells": {
             "fill": {
              "color": "#EBF0F8"
             },
             "line": {
              "color": "white"
             }
            },
            "header": {
             "fill": {
              "color": "#C8D4E3"
             },
             "line": {
              "color": "white"
             }
            },
            "type": "table"
           }
          ]
         },
         "layout": {
          "annotationdefaults": {
           "arrowcolor": "#2a3f5f",
           "arrowhead": 0,
           "arrowwidth": 1
          },
          "autotypenumbers": "strict",
          "coloraxis": {
           "colorbar": {
            "outlinewidth": 0,
            "ticks": ""
           }
          },
          "colorscale": {
           "diverging": [
            [
             0,
             "#8e0152"
            ],
            [
             0.1,
             "#c51b7d"
            ],
            [
             0.2,
             "#de77ae"
            ],
            [
             0.3,
             "#f1b6da"
            ],
            [
             0.4,
             "#fde0ef"
            ],
            [
             0.5,
             "#f7f7f7"
            ],
            [
             0.6,
             "#e6f5d0"
            ],
            [
             0.7,
             "#b8e186"
            ],
            [
             0.8,
             "#7fbc41"
            ],
            [
             0.9,
             "#4d9221"
            ],
            [
             1,
             "#276419"
            ]
           ],
           "sequential": [
            [
             0,
             "#0d0887"
            ],
            [
             0.1111111111111111,
             "#46039f"
            ],
            [
             0.2222222222222222,
             "#7201a8"
            ],
            [
             0.3333333333333333,
             "#9c179e"
            ],
            [
             0.4444444444444444,
             "#bd3786"
            ],
            [
             0.5555555555555556,
             "#d8576b"
            ],
            [
             0.6666666666666666,
             "#ed7953"
            ],
            [
             0.7777777777777778,
             "#fb9f3a"
            ],
            [
             0.8888888888888888,
             "#fdca26"
            ],
            [
             1,
             "#f0f921"
            ]
           ],
           "sequentialminus": [
            [
             0,
             "#0d0887"
            ],
            [
             0.1111111111111111,
             "#46039f"
            ],
            [
             0.2222222222222222,
             "#7201a8"
            ],
            [
             0.3333333333333333,
             "#9c179e"
            ],
            [
             0.4444444444444444,
             "#bd3786"
            ],
            [
             0.5555555555555556,
             "#d8576b"
            ],
            [
             0.6666666666666666,
             "#ed7953"
            ],
            [
             0.7777777777777778,
             "#fb9f3a"
            ],
            [
             0.8888888888888888,
             "#fdca26"
            ],
            [
             1,
             "#f0f921"
            ]
           ]
          },
          "colorway": [
           "#636efa",
           "#EF553B",
           "#00cc96",
           "#ab63fa",
           "#FFA15A",
           "#19d3f3",
           "#FF6692",
           "#B6E880",
           "#FF97FF",
           "#FECB52"
          ],
          "font": {
           "color": "#2a3f5f"
          },
          "geo": {
           "bgcolor": "white",
           "lakecolor": "white",
           "landcolor": "#E5ECF6",
           "showlakes": true,
           "showland": true,
           "subunitcolor": "white"
          },
          "hoverlabel": {
           "align": "left"
          },
          "hovermode": "closest",
          "mapbox": {
           "style": "light"
          },
          "paper_bgcolor": "white",
          "plot_bgcolor": "#E5ECF6",
          "polar": {
           "angularaxis": {
            "gridcolor": "white",
            "linecolor": "white",
            "ticks": ""
           },
           "bgcolor": "#E5ECF6",
           "radialaxis": {
            "gridcolor": "white",
            "linecolor": "white",
            "ticks": ""
           }
          },
          "scene": {
           "xaxis": {
            "backgroundcolor": "#E5ECF6",
            "gridcolor": "white",
            "gridwidth": 2,
            "linecolor": "white",
            "showbackground": true,
            "ticks": "",
            "zerolinecolor": "white"
           },
           "yaxis": {
            "backgroundcolor": "#E5ECF6",
            "gridcolor": "white",
            "gridwidth": 2,
            "linecolor": "white",
            "showbackground": true,
            "ticks": "",
            "zerolinecolor": "white"
           },
           "zaxis": {
            "backgroundcolor": "#E5ECF6",
            "gridcolor": "white",
            "gridwidth": 2,
            "linecolor": "white",
            "showbackground": true,
            "ticks": "",
            "zerolinecolor": "white"
           }
          },
          "shapedefaults": {
           "line": {
            "color": "#2a3f5f"
           }
          },
          "ternary": {
           "aaxis": {
            "gridcolor": "white",
            "linecolor": "white",
            "ticks": ""
           },
           "baxis": {
            "gridcolor": "white",
            "linecolor": "white",
            "ticks": ""
           },
           "bgcolor": "#E5ECF6",
           "caxis": {
            "gridcolor": "white",
            "linecolor": "white",
            "ticks": ""
           }
          },
          "title": {
           "x": 0.05
          },
          "xaxis": {
           "automargin": true,
           "gridcolor": "white",
           "linecolor": "white",
           "ticks": "",
           "title": {
            "standoff": 15
           },
           "zerolinecolor": "white",
           "zerolinewidth": 2
          },
          "yaxis": {
           "automargin": true,
           "gridcolor": "white",
           "linecolor": "white",
           "ticks": "",
           "title": {
            "standoff": 15
           },
           "zerolinecolor": "white",
           "zerolinewidth": 2
          }
         }
        },
        "title": {
         "text": "TF Data: PCA Explained Variance"
        },
        "xaxis": {
         "anchor": "y",
         "domain": [
          0,
          1
         ],
         "title": {
          "text": "# Components"
         }
        },
        "yaxis": {
         "anchor": "x",
         "domain": [
          0,
          1
         ],
         "title": {
          "text": "Cumulative Explained Variance (%)"
         }
        }
       }
      }
     },
     "metadata": {},
     "output_type": "display_data"
    },
    {
     "data": {
      "application/vnd.plotly.v1+json": {
       "config": {
        "plotlyServerURL": "https://plot.ly"
       },
       "data": [
        {
         "fillpattern": {
          "shape": ""
         },
         "hovertemplate": "# Components=%{x}<br>Cumulative Explained Variance (%)=%{y}<extra></extra>",
         "legendgroup": "",
         "line": {
          "color": "#636efa"
         },
         "marker": {
          "symbol": "circle"
         },
         "mode": "lines",
         "name": "",
         "orientation": "v",
         "showlegend": false,
         "stackgroup": "1",
         "type": "scatter",
         "x": [
          1,
          2,
          3,
          4,
          5,
          6,
          7,
          8,
          9,
          10,
          11,
          12,
          13,
          14,
          15,
          16,
          17,
          18,
          19,
          20,
          21,
          22,
          23,
          24,
          25,
          26,
          27,
          28,
          29,
          30,
          31,
          32,
          33,
          34,
          35,
          36,
          37,
          38,
          39,
          40,
          41,
          42,
          43,
          44,
          45,
          46,
          47,
          48,
          49,
          50,
          51,
          52,
          53,
          54,
          55,
          56,
          57,
          58,
          59,
          60,
          61,
          62,
          63,
          64,
          65,
          66,
          67,
          68,
          69,
          70,
          71,
          72,
          73,
          74,
          75,
          76,
          77,
          78,
          79,
          80,
          81,
          82,
          83,
          84,
          85,
          86,
          87,
          88,
          89,
          90,
          91,
          92,
          93,
          94,
          95,
          96,
          97,
          98,
          99,
          100,
          101,
          102,
          103,
          104,
          105,
          106,
          107,
          108,
          109,
          110,
          111,
          112,
          113,
          114,
          115,
          116,
          117,
          118,
          119,
          120,
          121,
          122,
          123,
          124,
          125,
          126,
          127,
          128,
          129,
          130,
          131,
          132,
          133,
          134,
          135,
          136,
          137,
          138,
          139,
          140,
          141,
          142,
          143,
          144,
          145,
          146,
          147,
          148,
          149,
          150,
          151,
          152,
          153,
          154,
          155,
          156,
          157,
          158,
          159,
          160,
          161,
          162,
          163,
          164,
          165,
          166,
          167,
          168,
          169,
          170,
          171,
          172,
          173,
          174,
          175,
          176,
          177,
          178,
          179,
          180,
          181,
          182,
          183,
          184,
          185,
          186,
          187,
          188,
          189,
          190,
          191,
          192,
          193,
          194,
          195,
          196,
          197,
          198,
          199,
          200,
          201,
          202,
          203,
          204,
          205,
          206,
          207,
          208,
          209,
          210,
          211,
          212,
          213,
          214,
          215,
          216,
          217,
          218,
          219,
          220,
          221,
          222,
          223,
          224,
          225,
          226,
          227,
          228,
          229,
          230,
          231,
          232,
          233,
          234,
          235,
          236,
          237,
          238,
          239,
          240,
          241,
          242,
          243,
          244,
          245,
          246,
          247,
          248,
          249,
          250,
          251,
          252,
          253,
          254,
          255,
          256,
          257,
          258,
          259,
          260,
          261,
          262,
          263,
          264,
          265,
          266,
          267,
          268,
          269,
          270,
          271,
          272,
          273,
          274,
          275,
          276,
          277,
          278,
          279,
          280,
          281,
          282,
          283,
          284,
          285,
          286,
          287,
          288,
          289,
          290,
          291,
          292,
          293,
          294,
          295,
          296,
          297,
          298,
          299,
          300,
          301,
          302,
          303,
          304,
          305,
          306,
          307,
          308,
          309,
          310,
          311,
          312,
          313,
          314,
          315,
          316,
          317,
          318,
          319,
          320,
          321,
          322,
          323,
          324,
          325,
          326,
          327,
          328,
          329,
          330,
          331,
          332,
          333,
          334,
          335,
          336,
          337,
          338,
          339,
          340,
          341
         ],
         "xaxis": "x",
         "y": [
          15.888999388673069,
          18.544823266611782,
          20.708780206405798,
          22.628338099711335,
          24.280785831651823,
          25.811228293723477,
          27.111156156278625,
          28.332033709825655,
          29.535664762865764,
          30.610423661980008,
          31.65818788222201,
          32.66952769429772,
          33.61631697113447,
          34.519751314725866,
          35.39800665452233,
          36.263152053697766,
          37.11829258403645,
          37.939345037654476,
          38.73439469379336,
          39.51178324199376,
          40.281213738047825,
          41.0334364759059,
          41.765505968633505,
          42.48783680545255,
          43.195603108339206,
          43.87860819459233,
          44.5595626771165,
          45.2314198433306,
          45.8825574972661,
          46.51750148716557,
          47.14461751299998,
          47.75253121651527,
          48.34313122670811,
          48.92818355131309,
          49.50022906924653,
          50.0700318615434,
          50.627584527177646,
          51.176684960820054,
          51.72107775754288,
          52.25516481139647,
          52.77827055617511,
          53.29807415861863,
          53.80814525007052,
          54.30947490835195,
          54.80345617794856,
          55.291851678191385,
          55.775953434376824,
          56.25622310466832,
          56.73397609797649,
          57.20529795567968,
          57.66469157255296,
          58.12342144142774,
          58.569229651232966,
          59.01324525032358,
          59.45289580162477,
          59.88368505962855,
          60.312096157306186,
          60.73404764375127,
          61.14978413582462,
          61.55959932320627,
          61.96219328324687,
          62.35737035488403,
          62.7491749965173,
          63.137865541651465,
          63.52169829830776,
          63.90132945324636,
          64.27650577639005,
          64.6500194204008,
          65.02093471205434,
          65.38632694924334,
          65.74612894476076,
          66.10239580345363,
          66.4568960988206,
          66.80454554203722,
          67.15104404970063,
          67.49351706914567,
          67.82789973865371,
          68.16170754683071,
          68.49081673405001,
          68.81511034479857,
          69.13531390954793,
          69.45317015388795,
          69.76953486419175,
          70.07770236167825,
          70.38080709646263,
          70.68031215041113,
          70.97931670622279,
          71.27424849724746,
          71.56723667013613,
          71.85583934905,
          72.14166685797882,
          72.42640393158621,
          72.7076420560237,
          72.98526315199177,
          73.25921440045683,
          73.53159180395267,
          73.80282937323526,
          74.07186968162655,
          74.33649004792292,
          74.60032785657596,
          74.86238928921624,
          75.12341606230535,
          75.37976397097235,
          75.635214769857,
          75.88549072365628,
          76.13172851455556,
          76.37663149479606,
          76.62014796603289,
          76.86134702752571,
          77.10112977967034,
          77.33785383136448,
          77.57294276242891,
          77.8060536793148,
          78.03699985846764,
          78.2664672407962,
          78.49459385040733,
          78.7186066617951,
          78.93982376212998,
          79.15840768178674,
          79.37406231602434,
          79.58876725864013,
          79.80034207624144,
          80.0108184940811,
          80.21561938872817,
          80.41940607876043,
          80.62129189157119,
          80.81959560621794,
          81.01705386114469,
          81.21258968526645,
          81.40727649640824,
          81.59910384106203,
          81.79009612847328,
          81.9792912038043,
          82.1670904071313,
          82.35340211699305,
          82.53652854786313,
          82.71802015090381,
          82.89884560774345,
          83.07576561313641,
          83.25239702864044,
          83.42798373078412,
          83.6016951693571,
          83.77420237964128,
          83.94638357966728,
          84.11516291757688,
          84.28104552772831,
          84.44554447025097,
          84.6098456495208,
          84.77297788149546,
          84.9323505425994,
          85.09031509500528,
          85.24703875031278,
          85.40267571555218,
          85.55654557349266,
          85.70953960457578,
          85.86200015854493,
          86.0137056193026,
          86.16408774395539,
          86.31285089662501,
          86.46110580070236,
          86.60825865543002,
          86.75347355320713,
          86.8962854294879,
          87.03850685025506,
          87.18034307356908,
          87.3204263997053,
          87.45914396042458,
          87.59646236422557,
          87.73238941459928,
          87.86622272041795,
          87.9996322641527,
          88.13187046135066,
          88.26296467269152,
          88.39231305486467,
          88.51981919575181,
          88.6455143016053,
          88.77021489344216,
          88.89408477083643,
          89.0171195902171,
          89.13942842243256,
          89.26061745404968,
          89.38144145698112,
          89.50092444892914,
          89.61914901345352,
          89.73577689657647,
          89.85198471281379,
          89.96798138868029,
          90.08207368865148,
          90.19475589354823,
          90.30702956000832,
          90.41899390379199,
          90.52988959881027,
          90.63815392935254,
          90.74595698180326,
          90.85231445634984,
          90.95776636811813,
          91.06162437446173,
          91.16468833185505,
          91.2664157690671,
          91.36774868822842,
          91.4679750622772,
          91.56780201365031,
          91.66700941864917,
          91.76529712261474,
          91.86340270823953,
          91.96001372204643,
          92.05529845742105,
          92.15020196294415,
          92.24446978845364,
          92.33843392622614,
          92.43074628617454,
          92.52221961569575,
          92.61326057127592,
          92.7032248623281,
          92.79248099830905,
          92.88081010071664,
          92.96768965554276,
          93.05441232998932,
          93.14028293368723,
          93.22516075602279,
          93.30961829012969,
          93.3931741552678,
          93.47597470021277,
          93.5576939663175,
          93.63816658696649,
          93.71775492958898,
          93.79705943117375,
          93.87520222589141,
          93.95290066718829,
          94.03005971222349,
          94.10652878706118,
          94.1815491169384,
          94.2563274108258,
          94.32995532356995,
          94.40274445027225,
          94.47500210718395,
          94.54654672414706,
          94.61789273059355,
          94.68872291508669,
          94.75823777670703,
          94.82732267170744,
          94.89608858503473,
          94.96404125763634,
          95.03075067618857,
          95.09684687452553,
          95.1626510002394,
          95.22797739315423,
          95.2928283300527,
          95.35709754671512,
          95.42093204053779,
          95.48314286871296,
          95.54478814144935,
          95.60604209636384,
          95.66713294022796,
          95.72742921460033,
          95.78712416525089,
          95.84654161995803,
          95.90489972303146,
          95.96218981036371,
          96.01821492959014,
          96.07410381387433,
          96.12937880273797,
          96.18424166382425,
          96.23862714900308,
          96.29265621286224,
          96.34622137286708,
          96.3990694050576,
          96.45118410725829,
          96.5029882794861,
          96.55415056067649,
          96.60446150929559,
          96.65453153197201,
          96.70391843575497,
          96.75291071301163,
          96.80177645038911,
          96.8494854099965,
          96.89655852539387,
          96.94333196590483,
          96.98974145840904,
          97.03593247560349,
          97.08131917109962,
          97.12636494061395,
          97.1706839666222,
          97.21445901127156,
          97.25782531749897,
          97.30073762932528,
          97.34327969996086,
          97.38520226177386,
          97.42681968639346,
          97.46781108477634,
          97.50858440590115,
          97.54884079687385,
          97.58861959439206,
          97.6271710261723,
          97.66552048697736,
          97.70376415807512,
          97.74174453024172,
          97.77932668184283,
          97.81591206646341,
          97.85214403185293,
          97.88787591197402,
          97.92292511547149,
          97.95760338268555,
          97.99198944403345,
          98.02604915398133,
          98.05970446270322,
          98.09262084061211,
          98.12543563845651,
          98.15803428492163,
          98.19008029581109,
          98.22191959960712,
          98.25300197983165,
          98.28375674770223,
          98.3143602404705,
          98.34459706392079,
          98.37463655875808,
          98.40428591153663,
          98.43360230901894,
          98.46275109686633,
          98.49103874119629,
          98.5189636536012,
          98.54673343984767,
          98.57431590807784,
          98.60154161311661,
          98.62864854246207,
          98.65523669892579,
          98.68129888370039,
          98.70715267709176,
          98.7324138365731,
          98.75698863212534,
          98.78136109460759,
          98.80540290128364,
          98.82886803050714,
          98.85216293783941,
          98.87524270617938,
          98.8980798002976,
          98.92071150460437,
          98.94301926208658,
          98.96493589353071,
          98.98646687917714,
          99.00762495604496
         ],
         "yaxis": "y"
        }
       ],
       "layout": {
        "legend": {
         "tracegroupgap": 0
        },
        "template": {
         "data": {
          "bar": [
           {
            "error_x": {
             "color": "#2a3f5f"
            },
            "error_y": {
             "color": "#2a3f5f"
            },
            "marker": {
             "line": {
              "color": "#E5ECF6",
              "width": 0.5
             },
             "pattern": {
              "fillmode": "overlay",
              "size": 10,
              "solidity": 0.2
             }
            },
            "type": "bar"
           }
          ],
          "barpolar": [
           {
            "marker": {
             "line": {
              "color": "#E5ECF6",
              "width": 0.5
             },
             "pattern": {
              "fillmode": "overlay",
              "size": 10,
              "solidity": 0.2
             }
            },
            "type": "barpolar"
           }
          ],
          "carpet": [
           {
            "aaxis": {
             "endlinecolor": "#2a3f5f",
             "gridcolor": "white",
             "linecolor": "white",
             "minorgridcolor": "white",
             "startlinecolor": "#2a3f5f"
            },
            "baxis": {
             "endlinecolor": "#2a3f5f",
             "gridcolor": "white",
             "linecolor": "white",
             "minorgridcolor": "white",
             "startlinecolor": "#2a3f5f"
            },
            "type": "carpet"
           }
          ],
          "choropleth": [
           {
            "colorbar": {
             "outlinewidth": 0,
             "ticks": ""
            },
            "type": "choropleth"
           }
          ],
          "contour": [
           {
            "colorbar": {
             "outlinewidth": 0,
             "ticks": ""
            },
            "colorscale": [
             [
              0,
              "#0d0887"
             ],
             [
              0.1111111111111111,
              "#46039f"
             ],
             [
              0.2222222222222222,
              "#7201a8"
             ],
             [
              0.3333333333333333,
              "#9c179e"
             ],
             [
              0.4444444444444444,
              "#bd3786"
             ],
             [
              0.5555555555555556,
              "#d8576b"
             ],
             [
              0.6666666666666666,
              "#ed7953"
             ],
             [
              0.7777777777777778,
              "#fb9f3a"
             ],
             [
              0.8888888888888888,
              "#fdca26"
             ],
             [
              1,
              "#f0f921"
             ]
            ],
            "type": "contour"
           }
          ],
          "contourcarpet": [
           {
            "colorbar": {
             "outlinewidth": 0,
             "ticks": ""
            },
            "type": "contourcarpet"
           }
          ],
          "heatmap": [
           {
            "colorbar": {
             "outlinewidth": 0,
             "ticks": ""
            },
            "colorscale": [
             [
              0,
              "#0d0887"
             ],
             [
              0.1111111111111111,
              "#46039f"
             ],
             [
              0.2222222222222222,
              "#7201a8"
             ],
             [
              0.3333333333333333,
              "#9c179e"
             ],
             [
              0.4444444444444444,
              "#bd3786"
             ],
             [
              0.5555555555555556,
              "#d8576b"
             ],
             [
              0.6666666666666666,
              "#ed7953"
             ],
             [
              0.7777777777777778,
              "#fb9f3a"
             ],
             [
              0.8888888888888888,
              "#fdca26"
             ],
             [
              1,
              "#f0f921"
             ]
            ],
            "type": "heatmap"
           }
          ],
          "heatmapgl": [
           {
            "colorbar": {
             "outlinewidth": 0,
             "ticks": ""
            },
            "colorscale": [
             [
              0,
              "#0d0887"
             ],
             [
              0.1111111111111111,
              "#46039f"
             ],
             [
              0.2222222222222222,
              "#7201a8"
             ],
             [
              0.3333333333333333,
              "#9c179e"
             ],
             [
              0.4444444444444444,
              "#bd3786"
             ],
             [
              0.5555555555555556,
              "#d8576b"
             ],
             [
              0.6666666666666666,
              "#ed7953"
             ],
             [
              0.7777777777777778,
              "#fb9f3a"
             ],
             [
              0.8888888888888888,
              "#fdca26"
             ],
             [
              1,
              "#f0f921"
             ]
            ],
            "type": "heatmapgl"
           }
          ],
          "histogram": [
           {
            "marker": {
             "pattern": {
              "fillmode": "overlay",
              "size": 10,
              "solidity": 0.2
             }
            },
            "type": "histogram"
           }
          ],
          "histogram2d": [
           {
            "colorbar": {
             "outlinewidth": 0,
             "ticks": ""
            },
            "colorscale": [
             [
              0,
              "#0d0887"
             ],
             [
              0.1111111111111111,
              "#46039f"
             ],
             [
              0.2222222222222222,
              "#7201a8"
             ],
             [
              0.3333333333333333,
              "#9c179e"
             ],
             [
              0.4444444444444444,
              "#bd3786"
             ],
             [
              0.5555555555555556,
              "#d8576b"
             ],
             [
              0.6666666666666666,
              "#ed7953"
             ],
             [
              0.7777777777777778,
              "#fb9f3a"
             ],
             [
              0.8888888888888888,
              "#fdca26"
             ],
             [
              1,
              "#f0f921"
             ]
            ],
            "type": "histogram2d"
           }
          ],
          "histogram2dcontour": [
           {
            "colorbar": {
             "outlinewidth": 0,
             "ticks": ""
            },
            "colorscale": [
             [
              0,
              "#0d0887"
             ],
             [
              0.1111111111111111,
              "#46039f"
             ],
             [
              0.2222222222222222,
              "#7201a8"
             ],
             [
              0.3333333333333333,
              "#9c179e"
             ],
             [
              0.4444444444444444,
              "#bd3786"
             ],
             [
              0.5555555555555556,
              "#d8576b"
             ],
             [
              0.6666666666666666,
              "#ed7953"
             ],
             [
              0.7777777777777778,
              "#fb9f3a"
             ],
             [
              0.8888888888888888,
              "#fdca26"
             ],
             [
              1,
              "#f0f921"
             ]
            ],
            "type": "histogram2dcontour"
           }
          ],
          "mesh3d": [
           {
            "colorbar": {
             "outlinewidth": 0,
             "ticks": ""
            },
            "type": "mesh3d"
           }
          ],
          "parcoords": [
           {
            "line": {
             "colorbar": {
              "outlinewidth": 0,
              "ticks": ""
             }
            },
            "type": "parcoords"
           }
          ],
          "pie": [
           {
            "automargin": true,
            "type": "pie"
           }
          ],
          "scatter": [
           {
            "fillpattern": {
             "fillmode": "overlay",
             "size": 10,
             "solidity": 0.2
            },
            "type": "scatter"
           }
          ],
          "scatter3d": [
           {
            "line": {
             "colorbar": {
              "outlinewidth": 0,
              "ticks": ""
             }
            },
            "marker": {
             "colorbar": {
              "outlinewidth": 0,
              "ticks": ""
             }
            },
            "type": "scatter3d"
           }
          ],
          "scattercarpet": [
           {
            "marker": {
             "colorbar": {
              "outlinewidth": 0,
              "ticks": ""
             }
            },
            "type": "scattercarpet"
           }
          ],
          "scattergeo": [
           {
            "marker": {
             "colorbar": {
              "outlinewidth": 0,
              "ticks": ""
             }
            },
            "type": "scattergeo"
           }
          ],
          "scattergl": [
           {
            "marker": {
             "colorbar": {
              "outlinewidth": 0,
              "ticks": ""
             }
            },
            "type": "scattergl"
           }
          ],
          "scattermapbox": [
           {
            "marker": {
             "colorbar": {
              "outlinewidth": 0,
              "ticks": ""
             }
            },
            "type": "scattermapbox"
           }
          ],
          "scatterpolar": [
           {
            "marker": {
             "colorbar": {
              "outlinewidth": 0,
              "ticks": ""
             }
            },
            "type": "scatterpolar"
           }
          ],
          "scatterpolargl": [
           {
            "marker": {
             "colorbar": {
              "outlinewidth": 0,
              "ticks": ""
             }
            },
            "type": "scatterpolargl"
           }
          ],
          "scatterternary": [
           {
            "marker": {
             "colorbar": {
              "outlinewidth": 0,
              "ticks": ""
             }
            },
            "type": "scatterternary"
           }
          ],
          "surface": [
           {
            "colorbar": {
             "outlinewidth": 0,
             "ticks": ""
            },
            "colorscale": [
             [
              0,
              "#0d0887"
             ],
             [
              0.1111111111111111,
              "#46039f"
             ],
             [
              0.2222222222222222,
              "#7201a8"
             ],
             [
              0.3333333333333333,
              "#9c179e"
             ],
             [
              0.4444444444444444,
              "#bd3786"
             ],
             [
              0.5555555555555556,
              "#d8576b"
             ],
             [
              0.6666666666666666,
              "#ed7953"
             ],
             [
              0.7777777777777778,
              "#fb9f3a"
             ],
             [
              0.8888888888888888,
              "#fdca26"
             ],
             [
              1,
              "#f0f921"
             ]
            ],
            "type": "surface"
           }
          ],
          "table": [
           {
            "cells": {
             "fill": {
              "color": "#EBF0F8"
             },
             "line": {
              "color": "white"
             }
            },
            "header": {
             "fill": {
              "color": "#C8D4E3"
             },
             "line": {
              "color": "white"
             }
            },
            "type": "table"
           }
          ]
         },
         "layout": {
          "annotationdefaults": {
           "arrowcolor": "#2a3f5f",
           "arrowhead": 0,
           "arrowwidth": 1
          },
          "autotypenumbers": "strict",
          "coloraxis": {
           "colorbar": {
            "outlinewidth": 0,
            "ticks": ""
           }
          },
          "colorscale": {
           "diverging": [
            [
             0,
             "#8e0152"
            ],
            [
             0.1,
             "#c51b7d"
            ],
            [
             0.2,
             "#de77ae"
            ],
            [
             0.3,
             "#f1b6da"
            ],
            [
             0.4,
             "#fde0ef"
            ],
            [
             0.5,
             "#f7f7f7"
            ],
            [
             0.6,
             "#e6f5d0"
            ],
            [
             0.7,
             "#b8e186"
            ],
            [
             0.8,
             "#7fbc41"
            ],
            [
             0.9,
             "#4d9221"
            ],
            [
             1,
             "#276419"
            ]
           ],
           "sequential": [
            [
             0,
             "#0d0887"
            ],
            [
             0.1111111111111111,
             "#46039f"
            ],
            [
             0.2222222222222222,
             "#7201a8"
            ],
            [
             0.3333333333333333,
             "#9c179e"
            ],
            [
             0.4444444444444444,
             "#bd3786"
            ],
            [
             0.5555555555555556,
             "#d8576b"
            ],
            [
             0.6666666666666666,
             "#ed7953"
            ],
            [
             0.7777777777777778,
             "#fb9f3a"
            ],
            [
             0.8888888888888888,
             "#fdca26"
            ],
            [
             1,
             "#f0f921"
            ]
           ],
           "sequentialminus": [
            [
             0,
             "#0d0887"
            ],
            [
             0.1111111111111111,
             "#46039f"
            ],
            [
             0.2222222222222222,
             "#7201a8"
            ],
            [
             0.3333333333333333,
             "#9c179e"
            ],
            [
             0.4444444444444444,
             "#bd3786"
            ],
            [
             0.5555555555555556,
             "#d8576b"
            ],
            [
             0.6666666666666666,
             "#ed7953"
            ],
            [
             0.7777777777777778,
             "#fb9f3a"
            ],
            [
             0.8888888888888888,
             "#fdca26"
            ],
            [
             1,
             "#f0f921"
            ]
           ]
          },
          "colorway": [
           "#636efa",
           "#EF553B",
           "#00cc96",
           "#ab63fa",
           "#FFA15A",
           "#19d3f3",
           "#FF6692",
           "#B6E880",
           "#FF97FF",
           "#FECB52"
          ],
          "font": {
           "color": "#2a3f5f"
          },
          "geo": {
           "bgcolor": "white",
           "lakecolor": "white",
           "landcolor": "#E5ECF6",
           "showlakes": true,
           "showland": true,
           "subunitcolor": "white"
          },
          "hoverlabel": {
           "align": "left"
          },
          "hovermode": "closest",
          "mapbox": {
           "style": "light"
          },
          "paper_bgcolor": "white",
          "plot_bgcolor": "#E5ECF6",
          "polar": {
           "angularaxis": {
            "gridcolor": "white",
            "linecolor": "white",
            "ticks": ""
           },
           "bgcolor": "#E5ECF6",
           "radialaxis": {
            "gridcolor": "white",
            "linecolor": "white",
            "ticks": ""
           }
          },
          "scene": {
           "xaxis": {
            "backgroundcolor": "#E5ECF6",
            "gridcolor": "white",
            "gridwidth": 2,
            "linecolor": "white",
            "showbackground": true,
            "ticks": "",
            "zerolinecolor": "white"
           },
           "yaxis": {
            "backgroundcolor": "#E5ECF6",
            "gridcolor": "white",
            "gridwidth": 2,
            "linecolor": "white",
            "showbackground": true,
            "ticks": "",
            "zerolinecolor": "white"
           },
           "zaxis": {
            "backgroundcolor": "#E5ECF6",
            "gridcolor": "white",
            "gridwidth": 2,
            "linecolor": "white",
            "showbackground": true,
            "ticks": "",
            "zerolinecolor": "white"
           }
          },
          "shapedefaults": {
           "line": {
            "color": "#2a3f5f"
           }
          },
          "ternary": {
           "aaxis": {
            "gridcolor": "white",
            "linecolor": "white",
            "ticks": ""
           },
           "baxis": {
            "gridcolor": "white",
            "linecolor": "white",
            "ticks": ""
           },
           "bgcolor": "#E5ECF6",
           "caxis": {
            "gridcolor": "white",
            "linecolor": "white",
            "ticks": ""
           }
          },
          "title": {
           "x": 0.05
          },
          "xaxis": {
           "automargin": true,
           "gridcolor": "white",
           "linecolor": "white",
           "ticks": "",
           "title": {
            "standoff": 15
           },
           "zerolinecolor": "white",
           "zerolinewidth": 2
          },
          "yaxis": {
           "automargin": true,
           "gridcolor": "white",
           "linecolor": "white",
           "ticks": "",
           "title": {
            "standoff": 15
           },
           "zerolinecolor": "white",
           "zerolinewidth": 2
          }
         }
        },
        "title": {
         "text": "Gene Data: PCA Explained Variance"
        },
        "xaxis": {
         "anchor": "y",
         "domain": [
          0,
          1
         ],
         "title": {
          "text": "# Components"
         }
        },
        "yaxis": {
         "anchor": "x",
         "domain": [
          0,
          1
         ],
         "title": {
          "text": "Cumulative Explained Variance (%)"
         }
        }
       }
      }
     },
     "metadata": {},
     "output_type": "display_data"
    },
    {
     "data": {
      "application/vnd.plotly.v1+json": {
       "config": {
        "plotlyServerURL": "https://plot.ly"
       },
       "data": [
        {
         "marker": {
          "color": [
           0.9911572251061926,
           1,
           0.9763426956788256,
           0.3764199443247731,
           1,
           1,
           1,
           1,
           1,
           1,
           0.902433500861249,
           0.9965594255498296,
           1,
           0.8701642995293112,
           0.8118997621394186,
           0.9707202422048736,
           1,
           1,
           0.9026565042352812,
           0.9284214823333788,
           0.9283391773415052,
           0.8871788957014122,
           0.8735072210701182,
           0.7729527366351572,
           1,
           0.5907228459832805,
           1,
           1,
           1,
           1,
           1,
           0.9343329708348804,
           1,
           0.9058648643780084,
           0.9957237742923652,
           1,
           0.931707313971434,
           0.9551832161427256,
           1,
           1,
           1,
           1,
           1,
           1,
           1,
           0.9334119724860734,
           1,
           1,
           0.9682378335902452,
           0.391580169065613,
           0.91547659184532,
           1,
           0.0526205687951325,
           0.7097918107442335,
           0.6012445070831133,
           0.9954713079656806,
           1,
           0.925295646456794,
           0.9371302443754312,
           1,
           0.9632665734880318,
           0.9529222969005088,
           0.9342068642363196,
           0.4705060371530662,
           0.8575002016537739,
           0.8543599099145673,
           0.7713943872752447,
           0.8856281917213811,
           1,
           0.9764999816243652,
           0.9162615080987344,
           0.9249065938039877,
           0.9698195641669288,
           1,
           0.918939132250458,
           1,
           0.8764983911293238,
           0.9486347740201498,
           0.9945772345400858,
           0.91046308368916,
           1,
           0.9763693079735108,
           0.2761501590638442,
           0.9982688826883876,
           0.9807724594688424,
           1,
           0.8293461337787491,
           0.9900982219982036,
           0.9974582686724016,
           0.990816172069673,
           0.955115008396499,
           0.9870786107513476,
           0.9938913014643518,
           1,
           1,
           0.919269537116401,
           0.9271155081517242,
           1,
           1,
           1,
           0.3762892830406895,
           1,
           1,
           0.9463904673721824,
           0.9054336931248422,
           0.3693915502739749,
           0.9949511960594416,
           1,
           0.9662712264431316,
           0.7787090306804507,
           0.1918259918590977,
           0.9653816122625418,
           0.9395700347787058,
           0.9952816212766048,
           1,
           1,
           1,
           0.894731694861747,
           1,
           0.9455883958096952,
           1,
           1,
           0.9069873491633816,
           0.8831448654048591,
           0.2665513526674094,
           0.8542335395427392,
           1,
           1,
           0.9596922808567652,
           0.6151199063318602,
           0.9323570949246758,
           0.6570258183731501,
           0.1070177702747052,
           1,
           1,
           1,
           1,
           1,
           1,
           0.8069655848937446,
           1,
           0.984180471933336,
           0.9885687547090676,
           0.5956069420894501,
           0.1731298951338346,
           0.7916014360909273,
           1,
           0.9900742358083144,
           1,
           0.965136376525251,
           0.9601171222698764,
           1,
           1,
           0.649932914649567,
           0.9447120611112292,
           1,
           0.8114940031594375,
           0.478572437916353,
           1,
           0.0152860642407448,
           0.2721578241972284,
           1,
           0.4669368740402836,
           0.914880068550586,
           0.9918828890589848,
           0.9535617867886126,
           0.9195722871437332,
           0.9152889092573472,
           1,
           1,
           0.9728891671704378,
           0.5620782798737056,
           0.9538391773920766,
           1,
           0.9906856128348271,
           0.7168576691068649,
           1,
           0.9393729240101346,
           1,
           0.9815149873627168,
           0.0503888221703299,
           1,
           0.9375063580247344,
           1,
           1,
           0.0599706222801095,
           1,
           0.8062214758109016,
           0.3557055302340094,
           0.8897957386515137,
           0.5740832308142804,
           0.9212151627512338,
           0.9470433581314808,
           0.9380667240833974,
           1,
           0.6078416259233785,
           1,
           0.9787666679656272,
           0.9495539263277896,
           0.9573365017673474,
           1,
           1,
           1,
           0.711475112928782,
           0.5696368977165406,
           0.9604150577841696,
           0.926723030041402,
           0.9523162501502024,
           0.9406002856274,
           0.7505498974222241,
           1,
           0.8405203195182673,
           1,
           0.9513467966906042,
           0.9220446852173314,
           0.9996751998710034,
           0.1199571245942936,
           0.9793414298594464,
           0.9320453618719834,
           1,
           0.158064988933863,
           0.2535515727493794,
           1,
           1,
           0.4511429202478141,
           1,
           1,
           1,
           0.8209703873836756,
           1,
           0.9735785935526384,
           0.9418717758940276,
           0.9601924197871944,
           1,
           0.9850472954389252,
           0.8613782872559135,
           1,
           0.7944856661191995,
           0.2932031523194223,
           0.7405041335865249,
           0.72011228042129,
           1,
           1,
           0.4877889571279723,
           0.661861634444495,
           0.9610743493480838,
           0.3758719337158476,
           0.9188686210718744,
           0.367842580288183,
           0.9288787802362044,
           0.9754562803389174,
           1,
           0.023906921965213,
           0.8903733804781554,
           0.9739195666739184,
           0.9772599673108976,
           0.9768596094005908,
           0.8283377246601852,
           1,
           1,
           0.2738408031138887,
           1,
           1,
           0.8910230602855607,
           1,
           1,
           0.9647354047182706,
           0.824686143930963,
           0.9503648340116424,
           0.999966880707852,
           0.9358206399747514,
           0.9707268783684596,
           0.9359710299034448,
           1,
           0.4309827742617397,
           0.9967576260948952,
           0.0487627588714312,
           1,
           1,
           1,
           1,
           0.9468238970287476,
           0.1161131165695418,
           0.9675055898027904,
           0.9735155061414184,
           0.7783562638803598,
           0.3434597516997231,
           0.877366236667675,
           1,
           0.6489554394326076,
           1,
           0.9402014420684668,
           0.2095273275505995,
           0.9876472450362588,
           1,
           1,
           1,
           0.9975958335060664,
           0.379015753513757,
           0.929328079161321,
           1,
           0.8833462256153723,
           0.967297971162952,
           0.980934586892628,
           1,
           0.9397260494167792,
           1,
           0.070903890672331,
           0.2628111581600572,
           0.9757178528524676,
           0.9747734981121514,
           1,
           0.932357094955524,
           0.9283391773415052,
           1,
           1,
           0.5872187038694257,
           1,
           0.9348097811635542,
           1,
           0.8916196394672546,
           0.8794579160942018,
           0.8133069902942225,
           1,
           1,
           0.9217370292638932,
           0.9674984659396316,
           1,
           1,
           0.7633335157390769,
           1,
           0.3942298160689444,
           1,
           1,
           0.3157111118475092,
           0.5365158351286876,
           1,
           0.0635652038392036,
           1,
           0.5742383697494073,
           0.9423979549284448,
           1,
           0.9612520472190712,
           0.8723021843073692,
           0.6622360500453851,
           1,
           0.8208327671208264,
           1,
           1,
           1,
           1,
           0.5146315941854094,
           0.9704895393268648,
           0.9953487065671938,
           1,
           0.9472498633421264,
           1,
           1,
           0.9829291278571074,
           0.803530830465743,
           0.9744326286328958,
           0.8720001904995517,
           1,
           1,
           0.0761293279984815,
           0.9482480466162256,
           0.9892016535883472,
           0.9179741863426748,
           0.9985031971596298,
           1,
           1,
           0.9950639410574365,
           0.918651909738338,
           0.6627823441491636,
           1,
           0.7389639858394237,
           1,
           0.731073835746276,
           1,
           1,
           0.9383579235659142,
           0.9638386966726684,
           0.966382588382872,
           0.2692714245608444,
           1,
           0.954070453255631,
           1,
           0.8957791469591516,
           1,
           0.9175440289998908,
           1,
           0.4790080375492733,
           0.995527294013827,
           0.4165109334432695,
           0.7942726403516477,
           1,
           1,
           0.9809888144922416,
           1,
           0.976784514398834,
           0.7610653458706871,
           1,
           1,
           0.9023230255106583,
           1,
           1,
           1,
           0.5180904956584214,
           0.7145595194385416,
           0.9835591942084604,
           1,
           0.0778862261719908,
           1,
           1,
           0.940914698854984,
           1,
           0.6824314128454019,
           1,
           1,
           0.8798611043995752,
           1,
           1,
           1,
           1,
           0.8910230602859409,
           0.9545931144627644,
           1,
           1,
           0.9853028081943092,
           1,
           1,
           1,
           0.9973973738120084,
           0.9132935337251222,
           0.9718051383697957,
           0.2750531970853354,
           1,
           0.2415563690734038,
           1,
           0.895174840694579,
           0.345566007964002,
           1,
           1,
           1,
           1,
           1,
           0.9835248925161324,
           1,
           0.9563351279311206,
           0.9977848097067116,
           0.7399688765081351,
           1,
           0.7464306832261809,
           0.5867420633096035,
           0.0776927121907793,
           0.4242013790155854,
           0.9603994405852344,
           0.5438016783954467,
           1,
           1,
           1,
           1,
           1,
           1,
           1,
           1,
           0.3324925360846205,
           1,
           1,
           0.6062003935583636,
           0.9857025148607724,
           0.9727876329616748,
           0.9869775165007644,
           1,
           0.9945121891968756,
           1,
           0.4984048189337594,
           0.9912625944537408,
           1,
           0.4576526336455476,
           0.8328824913753605,
           1,
           0.950291137132356,
           1,
           0.4353201267833341,
           0.936675424659343,
           1,
           0.9313697794909592,
           1,
           1,
           1,
           0.1915402339724938,
           0.6809551461267556,
           0.9622844078664632,
           1,
           0.967292872643148,
           1,
           0.5931762439107249,
           0.8977157544829311,
           0.4696725689253001
          ],
          "colorbar": {
           "title": {
            "text": "Viability"
           }
          },
          "colorscale": [
           [
            0,
            "#440154"
           ],
           [
            0.1111111111111111,
            "#482878"
           ],
           [
            0.2222222222222222,
            "#3e4989"
           ],
           [
            0.3333333333333333,
            "#31688e"
           ],
           [
            0.4444444444444444,
            "#26828e"
           ],
           [
            0.5555555555555556,
            "#1f9e89"
           ],
           [
            0.6666666666666666,
            "#35b779"
           ],
           [
            0.7777777777777778,
            "#6ece58"
           ],
           [
            0.8888888888888888,
            "#b5de2b"
           ],
           [
            1,
            "#fde725"
           ]
          ],
          "showscale": true,
          "size": 5
         },
         "mode": "markers",
         "name": "Data Points (2D)",
         "showlegend": false,
         "type": "scatter",
         "visible": true,
         "x": [
          -2.3173675367174207,
          2.339833066769833,
          -1.3386558175951835,
          -12.583541189917044,
          6.502423694482085,
          7.002968796999694,
          -5.232751992051684,
          8.472675532274007,
          -1.9831596442440584,
          1.2942622282334884,
          0.890365142455411,
          1.204842302099435,
          -0.7749609789387198,
          1.6875145829676275,
          -2.0898239611629843,
          1.6641594239679538,
          -10.220872394509112,
          0.775781551521276,
          -2.416780249849238,
          -6.494164084412414,
          1.5777390991497415,
          1.7273231404868905,
          10.068057975355861,
          1.1959205401431607,
          4.225845821054107,
          0.08820858981192699,
          -5.83070555733883,
          -16.66553166626645,
          -2.1366040006013503,
          -9.346910006854996,
          8.717201915844306,
          -0.768525037742751,
          11.295213565219397,
          6.267790873995509,
          -4.538286820119792,
          5.750587570445683,
          1.6181316475959935,
          3.442357357394609,
          9.55956700001379,
          -4.118171628006511,
          6.131420848375117,
          1.2707401716252342,
          -6.0810256462982615,
          -11.436828193293936,
          11.212417760088625,
          4.98681517430907,
          15.271621226933702,
          5.303248222137785,
          6.670791245386484,
          0.9046656964039086,
          -9.419812987489957,
          -1.411330309718472,
          -0.5438264856958263,
          2.4497053584845494,
          -7.247624102245301,
          -8.497703467878043,
          10.973592879374394,
          -9.763723748278526,
          7.010675408104039,
          -1.8265596715574572,
          -7.039405650285864,
          -10.525046432930447,
          -10.774650547038487,
          3.643223451732413,
          3.251141491571406,
          7.06371879765891,
          9.887251202167192,
          -4.24282246502658,
          6.477828586978109,
          3.482389087331798,
          2.641254501192678,
          8.782244173245196,
          5.2564746960771345,
          -12.81930301126998,
          -3.5001652788933413,
          -11.443981569935682,
          2.465003495481273,
          4.141737043025319,
          7.579091387440086,
          -0.8686612640265016,
          -3.6440632641150392,
          10.81413383953407,
          1.0356272454428368,
          7.134548459877786,
          15.750559812439077,
          5.054596606152853,
          10.310570775370696,
          1.4130815017966152,
          -8.699164506792526,
          8.627851861263098,
          5.1768769232118865,
          6.409788675779174,
          10.01680820435597,
          -8.06535660373569,
          5.8001949510908934,
          5.723847720789092,
          6.311450660567764,
          -17.754672389311928,
          4.784204130325106,
          -9.365247367089628,
          0.4990544622817695,
          -6.3853972041983065,
          4.3655883357956995,
          7.075325560014163,
          0.7116774144637763,
          -8.581584079757363,
          2.1190825601555616,
          -2.9359981581646903,
          -5.287699611857107,
          -4.859838941715488,
          -7.013246729583421,
          -2.4676764856516993,
          -3.4820646284548777,
          3.0243500459147468,
          8.035361952519814,
          -5.544557233695408,
          -8.658318946648562,
          -3.340311151306927,
          1.9591679529733472,
          -6.0767628448572415,
          -5.667564893611708,
          7.41738085530295,
          3.166180447419784,
          0.63988673203081,
          -15.194064339507827,
          9.038140463670373,
          0.5160534397070289,
          4.795390742950444,
          2.5201240711684756,
          4.159716117502747,
          7.280519196258659,
          -5.302860790278034,
          -9.27063079412324,
          -9.566804666330777,
          -1.726379079539944,
          -14.549777212587369,
          -7.773878687670778,
          0.8073327152093842,
          -6.8429926443760785,
          1.9778229562178415,
          -1.2734562970709211,
          -10.265240969535645,
          10.719181250246779,
          -10.413970559057564,
          -16.615245727767107,
          -4.678730638264549,
          8.918334526012794,
          4.324072566288174,
          8.439094440946223,
          2.7347469767967794,
          4.065889824641731,
          0.601710088703313,
          8.522725879585577,
          -15.614779458593079,
          -4.485495090462032,
          7.286436043349671,
          4.251185842229595,
          -7.039235340464995,
          -0.5102862217529918,
          -5.837736196476597,
          2.8244260109363655,
          2.61368212502624,
          -5.15797506137233,
          9.454221793094273,
          2.491292024383649,
          -14.80805021718919,
          -0.2559556200917254,
          2.534667524222214,
          0.951132801114754,
          -4.058734324684984,
          -0.5032920055786473,
          -7.627712743536922,
          10.046705685677045,
          -7.722801369275827,
          5.140611073733587,
          -9.14357558139024,
          -7.15486318351741,
          3.916483188961947,
          -7.145720489709566,
          -4.410898749585077,
          -7.831757259182754,
          10.736085149441013,
          15.799498758057622,
          -6.965631521800725,
          4.938140390095374,
          -6.586246198359022,
          3.287591993855461,
          3.305482495241876,
          -2.4830261983720763,
          3.4692549878483865,
          2.4869892272468213,
          1.1459811526775994,
          8.657857751889205,
          8.985387819419916,
          -8.993526944503316,
          -7.4241990859384845,
          -15.263595872614948,
          3.064194096026071,
          -2.6849446698833295,
          8.964123292122771,
          -2.924761916902544,
          0.9470346445504186,
          0.09071509489477846,
          -4.495032285483013,
          -7.962238032221157,
          7.163553616630652,
          -11.260262072837584,
          -5.641286809223834,
          1.918819653545785,
          -2.111762968961331,
          5.436004323574914,
          -0.716286405578387,
          0.5986663452534104,
          7.640715438253631,
          0.5597716716953451,
          6.130226760895844,
          -5.946924823996712,
          -5.607757357927952,
          8.479932029255764,
          1.5458140437671872,
          -12.805669153198972,
          -9.34259059485953,
          8.467817827913318,
          -3.0489533977125625,
          5.688873791856237,
          0.5249679147000761,
          0.4685341036279628,
          2.384703438127084,
          1.0395674265979329,
          5.55550397594991,
          4.50837399489189,
          3.1114115720533246,
          8.405720027083747,
          3.844657637644139,
          2.117858740924052,
          -0.9606779385648694,
          7.271934502062467,
          -5.042636016030314,
          -7.147239016373915,
          3.752672040368793,
          3.704471466593865,
          -8.084786477146203,
          -6.636708121055087,
          -8.59979177245276,
          5.458012840220525,
          -7.146997328567512,
          0.6974688244779701,
          6.191342569988246,
          -16.148216154584304,
          -1.1905416154417539,
          -0.3051201978051566,
          10.29956982493706,
          -5.213557183933238,
          1.9255503674109622,
          8.225277694613494,
          -4.312534925097243,
          7.627258098356249,
          -4.327671876315401,
          8.487595449564317,
          13.834091762509216,
          -10.456866798528097,
          7.0737839512989185,
          0.44887677821449057,
          4.2188787375941335,
          8.45836418881889,
          -1.0093540793799585,
          3.7192695878254587,
          8.429943235171189,
          -1.2436464636666613,
          -1.3320981857930785,
          3.9093131459670083,
          7.648433207795084,
          6.651689651947255,
          5.177096921150692,
          -14.745141857425741,
          3.996393820690624,
          -4.934935042009152,
          3.3108100895760306,
          -5.28469084872664,
          -6.1649050598314545,
          1.5358434104266598,
          17.291744336773586,
          -9.077045639114582,
          1.342558550570012,
          1.6095468312092471,
          4.624080067880342,
          -8.107976869944983,
          -14.683683078339355,
          3.6322641431730243,
          -4.736294914027554,
          -6.746803406460715,
          4.550945278751178,
          -7.890268605360999,
          1.1337453659441645,
          -4.578382286879514,
          -3.8713630531875527,
          4.510058567430967,
          -1.116247858808225,
          -6.132736267607966,
          14.894567546976058,
          3.199715804494999,
          5.3521172900883975,
          4.53015838022162,
          3.7479200195460876,
          9.909260893562232,
          3.822031080207685,
          -1.381212192586618,
          -4.561062473701382,
          -2.5862953448582524,
          2.9673580303940974,
          -5.337339419655734,
          -0.9869315355049962,
          3.167144159409981,
          -0.3878625276463043,
          0.7519021127137699,
          -5.876897542693112,
          -1.3201962744901818,
          -13.292405422547306,
          4.711603481231538,
          -1.6355783562530655,
          6.853335652624685,
          6.070769681355054,
          5.025680772607613,
          3.165733647753765,
          -1.2618004829791467,
          0.4765005074122686,
          -17.88178004315979,
          11.782987370879841,
          0.9888351370400751,
          8.146699910422678,
          10.957856189541296,
          -1.324325508919035,
          5.76580367429748,
          9.121993565293126,
          4.784833394003504,
          -7.820186375613167,
          -1.1601624607924077,
          -16.571190989457136,
          -7.380339135809355,
          8.021215691601688,
          -19.10277067883493,
          2.7298602358618793,
          1.6085385440824695,
          -2.8326019198279417,
          12.792231270729705,
          -1.4834394578833996,
          9.763018651352064,
          -0.9282520015725472,
          -4.054947469558118,
          8.10682233706531,
          -3.299056892577869,
          5.24360739345183,
          -3.3065282378358485,
          -6.632522516016237,
          7.184821249343985,
          5.371253585787779,
          -1.5131930595294716,
          5.384088511899765,
          -3.380486534542603,
          -12.981855688300735,
          0.7739891368676095,
          2.0311483494292046,
          -1.613727541995308,
          -0.9111801462507619,
          -2.5310949227084394,
          -12.665135329590512,
          -1.3159819321729027,
          -1.1448042620509349,
          -11.593380284934387,
          0.5872418221640117,
          4.684977544080667,
          -2.742997554546003,
          -8.143079583524461,
          -7.614649062673699,
          1.9013511746949014,
          -3.7368547286948366,
          4.956125783786477,
          7.263228491390612,
          2.271786053701723,
          -3.640379737876781,
          5.835498706725671,
          1.2654937221543945,
          -2.556699776720246,
          -12.446734221501922,
          -0.6567874909194067,
          1.1023063102860389,
          9.107534185089406,
          2.3150145823874935,
          5.310736942487528,
          12.819251079505129,
          1.9381753949396374,
          -1.225905855149698,
          -9.315369415718314,
          1.261255702333054,
          -12.228757307680333,
          1.0082283799925555,
          -2.5117571405779273,
          -0.9639661917635365,
          -11.435272387084737,
          3.675642460928316,
          1.7860193107773203,
          -3.8020611072219155,
          6.401906508347969,
          -7.5547245160167105,
          9.94494980126556,
          -1.2994215639415267,
          -1.5029526317541289,
          6.454043996817924,
          9.839738016649589,
          1.7328916742792346,
          -1.1327879996195451,
          -1.1335738005220202,
          -0.2533014230508796,
          -1.0296067200029624,
          17.13288670390894,
          0.4114540447675375,
          -10.724205194121096,
          0.7671164157682357,
          -0.6797645181003557,
          -14.860607914477553,
          0.9511551098623962,
          7.546474117003121,
          -6.932989232177181,
          8.0615404889539,
          7.650668450286784,
          -7.565745807594709,
          -3.7409652910962743,
          2.559515945484505,
          -0.26964397926320216,
          3.1478113604620495,
          -2.141623993342005,
          7.393762740915041,
          0.9324158214089304,
          8.222872454107856,
          -12.829953317069833,
          -17.803772999715083,
          1.8680344391514536,
          2.093739395139366,
          6.959501329776042,
          -10.28949028630335,
          0.7321360282989258,
          14.699078714981175,
          8.160904573662473,
          4.796812178502811,
          0.6983449471447501,
          -6.75780776193662,
          10.87921040293149,
          -9.721852359797508,
          -1.2064980303224777,
          4.883940666132738,
          -12.504777520363636,
          -10.788452881996804,
          0.1626450786589856,
          -6.210649605491328,
          -14.03300167491808,
          3.317254191082113,
          -8.0311860926635,
          2.1478198440847356,
          -11.878976348071623,
          -1.9815655755460095,
          5.722540395960998,
          0.059329594866706005,
          6.821348973328372,
          -3.6381723359418245,
          15.74787520777505,
          3.504428005475557,
          -5.925457078285391,
          11.949292846669954,
          3.1675680768688395,
          -9.688543421460684,
          -3.0342477625664728,
          1.2710395184181495,
          13.444048222984712,
          8.03663174145749,
          6.586367018342042,
          1.2908235710548726,
          -12.873597932106463,
          -4.923878882360231,
          2.0977971410213287,
          -10.096321526979414,
          1.0359980944398248,
          4.666908834061663,
          12.227639302080679,
          -4.070196387561411,
          -3.861966371990264,
          -3.027387961658821,
          0.5613630965052229,
          14.900773572063194,
          -0.3623186359264843,
          3.418848176781121,
          5.036960631221214,
          -6.144350137913573,
          1.103080164844088,
          -10.83493904158602,
          2.014526800222136,
          0.9165620809523168,
          3.5538291735011325,
          -14.665846403551063,
          6.11040565029592,
          -15.355074663621696
         ],
         "y": [
          4.475573405321057,
          -0.741087914512585,
          -1.6527740395298793,
          6.217160498520432,
          4.476182067220531,
          0.0667407427674294,
          -3.043604183568761,
          -3.232220652389403,
          -4.890608660227182,
          0.7118231780338301,
          3.242073913873571,
          -1.7201190145312397,
          0.5763634546005162,
          0.21418543025066558,
          -5.109117778086106,
          -0.09189492270078142,
          4.974201440676194,
          -3.285885435966782,
          -3.5685070072304863,
          11.864016452911603,
          -1.2454223248397198,
          -2.5660763625679195,
          3.446382894622025,
          9.132463565011847,
          -0.5234281852370101,
          1.7910049565986128,
          2.9634397380976716,
          -5.701545019663905,
          -2.105532246434843,
          -4.09645048605245,
          1.1160072786912278,
          -4.877539901189305,
          6.0390246270845855,
          -0.30250771236733837,
          -4.811836076149573,
          -1.9032215275266662,
          -0.07228104741667338,
          -5.058531079598375,
          2.6378251907196786,
          -6.290744758746714,
          -0.690073458719645,
          -3.432430882155316,
          -8.821585231334355,
          15.74162709760711,
          -1.8926514079826129,
          2.6589552937748446,
          0.6983802921499275,
          -0.7044277050192143,
          0.4110517092284682,
          0.9423019886914192,
          -4.513991044023632,
          6.164922747855454,
          -1.6597503066558408,
          -2.844149758477089,
          -1.345763581299381,
          2.7500658840005547,
          0.8568755509484112,
          0.9989377668447545,
          0.4616051032270606,
          -1.3429479024874487,
          -7.4437621941238445,
          4.180502766902245,
          5.538518662809073,
          -1.2371609663705556,
          -0.399738974401586,
          0.9831954297509556,
          1.4877013229626064,
          1.6922986883996325,
          1.307216782632712,
          1.50571911263882,
          -3.719568854633897,
          6.421739290275867,
          0.5003321280272001,
          -7.767938569056392,
          3.50273406778917,
          -7.002445649219081,
          -0.7806446602044581,
          0.7207149660655898,
          2.3117678370065344,
          1.832890451784189,
          3.906984799832537,
          0.7128296617085725,
          -7.026335626618653,
          -1.1385614504626953,
          3.6561675965011453,
          3.679828986060775,
          -4.276524095740654,
          -0.9453574968535392,
          -6.008114734445239,
          -0.23398925573986212,
          1.3849207865425,
          -1.2808836310455913,
          1.367620038194297,
          10.06141382645627,
          -1.9096351942191858,
          -3.9221350367169467,
          2.2499386720695003,
          3.3352370373693923,
          -2.138458066147457,
          -1.1846195309485097,
          -1.6215178649230475,
          -5.59993085906445,
          -2.209968301772717,
          0.4364899358609094,
          -1.4651634743146926,
          -2.3512237817645407,
          0.3923765858302888,
          -1.1524234597978658,
          5.54066863653543,
          -5.075744034495744,
          2.06929983909161,
          1.4910647521708609,
          -1.791074110559655,
          1.444030736821321,
          4.435605959278218,
          -8.961239817707762,
          4.073206946480784,
          -5.785313687841266,
          1.7213359679380578,
          -1.7679417863950022,
          -3.3797664618831815,
          -0.4672601051467141,
          -3.991260399499602,
          -0.32271787586323014,
          7.6632954709284435,
          4.182146015443691,
          -0.5255164310005978,
          0.7527216903292537,
          -1.0951844000472486,
          -3.047285123101684,
          -0.9763827036692297,
          1.0905586257240205,
          9.986274450804313,
          -4.624973204426876,
          -0.45553212070130283,
          -4.69209542470971,
          -6.422260702089618,
          -2.9978690183691796,
          -2.4952636935359145,
          0.1560537535125735,
          -3.420429850843623,
          -4.046622916246066,
          1.169828583598773,
          8.726506602781111,
          2.9860362390450406,
          2.800261104381855,
          3.2643963000964007,
          -0.6274715968387105,
          1.301633763170966,
          -1.1411104035008408,
          -2.4689983058322307,
          -3.841513073545766,
          -3.159877218221657,
          -2.2702961259673273,
          0.06724050812425494,
          -4.53457057502638,
          -3.256401047918048,
          3.1680386060457435,
          -1.6039016038059162,
          6.607126700630828,
          0.2617392138617033,
          -3.674414060924693,
          10.616749277749562,
          3.4378361779876987,
          -3.224810336383288,
          -4.859032971038647,
          -3.2615965813848953,
          1.253033258387894,
          -9.293828143850428,
          -5.572809689548898,
          -3.0160612418478157,
          11.893530861545086,
          3.114516996135345,
          -6.855731497226461,
          -1.5596909769090666,
          -0.9783058198229715,
          -6.2883535321118975,
          -1.840822519744769,
          -8.304170032802508,
          -0.5520873085134771,
          8.640615605976272,
          3.900097085109849,
          -0.3922490274617187,
          -3.3238764069670648,
          -6.937944142290385,
          1.2001528735281637,
          1.7533676433007443,
          -1.5666590559933289,
          8.540471524984065,
          1.3846325128853663,
          1.680701868273887,
          -5.610342212710728,
          -4.276641388807379,
          -1.9662020159054951,
          9.423081487538704,
          5.405579283409445,
          -9.411123270478148,
          2.418376320611872,
          2.0016992820161716,
          0.4370843343550164,
          -2.952614605484556,
          -4.048119282066419,
          -1.1824345596479615,
          3.9274207733401307,
          9.919169367762565,
          -1.9622277555036727,
          5.702662208626549,
          -3.133371724683203,
          1.6436207134132894,
          4.057256854287953,
          -2.855407197398732,
          -0.8747169895365707,
          -0.5803546593911464,
          1.9926420116845438,
          -6.063125393937631,
          -2.2120751567212706,
          4.239552674241742,
          -0.9533072831645926,
          -2.2387510816742755,
          -6.291386449747326,
          1.0635740440834054,
          6.4984100095883575,
          1.820637712257822,
          -1.0227488470312798,
          -2.288719160533362,
          -4.764189329849147,
          -1.5379476083527244,
          1.8320676641710936,
          -2.5722241281637817,
          0.6489364432579957,
          -0.5185481235150239,
          12.816560444376682,
          3.101898260444158,
          -0.21416444908666615,
          2.146408234059219,
          4.134002166274017,
          -2.7557925605591223,
          13.431702275386357,
          5.026234200088904,
          1.0648110631424257,
          2.2674511779698836,
          -5.826590114291587,
          -2.507521968456594,
          4.192075300112714,
          1.0642307748140512,
          0.2828152884856382,
          -3.8671217944586553,
          2.2515667189905897,
          6.318469694913921,
          1.6636826438785695,
          -0.394023205000876,
          -0.15477050188053337,
          3.887913739479473,
          4.38555055861349,
          2.1030774954742215,
          -5.105640378415904,
          -0.6548557294559062,
          3.304387673017066,
          -1.2721906336049713,
          1.879730811267384,
          6.11105025038979,
          -0.02481862012632329,
          -3.971250866153218,
          -3.440346427550912,
          -0.07921669332375986,
          0.2224987538538887,
          -0.28556436590868217,
          3.941077673838568,
          -3.5088855010670597,
          -3.88217631083949,
          -2.0302756234562365,
          3.8863899664847654,
          -3.319791324781487,
          2.964093135843641,
          3.941707973909175,
          -0.9699499433408129,
          4.102256875931478,
          5.1213393485139695,
          4.303233527221551,
          -3.0923678177965925,
          -0.7198944071798064,
          0.9873324107622797,
          -3.6881082528681284,
          2.333562392125487,
          2.149526977410039,
          2.3705190832999854,
          6.942167907385287,
          -5.817052545298796,
          -1.7428129793121203,
          -2.1765162731531724,
          -1.75653183425529,
          1.4156139587689365,
          14.934384426055574,
          0.09891294999252867,
          -3.731722060092889,
          -5.110607844834567,
          -1.6866704555736325,
          -1.9169455344542754,
          7.412576377563902,
          5.283532018118697,
          -0.5335772565395012,
          -2.645147120979593,
          2.0441927582715658,
          3.36997034312571,
          -5.1843885101369445,
          0.48253645775231985,
          -4.159399956461576,
          10.027482018941384,
          1.8855909762477134,
          12.326542174788932,
          -2.543435241730745,
          -2.5896492466886483,
          0.8765155144022977,
          -2.876423294112727,
          -7.980393706684742,
          -0.3274716738023854,
          -5.690859956143812,
          0.6122096241480416,
          2.9088878116856844,
          -2.9460542137627623,
          3.0147946427379733,
          -2.5829231369778904,
          3.362371932764424,
          -0.818214568259017,
          -8.785162025170832,
          -3.073686016186087,
          -6.615412001351326,
          -0.2670566667727134,
          -0.7721679180696281,
          -1.5659001833128214,
          3.619235778400672,
          -4.166647632249134,
          -0.19802363610567572,
          -1.976425193354556,
          -0.7799512774097219,
          8.748186674025897,
          -4.941186369401161,
          0.8525733099926178,
          5.155098501693929,
          1.315321205498469,
          -4.474904776291349,
          -2.1338620948766795,
          -3.3421444893736507,
          2.5219170801065314,
          1.1001843709477133,
          -0.4477911775462879,
          -0.6360440357642497,
          4.000761887433245,
          0.7948529134306173,
          0.5697617400182814,
          0.024825394212753628,
          7.35958580577028,
          -1.9636813715312829,
          1.1657701354901109,
          0.3555400387371679,
          2.022691090705367,
          -1.224589487395656,
          1.7614670934093661,
          -4.864430973775714,
          -5.32243538489903,
          4.0309449128759445,
          9.968714821843989,
          -1.703364883220349,
          1.1150250635027545,
          0.30634541674976407,
          0.5995172663806037,
          -1.2219654985083068,
          -4.116243643600258,
          -6.674646367334901,
          0.8146674842821912,
          3.561631953384918,
          0.11086977832570845,
          2.512038886725176,
          9.36225171333877,
          0.8582123266023575,
          4.678159441719452,
          -3.4529868042520184,
          7.969720072887955,
          -6.11932601778881,
          3.231644873138364,
          1.312547483148708,
          3.0537586918866393,
          0.7899287828593285,
          -2.902145100684746,
          -1.7575773168236435,
          -2.1285569068471526,
          0.5541131913570905,
          -3.8952601693383757,
          -1.2714334693954676,
          4.946311037339735,
          -0.7438647730526925,
          0.7268085304237761,
          -5.819427829299908,
          -3.7281185078561916,
          -4.3377379624231125,
          -0.6111145984370908,
          -0.7662482080703379,
          2.2785883487110543,
          -5.377161193555853,
          -2.6603626039478723,
          -5.203388217934578,
          -5.963490025755083,
          2.281882467103587,
          4.861408354002977,
          -1.6496419744055886,
          -1.0587699027177446,
          -0.5862783852121943,
          -2.2925958622389255,
          4.301230398624114,
          -1.1604705999985216,
          -4.010070551371556,
          6.6901233853656334,
          9.848121922211094,
          -0.9353062784429473,
          -1.6512740115940516,
          -1.4500800457296095,
          2.299237978533095,
          -2.267015154210455,
          -3.7627613829727635,
          4.259400533328607,
          4.573983084363085,
          -0.0012293920486298527,
          -3.1359382122514208,
          2.6839883803728593,
          -1.2103889774598304,
          0.424145619814084,
          -5.149480333001994,
          0.3274038484338202,
          -0.7540660071430642,
          0.9764069430606697,
          -3.6268926342135552,
          -0.2175667959662072,
          0.09272950459535709,
          -1.7388049886213217,
          -6.453436262894387,
          7.657499802089199,
          -5.171128285280345,
          13.350240053241503,
          -2.5061448638378203,
          7.994872073355017,
          -2.933013909516487,
          0.06577015380009106,
          -2.8172417421557454,
          -2.606048696597687,
          0.5160182773326341,
          -1.101153443898355,
          0.3042089020225526,
          -6.322297636445238,
          -1.9050644165309454,
          0.8374650340775803,
          -3.9235465412018327,
          -8.578472976007971,
          3.5949003174049508,
          -0.27730669497756183,
          0.14780175499732603,
          2.9892121666986466,
          -2.7727798691171985,
          -1.2663146039850488,
          -4.361084303741963,
          -0.09581424689194455,
          -4.800896333983686,
          -2.5959021431616724,
          1.574402302743679,
          -3.3098216123646456,
          -1.1513923105492136,
          -1.7487270882091508,
          9.757074124175203,
          3.3036778606054744,
          -2.406414908752111,
          4.977606914194662,
          8.096237039341018,
          1.1125527124863444,
          -0.4434955698795818,
          -1.9418911870663482,
          -1.858315049349288,
          2.0956976977400474,
          3.251668296137036,
          -2.09269632782171,
          -4.1870870194168495,
          11.2659307250399,
          -0.8777641086189698,
          0.4132330378741231,
          -4.708025465106736,
          -1.8462379115724281,
          -2.017788454530708,
          -0.36359391417391507,
          -8.430871783342658,
          -0.6116335985899485,
          -0.6367456040477213,
          1.5349717701919898,
          1.6192856835947433,
          -0.5700308385599568,
          6.858980449142113,
          -11.311157053163205,
          -2.830944895668474,
          -3.322499065852195,
          -1.1888784711103877,
          0.19081688400106062,
          2.3411000765462857,
          4.028855687355771
         ]
        },
        {
         "line": {
          "color": "red",
          "width": 2
         },
         "mode": "lines+text",
         "showlegend": false,
         "text": [
          null,
          "KCNIP3"
         ],
         "type": "scatter",
         "visible": true,
         "x": [
          0,
          -3.504183303996628
         ],
         "y": [
          0,
          -3.458875809564001
         ]
        },
        {
         "line": {
          "color": "red",
          "width": 2
         },
         "mode": "lines+text",
         "showlegend": false,
         "text": [
          null,
          "WT1"
         ],
         "type": "scatter",
         "visible": true,
         "x": [
          0,
          5.644156871411278
         ],
         "y": [
          0,
          -2.5839215326414915
         ]
        },
        {
         "line": {
          "color": "red",
          "width": 2
         },
         "mode": "lines+text",
         "showlegend": false,
         "text": [
          null,
          "ZFP42"
         ],
         "type": "scatter",
         "visible": true,
         "x": [
          0,
          3.9436645029673385
         ],
         "y": [
          0,
          -2.568951303962177
         ]
        },
        {
         "line": {
          "color": "red",
          "width": 2
         },
         "mode": "lines+text",
         "showlegend": false,
         "text": [
          null,
          "FOXO3"
         ],
         "type": "scatter",
         "visible": true,
         "x": [
          0,
          -2.1285260340297754
         ],
         "y": [
          0,
          7.045109974004836
         ]
        },
        {
         "line": {
          "color": "red",
          "width": 2
         },
         "mode": "lines+text",
         "showlegend": false,
         "text": [
          null,
          "PAX2"
         ],
         "type": "scatter",
         "visible": true,
         "x": [
          0,
          -5.048799465257003
         ],
         "y": [
          0,
          2.4793082699947027
         ]
        },
        {
         "line": {
          "color": "red",
          "width": 2
         },
         "mode": "lines+text",
         "showlegend": false,
         "text": [
          null,
          "TFDP1"
         ],
         "type": "scatter",
         "visible": true,
         "x": [
          0,
          5.220739716291676
         ],
         "y": [
          0,
          -2.00699273570803
         ]
        },
        {
         "line": {
          "color": "red",
          "width": 2
         },
         "mode": "lines+text",
         "showlegend": false,
         "text": [
          null,
          "HOXB3"
         ],
         "type": "scatter",
         "visible": true,
         "x": [
          0,
          5.755229599319511
         ],
         "y": [
          0,
          -4.272090527910825
         ]
        },
        {
         "line": {
          "color": "red",
          "width": 2
         },
         "mode": "lines+text",
         "showlegend": false,
         "text": [
          null,
          "SRSF2"
         ],
         "type": "scatter",
         "visible": true,
         "x": [
          0,
          6.422061180396366
         ],
         "y": [
          0,
          -3.6080325600610204
         ]
        },
        {
         "line": {
          "color": "red",
          "width": 2
         },
         "mode": "lines+text",
         "showlegend": false,
         "text": [
          null,
          "MYC"
         ],
         "type": "scatter",
         "visible": true,
         "x": [
          0,
          7.836580458928793
         ],
         "y": [
          0,
          -2.3815669984624117
         ]
        },
        {
         "line": {
          "color": "red",
          "width": 2
         },
         "mode": "lines+text",
         "showlegend": false,
         "text": [
          null,
          "E2F4"
         ],
         "type": "scatter",
         "visible": true,
         "x": [
          0,
          6.608987768395718
         ],
         "y": [
          0,
          -4.750280252595667
         ]
        },
        {
         "marker": {
          "color": [
           0.9911572251061926,
           1,
           0.9763426956788256,
           0.3764199443247731,
           1,
           1,
           1,
           1,
           1,
           1,
           0.902433500861249,
           0.9965594255498296,
           1,
           0.8701642995293112,
           0.8118997621394186,
           0.9707202422048736,
           1,
           1,
           0.9026565042352812,
           0.9284214823333788,
           0.9283391773415052,
           0.8871788957014122,
           0.8735072210701182,
           0.7729527366351572,
           1,
           0.5907228459832805,
           1,
           1,
           1,
           1,
           1,
           0.9343329708348804,
           1,
           0.9058648643780084,
           0.9957237742923652,
           1,
           0.931707313971434,
           0.9551832161427256,
           1,
           1,
           1,
           1,
           1,
           1,
           1,
           0.9334119724860734,
           1,
           1,
           0.9682378335902452,
           0.391580169065613,
           0.91547659184532,
           1,
           0.0526205687951325,
           0.7097918107442335,
           0.6012445070831133,
           0.9954713079656806,
           1,
           0.925295646456794,
           0.9371302443754312,
           1,
           0.9632665734880318,
           0.9529222969005088,
           0.9342068642363196,
           0.4705060371530662,
           0.8575002016537739,
           0.8543599099145673,
           0.7713943872752447,
           0.8856281917213811,
           1,
           0.9764999816243652,
           0.9162615080987344,
           0.9249065938039877,
           0.9698195641669288,
           1,
           0.918939132250458,
           1,
           0.8764983911293238,
           0.9486347740201498,
           0.9945772345400858,
           0.91046308368916,
           1,
           0.9763693079735108,
           0.2761501590638442,
           0.9982688826883876,
           0.9807724594688424,
           1,
           0.8293461337787491,
           0.9900982219982036,
           0.9974582686724016,
           0.990816172069673,
           0.955115008396499,
           0.9870786107513476,
           0.9938913014643518,
           1,
           1,
           0.919269537116401,
           0.9271155081517242,
           1,
           1,
           1,
           0.3762892830406895,
           1,
           1,
           0.9463904673721824,
           0.9054336931248422,
           0.3693915502739749,
           0.9949511960594416,
           1,
           0.9662712264431316,
           0.7787090306804507,
           0.1918259918590977,
           0.9653816122625418,
           0.9395700347787058,
           0.9952816212766048,
           1,
           1,
           1,
           0.894731694861747,
           1,
           0.9455883958096952,
           1,
           1,
           0.9069873491633816,
           0.8831448654048591,
           0.2665513526674094,
           0.8542335395427392,
           1,
           1,
           0.9596922808567652,
           0.6151199063318602,
           0.9323570949246758,
           0.6570258183731501,
           0.1070177702747052,
           1,
           1,
           1,
           1,
           1,
           1,
           0.8069655848937446,
           1,
           0.984180471933336,
           0.9885687547090676,
           0.5956069420894501,
           0.1731298951338346,
           0.7916014360909273,
           1,
           0.9900742358083144,
           1,
           0.965136376525251,
           0.9601171222698764,
           1,
           1,
           0.649932914649567,
           0.9447120611112292,
           1,
           0.8114940031594375,
           0.478572437916353,
           1,
           0.0152860642407448,
           0.2721578241972284,
           1,
           0.4669368740402836,
           0.914880068550586,
           0.9918828890589848,
           0.9535617867886126,
           0.9195722871437332,
           0.9152889092573472,
           1,
           1,
           0.9728891671704378,
           0.5620782798737056,
           0.9538391773920766,
           1,
           0.9906856128348271,
           0.7168576691068649,
           1,
           0.9393729240101346,
           1,
           0.9815149873627168,
           0.0503888221703299,
           1,
           0.9375063580247344,
           1,
           1,
           0.0599706222801095,
           1,
           0.8062214758109016,
           0.3557055302340094,
           0.8897957386515137,
           0.5740832308142804,
           0.9212151627512338,
           0.9470433581314808,
           0.9380667240833974,
           1,
           0.6078416259233785,
           1,
           0.9787666679656272,
           0.9495539263277896,
           0.9573365017673474,
           1,
           1,
           1,
           0.711475112928782,
           0.5696368977165406,
           0.9604150577841696,
           0.926723030041402,
           0.9523162501502024,
           0.9406002856274,
           0.7505498974222241,
           1,
           0.8405203195182673,
           1,
           0.9513467966906042,
           0.9220446852173314,
           0.9996751998710034,
           0.1199571245942936,
           0.9793414298594464,
           0.9320453618719834,
           1,
           0.158064988933863,
           0.2535515727493794,
           1,
           1,
           0.4511429202478141,
           1,
           1,
           1,
           0.8209703873836756,
           1,
           0.9735785935526384,
           0.9418717758940276,
           0.9601924197871944,
           1,
           0.9850472954389252,
           0.8613782872559135,
           1,
           0.7944856661191995,
           0.2932031523194223,
           0.7405041335865249,
           0.72011228042129,
           1,
           1,
           0.4877889571279723,
           0.661861634444495,
           0.9610743493480838,
           0.3758719337158476,
           0.9188686210718744,
           0.367842580288183,
           0.9288787802362044,
           0.9754562803389174,
           1,
           0.023906921965213,
           0.8903733804781554,
           0.9739195666739184,
           0.9772599673108976,
           0.9768596094005908,
           0.8283377246601852,
           1,
           1,
           0.2738408031138887,
           1,
           1,
           0.8910230602855607,
           1,
           1,
           0.9647354047182706,
           0.824686143930963,
           0.9503648340116424,
           0.999966880707852,
           0.9358206399747514,
           0.9707268783684596,
           0.9359710299034448,
           1,
           0.4309827742617397,
           0.9967576260948952,
           0.0487627588714312,
           1,
           1,
           1,
           1,
           0.9468238970287476,
           0.1161131165695418,
           0.9675055898027904,
           0.9735155061414184,
           0.7783562638803598,
           0.3434597516997231,
           0.877366236667675,
           1,
           0.6489554394326076,
           1,
           0.9402014420684668,
           0.2095273275505995,
           0.9876472450362588,
           1,
           1,
           1,
           0.9975958335060664,
           0.379015753513757,
           0.929328079161321,
           1,
           0.8833462256153723,
           0.967297971162952,
           0.980934586892628,
           1,
           0.9397260494167792,
           1,
           0.070903890672331,
           0.2628111581600572,
           0.9757178528524676,
           0.9747734981121514,
           1,
           0.932357094955524,
           0.9283391773415052,
           1,
           1,
           0.5872187038694257,
           1,
           0.9348097811635542,
           1,
           0.8916196394672546,
           0.8794579160942018,
           0.8133069902942225,
           1,
           1,
           0.9217370292638932,
           0.9674984659396316,
           1,
           1,
           0.7633335157390769,
           1,
           0.3942298160689444,
           1,
           1,
           0.3157111118475092,
           0.5365158351286876,
           1,
           0.0635652038392036,
           1,
           0.5742383697494073,
           0.9423979549284448,
           1,
           0.9612520472190712,
           0.8723021843073692,
           0.6622360500453851,
           1,
           0.8208327671208264,
           1,
           1,
           1,
           1,
           0.5146315941854094,
           0.9704895393268648,
           0.9953487065671938,
           1,
           0.9472498633421264,
           1,
           1,
           0.9829291278571074,
           0.803530830465743,
           0.9744326286328958,
           0.8720001904995517,
           1,
           1,
           0.0761293279984815,
           0.9482480466162256,
           0.9892016535883472,
           0.9179741863426748,
           0.9985031971596298,
           1,
           1,
           0.9950639410574365,
           0.918651909738338,
           0.6627823441491636,
           1,
           0.7389639858394237,
           1,
           0.731073835746276,
           1,
           1,
           0.9383579235659142,
           0.9638386966726684,
           0.966382588382872,
           0.2692714245608444,
           1,
           0.954070453255631,
           1,
           0.8957791469591516,
           1,
           0.9175440289998908,
           1,
           0.4790080375492733,
           0.995527294013827,
           0.4165109334432695,
           0.7942726403516477,
           1,
           1,
           0.9809888144922416,
           1,
           0.976784514398834,
           0.7610653458706871,
           1,
           1,
           0.9023230255106583,
           1,
           1,
           1,
           0.5180904956584214,
           0.7145595194385416,
           0.9835591942084604,
           1,
           0.0778862261719908,
           1,
           1,
           0.940914698854984,
           1,
           0.6824314128454019,
           1,
           1,
           0.8798611043995752,
           1,
           1,
           1,
           1,
           0.8910230602859409,
           0.9545931144627644,
           1,
           1,
           0.9853028081943092,
           1,
           1,
           1,
           0.9973973738120084,
           0.9132935337251222,
           0.9718051383697957,
           0.2750531970853354,
           1,
           0.2415563690734038,
           1,
           0.895174840694579,
           0.345566007964002,
           1,
           1,
           1,
           1,
           1,
           0.9835248925161324,
           1,
           0.9563351279311206,
           0.9977848097067116,
           0.7399688765081351,
           1,
           0.7464306832261809,
           0.5867420633096035,
           0.0776927121907793,
           0.4242013790155854,
           0.9603994405852344,
           0.5438016783954467,
           1,
           1,
           1,
           1,
           1,
           1,
           1,
           1,
           0.3324925360846205,
           1,
           1,
           0.6062003935583636,
           0.9857025148607724,
           0.9727876329616748,
           0.9869775165007644,
           1,
           0.9945121891968756,
           1,
           0.4984048189337594,
           0.9912625944537408,
           1,
           0.4576526336455476,
           0.8328824913753605,
           1,
           0.950291137132356,
           1,
           0.4353201267833341,
           0.936675424659343,
           1,
           0.9313697794909592,
           1,
           1,
           1,
           0.1915402339724938,
           0.6809551461267556,
           0.9622844078664632,
           1,
           0.967292872643148,
           1,
           0.5931762439107249,
           0.8977157544829311,
           0.4696725689253001
          ],
          "colorbar": {
           "title": {
            "text": "Viability"
           }
          },
          "colorscale": [
           [
            0,
            "#440154"
           ],
           [
            0.1111111111111111,
            "#482878"
           ],
           [
            0.2222222222222222,
            "#3e4989"
           ],
           [
            0.3333333333333333,
            "#31688e"
           ],
           [
            0.4444444444444444,
            "#26828e"
           ],
           [
            0.5555555555555556,
            "#1f9e89"
           ],
           [
            0.6666666666666666,
            "#35b779"
           ],
           [
            0.7777777777777778,
            "#6ece58"
           ],
           [
            0.8888888888888888,
            "#b5de2b"
           ],
           [
            1,
            "#fde725"
           ]
          ],
          "showscale": true,
          "size": 5
         },
         "mode": "markers",
         "name": "Data Points (3D)",
         "showlegend": false,
         "type": "scatter3d",
         "visible": false,
         "x": [
          -2.3173675367174207,
          2.339833066769833,
          -1.3386558175951835,
          -12.583541189917044,
          6.502423694482085,
          7.002968796999694,
          -5.232751992051684,
          8.472675532274007,
          -1.9831596442440584,
          1.2942622282334884,
          0.890365142455411,
          1.204842302099435,
          -0.7749609789387198,
          1.6875145829676275,
          -2.0898239611629843,
          1.6641594239679538,
          -10.220872394509112,
          0.775781551521276,
          -2.416780249849238,
          -6.494164084412414,
          1.5777390991497415,
          1.7273231404868905,
          10.068057975355861,
          1.1959205401431607,
          4.225845821054107,
          0.08820858981192699,
          -5.83070555733883,
          -16.66553166626645,
          -2.1366040006013503,
          -9.346910006854996,
          8.717201915844306,
          -0.768525037742751,
          11.295213565219397,
          6.267790873995509,
          -4.538286820119792,
          5.750587570445683,
          1.6181316475959935,
          3.442357357394609,
          9.55956700001379,
          -4.118171628006511,
          6.131420848375117,
          1.2707401716252342,
          -6.0810256462982615,
          -11.436828193293936,
          11.212417760088625,
          4.98681517430907,
          15.271621226933702,
          5.303248222137785,
          6.670791245386484,
          0.9046656964039086,
          -9.419812987489957,
          -1.411330309718472,
          -0.5438264856958263,
          2.4497053584845494,
          -7.247624102245301,
          -8.497703467878043,
          10.973592879374394,
          -9.763723748278526,
          7.010675408104039,
          -1.8265596715574572,
          -7.039405650285864,
          -10.525046432930447,
          -10.774650547038487,
          3.643223451732413,
          3.251141491571406,
          7.06371879765891,
          9.887251202167192,
          -4.24282246502658,
          6.477828586978109,
          3.482389087331798,
          2.641254501192678,
          8.782244173245196,
          5.2564746960771345,
          -12.81930301126998,
          -3.5001652788933413,
          -11.443981569935682,
          2.465003495481273,
          4.141737043025319,
          7.579091387440086,
          -0.8686612640265016,
          -3.6440632641150392,
          10.81413383953407,
          1.0356272454428368,
          7.134548459877786,
          15.750559812439077,
          5.054596606152853,
          10.310570775370696,
          1.4130815017966152,
          -8.699164506792526,
          8.627851861263098,
          5.1768769232118865,
          6.409788675779174,
          10.01680820435597,
          -8.06535660373569,
          5.8001949510908934,
          5.723847720789092,
          6.311450660567764,
          -17.754672389311928,
          4.784204130325106,
          -9.365247367089628,
          0.4990544622817695,
          -6.3853972041983065,
          4.3655883357956995,
          7.075325560014163,
          0.7116774144637763,
          -8.581584079757363,
          2.1190825601555616,
          -2.9359981581646903,
          -5.287699611857107,
          -4.859838941715488,
          -7.013246729583421,
          -2.4676764856516993,
          -3.4820646284548777,
          3.0243500459147468,
          8.035361952519814,
          -5.544557233695408,
          -8.658318946648562,
          -3.340311151306927,
          1.9591679529733472,
          -6.0767628448572415,
          -5.667564893611708,
          7.41738085530295,
          3.166180447419784,
          0.63988673203081,
          -15.194064339507827,
          9.038140463670373,
          0.5160534397070289,
          4.795390742950444,
          2.5201240711684756,
          4.159716117502747,
          7.280519196258659,
          -5.302860790278034,
          -9.27063079412324,
          -9.566804666330777,
          -1.726379079539944,
          -14.549777212587369,
          -7.773878687670778,
          0.8073327152093842,
          -6.8429926443760785,
          1.9778229562178415,
          -1.2734562970709211,
          -10.265240969535645,
          10.719181250246779,
          -10.413970559057564,
          -16.615245727767107,
          -4.678730638264549,
          8.918334526012794,
          4.324072566288174,
          8.439094440946223,
          2.7347469767967794,
          4.065889824641731,
          0.601710088703313,
          8.522725879585577,
          -15.614779458593079,
          -4.485495090462032,
          7.286436043349671,
          4.251185842229595,
          -7.039235340464995,
          -0.5102862217529918,
          -5.837736196476597,
          2.8244260109363655,
          2.61368212502624,
          -5.15797506137233,
          9.454221793094273,
          2.491292024383649,
          -14.80805021718919,
          -0.2559556200917254,
          2.534667524222214,
          0.951132801114754,
          -4.058734324684984,
          -0.5032920055786473,
          -7.627712743536922,
          10.046705685677045,
          -7.722801369275827,
          5.140611073733587,
          -9.14357558139024,
          -7.15486318351741,
          3.916483188961947,
          -7.145720489709566,
          -4.410898749585077,
          -7.831757259182754,
          10.736085149441013,
          15.799498758057622,
          -6.965631521800725,
          4.938140390095374,
          -6.586246198359022,
          3.287591993855461,
          3.305482495241876,
          -2.4830261983720763,
          3.4692549878483865,
          2.4869892272468213,
          1.1459811526775994,
          8.657857751889205,
          8.985387819419916,
          -8.993526944503316,
          -7.4241990859384845,
          -15.263595872614948,
          3.064194096026071,
          -2.6849446698833295,
          8.964123292122771,
          -2.924761916902544,
          0.9470346445504186,
          0.09071509489477846,
          -4.495032285483013,
          -7.962238032221157,
          7.163553616630652,
          -11.260262072837584,
          -5.641286809223834,
          1.918819653545785,
          -2.111762968961331,
          5.436004323574914,
          -0.716286405578387,
          0.5986663452534104,
          7.640715438253631,
          0.5597716716953451,
          6.130226760895844,
          -5.946924823996712,
          -5.607757357927952,
          8.479932029255764,
          1.5458140437671872,
          -12.805669153198972,
          -9.34259059485953,
          8.467817827913318,
          -3.0489533977125625,
          5.688873791856237,
          0.5249679147000761,
          0.4685341036279628,
          2.384703438127084,
          1.0395674265979329,
          5.55550397594991,
          4.50837399489189,
          3.1114115720533246,
          8.405720027083747,
          3.844657637644139,
          2.117858740924052,
          -0.9606779385648694,
          7.271934502062467,
          -5.042636016030314,
          -7.147239016373915,
          3.752672040368793,
          3.704471466593865,
          -8.084786477146203,
          -6.636708121055087,
          -8.59979177245276,
          5.458012840220525,
          -7.146997328567512,
          0.6974688244779701,
          6.191342569988246,
          -16.148216154584304,
          -1.1905416154417539,
          -0.3051201978051566,
          10.29956982493706,
          -5.213557183933238,
          1.9255503674109622,
          8.225277694613494,
          -4.312534925097243,
          7.627258098356249,
          -4.327671876315401,
          8.487595449564317,
          13.834091762509216,
          -10.456866798528097,
          7.0737839512989185,
          0.44887677821449057,
          4.2188787375941335,
          8.45836418881889,
          -1.0093540793799585,
          3.7192695878254587,
          8.429943235171189,
          -1.2436464636666613,
          -1.3320981857930785,
          3.9093131459670083,
          7.648433207795084,
          6.651689651947255,
          5.177096921150692,
          -14.745141857425741,
          3.996393820690624,
          -4.934935042009152,
          3.3108100895760306,
          -5.28469084872664,
          -6.1649050598314545,
          1.5358434104266598,
          17.291744336773586,
          -9.077045639114582,
          1.342558550570012,
          1.6095468312092471,
          4.624080067880342,
          -8.107976869944983,
          -14.683683078339355,
          3.6322641431730243,
          -4.736294914027554,
          -6.746803406460715,
          4.550945278751178,
          -7.890268605360999,
          1.1337453659441645,
          -4.578382286879514,
          -3.8713630531875527,
          4.510058567430967,
          -1.116247858808225,
          -6.132736267607966,
          14.894567546976058,
          3.199715804494999,
          5.3521172900883975,
          4.53015838022162,
          3.7479200195460876,
          9.909260893562232,
          3.822031080207685,
          -1.381212192586618,
          -4.561062473701382,
          -2.5862953448582524,
          2.9673580303940974,
          -5.337339419655734,
          -0.9869315355049962,
          3.167144159409981,
          -0.3878625276463043,
          0.7519021127137699,
          -5.876897542693112,
          -1.3201962744901818,
          -13.292405422547306,
          4.711603481231538,
          -1.6355783562530655,
          6.853335652624685,
          6.070769681355054,
          5.025680772607613,
          3.165733647753765,
          -1.2618004829791467,
          0.4765005074122686,
          -17.88178004315979,
          11.782987370879841,
          0.9888351370400751,
          8.146699910422678,
          10.957856189541296,
          -1.324325508919035,
          5.76580367429748,
          9.121993565293126,
          4.784833394003504,
          -7.820186375613167,
          -1.1601624607924077,
          -16.571190989457136,
          -7.380339135809355,
          8.021215691601688,
          -19.10277067883493,
          2.7298602358618793,
          1.6085385440824695,
          -2.8326019198279417,
          12.792231270729705,
          -1.4834394578833996,
          9.763018651352064,
          -0.9282520015725472,
          -4.054947469558118,
          8.10682233706531,
          -3.299056892577869,
          5.24360739345183,
          -3.3065282378358485,
          -6.632522516016237,
          7.184821249343985,
          5.371253585787779,
          -1.5131930595294716,
          5.384088511899765,
          -3.380486534542603,
          -12.981855688300735,
          0.7739891368676095,
          2.0311483494292046,
          -1.613727541995308,
          -0.9111801462507619,
          -2.5310949227084394,
          -12.665135329590512,
          -1.3159819321729027,
          -1.1448042620509349,
          -11.593380284934387,
          0.5872418221640117,
          4.684977544080667,
          -2.742997554546003,
          -8.143079583524461,
          -7.614649062673699,
          1.9013511746949014,
          -3.7368547286948366,
          4.956125783786477,
          7.263228491390612,
          2.271786053701723,
          -3.640379737876781,
          5.835498706725671,
          1.2654937221543945,
          -2.556699776720246,
          -12.446734221501922,
          -0.6567874909194067,
          1.1023063102860389,
          9.107534185089406,
          2.3150145823874935,
          5.310736942487528,
          12.819251079505129,
          1.9381753949396374,
          -1.225905855149698,
          -9.315369415718314,
          1.261255702333054,
          -12.228757307680333,
          1.0082283799925555,
          -2.5117571405779273,
          -0.9639661917635365,
          -11.435272387084737,
          3.675642460928316,
          1.7860193107773203,
          -3.8020611072219155,
          6.401906508347969,
          -7.5547245160167105,
          9.94494980126556,
          -1.2994215639415267,
          -1.5029526317541289,
          6.454043996817924,
          9.839738016649589,
          1.7328916742792346,
          -1.1327879996195451,
          -1.1335738005220202,
          -0.2533014230508796,
          -1.0296067200029624,
          17.13288670390894,
          0.4114540447675375,
          -10.724205194121096,
          0.7671164157682357,
          -0.6797645181003557,
          -14.860607914477553,
          0.9511551098623962,
          7.546474117003121,
          -6.932989232177181,
          8.0615404889539,
          7.650668450286784,
          -7.565745807594709,
          -3.7409652910962743,
          2.559515945484505,
          -0.26964397926320216,
          3.1478113604620495,
          -2.141623993342005,
          7.393762740915041,
          0.9324158214089304,
          8.222872454107856,
          -12.829953317069833,
          -17.803772999715083,
          1.8680344391514536,
          2.093739395139366,
          6.959501329776042,
          -10.28949028630335,
          0.7321360282989258,
          14.699078714981175,
          8.160904573662473,
          4.796812178502811,
          0.6983449471447501,
          -6.75780776193662,
          10.87921040293149,
          -9.721852359797508,
          -1.2064980303224777,
          4.883940666132738,
          -12.504777520363636,
          -10.788452881996804,
          0.1626450786589856,
          -6.210649605491328,
          -14.03300167491808,
          3.317254191082113,
          -8.0311860926635,
          2.1478198440847356,
          -11.878976348071623,
          -1.9815655755460095,
          5.722540395960998,
          0.059329594866706005,
          6.821348973328372,
          -3.6381723359418245,
          15.74787520777505,
          3.504428005475557,
          -5.925457078285391,
          11.949292846669954,
          3.1675680768688395,
          -9.688543421460684,
          -3.0342477625664728,
          1.2710395184181495,
          13.444048222984712,
          8.03663174145749,
          6.586367018342042,
          1.2908235710548726,
          -12.873597932106463,
          -4.923878882360231,
          2.0977971410213287,
          -10.096321526979414,
          1.0359980944398248,
          4.666908834061663,
          12.227639302080679,
          -4.070196387561411,
          -3.861966371990264,
          -3.027387961658821,
          0.5613630965052229,
          14.900773572063194,
          -0.3623186359264843,
          3.418848176781121,
          5.036960631221214,
          -6.144350137913573,
          1.103080164844088,
          -10.83493904158602,
          2.014526800222136,
          0.9165620809523168,
          3.5538291735011325,
          -14.665846403551063,
          6.11040565029592,
          -15.355074663621696
         ],
         "y": [
          4.475573405321057,
          -0.741087914512585,
          -1.6527740395298793,
          6.217160498520432,
          4.476182067220531,
          0.0667407427674294,
          -3.043604183568761,
          -3.232220652389403,
          -4.890608660227182,
          0.7118231780338301,
          3.242073913873571,
          -1.7201190145312397,
          0.5763634546005162,
          0.21418543025066558,
          -5.109117778086106,
          -0.09189492270078142,
          4.974201440676194,
          -3.285885435966782,
          -3.5685070072304863,
          11.864016452911603,
          -1.2454223248397198,
          -2.5660763625679195,
          3.446382894622025,
          9.132463565011847,
          -0.5234281852370101,
          1.7910049565986128,
          2.9634397380976716,
          -5.701545019663905,
          -2.105532246434843,
          -4.09645048605245,
          1.1160072786912278,
          -4.877539901189305,
          6.0390246270845855,
          -0.30250771236733837,
          -4.811836076149573,
          -1.9032215275266662,
          -0.07228104741667338,
          -5.058531079598375,
          2.6378251907196786,
          -6.290744758746714,
          -0.690073458719645,
          -3.432430882155316,
          -8.821585231334355,
          15.74162709760711,
          -1.8926514079826129,
          2.6589552937748446,
          0.6983802921499275,
          -0.7044277050192143,
          0.4110517092284682,
          0.9423019886914192,
          -4.513991044023632,
          6.164922747855454,
          -1.6597503066558408,
          -2.844149758477089,
          -1.345763581299381,
          2.7500658840005547,
          0.8568755509484112,
          0.9989377668447545,
          0.4616051032270606,
          -1.3429479024874487,
          -7.4437621941238445,
          4.180502766902245,
          5.538518662809073,
          -1.2371609663705556,
          -0.399738974401586,
          0.9831954297509556,
          1.4877013229626064,
          1.6922986883996325,
          1.307216782632712,
          1.50571911263882,
          -3.719568854633897,
          6.421739290275867,
          0.5003321280272001,
          -7.767938569056392,
          3.50273406778917,
          -7.002445649219081,
          -0.7806446602044581,
          0.7207149660655898,
          2.3117678370065344,
          1.832890451784189,
          3.906984799832537,
          0.7128296617085725,
          -7.026335626618653,
          -1.1385614504626953,
          3.6561675965011453,
          3.679828986060775,
          -4.276524095740654,
          -0.9453574968535392,
          -6.008114734445239,
          -0.23398925573986212,
          1.3849207865425,
          -1.2808836310455913,
          1.367620038194297,
          10.06141382645627,
          -1.9096351942191858,
          -3.9221350367169467,
          2.2499386720695003,
          3.3352370373693923,
          -2.138458066147457,
          -1.1846195309485097,
          -1.6215178649230475,
          -5.59993085906445,
          -2.209968301772717,
          0.4364899358609094,
          -1.4651634743146926,
          -2.3512237817645407,
          0.3923765858302888,
          -1.1524234597978658,
          5.54066863653543,
          -5.075744034495744,
          2.06929983909161,
          1.4910647521708609,
          -1.791074110559655,
          1.444030736821321,
          4.435605959278218,
          -8.961239817707762,
          4.073206946480784,
          -5.785313687841266,
          1.7213359679380578,
          -1.7679417863950022,
          -3.3797664618831815,
          -0.4672601051467141,
          -3.991260399499602,
          -0.32271787586323014,
          7.6632954709284435,
          4.182146015443691,
          -0.5255164310005978,
          0.7527216903292537,
          -1.0951844000472486,
          -3.047285123101684,
          -0.9763827036692297,
          1.0905586257240205,
          9.986274450804313,
          -4.624973204426876,
          -0.45553212070130283,
          -4.69209542470971,
          -6.422260702089618,
          -2.9978690183691796,
          -2.4952636935359145,
          0.1560537535125735,
          -3.420429850843623,
          -4.046622916246066,
          1.169828583598773,
          8.726506602781111,
          2.9860362390450406,
          2.800261104381855,
          3.2643963000964007,
          -0.6274715968387105,
          1.301633763170966,
          -1.1411104035008408,
          -2.4689983058322307,
          -3.841513073545766,
          -3.159877218221657,
          -2.2702961259673273,
          0.06724050812425494,
          -4.53457057502638,
          -3.256401047918048,
          3.1680386060457435,
          -1.6039016038059162,
          6.607126700630828,
          0.2617392138617033,
          -3.674414060924693,
          10.616749277749562,
          3.4378361779876987,
          -3.224810336383288,
          -4.859032971038647,
          -3.2615965813848953,
          1.253033258387894,
          -9.293828143850428,
          -5.572809689548898,
          -3.0160612418478157,
          11.893530861545086,
          3.114516996135345,
          -6.855731497226461,
          -1.5596909769090666,
          -0.9783058198229715,
          -6.2883535321118975,
          -1.840822519744769,
          -8.304170032802508,
          -0.5520873085134771,
          8.640615605976272,
          3.900097085109849,
          -0.3922490274617187,
          -3.3238764069670648,
          -6.937944142290385,
          1.2001528735281637,
          1.7533676433007443,
          -1.5666590559933289,
          8.540471524984065,
          1.3846325128853663,
          1.680701868273887,
          -5.610342212710728,
          -4.276641388807379,
          -1.9662020159054951,
          9.423081487538704,
          5.405579283409445,
          -9.411123270478148,
          2.418376320611872,
          2.0016992820161716,
          0.4370843343550164,
          -2.952614605484556,
          -4.048119282066419,
          -1.1824345596479615,
          3.9274207733401307,
          9.919169367762565,
          -1.9622277555036727,
          5.702662208626549,
          -3.133371724683203,
          1.6436207134132894,
          4.057256854287953,
          -2.855407197398732,
          -0.8747169895365707,
          -0.5803546593911464,
          1.9926420116845438,
          -6.063125393937631,
          -2.2120751567212706,
          4.239552674241742,
          -0.9533072831645926,
          -2.2387510816742755,
          -6.291386449747326,
          1.0635740440834054,
          6.4984100095883575,
          1.820637712257822,
          -1.0227488470312798,
          -2.288719160533362,
          -4.764189329849147,
          -1.5379476083527244,
          1.8320676641710936,
          -2.5722241281637817,
          0.6489364432579957,
          -0.5185481235150239,
          12.816560444376682,
          3.101898260444158,
          -0.21416444908666615,
          2.146408234059219,
          4.134002166274017,
          -2.7557925605591223,
          13.431702275386357,
          5.026234200088904,
          1.0648110631424257,
          2.2674511779698836,
          -5.826590114291587,
          -2.507521968456594,
          4.192075300112714,
          1.0642307748140512,
          0.2828152884856382,
          -3.8671217944586553,
          2.2515667189905897,
          6.318469694913921,
          1.6636826438785695,
          -0.394023205000876,
          -0.15477050188053337,
          3.887913739479473,
          4.38555055861349,
          2.1030774954742215,
          -5.105640378415904,
          -0.6548557294559062,
          3.304387673017066,
          -1.2721906336049713,
          1.879730811267384,
          6.11105025038979,
          -0.02481862012632329,
          -3.971250866153218,
          -3.440346427550912,
          -0.07921669332375986,
          0.2224987538538887,
          -0.28556436590868217,
          3.941077673838568,
          -3.5088855010670597,
          -3.88217631083949,
          -2.0302756234562365,
          3.8863899664847654,
          -3.319791324781487,
          2.964093135843641,
          3.941707973909175,
          -0.9699499433408129,
          4.102256875931478,
          5.1213393485139695,
          4.303233527221551,
          -3.0923678177965925,
          -0.7198944071798064,
          0.9873324107622797,
          -3.6881082528681284,
          2.333562392125487,
          2.149526977410039,
          2.3705190832999854,
          6.942167907385287,
          -5.817052545298796,
          -1.7428129793121203,
          -2.1765162731531724,
          -1.75653183425529,
          1.4156139587689365,
          14.934384426055574,
          0.09891294999252867,
          -3.731722060092889,
          -5.110607844834567,
          -1.6866704555736325,
          -1.9169455344542754,
          7.412576377563902,
          5.283532018118697,
          -0.5335772565395012,
          -2.645147120979593,
          2.0441927582715658,
          3.36997034312571,
          -5.1843885101369445,
          0.48253645775231985,
          -4.159399956461576,
          10.027482018941384,
          1.8855909762477134,
          12.326542174788932,
          -2.543435241730745,
          -2.5896492466886483,
          0.8765155144022977,
          -2.876423294112727,
          -7.980393706684742,
          -0.3274716738023854,
          -5.690859956143812,
          0.6122096241480416,
          2.9088878116856844,
          -2.9460542137627623,
          3.0147946427379733,
          -2.5829231369778904,
          3.362371932764424,
          -0.818214568259017,
          -8.785162025170832,
          -3.073686016186087,
          -6.615412001351326,
          -0.2670566667727134,
          -0.7721679180696281,
          -1.5659001833128214,
          3.619235778400672,
          -4.166647632249134,
          -0.19802363610567572,
          -1.976425193354556,
          -0.7799512774097219,
          8.748186674025897,
          -4.941186369401161,
          0.8525733099926178,
          5.155098501693929,
          1.315321205498469,
          -4.474904776291349,
          -2.1338620948766795,
          -3.3421444893736507,
          2.5219170801065314,
          1.1001843709477133,
          -0.4477911775462879,
          -0.6360440357642497,
          4.000761887433245,
          0.7948529134306173,
          0.5697617400182814,
          0.024825394212753628,
          7.35958580577028,
          -1.9636813715312829,
          1.1657701354901109,
          0.3555400387371679,
          2.022691090705367,
          -1.224589487395656,
          1.7614670934093661,
          -4.864430973775714,
          -5.32243538489903,
          4.0309449128759445,
          9.968714821843989,
          -1.703364883220349,
          1.1150250635027545,
          0.30634541674976407,
          0.5995172663806037,
          -1.2219654985083068,
          -4.116243643600258,
          -6.674646367334901,
          0.8146674842821912,
          3.561631953384918,
          0.11086977832570845,
          2.512038886725176,
          9.36225171333877,
          0.8582123266023575,
          4.678159441719452,
          -3.4529868042520184,
          7.969720072887955,
          -6.11932601778881,
          3.231644873138364,
          1.312547483148708,
          3.0537586918866393,
          0.7899287828593285,
          -2.902145100684746,
          -1.7575773168236435,
          -2.1285569068471526,
          0.5541131913570905,
          -3.8952601693383757,
          -1.2714334693954676,
          4.946311037339735,
          -0.7438647730526925,
          0.7268085304237761,
          -5.819427829299908,
          -3.7281185078561916,
          -4.3377379624231125,
          -0.6111145984370908,
          -0.7662482080703379,
          2.2785883487110543,
          -5.377161193555853,
          -2.6603626039478723,
          -5.203388217934578,
          -5.963490025755083,
          2.281882467103587,
          4.861408354002977,
          -1.6496419744055886,
          -1.0587699027177446,
          -0.5862783852121943,
          -2.2925958622389255,
          4.301230398624114,
          -1.1604705999985216,
          -4.010070551371556,
          6.6901233853656334,
          9.848121922211094,
          -0.9353062784429473,
          -1.6512740115940516,
          -1.4500800457296095,
          2.299237978533095,
          -2.267015154210455,
          -3.7627613829727635,
          4.259400533328607,
          4.573983084363085,
          -0.0012293920486298527,
          -3.1359382122514208,
          2.6839883803728593,
          -1.2103889774598304,
          0.424145619814084,
          -5.149480333001994,
          0.3274038484338202,
          -0.7540660071430642,
          0.9764069430606697,
          -3.6268926342135552,
          -0.2175667959662072,
          0.09272950459535709,
          -1.7388049886213217,
          -6.453436262894387,
          7.657499802089199,
          -5.171128285280345,
          13.350240053241503,
          -2.5061448638378203,
          7.994872073355017,
          -2.933013909516487,
          0.06577015380009106,
          -2.8172417421557454,
          -2.606048696597687,
          0.5160182773326341,
          -1.101153443898355,
          0.3042089020225526,
          -6.322297636445238,
          -1.9050644165309454,
          0.8374650340775803,
          -3.9235465412018327,
          -8.578472976007971,
          3.5949003174049508,
          -0.27730669497756183,
          0.14780175499732603,
          2.9892121666986466,
          -2.7727798691171985,
          -1.2663146039850488,
          -4.361084303741963,
          -0.09581424689194455,
          -4.800896333983686,
          -2.5959021431616724,
          1.574402302743679,
          -3.3098216123646456,
          -1.1513923105492136,
          -1.7487270882091508,
          9.757074124175203,
          3.3036778606054744,
          -2.406414908752111,
          4.977606914194662,
          8.096237039341018,
          1.1125527124863444,
          -0.4434955698795818,
          -1.9418911870663482,
          -1.858315049349288,
          2.0956976977400474,
          3.251668296137036,
          -2.09269632782171,
          -4.1870870194168495,
          11.2659307250399,
          -0.8777641086189698,
          0.4132330378741231,
          -4.708025465106736,
          -1.8462379115724281,
          -2.017788454530708,
          -0.36359391417391507,
          -8.430871783342658,
          -0.6116335985899485,
          -0.6367456040477213,
          1.5349717701919898,
          1.6192856835947433,
          -0.5700308385599568,
          6.858980449142113,
          -11.311157053163205,
          -2.830944895668474,
          -3.322499065852195,
          -1.1888784711103877,
          0.19081688400106062,
          2.3411000765462857,
          4.028855687355771
         ],
         "z": [
          -1.9782289346857098,
          2.61605514715646,
          -0.24612562801191334,
          7.74915157566069,
          -2.9159370078501103,
          1.0689488293251215,
          -3.1216080281370147,
          7.019383454427416,
          -3.0262781171649746,
          0.6864590314626553,
          -1.2613339144570779,
          -1.9086251723508756,
          -1.7754013589122983,
          -0.6634351095819118,
          0.5598117744349265,
          -4.57516725533731,
          -2.325485920365043,
          2.2636915721432342,
          -5.130021459313173,
          3.3100532128180538,
          -3.0385477414357185,
          2.944483678374187,
          -0.024007028506859963,
          -1.7266191365924648,
          -0.16318347763415456,
          -0.6542510211039128,
          -4.344806075516758,
          -3.4355766035734017,
          0.1671847763944663,
          -2.827036007098857,
          -1.230545635660938,
          -3.9942219608698104,
          0.1992820906959797,
          1.850295834654862,
          -3.4620299788439044,
          -2.143301904261428,
          0.0938614114892318,
          0.011320534428897302,
          -4.474260502999409,
          0.009594311018908853,
          -2.446300833602486,
          1.7130549746719563,
          0.9737225479393397,
          -1.5631165571042926,
          3.2790037222969213,
          -2.205750922797486,
          -1.4721269587888635,
          -1.604609325161682,
          1.019070291092073,
          -1.560868935789143,
          4.115014940559777,
          7.416361153457983,
          0.2903879533268468,
          1.5171989715898813,
          -6.545463553218828,
          -7.29505887944232,
          -0.49385428667570347,
          -2.6960277749050605,
          -2.797109580190016,
          -4.897265898981605,
          -1.0302317966487067,
          2.847916272284472,
          -0.3202530807550113,
          15.329037551765818,
          -1.7121343544350478,
          0.6462694558378685,
          0.8466365985018599,
          -3.849243698340078,
          1.7222578048167394,
          -1.001340061007152,
          -0.850172899653642,
          -1.7194294118714395,
          -1.7262213625378278,
          0.6934523605280964,
          4.794625882613098,
          -2.6364711789166253,
          -2.7134580171775666,
          0.16086115752597832,
          -6.063664609897634,
          -2.052206196569272,
          -0.8230538255598038,
          -1.232813834259012,
          6.989850978002029,
          1.6232970377751434,
          -1.6512511301867905,
          -1.258287735568613,
          -0.3438349340194285,
          0.7444935240748576,
          -0.14812593530129836,
          -2.0409121791007796,
          -0.7613021630902984,
          1.7855130730441993,
          -0.5760713266557882,
          -5.31446084318624,
          2.01184488712579,
          2.161700094314923,
          7.365163355193304,
          5.01956886993785,
          -2.2496690046146286,
          -3.349826203280561,
          16.351016260316875,
          1.3305484393357798,
          0.06916970634562854,
          -0.01981867909924124,
          2.29140789591217,
          4.095412053912337,
          -6.529735041907291,
          -1.0672121612968524,
          -1.9077336596074703,
          0.25513967509690344,
          1.0856690314135282,
          0.42883065316497965,
          -0.23947952057275343,
          0.6957327766049348,
          -0.6272097520431956,
          2.452621609851953,
          4.927756491693943,
          -1.5950530327361472,
          -0.7509811951106975,
          0.79372179850772,
          -3.442341907625321,
          -0.0935124817434775,
          2.4530867195819477,
          0.9133579046228618,
          -1.099697722193377,
          -1.4320323830733441,
          1.3038361011798993,
          -1.3265408060113337,
          -0.5031144847012632,
          0.28200760027945904,
          -1.3767019770482163,
          6.262163261788126,
          8.081336448406065,
          -3.23609738267604,
          -2.283859856573609,
          -2.062597135333724,
          -1.1699492067948432,
          -0.5920611843896915,
          0.9847073358412756,
          -0.5166699206823645,
          -2.4105975567801585,
          -1.5816879539950932,
          1.5553801972766104,
          5.917376579222771,
          -0.21338628100048862,
          -4.876896783831412,
          -5.371695094895711,
          -2.3067199205479203,
          2.623421008442481,
          -0.8957146100942158,
          -3.5563823995306163,
          0.2143277693412251,
          4.860443771632463,
          -2.2915017766680177,
          -0.5895300879866974,
          -0.3023034188486406,
          -4.078054188279232,
          -8.865310940803157,
          -0.23205574951836985,
          2.9713554049697923,
          -3.1450854648681137,
          -1.4358526157528817,
          -0.2961740950920918,
          0.8534920843519991,
          2.432902414647404,
          -3.4635407253952026,
          0.5040358075860156,
          -1.6961080245399613,
          1.4969180516966558,
          -1.6320783165241057,
          2.008752077865565,
          -9.203474619849198,
          -1.892512733618984,
          -3.101981829667626,
          -1.614733125569176,
          6.581718066027709,
          -0.07364498312569928,
          -0.14580974286758558,
          -2.02233011884035,
          -3.633655019302922,
          1.6791782289371069,
          -2.290290034843423,
          -0.9902915462958434,
          -1.8601717048742554,
          3.5428602559685447,
          9.457888955729366,
          4.200282156042964,
          -1.5263917024899278,
          -4.500512733348781,
          -4.33187559670862,
          12.599450203296923,
          -3.390596626251319,
          6.453557811844487,
          3.843171943465551,
          -2.5532697292240316,
          -2.6160701075467254,
          0.5245962292556564,
          -5.51356881116274,
          2.1833398626305645,
          -7.466953404631204,
          1.2795887143629447,
          13.06091045287273,
          1.2674105842356502,
          6.751782750241477,
          6.142854599789623,
          -4.173219066195913,
          12.955262056612224,
          2.3323506086231607,
          -2.10596584147811,
          11.493977826322034,
          2.611559711124321,
          -0.4542751082040336,
          0.5044082232570896,
          0.6316453602022895,
          -2.556677905383605,
          -3.0927443569337285,
          16.96409508194371,
          2.2338407229196147,
          2.2066790583091387,
          -4.30371595358269,
          -3.7617945178949674,
          2.4247940680771984,
          5.147979907277638,
          -2.7881580292290615,
          -2.8813646488374167,
          -7.050943274737576,
          2.121632515562282,
          1.1594326358469766,
          -2.433667849033853,
          0.002966072596119013,
          2.605704233580917,
          6.665065658036758,
          -1.3275662696865511,
          4.86872816676545,
          -2.6491576881544887,
          0.03641919244263666,
          1.142698628977,
          3.987360605611115,
          0.04330008651304318,
          4.349410465484366,
          3.590810770337972,
          -2.0692171552002954,
          -2.354869039275379,
          -4.67318952442302,
          -2.7984679988539702,
          7.195750583598828,
          17.04859942089092,
          -2.0312714429917333,
          -0.57623481659386,
          -2.8898071551619506,
          -1.1381103067024465,
          -0.5532693523235753,
          -0.9975551411031444,
          -0.6517078305321026,
          -1.8859017210015414,
          0.9164696012966852,
          -1.7569403001624664,
          9.99918124715281,
          2.7313088931245173,
          -0.9340618167432789,
          -1.629723944595231,
          -1.5325732699854018,
          1.224087900314767,
          -1.878962547380792,
          0.5362298728224721,
          -5.2330661082446515,
          -0.06716059817793192,
          5.439884625864626,
          -1.223444474499418,
          -0.8368627773796499,
          3.685012108228074,
          -1.0670558935308025,
          2.1386331601975455,
          -1.6610267888415524,
          -2.3111666494057936,
          0.43350421004803485,
          13.04384693508005,
          3.2641838660903866,
          -3.7933786141965444,
          -0.9569945808416903,
          -2.8484543913670732,
          2.5886198219022,
          1.957664157378633,
          -4.1302878158177245,
          -0.7632040209665616,
          -1.8612568489378014,
          -1.193597849615778,
          6.624507902807687,
          -0.35248608203804954,
          -2.6342005938967015,
          -2.1335959311582813,
          -0.3722634038243927,
          1.112427131625358,
          -1.2664339770777193,
          -0.49806585779298074,
          2.4401826021180413,
          -4.781091432249549,
          -4.052867760085279,
          10.053547920667258,
          -0.23529288297062662,
          -5.085536673372179,
          -1.0653755312665707,
          -2.7472715365013576,
          1.5691972734712267,
          1.6458924995109048,
          -1.9791676040790103,
          0.5186072877429682,
          6.379158167798384,
          -4.4948076366671,
          4.1801598399419895,
          0.5843900366235455,
          -0.632135187049341,
          -2.2714230470693026,
          -6.344096203969394,
          -0.6637782970903275,
          -5.750078428676786,
          2.057140592710823,
          2.5611224342649366,
          2.8897462684537887,
          1.3027775499174703,
          -1.7754941124578196,
          1.1885548623020237,
          -4.285508748959203,
          1.9476995875042704,
          -1.7252968476217514,
          -2.8830164367372197,
          2.5797656011772556,
          -1.2130575712192544,
          -0.5244090830187845,
          -0.07154151969432496,
          -2.352686078933503,
          -0.577133012034461,
          0.7539838588848653,
          2.3953189508129986,
          8.38757833678764,
          3.4641702656353686,
          -3.0527647512036054,
          8.03113391128931,
          -3.4802659908130043,
          4.069211110703667,
          1.1449040850262204,
          -3.459450415124989,
          -3.6639381903166606,
          -6.683847168681063,
          1.1424590518776745,
          -2.80955485564098,
          2.3971125072338566,
          -1.692345849437263,
          3.0061831959740037,
          -2.7637842952533758,
          -2.088613377594342,
          -7.896807052262607,
          -1.1282019204530696,
          0.9287992586950019,
          1.1544661144923676,
          1.8527662893419314,
          -1.0416853889783366,
          2.2035342533100986,
          -3.9234354807939584,
          0.8754686379246457,
          5.730009951001539,
          -6.49888558287339,
          -0.289946460066031,
          -3.29470104842437,
          -0.7204144901803355,
          -3.4338311986645422,
          1.6192513672222848,
          -3.050795419526211,
          0.7890236550376273,
          -1.0735850832046079,
          -5.322665029252395,
          -7.055838944360701,
          1.4378708436128893,
          -3.317722292385633,
          -1.9390335972267272,
          -4.136395592901053,
          2.5773830745928192,
          -10.594158294314948,
          1.9033952875049776,
          0.0845361448237552,
          -0.12781472254978474,
          -1.0262204320091521,
          -1.857089573313989,
          -0.6079149859098893,
          -3.8327356279544795,
          -2.696735382181956,
          5.4983985699181215,
          2.1658895503229054,
          4.40748771976401,
          -1.145222168864684,
          0.2684265761186848,
          5.913187900450191,
          -2.122425295955423,
          6.90059369275285,
          3.7075816515449813,
          0.706580094155295,
          -1.5125284473781264,
          -4.144542590254981,
          -3.0921303871879298,
          -3.7423618916392862,
          3.5862952167437947,
          -4.172997771276975,
          -1.509517678644284,
          3.0292049820013034,
          0.3093522997567436,
          0.5649912609186674,
          -3.715541296518982,
          10.959675421408399,
          -4.251808631675954,
          -4.56116481344477,
          -1.1623390825159512,
          -4.3174333898236865,
          -6.1501129774441825,
          15.985146047964168,
          2.0573398863871217,
          -2.5843416456466213,
          2.925997834272822,
          -1.7623231304553082,
          -4.040189501634767,
          3.181233386986167,
          7.4798421387563305,
          -0.21864365251762496,
          3.08216744681653,
          2.714372266739285,
          -0.6343554557544918,
          0.9329474857859437,
          2.2922880145503566,
          1.619690968838807,
          -1.0784603679959623,
          -3.2474563164785626,
          -1.6502934131031906,
          -0.33526618802301605,
          -0.4746868478199265,
          2.766979089708388,
          -3.322052383645193,
          -4.226503370579855,
          3.9778199624802277,
          2.420348755671133,
          3.3201657753308282,
          0.11203690738773503,
          -1.2942792135747199,
          2.425919704186813,
          1.9788362006995979,
          -0.736041965334125,
          3.57620058289483,
          -2.757339565898106,
          0.029049032175727567,
          3.6913183094076705,
          -1.1410228010306631,
          0.009634932004860238,
          2.567809260374176,
          3.4540090919678996,
          -0.24220508666867513,
          -6.086939978165534,
          0.10306442070516389,
          -2.1994470287728527,
          -1.9308365162558125,
          4.835528593818867,
          -3.7321404645604255,
          -4.2416439443007485,
          3.0283021169727165,
          -1.0580055831499235,
          -1.9247239452655642,
          -3.832694482924404,
          0.05495322629576157,
          -4.230262313796934,
          -4.083472859849548,
          2.987855861854589,
          1.264328460339964,
          -1.3035360860890095,
          -0.3481922644607463,
          -4.902464497541359,
          0.7325768153741012,
          3.8381893575536496,
          -0.9796272056912586,
          -1.792218074692759,
          -3.8766862341873933,
          -1.0955396422520882,
          -0.6107160732020499,
          -5.016298695259694,
          -1.9150940868337916,
          -2.799055343264004,
          5.3326356696295045,
          -2.31230305889767,
          -2.1898769876779465,
          0.49587819449471005,
          -0.2264718187500323,
          2.758427633004718,
          2.228138163177856,
          -2.5877058958272374,
          -0.13926255382589983,
          7.440087628670374,
          1.7648799064496237,
          1.3054418959566572,
          -3.7236031376197656,
          -3.3962573167805346,
          -0.2938253345915801,
          0.18344354410095975,
          -0.9985997552580441,
          3.1501999852148947
         ]
        },
        {
         "line": {
          "color": "red",
          "width": 2
         },
         "mode": "lines+text",
         "showlegend": false,
         "text": [
          null,
          "KCNIP3"
         ],
         "type": "scatter3d",
         "visible": false,
         "x": [
          0,
          -3.504183303996628
         ],
         "y": [
          0,
          -3.458875809564001
         ],
         "z": [
          0,
          -2.108392836622197
         ]
        },
        {
         "line": {
          "color": "red",
          "width": 2
         },
         "mode": "lines+text",
         "showlegend": false,
         "text": [
          null,
          "WT1"
         ],
         "type": "scatter3d",
         "visible": false,
         "x": [
          0,
          5.644156871411278
         ],
         "y": [
          0,
          -2.5839215326414915
         ],
         "z": [
          0,
          -1.029193841052485
         ]
        },
        {
         "line": {
          "color": "red",
          "width": 2
         },
         "mode": "lines+text",
         "showlegend": false,
         "text": [
          null,
          "ZFP42"
         ],
         "type": "scatter3d",
         "visible": false,
         "x": [
          0,
          3.9436645029673385
         ],
         "y": [
          0,
          -2.568951303962177
         ],
         "z": [
          0,
          -2.7650498619396013
         ]
        },
        {
         "line": {
          "color": "red",
          "width": 2
         },
         "mode": "lines+text",
         "showlegend": false,
         "text": [
          null,
          "FOXO3"
         ],
         "type": "scatter3d",
         "visible": false,
         "x": [
          0,
          -2.1285260340297754
         ],
         "y": [
          0,
          7.045109974004836
         ],
         "z": [
          0,
          -0.2314967337122413
         ]
        },
        {
         "line": {
          "color": "red",
          "width": 2
         },
         "mode": "lines+text",
         "showlegend": false,
         "text": [
          null,
          "PAX2"
         ],
         "type": "scatter3d",
         "visible": false,
         "x": [
          0,
          -5.048799465257003
         ],
         "y": [
          0,
          2.4793082699947027
         ],
         "z": [
          0,
          -1.9933844687612217
         ]
        },
        {
         "line": {
          "color": "red",
          "width": 2
         },
         "mode": "lines+text",
         "showlegend": false,
         "text": [
          null,
          "TFDP1"
         ],
         "type": "scatter3d",
         "visible": false,
         "x": [
          0,
          5.220739716291676
         ],
         "y": [
          0,
          -2.00699273570803
         ],
         "z": [
          0,
          -2.4007001827866707
         ]
        },
        {
         "line": {
          "color": "red",
          "width": 2
         },
         "mode": "lines+text",
         "showlegend": false,
         "text": [
          null,
          "HOXB3"
         ],
         "type": "scatter3d",
         "visible": false,
         "x": [
          0,
          5.755229599319511
         ],
         "y": [
          0,
          -4.272090527910825
         ],
         "z": [
          0,
          -0.2520756113341654
         ]
        },
        {
         "line": {
          "color": "red",
          "width": 2
         },
         "mode": "lines+text",
         "showlegend": false,
         "text": [
          null,
          "SRSF2"
         ],
         "type": "scatter3d",
         "visible": false,
         "x": [
          0,
          6.422061180396366
         ],
         "y": [
          0,
          -3.6080325600610204
         ],
         "z": [
          0,
          -0.30999348032830987
         ]
        },
        {
         "line": {
          "color": "red",
          "width": 2
         },
         "mode": "lines+text",
         "showlegend": false,
         "text": [
          null,
          "MYC"
         ],
         "type": "scatter3d",
         "visible": false,
         "x": [
          0,
          7.836580458928793
         ],
         "y": [
          0,
          -2.3815669984624117
         ],
         "z": [
          0,
          1.491012568690533
         ]
        },
        {
         "line": {
          "color": "red",
          "width": 2
         },
         "mode": "lines+text",
         "showlegend": false,
         "text": [
          null,
          "E2F4"
         ],
         "type": "scatter3d",
         "visible": false,
         "x": [
          0,
          6.608987768395718
         ],
         "y": [
          0,
          -4.750280252595667
         ],
         "z": [
          0,
          -2.02333547089671
         ]
        }
       ],
       "layout": {
        "scene": {
         "xaxis": {
          "visible": false
         },
         "yaxis": {
          "visible": false
         },
         "zaxis": {
          "visible": false
         }
        },
        "template": {
         "data": {
          "bar": [
           {
            "error_x": {
             "color": "#2a3f5f"
            },
            "error_y": {
             "color": "#2a3f5f"
            },
            "marker": {
             "line": {
              "color": "#E5ECF6",
              "width": 0.5
             },
             "pattern": {
              "fillmode": "overlay",
              "size": 10,
              "solidity": 0.2
             }
            },
            "type": "bar"
           }
          ],
          "barpolar": [
           {
            "marker": {
             "line": {
              "color": "#E5ECF6",
              "width": 0.5
             },
             "pattern": {
              "fillmode": "overlay",
              "size": 10,
              "solidity": 0.2
             }
            },
            "type": "barpolar"
           }
          ],
          "carpet": [
           {
            "aaxis": {
             "endlinecolor": "#2a3f5f",
             "gridcolor": "white",
             "linecolor": "white",
             "minorgridcolor": "white",
             "startlinecolor": "#2a3f5f"
            },
            "baxis": {
             "endlinecolor": "#2a3f5f",
             "gridcolor": "white",
             "linecolor": "white",
             "minorgridcolor": "white",
             "startlinecolor": "#2a3f5f"
            },
            "type": "carpet"
           }
          ],
          "choropleth": [
           {
            "colorbar": {
             "outlinewidth": 0,
             "ticks": ""
            },
            "type": "choropleth"
           }
          ],
          "contour": [
           {
            "colorbar": {
             "outlinewidth": 0,
             "ticks": ""
            },
            "colorscale": [
             [
              0,
              "#0d0887"
             ],
             [
              0.1111111111111111,
              "#46039f"
             ],
             [
              0.2222222222222222,
              "#7201a8"
             ],
             [
              0.3333333333333333,
              "#9c179e"
             ],
             [
              0.4444444444444444,
              "#bd3786"
             ],
             [
              0.5555555555555556,
              "#d8576b"
             ],
             [
              0.6666666666666666,
              "#ed7953"
             ],
             [
              0.7777777777777778,
              "#fb9f3a"
             ],
             [
              0.8888888888888888,
              "#fdca26"
             ],
             [
              1,
              "#f0f921"
             ]
            ],
            "type": "contour"
           }
          ],
          "contourcarpet": [
           {
            "colorbar": {
             "outlinewidth": 0,
             "ticks": ""
            },
            "type": "contourcarpet"
           }
          ],
          "heatmap": [
           {
            "colorbar": {
             "outlinewidth": 0,
             "ticks": ""
            },
            "colorscale": [
             [
              0,
              "#0d0887"
             ],
             [
              0.1111111111111111,
              "#46039f"
             ],
             [
              0.2222222222222222,
              "#7201a8"
             ],
             [
              0.3333333333333333,
              "#9c179e"
             ],
             [
              0.4444444444444444,
              "#bd3786"
             ],
             [
              0.5555555555555556,
              "#d8576b"
             ],
             [
              0.6666666666666666,
              "#ed7953"
             ],
             [
              0.7777777777777778,
              "#fb9f3a"
             ],
             [
              0.8888888888888888,
              "#fdca26"
             ],
             [
              1,
              "#f0f921"
             ]
            ],
            "type": "heatmap"
           }
          ],
          "heatmapgl": [
           {
            "colorbar": {
             "outlinewidth": 0,
             "ticks": ""
            },
            "colorscale": [
             [
              0,
              "#0d0887"
             ],
             [
              0.1111111111111111,
              "#46039f"
             ],
             [
              0.2222222222222222,
              "#7201a8"
             ],
             [
              0.3333333333333333,
              "#9c179e"
             ],
             [
              0.4444444444444444,
              "#bd3786"
             ],
             [
              0.5555555555555556,
              "#d8576b"
             ],
             [
              0.6666666666666666,
              "#ed7953"
             ],
             [
              0.7777777777777778,
              "#fb9f3a"
             ],
             [
              0.8888888888888888,
              "#fdca26"
             ],
             [
              1,
              "#f0f921"
             ]
            ],
            "type": "heatmapgl"
           }
          ],
          "histogram": [
           {
            "marker": {
             "pattern": {
              "fillmode": "overlay",
              "size": 10,
              "solidity": 0.2
             }
            },
            "type": "histogram"
           }
          ],
          "histogram2d": [
           {
            "colorbar": {
             "outlinewidth": 0,
             "ticks": ""
            },
            "colorscale": [
             [
              0,
              "#0d0887"
             ],
             [
              0.1111111111111111,
              "#46039f"
             ],
             [
              0.2222222222222222,
              "#7201a8"
             ],
             [
              0.3333333333333333,
              "#9c179e"
             ],
             [
              0.4444444444444444,
              "#bd3786"
             ],
             [
              0.5555555555555556,
              "#d8576b"
             ],
             [
              0.6666666666666666,
              "#ed7953"
             ],
             [
              0.7777777777777778,
              "#fb9f3a"
             ],
             [
              0.8888888888888888,
              "#fdca26"
             ],
             [
              1,
              "#f0f921"
             ]
            ],
            "type": "histogram2d"
           }
          ],
          "histogram2dcontour": [
           {
            "colorbar": {
             "outlinewidth": 0,
             "ticks": ""
            },
            "colorscale": [
             [
              0,
              "#0d0887"
             ],
             [
              0.1111111111111111,
              "#46039f"
             ],
             [
              0.2222222222222222,
              "#7201a8"
             ],
             [
              0.3333333333333333,
              "#9c179e"
             ],
             [
              0.4444444444444444,
              "#bd3786"
             ],
             [
              0.5555555555555556,
              "#d8576b"
             ],
             [
              0.6666666666666666,
              "#ed7953"
             ],
             [
              0.7777777777777778,
              "#fb9f3a"
             ],
             [
              0.8888888888888888,
              "#fdca26"
             ],
             [
              1,
              "#f0f921"
             ]
            ],
            "type": "histogram2dcontour"
           }
          ],
          "mesh3d": [
           {
            "colorbar": {
             "outlinewidth": 0,
             "ticks": ""
            },
            "type": "mesh3d"
           }
          ],
          "parcoords": [
           {
            "line": {
             "colorbar": {
              "outlinewidth": 0,
              "ticks": ""
             }
            },
            "type": "parcoords"
           }
          ],
          "pie": [
           {
            "automargin": true,
            "type": "pie"
           }
          ],
          "scatter": [
           {
            "fillpattern": {
             "fillmode": "overlay",
             "size": 10,
             "solidity": 0.2
            },
            "type": "scatter"
           }
          ],
          "scatter3d": [
           {
            "line": {
             "colorbar": {
              "outlinewidth": 0,
              "ticks": ""
             }
            },
            "marker": {
             "colorbar": {
              "outlinewidth": 0,
              "ticks": ""
             }
            },
            "type": "scatter3d"
           }
          ],
          "scattercarpet": [
           {
            "marker": {
             "colorbar": {
              "outlinewidth": 0,
              "ticks": ""
             }
            },
            "type": "scattercarpet"
           }
          ],
          "scattergeo": [
           {
            "marker": {
             "colorbar": {
              "outlinewidth": 0,
              "ticks": ""
             }
            },
            "type": "scattergeo"
           }
          ],
          "scattergl": [
           {
            "marker": {
             "colorbar": {
              "outlinewidth": 0,
              "ticks": ""
             }
            },
            "type": "scattergl"
           }
          ],
          "scattermapbox": [
           {
            "marker": {
             "colorbar": {
              "outlinewidth": 0,
              "ticks": ""
             }
            },
            "type": "scattermapbox"
           }
          ],
          "scatterpolar": [
           {
            "marker": {
             "colorbar": {
              "outlinewidth": 0,
              "ticks": ""
             }
            },
            "type": "scatterpolar"
           }
          ],
          "scatterpolargl": [
           {
            "marker": {
             "colorbar": {
              "outlinewidth": 0,
              "ticks": ""
             }
            },
            "type": "scatterpolargl"
           }
          ],
          "scatterternary": [
           {
            "marker": {
             "colorbar": {
              "outlinewidth": 0,
              "ticks": ""
             }
            },
            "type": "scatterternary"
           }
          ],
          "surface": [
           {
            "colorbar": {
             "outlinewidth": 0,
             "ticks": ""
            },
            "colorscale": [
             [
              0,
              "#0d0887"
             ],
             [
              0.1111111111111111,
              "#46039f"
             ],
             [
              0.2222222222222222,
              "#7201a8"
             ],
             [
              0.3333333333333333,
              "#9c179e"
             ],
             [
              0.4444444444444444,
              "#bd3786"
             ],
             [
              0.5555555555555556,
              "#d8576b"
             ],
             [
              0.6666666666666666,
              "#ed7953"
             ],
             [
              0.7777777777777778,
              "#fb9f3a"
             ],
             [
              0.8888888888888888,
              "#fdca26"
             ],
             [
              1,
              "#f0f921"
             ]
            ],
            "type": "surface"
           }
          ],
          "table": [
           {
            "cells": {
             "fill": {
              "color": "#EBF0F8"
             },
             "line": {
              "color": "white"
             }
            },
            "header": {
             "fill": {
              "color": "#C8D4E3"
             },
             "line": {
              "color": "white"
             }
            },
            "type": "table"
           }
          ]
         },
         "layout": {
          "annotationdefaults": {
           "arrowcolor": "#2a3f5f",
           "arrowhead": 0,
           "arrowwidth": 1
          },
          "autotypenumbers": "strict",
          "coloraxis": {
           "colorbar": {
            "outlinewidth": 0,
            "ticks": ""
           }
          },
          "colorscale": {
           "diverging": [
            [
             0,
             "#8e0152"
            ],
            [
             0.1,
             "#c51b7d"
            ],
            [
             0.2,
             "#de77ae"
            ],
            [
             0.3,
             "#f1b6da"
            ],
            [
             0.4,
             "#fde0ef"
            ],
            [
             0.5,
             "#f7f7f7"
            ],
            [
             0.6,
             "#e6f5d0"
            ],
            [
             0.7,
             "#b8e186"
            ],
            [
             0.8,
             "#7fbc41"
            ],
            [
             0.9,
             "#4d9221"
            ],
            [
             1,
             "#276419"
            ]
           ],
           "sequential": [
            [
             0,
             "#0d0887"
            ],
            [
             0.1111111111111111,
             "#46039f"
            ],
            [
             0.2222222222222222,
             "#7201a8"
            ],
            [
             0.3333333333333333,
             "#9c179e"
            ],
            [
             0.4444444444444444,
             "#bd3786"
            ],
            [
             0.5555555555555556,
             "#d8576b"
            ],
            [
             0.6666666666666666,
             "#ed7953"
            ],
            [
             0.7777777777777778,
             "#fb9f3a"
            ],
            [
             0.8888888888888888,
             "#fdca26"
            ],
            [
             1,
             "#f0f921"
            ]
           ],
           "sequentialminus": [
            [
             0,
             "#0d0887"
            ],
            [
             0.1111111111111111,
             "#46039f"
            ],
            [
             0.2222222222222222,
             "#7201a8"
            ],
            [
             0.3333333333333333,
             "#9c179e"
            ],
            [
             0.4444444444444444,
             "#bd3786"
            ],
            [
             0.5555555555555556,
             "#d8576b"
            ],
            [
             0.6666666666666666,
             "#ed7953"
            ],
            [
             0.7777777777777778,
             "#fb9f3a"
            ],
            [
             0.8888888888888888,
             "#fdca26"
            ],
            [
             1,
             "#f0f921"
            ]
           ]
          },
          "colorway": [
           "#636efa",
           "#EF553B",
           "#00cc96",
           "#ab63fa",
           "#FFA15A",
           "#19d3f3",
           "#FF6692",
           "#B6E880",
           "#FF97FF",
           "#FECB52"
          ],
          "font": {
           "color": "#2a3f5f"
          },
          "geo": {
           "bgcolor": "white",
           "lakecolor": "white",
           "landcolor": "#E5ECF6",
           "showlakes": true,
           "showland": true,
           "subunitcolor": "white"
          },
          "hoverlabel": {
           "align": "left"
          },
          "hovermode": "closest",
          "mapbox": {
           "style": "light"
          },
          "paper_bgcolor": "white",
          "plot_bgcolor": "#E5ECF6",
          "polar": {
           "angularaxis": {
            "gridcolor": "white",
            "linecolor": "white",
            "ticks": ""
           },
           "bgcolor": "#E5ECF6",
           "radialaxis": {
            "gridcolor": "white",
            "linecolor": "white",
            "ticks": ""
           }
          },
          "scene": {
           "xaxis": {
            "backgroundcolor": "#E5ECF6",
            "gridcolor": "white",
            "gridwidth": 2,
            "linecolor": "white",
            "showbackground": true,
            "ticks": "",
            "zerolinecolor": "white"
           },
           "yaxis": {
            "backgroundcolor": "#E5ECF6",
            "gridcolor": "white",
            "gridwidth": 2,
            "linecolor": "white",
            "showbackground": true,
            "ticks": "",
            "zerolinecolor": "white"
           },
           "zaxis": {
            "backgroundcolor": "#E5ECF6",
            "gridcolor": "white",
            "gridwidth": 2,
            "linecolor": "white",
            "showbackground": true,
            "ticks": "",
            "zerolinecolor": "white"
           }
          },
          "shapedefaults": {
           "line": {
            "color": "#2a3f5f"
           }
          },
          "ternary": {
           "aaxis": {
            "gridcolor": "white",
            "linecolor": "white",
            "ticks": ""
           },
           "baxis": {
            "gridcolor": "white",
            "linecolor": "white",
            "ticks": ""
           },
           "bgcolor": "#E5ECF6",
           "caxis": {
            "gridcolor": "white",
            "linecolor": "white",
            "ticks": ""
           }
          },
          "title": {
           "x": 0.05
          },
          "xaxis": {
           "automargin": true,
           "gridcolor": "white",
           "linecolor": "white",
           "ticks": "",
           "title": {
            "standoff": 15
           },
           "zerolinecolor": "white",
           "zerolinewidth": 2
          },
          "yaxis": {
           "automargin": true,
           "gridcolor": "white",
           "linecolor": "white",
           "ticks": "",
           "title": {
            "standoff": 15
           },
           "zerolinecolor": "white",
           "zerolinewidth": 2
          }
         }
        },
        "title": {
         "text": "TF Dataset: 2D PCA Biplot (Explained Variance: 11.98%)"
        },
        "updatemenus": [
         {
          "buttons": [
           {
            "args": [
             {
              "visible": [
               true,
               true,
               true,
               true,
               true,
               true,
               true,
               true,
               true,
               true,
               true,
               false,
               false,
               false,
               false,
               false,
               false,
               false,
               false,
               false,
               false,
               false
              ]
             },
             {}
            ],
            "label": "Show All",
            "method": "update"
           },
           {
            "args": [
             {
              "visible": [
               true,
               false,
               false,
               false,
               false,
               false,
               false,
               false,
               false,
               false,
               false,
               false,
               false,
               false,
               false,
               false,
               false,
               false,
               false,
               false,
               false,
               false
              ]
             },
             {}
            ],
            "label": "Show Data Points Only",
            "method": "update"
           },
           {
            "args": [
             {
              "visible": [
               false,
               true,
               true,
               true,
               true,
               true,
               true,
               true,
               true,
               true,
               true,
               false,
               false,
               false,
               false,
               false,
               false,
               false,
               false,
               false,
               false,
               false
              ]
             },
             {}
            ],
            "label": "Show Loadings Only",
            "method": "update"
           }
          ],
          "direction": "down",
          "showactive": true,
          "x": 0.1,
          "xanchor": "left",
          "y": 1.15,
          "yanchor": "top"
         }
        ],
        "xaxis": {
         "title": {
          "text": "PC1 (7.25%)"
         }
        },
        "yaxis": {
         "title": {
          "text": "PC2 (2.57%)"
         }
        }
       }
      }
     },
     "metadata": {},
     "output_type": "display_data"
    },
    {
     "data": {
      "application/vnd.plotly.v1+json": {
       "config": {
        "plotlyServerURL": "https://plot.ly"
       },
       "data": [
        {
         "marker": {
          "color": [
           0.9911572251061926,
           1,
           0.9763426956788256,
           0.3764199443247731,
           1,
           1,
           1,
           1,
           1,
           1,
           0.902433500861249,
           0.9965594255498296,
           1,
           0.8701642995293112,
           0.8118997621394186,
           0.9707202422048736,
           1,
           1,
           0.9026565042352812,
           0.9284214823333788,
           0.9283391773415052,
           0.8871788957014122,
           0.8735072210701182,
           0.7729527366351572,
           1,
           0.5907228459832805,
           1,
           1,
           1,
           1,
           1,
           0.9343329708348804,
           1,
           0.9058648643780084,
           0.9957237742923652,
           1,
           0.931707313971434,
           0.9551832161427256,
           1,
           1,
           1,
           1,
           1,
           1,
           1,
           0.9334119724860734,
           1,
           1,
           0.9682378335902452,
           0.391580169065613,
           0.91547659184532,
           1,
           0.0526205687951325,
           0.7097918107442335,
           0.6012445070831133,
           0.9954713079656806,
           1,
           0.925295646456794,
           0.9371302443754312,
           1,
           0.9632665734880318,
           0.9529222969005088,
           0.9342068642363196,
           0.4705060371530662,
           0.8575002016537739,
           0.8543599099145673,
           0.7713943872752447,
           0.8856281917213811,
           1,
           0.9764999816243652,
           0.9162615080987344,
           0.9249065938039877,
           0.9698195641669288,
           1,
           0.918939132250458,
           1,
           0.8764983911293238,
           0.9486347740201498,
           0.9945772345400858,
           0.91046308368916,
           1,
           0.9763693079735108,
           0.2761501590638442,
           0.9982688826883876,
           0.9807724594688424,
           1,
           0.8293461337787491,
           0.9900982219982036,
           0.9974582686724016,
           0.990816172069673,
           0.955115008396499,
           0.9870786107513476,
           0.9938913014643518,
           1,
           1,
           0.919269537116401,
           0.9271155081517242,
           1,
           1,
           1,
           0.3762892830406895,
           1,
           1,
           0.9463904673721824,
           0.9054336931248422,
           0.3693915502739749,
           0.9949511960594416,
           1,
           0.9662712264431316,
           0.7787090306804507,
           0.1918259918590977,
           0.9653816122625418,
           0.9395700347787058,
           0.9952816212766048,
           1,
           1,
           1,
           0.894731694861747,
           1,
           0.9455883958096952,
           1,
           1,
           0.9069873491633816,
           0.8831448654048591,
           0.2665513526674094,
           0.8542335395427392,
           1,
           1,
           0.9596922808567652,
           0.6151199063318602,
           0.9323570949246758,
           0.6570258183731501,
           0.1070177702747052,
           1,
           1,
           1,
           1,
           1,
           1,
           0.8069655848937446,
           1,
           0.984180471933336,
           0.9885687547090676,
           0.5956069420894501,
           0.1731298951338346,
           0.7916014360909273,
           1,
           0.9900742358083144,
           1,
           0.965136376525251,
           0.9601171222698764,
           1,
           1,
           0.649932914649567,
           0.9447120611112292,
           1,
           0.8114940031594375,
           0.478572437916353,
           1,
           0.0152860642407448,
           0.2721578241972284,
           1,
           0.4669368740402836,
           0.914880068550586,
           0.9918828890589848,
           0.9535617867886126,
           0.9195722871437332,
           0.9152889092573472,
           1,
           1,
           0.9728891671704378,
           0.5620782798737056,
           0.9538391773920766,
           1,
           0.9906856128348271,
           0.7168576691068649,
           1,
           0.9393729240101346,
           1,
           0.9815149873627168,
           0.0503888221703299,
           1,
           0.9375063580247344,
           1,
           1,
           0.0599706222801095,
           1,
           0.8062214758109016,
           0.3557055302340094,
           0.8897957386515137,
           0.5740832308142804,
           0.9212151627512338,
           0.9470433581314808,
           0.9380667240833974,
           1,
           0.6078416259233785,
           1,
           0.9787666679656272,
           0.9495539263277896,
           0.9573365017673474,
           1,
           1,
           1,
           0.711475112928782,
           0.5696368977165406,
           0.9604150577841696,
           0.926723030041402,
           0.9523162501502024,
           0.9406002856274,
           0.7505498974222241,
           1,
           0.8405203195182673,
           1,
           0.9513467966906042,
           0.9220446852173314,
           0.9996751998710034,
           0.1199571245942936,
           0.9793414298594464,
           0.9320453618719834,
           1,
           0.158064988933863,
           0.2535515727493794,
           1,
           1,
           0.4511429202478141,
           1,
           1,
           1,
           0.8209703873836756,
           1,
           0.9735785935526384,
           0.9418717758940276,
           0.9601924197871944,
           1,
           0.9850472954389252,
           0.8613782872559135,
           1,
           0.7944856661191995,
           0.2932031523194223,
           0.7405041335865249,
           0.72011228042129,
           1,
           1,
           0.4877889571279723,
           0.661861634444495,
           0.9610743493480838,
           0.3758719337158476,
           0.9188686210718744,
           0.367842580288183,
           0.9288787802362044,
           0.9754562803389174,
           1,
           0.023906921965213,
           0.8903733804781554,
           0.9739195666739184,
           0.9772599673108976,
           0.9768596094005908,
           0.8283377246601852,
           1,
           1,
           0.2738408031138887,
           1,
           1,
           0.8910230602855607,
           1,
           1,
           0.9647354047182706,
           0.824686143930963,
           0.9503648340116424,
           0.999966880707852,
           0.9358206399747514,
           0.9707268783684596,
           0.9359710299034448,
           1,
           0.4309827742617397,
           0.9967576260948952,
           0.0487627588714312,
           1,
           1,
           1,
           1,
           0.9468238970287476,
           0.1161131165695418,
           0.9675055898027904,
           0.9735155061414184,
           0.7783562638803598,
           0.3434597516997231,
           0.877366236667675,
           1,
           0.6489554394326076,
           1,
           0.9402014420684668,
           0.2095273275505995,
           0.9876472450362588,
           1,
           1,
           1,
           0.9975958335060664,
           0.379015753513757,
           0.929328079161321,
           1,
           0.8833462256153723,
           0.967297971162952,
           0.980934586892628,
           1,
           0.9397260494167792,
           1,
           0.070903890672331,
           0.2628111581600572,
           0.9757178528524676,
           0.9747734981121514,
           1,
           0.932357094955524,
           0.9283391773415052,
           1,
           1,
           0.5872187038694257,
           1,
           0.9348097811635542,
           1,
           0.8916196394672546,
           0.8794579160942018,
           0.8133069902942225,
           1,
           1,
           0.9217370292638932,
           0.9674984659396316,
           1,
           1,
           0.7633335157390769,
           1,
           0.3942298160689444,
           1,
           1,
           0.3157111118475092,
           0.5365158351286876,
           1,
           0.0635652038392036,
           1,
           0.5742383697494073,
           0.9423979549284448,
           1,
           0.9612520472190712,
           0.8723021843073692,
           0.6622360500453851,
           1,
           0.8208327671208264,
           1,
           1,
           1,
           1,
           0.5146315941854094,
           0.9704895393268648,
           0.9953487065671938,
           1,
           0.9472498633421264,
           1,
           1,
           0.9829291278571074,
           0.803530830465743,
           0.9744326286328958,
           0.8720001904995517,
           1,
           1,
           0.0761293279984815,
           0.9482480466162256,
           0.9892016535883472,
           0.9179741863426748,
           0.9985031971596298,
           1,
           1,
           0.9950639410574365,
           0.918651909738338,
           0.6627823441491636,
           1,
           0.7389639858394237,
           1,
           0.731073835746276,
           1,
           1,
           0.9383579235659142,
           0.9638386966726684,
           0.966382588382872,
           0.2692714245608444,
           1,
           0.954070453255631,
           1,
           0.8957791469591516,
           1,
           0.9175440289998908,
           1,
           0.4790080375492733,
           0.995527294013827,
           0.4165109334432695,
           0.7942726403516477,
           1,
           1,
           0.9809888144922416,
           1,
           0.976784514398834,
           0.7610653458706871,
           1,
           1,
           0.9023230255106583,
           1,
           1,
           1,
           0.5180904956584214,
           0.7145595194385416,
           0.9835591942084604,
           1,
           0.0778862261719908,
           1,
           1,
           0.940914698854984,
           1,
           0.6824314128454019,
           1,
           1,
           0.8798611043995752,
           1,
           1,
           1,
           1,
           0.8910230602859409,
           0.9545931144627644,
           1,
           1,
           0.9853028081943092,
           1,
           1,
           1,
           0.9973973738120084,
           0.9132935337251222,
           0.9718051383697957,
           0.2750531970853354,
           1,
           0.2415563690734038,
           1,
           0.895174840694579,
           0.345566007964002,
           1,
           1,
           1,
           1,
           1,
           0.9835248925161324,
           1,
           0.9563351279311206,
           0.9977848097067116,
           0.7399688765081351,
           1,
           0.7464306832261809,
           0.5867420633096035,
           0.0776927121907793,
           0.4242013790155854,
           0.9603994405852344,
           0.5438016783954467,
           1,
           1,
           1,
           1,
           1,
           1,
           1,
           1,
           0.3324925360846205,
           1,
           1,
           0.6062003935583636,
           0.9857025148607724,
           0.9727876329616748,
           0.9869775165007644,
           1,
           0.9945121891968756,
           1,
           0.4984048189337594,
           0.9912625944537408,
           1,
           0.4576526336455476,
           0.8328824913753605,
           1,
           0.950291137132356,
           1,
           0.4353201267833341,
           0.936675424659343,
           1,
           0.9313697794909592,
           1,
           1,
           1,
           0.1915402339724938,
           0.6809551461267556,
           0.9622844078664632,
           1,
           0.967292872643148,
           1,
           0.5931762439107249,
           0.8977157544829311,
           0.4696725689253001
          ],
          "colorbar": {
           "title": {
            "text": "Viability"
           }
          },
          "colorscale": [
           [
            0,
            "#440154"
           ],
           [
            0.1111111111111111,
            "#482878"
           ],
           [
            0.2222222222222222,
            "#3e4989"
           ],
           [
            0.3333333333333333,
            "#31688e"
           ],
           [
            0.4444444444444444,
            "#26828e"
           ],
           [
            0.5555555555555556,
            "#1f9e89"
           ],
           [
            0.6666666666666666,
            "#35b779"
           ],
           [
            0.7777777777777778,
            "#6ece58"
           ],
           [
            0.8888888888888888,
            "#b5de2b"
           ],
           [
            1,
            "#fde725"
           ]
          ],
          "showscale": true,
          "size": 5
         },
         "mode": "markers",
         "name": "Data Points (2D)",
         "showlegend": false,
         "type": "scatter",
         "visible": false,
         "x": [
          -1.6191194343176158,
          -3.4330223719063513,
          -0.31460747355594026,
          19.85176585649023,
          -12.704185969463321,
          -4.334141303326039,
          4.353988827703033,
          -4.279404098310509,
          5.119816568538348,
          -2.41862268043298,
          -2.2356638457201465,
          -3.08974604136999,
          -2.531010194881971,
          -2.4502459067699136,
          -2.7711886785974116,
          -3.739197868532008,
          1.2890172389810475,
          -2.8293923168168043,
          -0.3919812387760588,
          5.428715564838464,
          -2.7780948120215454,
          -1.8675494168975204,
          -4.713401634760736,
          -3.250844750018353,
          -4.023231254815665,
          -0.6634170773392594,
          -0.0076918499393938446,
          26.78947760497992,
          0.538889060231223,
          3.745644109321397,
          -9.75273082027737,
          -0.2944159579837562,
          -10.955634091246575,
          -10.929519654730212,
          -2.074120795712231,
          -6.479888935963692,
          -4.524897224413589,
          -2.946189104016806,
          -6.345482105345237,
          3.1852398273916513,
          -4.714440280366462,
          -2.370109764684829,
          0.13304796323850204,
          7.429149194756833,
          -5.4724487645582816,
          -4.28065806205313,
          -12.09639198304301,
          -2.565384347635745,
          -7.843523833975606,
          -2.769467495979998,
          1.5733217820475038,
          -4.367601516774892,
          -1.8143365351169958,
          -2.572384967074021,
          11.64931187198348,
          2.6577482479737573,
          -11.407981524448836,
          0.23216423313034013,
          -3.936834507970126,
          3.6037379363511883,
          5.746647013856584,
          3.4611273784148886,
          8.102439040449426,
          -4.074551004582244,
          -2.851952154779424,
          -3.3172258237280072,
          -7.891063886484436,
          -2.8632983414743416,
          -15.805726276655244,
          -5.822212750198375,
          -6.258508793727594,
          -3.1508337143962417,
          -2.2355872699197232,
          1.892396657872861,
          -2.3034891723087108,
          6.997751275015902,
          -2.609895495153028,
          -4.4051566066791965,
          -1.8613231960096903,
          -2.1327172157825167,
          5.189401059416617,
          -15.311558300855685,
          -1.3567024002809174,
          -12.309302758017106,
          -16.73618095514268,
          -3.706718988598941,
          -5.582563761762194,
          -3.212867529486898,
          0.5470044371846887,
          -3.0893785017259066,
          -5.684262533262251,
          -0.450353024365875,
          -4.944866182668585,
          1.6032664818585987,
          -4.471580716602631,
          -2.4585196764746513,
          -8.486974865412533,
          35.4119591060475,
          -2.2276810902661217,
          23.34996995494795,
          6.899509724771282,
          -0.6618727642871397,
          -3.483027207791667,
          -3.8189989611808364,
          0.6402300446799011,
          11.732648670533168,
          -2.1858401054460015,
          2.150457609759279,
          5.010383659460019,
          2.510147821632253,
          17.704799997276346,
          -6.744793928713721,
          0.8567212816451893,
          -3.2953028424003867,
          -9.718522466828652,
          8.214613683957943,
          4.719355515209589,
          0.2778387903849188,
          -2.3223215522922147,
          0.01975702797488558,
          0.011482868972844298,
          -6.631279981729488,
          -3.245416410458577,
          -2.7517912494765353,
          20.334761283629927,
          -3.0744512833832873,
          0.4254231713490638,
          -16.266678866951633,
          -3.451953286075621,
          -1.5755275660048562,
          -4.620274300555705,
          2.029188287223346,
          6.974113877377715,
          12.631743332033851,
          2.092850119069034,
          20.335816497516713,
          0.9644946163874273,
          -2.1378389516091096,
          4.514837582315906,
          -1.7737371111789784,
          0.8907813531651274,
          6.896964637580398,
          -6.767808507354656,
          21.90655396542922,
          26.075470781694868,
          -0.057929749482179986,
          -3.477522912180284,
          -5.786542545739448,
          -8.240970751435682,
          -2.4909164322771034,
          -2.1619637513840897,
          -1.6833436952018124,
          -7.542039447453983,
          29.351320891941636,
          -1.967107548309662,
          -2.828941995175749,
          -2.3925054250287103,
          4.4055391330152975,
          -0.6808026290216955,
          16.56243058940302,
          -1.6682576859289702,
          -2.3945370621753206,
          -1.5304134190263898,
          -3.7755851230754227,
          -1.5206075274586512,
          18.52580548603728,
          -2.1034442093506005,
          -2.50264765888188,
          -2.1498919272612174,
          9.24074210641667,
          -3.0951018613413614,
          5.299149546435083,
          -4.696293901565385,
          -1.1987936884565267,
          -9.867618332834768,
          13.929983026403907,
          0.4334904896743989,
          -3.94239158440123,
          0.830584115623311,
          0.41930395574245444,
          7.379101427731215,
          -6.395561301673828,
          -22.62294187638471,
          1.610926623741776,
          -4.8832929834950844,
          17.90161494582831,
          -2.076679892676374,
          -1.8903219907561457,
          -0.2815189670095532,
          -2.93941684794423,
          -2.4195923145575753,
          -1.9667310924375363,
          -2.0359337635797243,
          -8.582662259849958,
          15.51146514687862,
          7.675389707824141,
          19.251783663765185,
          -1.6888676566083969,
          -2.4133033659392638,
          -3.124431133258983,
          0.3409859955223359,
          -0.12313919782811904,
          -1.5770489876442781,
          0.31571334907615833,
          9.716952580064051,
          -2.5706416572771063,
          20.749701239366253,
          10.58414149345257,
          -2.858396976855329,
          -3.7438564145300486,
          -1.9632740894260863,
          0.4013379115979807,
          0.12815951484533744,
          -18.65605658700801,
          0.0032384091117290564,
          -5.242712922509742,
          11.241783834796333,
          7.959101828863014,
          -6.706566885743996,
          -1.8263287826236387,
          22.419773515812512,
          9.653977687207323,
          -2.673015108528816,
          5.001825104705934,
          -2.9375609047369085,
          -2.071044401167171,
          -1.216482620129234,
          -2.6756477276774246,
          -2.6099006007687953,
          -8.99023718790704,
          -5.021742755088377,
          -10.203468777193518,
          -5.429672787575241,
          -6.360869370286828,
          -1.6767871400888839,
          -2.107680061529186,
          -2.58837317793314,
          3.1004925541047585,
          9.598463689999644,
          -7.103155455001993,
          -2.2466400046429573,
          1.0876857921826937,
          7.681246591684294,
          7.3995081264220675,
          -4.781625935123672,
          10.292558788647185,
          5.263599158020681,
          -2.8090880993652645,
          28.463308384810077,
          0.2696827837224455,
          -2.15103466021084,
          -10.449074087076042,
          3.2588197994247836,
          -9.500050708141123,
          -9.443856344598995,
          -0.8171158167701781,
          -10.569751165206617,
          -0.8303597938813159,
          -4.297899170775348,
          -7.301856886102331,
          11.461417033077229,
          -5.542521529931435,
          0.4773889836469393,
          -2.3168576690189457,
          -11.487043129306016,
          -2.6578550294923,
          -2.8248598449189863,
          -11.879085359117807,
          -1.32517473253052,
          -1.5684975265403156,
          -3.581364758217336,
          -4.888326824690292,
          -2.181913267865349,
          -4.893342907979094,
          23.266762813048246,
          -5.1412432032034525,
          7.422590981112007,
          -5.230752075888315,
          -0.25446811031338135,
          4.317137244463731,
          -2.3522243835909658,
          -21.184972080020046,
          3.3170694097626923,
          -1.7845413432284611,
          -6.339857677164955,
          -8.134201680887562,
          9.868839591698148,
          19.36434236996145,
          -2.6264319303759556,
          1.8883842687906198,
          3.8067793689603753,
          -9.841699911219868,
          4.276117603527768,
          -1.876987117456729,
          3.7958657634751782,
          2.433485748811365,
          -3.0090396739892347,
          -1.0865318704727245,
          0.9925629512697777,
          -19.949358020321377,
          -4.060294655110595,
          -3.8759557115539423,
          -5.810402936691759,
          -11.023657620428047,
          -4.792422757425129,
          -3.8405434438382775,
          -2.1258262384831332,
          6.677947554038268,
          1.5263783666414008,
          -6.471168941113249,
          -1.0393015796292873,
          0.5822453008945532,
          -5.221007913266505,
          1.1651119900877236,
          -4.527525919766307,
          12.551884652435762,
          -1.7617236482067085,
          21.837981684547213,
          -3.589326417758429,
          -1.7585067622707087,
          -2.997741462252417,
          -6.22197011268004,
          -3.393230642936681,
          -4.4868782206350595,
          -1.6665026659478934,
          -0.13403871049395177,
          32.402205321244615,
          -13.041114102297962,
          -1.687346065590464,
          -6.49293766175575,
          -12.965115491500264,
          0.29980378988278966,
          -3.3177086891827328,
          -1.7569565971482988,
          -9.1453955625806,
          -0.9994972550684399,
          -1.4124701550049494,
          32.93500122687517,
          24.553292074038758,
          -10.61563118158003,
          39.660716293305185,
          -2.160740483963507,
          -2.0880708651844495,
          4.50212574621074,
          -3.277976016751953,
          -1.7487079424557523,
          -6.402359016896241,
          -5.18539046885293,
          -2.1924922918675427,
          -2.6812324906842733,
          -1.59541946811089,
          -3.5883744114586436,
          3.384215227174853,
          -1.2093095939542025,
          -5.9315621859885015,
          -8.901800372176982,
          -1.5231934306021109,
          -3.805602539845471,
          -1.57570419246632,
          16.102468074602832,
          -2.5835748752467005,
          -2.8255927029382013,
          4.501740468213929,
          -1.0793999847543578,
          1.6824565373501321,
          29.37720432603814,
          5.637043035506053,
          1.8391934383007995,
          12.667005587321315,
          -1.8922655734248102,
          -3.5022234191216097,
          -2.45560875988733,
          0.0769847106336404,
          1.6497388240434077,
          -1.974156375447791,
          0.9478713456157186,
          -2.676889104042728,
          -8.635872586878314,
          -2.296637609325587,
          -0.6259872028971816,
          -3.2623385732530035,
          -1.44134161814927,
          -1.8978489920127415,
          22.771210116144413,
          -1.4029512623318408,
          0.7128494474731026,
          -4.716807969437108,
          -1.8191736540923584,
          -3.0210904927618643,
          -9.436086797909285,
          -3.483752335011384,
          -0.5452531500126315,
          11.694743861000452,
          -2.4127956686557415,
          18.778443870128147,
          -4.669711247984987,
          7.090821463761574,
          -0.39840615531853335,
          5.673985541953806,
          -3.653116588339455,
          -1.692090389072839,
          2.533333689484465,
          -3.2865749638714354,
          3.938494435293324,
          -5.098956368351689,
          -1.9940800056513976,
          -1.8040960145790526,
          -5.986396878004156,
          -20.557514655196425,
          -2.2068790767542774,
          1.5350346865237123,
          -7.633099353992887,
          -3.068963658477214,
          4.349256947728517,
          -6.040690783669207,
          -1.3246280795160832,
          20.29779031821597,
          0.023682201644252623,
          -0.9031305029611869,
          27.65671771896071,
          -3.3488942169557223,
          -2.9900583622052697,
          4.181893042119487,
          -4.649794180093828,
          -6.022172609556688,
          -0.9242229815497163,
          1.4264813524188822,
          -7.1128120541976285,
          -3.3960694422055573,
          -3.1178994101673188,
          -5.073206802227248,
          -5.97128671033248,
          -0.054466918804616384,
          -8.857855800804442,
          11.831762454671903,
          34.16073261755346,
          -1.4835987777409814,
          -4.8475375341546325,
          -3.386390627196237,
          12.56966231813317,
          -1.5565330214927204,
          -9.345628718418668,
          -4.841961754284198,
          -3.4286056100194964,
          -1.2859733608716817,
          13.292015118026528,
          -13.222308276231855,
          1.7148055560251354,
          -0.2907438301142811,
          -2.302560756667395,
          18.079063605314253,
          3.0519274568699086,
          -3.172397791926031,
          3.4317730855884183,
          14.965499357619034,
          -2.088495974939196,
          8.20383249029149,
          -6.101037483937248,
          12.341945621070366,
          -1.5980203616150734,
          -2.6685397127630575,
          -1.1412385947649109,
          -3.8260116974124445,
          -2.2739815654063165,
          -6.307860475412541,
          -1.5564507042558573,
          4.655688370128418,
          -14.567170152856413,
          -1.3729899823346934,
          5.073069318706242,
          -0.5839584002737163,
          -3.6210610446813294,
          -19.04941248936276,
          -4.763384816242239,
          -3.712356503711766,
          -3.465707548537978,
          6.603729159835199,
          -1.2321463316912515,
          -3.6304013827893913,
          4.160842341792869,
          -2.1215081287830833,
          -3.326604219702023,
          -2.7780578772968307,
          6.6140749442932005,
          1.1250937961596146,
          -1.025270474928734,
          -1.7366734002124515,
          -15.306307402619712,
          -1.8017991018237265,
          -3.852945923991602,
          -2.330899878215379,
          11.08919583452519,
          -1.125358890273212,
          13.237509595446475,
          -1.5609061190932345,
          -1.886009407005042,
          -0.8159881911929859,
          21.379240576569998,
          -3.2328398423807587,
          32.35958048925741
         ],
         "y": [
          -2.1308682501075786,
          0.2830264425458971,
          2.6875166680335005,
          -7.7823444359775,
          -4.690731584941122,
          0.34833381615460646,
          5.326969649508824,
          0.8068525605448112,
          1.9746984570660358,
          -0.013479955469554427,
          -0.9902573075508944,
          0.3374699983454271,
          -0.42950125972767694,
          0.7613865577324148,
          3.1608777904992262,
          -0.014603811687379608,
          -1.8196958603216917,
          2.9920233862789813,
          1.610383915515658,
          -12.801784889821676,
          -0.8298589011675399,
          3.0653851525557196,
          -0.5578777086274789,
          -2.7434226343172075,
          -0.2733248206608978,
          -0.478742262576963,
          -1.4665192324065262,
          7.253050331629098,
          1.500939316958527,
          1.8615383398675323,
          -1.8563098570764156,
          6.659211271299256,
          -2.085142765129034,
          2.507958301079375,
          0.527006278596315,
          2.412463480847473,
          2.360979107429635,
          2.654372337389176,
          -0.9780209557672224,
          0.09168935955690474,
          1.5065357113142692,
          0.3907867593372951,
          3.5514425835526002,
          -11.063896685287741,
          1.2245046363659893,
          -0.32388942159573686,
          1.1140999230898243,
          1.1666270409920392,
          1.6803025369784552,
          0.6363537452873183,
          0.8807910021364339,
          -1.3546157468717137,
          0.9743399922136264,
          -0.06022420298982185,
          3.022809855591365,
          -2.707315362563265,
          -0.6154303769437077,
          -0.1551151807215698,
          1.3090490200680405,
          1.645018239453926,
          5.528457131390391,
          -3.8005620019241304,
          -4.338139982197546,
          1.7081216083096524,
          -1.076848384906694,
          -1.3207133572485463,
          -2.3153917105260975,
          0.3035084800435561,
          -2.3649903887872754,
          -0.20260679522762212,
          -1.0930505519080664,
          -1.2598109505683426,
          -0.5480453744683691,
          1.4716445389071404,
          -2.348661945969615,
          3.8861864345211217,
          2.425987230903081,
          0.1559764094140043,
          0.40138583044958637,
          -0.1965057295010922,
          -0.8197063819658543,
          1.3099995553160402,
          2.2927806495358602,
          -1.2061684013811804,
          -4.724154359906626,
          0.914644725626434,
          1.0405702469518263,
          1.924725076584407,
          2.9948433529230654,
          -0.11113063989149126,
          0.7827526999535246,
          2.5015770763455523,
          0.8133367035294223,
          -5.123500757066178,
          0.7713390751622262,
          0.2892358413733862,
          -1.5827571290152085,
          -2.553002949539506,
          0.13846854454048663,
          4.157508536443012,
          -0.32715712050306645,
          0.8250882563591637,
          0.6979381448467362,
          0.5056530621801174,
          -0.5816986662142886,
          -0.4846022669429735,
          0.37542041111484653,
          2.058351764798783,
          -1.165116078191608,
          4.904608670025459,
          -2.165142468137213,
          -2.3549892918758424,
          3.138772994555662,
          1.186835657897883,
          -0.07118676386603409,
          7.212986180689367,
          -4.0699508736715035,
          0.47761933581663407,
          0.10649625942284098,
          2.0165511353740864,
          0.43412749495579883,
          1.31395140445157,
          1.5301371832713013,
          2.8449589449470554,
          -6.675848370792254,
          -0.2445276026365802,
          1.4185018047769993,
          -3.8032786367988693,
          -0.4341314291914484,
          -0.21035170544199977,
          1.4579798289618977,
          0.1992458031772045,
          -8.025807996998202,
          7.90644317889007,
          3.4094743195121158,
          6.6927220766819975,
          2.35083689150228,
          1.8189498716995596,
          2.6139052083161296,
          -0.04640954542736517,
          1.4501432006978225,
          1.4120616267000685,
          0.34611519491257525,
          -13.575366776657258,
          -0.5878868947422635,
          -0.16757370584184167,
          0.29849614643246924,
          -0.525405798270913,
          -2.75476681291821,
          1.495939232817799,
          0.8476682530270923,
          2.697061343009354,
          0.506350191202195,
          2.650585904425997,
          -0.049077580096845014,
          1.01707262957585,
          2.276409853589561,
          -2.6752403283783277,
          0.7884684272784862,
          -13.104772723097378,
          0.8412080504628514,
          0.622279584518493,
          -8.1653060762126,
          -1.113588985739594,
          2.9126921194258286,
          7.278250229961079,
          0.6696760510920011,
          0.8395802999348628,
          2.061528722060671,
          3.87539230086097,
          1.195675167013605,
          -15.702982925429325,
          0.20216686410494472,
          1.1159149673604498,
          0.36187293882314814,
          5.186395469990216,
          0.7696804523703366,
          1.9524643743195107,
          2.0401547802519406,
          2.0476685681319777,
          -11.635727334722686,
          -0.38573469942375826,
          1.8862270226590763,
          0.6939253676789385,
          3.3779980149370537,
          0.047116223999108454,
          1.3047415966142981,
          2.1759101689833216,
          -6.973747299527479,
          1.4343649248328394,
          0.5871540676173598,
          0.7929376583346424,
          1.0870958709647351,
          0.9203971525391937,
          -8.176524032317593,
          -2.3693388911281468,
          6.753296706706861,
          1.0476375198882506,
          0.13273668563895116,
          0.8189083886355103,
          1.4259118606159429,
          4.358369805577288,
          -0.07349155967331049,
          -6.001278188350483,
          -10.835018340962536,
          1.2678327089345227,
          -4.000336338688797,
          5.687426062971046,
          1.0586662094583128,
          -3.8346940137703736,
          0.737224580958235,
          1.3050006082532015,
          1.3671703716663008,
          -3.2558034881275466,
          2.199299484297177,
          -0.12752811350839321,
          -2.598320825615142,
          1.487637191609397,
          -0.12209416730528518,
          0.8591887820752139,
          -2.0700023629846704,
          -7.509299108762704,
          0.1741952245150052,
          3.716635717420259,
          1.0927701000650398,
          0.9577873780019032,
          1.1977784187563671,
          -0.526690857817742,
          0.6443246491792469,
          -0.5990192576975083,
          -0.06525006172763027,
          -12.75939114878339,
          0.834945081983624,
          0.7172074729600031,
          0.11409884540999887,
          -0.7161278789662411,
          0.7167766346105832,
          -17.701050070334002,
          -2.2434471192025085,
          -2.8398992854919447,
          0.34273689926158346,
          1.5176329469210201,
          5.06004117347014,
          -5.23982462076638,
          -0.014793419095807338,
          0.7391808788290778,
          1.8959576250844343,
          1.083298000739174,
          -3.0369284780414705,
          -0.6132842751855693,
          1.5833394748890595,
          1.6366926427775155,
          -4.343479295349087,
          -1.933532552218159,
          -0.8302221737900074,
          1.1530971941834787,
          -0.2164729412800579,
          -3.471236492338051,
          0.5845132352076116,
          -0.24986132588418541,
          -9.407031855994498,
          0.6536462859132026,
          1.3922644478611923,
          0.32265879676848275,
          -2.0487808375872665,
          -0.1828197851235345,
          2.4482919456300425,
          -1.6426116250889427,
          1.271343192363668,
          1.6861748815078028,
          4.48725490985965,
          0.6224473415632408,
          1.1673919198559792,
          0.35345869414725,
          -4.713111801091004,
          2.653722507205753,
          -4.134514966053094,
          -1.4200395024976482,
          -0.4741109468826491,
          4.737575946431323,
          0.6034719611245845,
          -2.3725742614113394,
          2.8939525587958417,
          0.2967425486786234,
          -3.160605090694216,
          -0.3020377484251965,
          -13.569065446785359,
          5.936647737143433,
          1.891329580025741,
          0.9162510133533687,
          0.3261413369789555,
          -1.022190862571251,
          -10.918998858467937,
          0.44932421628407776,
          4.571708941161445,
          2.514486857878156,
          0.6954381942988664,
          3.30230331248962,
          -5.376444615589216,
          -4.775279234690926,
          0.050323120459781184,
          2.2602008895801236,
          0.5056951586230536,
          -5.275637892711842,
          3.06847840557797,
          -0.5084101739953952,
          1.5680988995233067,
          -19.029146595527372,
          -0.6183219540825273,
          -6.13414211950782,
          1.6763547002071817,
          1.502687837470914,
          -0.09036391577090334,
          1.6543826023719634,
          1.525364425930743,
          5.5882032830495865,
          1.0034902490716808,
          -0.7234877942942414,
          -0.07379344828357012,
          0.16187502307922833,
          -0.12167506305094905,
          0.7459949110291237,
          -0.32155578800272794,
          1.0547705316352163,
          0.9012876612255749,
          2.1672400349440304,
          4.974477193484066,
          -0.762162793142281,
          0.46545458501218384,
          2.203193181639057,
          -3.3487645912596746,
          1.6679782441300437,
          1.0054986113983486,
          0.6518566868022941,
          4.233753921033557,
          -1.4451574901647024,
          0.4805776136075573,
          3.316105676660243,
          -3.280188493694826,
          1.558052416865247,
          1.4078297424753647,
          0.6737832456851561,
          0.6395003733711808,
          -0.7094178944943641,
          0.5250952194600051,
          0.6478889319148277,
          -0.08885690364974254,
          -2.7130837678605633,
          -0.4037707133183531,
          1.282709401471013,
          0.09390726006628777,
          -3.1027886362520802,
          5.064370816131499,
          -0.011823704073630233,
          -0.3490356856201744,
          -1.7564271392839035,
          0.1253465477961697,
          -0.2927003826760389,
          1.2725214985363371,
          1.600233051970012,
          1.3481804525686218,
          -3.574788537002402,
          5.5529309178054795,
          0.3846813715429178,
          -0.883501902048298,
          6.43062350540059,
          2.2931163368809817,
          2.9614299005629796,
          3.1378518493872978,
          -1.1043347175553369,
          -1.2575800890873852,
          1.1330080746451543,
          -1.30248913992944,
          -6.91337932416593,
          0.5759498498324443,
          -0.24647447740359124,
          0.8473905700934277,
          -3.9372906702137263,
          1.4297206473848245,
          -5.863785370991493,
          0.49313735429037914,
          -1.2871014181854792,
          -2.9337825569158467,
          2.423365666142083,
          1.4665530792913892,
          2.873372659851965,
          0.8254294446129165,
          0.24240352855927355,
          0.7312383675115843,
          -0.5126740644571811,
          1.1686568572256941,
          0.46767513662599436,
          5.218137280964374,
          2.5264772892309635,
          6.646209789342843,
          2.5038405917692015,
          2.230855423041775,
          -0.14240236043451876,
          0.7489882106386743,
          0.8352551153884301,
          0.7074781823851987,
          4.258042294714767,
          1.1554983806637278,
          -1.0268956286702748,
          1.1844162799681492,
          0.47464754829966455,
          0.9397002168200019,
          3.833160503230812,
          -1.0698361587818854,
          0.9601352453228748,
          -0.5041306418407421,
          -8.566940887006462,
          -0.702968435792551,
          6.649673084190718,
          1.289428792059419,
          2.8255540293742425,
          -0.9276983723389847,
          1.096004602419424,
          0.8491188508763982,
          -4.109123194299161,
          -5.285792232265867,
          1.540857818050397,
          2.2362846149313356,
          0.035140618099640884,
          0.7613063235771317,
          -0.8669962246010299,
          2.055247391724683,
          1.5684701238540617,
          1.4594922291924464,
          -1.1032446209128017,
          3.5906154758688387,
          0.28652062617581686,
          0.4520728635486727,
          -0.9398942304956754,
          4.7939828664380375,
          -3.7569445049364827,
          0.6746007370481061,
          -11.797474794673567,
          1.7265401939154428,
          -12.31648255154353,
          1.918332668004324,
          -0.7422937440882139,
          1.5980647643767785,
          1.123369277149745,
          0.47076496501494275,
          4.175491170409949,
          -2.5996450694581443,
          1.706992264751375,
          0.7285073411926851,
          -0.39372752785275245,
          4.115717287293551,
          4.570047978503852,
          -2.479406524159497,
          0.4628499202387222,
          -0.7123734059621073,
          -0.19027891758372667,
          -2.118451218659178,
          0.986815999256062,
          6.887422035513234,
          1.7488592189414263,
          0.7683532986285488,
          0.50106728590325,
          1.2347227888457148,
          1.6663758422422466,
          0.3135356821715569,
          2.191258694998179,
          -10.102399044414419,
          -2.123449534986129,
          2.0498181432576907,
          -4.014742189864424,
          -4.521630569337748,
          0.8764084796589897,
          1.808160270353322,
          1.3558759487706378,
          1.4866693286620036,
          0.027027622192915764,
          -2.507452639602637,
          1.1575984102609134,
          1.6319452270646069,
          -11.203042712229175,
          1.667201509658663,
          -0.31893170592686776,
          0.8231852264787513,
          3.5491753835221993,
          -1.9743646161792014,
          0.3603402039369507,
          0.6175522998137073,
          0.7353356603326657,
          0.09559895232121528,
          -0.43291674293689525,
          0.7948696278334283,
          -0.15249383875089348,
          -1.8352362604238024,
          10.305285332803802,
          1.8053268536161968,
          1.2314709680981961,
          1.755902527340426,
          1.4731158483769355,
          -0.5147271512569361,
          -6.916209719958013
         ]
        },
        {
         "line": {
          "color": "red",
          "width": 2
         },
         "mode": "lines+text",
         "showlegend": false,
         "text": [
          null,
          "CD320"
         ],
         "type": "scatter",
         "visible": false,
         "x": [
          0,
          7.033747893292709
         ],
         "y": [
          0,
          1.9515310887803137
         ]
        },
        {
         "line": {
          "color": "red",
          "width": 2
         },
         "mode": "lines+text",
         "showlegend": false,
         "text": [
          null,
          "ECD"
         ],
         "type": "scatter",
         "visible": false,
         "x": [
          0,
          6.554318159541345
         ],
         "y": [
          0,
          0.8988636604836359
         ]
        },
        {
         "line": {
          "color": "red",
          "width": 2
         },
         "mode": "lines+text",
         "showlegend": false,
         "text": [
          null,
          "DHX29"
         ],
         "type": "scatter",
         "visible": false,
         "x": [
          0,
          6.086366316497852
         ],
         "y": [
          0,
          3.6855443625730238
         ]
        },
        {
         "line": {
          "color": "red",
          "width": 2
         },
         "mode": "lines+text",
         "showlegend": false,
         "text": [
          null,
          "AMDHD2"
         ],
         "type": "scatter",
         "visible": false,
         "x": [
          0,
          7.053955087122362
         ],
         "y": [
          0,
          -0.6739028677793796
         ]
        },
        {
         "line": {
          "color": "red",
          "width": 2
         },
         "mode": "lines+text",
         "showlegend": false,
         "text": [
          null,
          "EPN2"
         ],
         "type": "scatter",
         "visible": false,
         "x": [
          0,
          7.299227717541857
         ],
         "y": [
          0,
          2.639118758176119
         ]
        },
        {
         "line": {
          "color": "red",
          "width": 2
         },
         "mode": "lines+text",
         "showlegend": false,
         "text": [
          null,
          "ITGAE"
         ],
         "type": "scatter",
         "visible": false,
         "x": [
          0,
          6.136320049484288
         ],
         "y": [
          0,
          -2.0606870308612883
         ]
        },
        {
         "line": {
          "color": "red",
          "width": 2
         },
         "mode": "lines+text",
         "showlegend": false,
         "text": [
          null,
          "TXNL4B"
         ],
         "type": "scatter",
         "visible": false,
         "x": [
          0,
          6.922346439284354
         ],
         "y": [
          0,
          3.0311724530221844
         ]
        },
        {
         "line": {
          "color": "red",
          "width": 2
         },
         "mode": "lines+text",
         "showlegend": false,
         "text": [
          null,
          "STAMBP"
         ],
         "type": "scatter",
         "visible": false,
         "x": [
          0,
          6.728247362668741
         ],
         "y": [
          0,
          2.067546211738947
         ]
        },
        {
         "line": {
          "color": "red",
          "width": 2
         },
         "mode": "lines+text",
         "showlegend": false,
         "text": [
          null,
          "CCP110"
         ],
         "type": "scatter",
         "visible": false,
         "x": [
          0,
          7.535793745389631
         ],
         "y": [
          0,
          2.839522488214482
         ]
        },
        {
         "line": {
          "color": "red",
          "width": 2
         },
         "mode": "lines+text",
         "showlegend": false,
         "text": [
          null,
          "INTS3"
         ],
         "type": "scatter",
         "visible": false,
         "x": [
          0,
          -5.2424655504489115
         ],
         "y": [
          0,
          3.4103307689310682
         ]
        },
        {
         "marker": {
          "color": [
           0.9911572251061926,
           1,
           0.9763426956788256,
           0.3764199443247731,
           1,
           1,
           1,
           1,
           1,
           1,
           0.902433500861249,
           0.9965594255498296,
           1,
           0.8701642995293112,
           0.8118997621394186,
           0.9707202422048736,
           1,
           1,
           0.9026565042352812,
           0.9284214823333788,
           0.9283391773415052,
           0.8871788957014122,
           0.8735072210701182,
           0.7729527366351572,
           1,
           0.5907228459832805,
           1,
           1,
           1,
           1,
           1,
           0.9343329708348804,
           1,
           0.9058648643780084,
           0.9957237742923652,
           1,
           0.931707313971434,
           0.9551832161427256,
           1,
           1,
           1,
           1,
           1,
           1,
           1,
           0.9334119724860734,
           1,
           1,
           0.9682378335902452,
           0.391580169065613,
           0.91547659184532,
           1,
           0.0526205687951325,
           0.7097918107442335,
           0.6012445070831133,
           0.9954713079656806,
           1,
           0.925295646456794,
           0.9371302443754312,
           1,
           0.9632665734880318,
           0.9529222969005088,
           0.9342068642363196,
           0.4705060371530662,
           0.8575002016537739,
           0.8543599099145673,
           0.7713943872752447,
           0.8856281917213811,
           1,
           0.9764999816243652,
           0.9162615080987344,
           0.9249065938039877,
           0.9698195641669288,
           1,
           0.918939132250458,
           1,
           0.8764983911293238,
           0.9486347740201498,
           0.9945772345400858,
           0.91046308368916,
           1,
           0.9763693079735108,
           0.2761501590638442,
           0.9982688826883876,
           0.9807724594688424,
           1,
           0.8293461337787491,
           0.9900982219982036,
           0.9974582686724016,
           0.990816172069673,
           0.955115008396499,
           0.9870786107513476,
           0.9938913014643518,
           1,
           1,
           0.919269537116401,
           0.9271155081517242,
           1,
           1,
           1,
           0.3762892830406895,
           1,
           1,
           0.9463904673721824,
           0.9054336931248422,
           0.3693915502739749,
           0.9949511960594416,
           1,
           0.9662712264431316,
           0.7787090306804507,
           0.1918259918590977,
           0.9653816122625418,
           0.9395700347787058,
           0.9952816212766048,
           1,
           1,
           1,
           0.894731694861747,
           1,
           0.9455883958096952,
           1,
           1,
           0.9069873491633816,
           0.8831448654048591,
           0.2665513526674094,
           0.8542335395427392,
           1,
           1,
           0.9596922808567652,
           0.6151199063318602,
           0.9323570949246758,
           0.6570258183731501,
           0.1070177702747052,
           1,
           1,
           1,
           1,
           1,
           1,
           0.8069655848937446,
           1,
           0.984180471933336,
           0.9885687547090676,
           0.5956069420894501,
           0.1731298951338346,
           0.7916014360909273,
           1,
           0.9900742358083144,
           1,
           0.965136376525251,
           0.9601171222698764,
           1,
           1,
           0.649932914649567,
           0.9447120611112292,
           1,
           0.8114940031594375,
           0.478572437916353,
           1,
           0.0152860642407448,
           0.2721578241972284,
           1,
           0.4669368740402836,
           0.914880068550586,
           0.9918828890589848,
           0.9535617867886126,
           0.9195722871437332,
           0.9152889092573472,
           1,
           1,
           0.9728891671704378,
           0.5620782798737056,
           0.9538391773920766,
           1,
           0.9906856128348271,
           0.7168576691068649,
           1,
           0.9393729240101346,
           1,
           0.9815149873627168,
           0.0503888221703299,
           1,
           0.9375063580247344,
           1,
           1,
           0.0599706222801095,
           1,
           0.8062214758109016,
           0.3557055302340094,
           0.8897957386515137,
           0.5740832308142804,
           0.9212151627512338,
           0.9470433581314808,
           0.9380667240833974,
           1,
           0.6078416259233785,
           1,
           0.9787666679656272,
           0.9495539263277896,
           0.9573365017673474,
           1,
           1,
           1,
           0.711475112928782,
           0.5696368977165406,
           0.9604150577841696,
           0.926723030041402,
           0.9523162501502024,
           0.9406002856274,
           0.7505498974222241,
           1,
           0.8405203195182673,
           1,
           0.9513467966906042,
           0.9220446852173314,
           0.9996751998710034,
           0.1199571245942936,
           0.9793414298594464,
           0.9320453618719834,
           1,
           0.158064988933863,
           0.2535515727493794,
           1,
           1,
           0.4511429202478141,
           1,
           1,
           1,
           0.8209703873836756,
           1,
           0.9735785935526384,
           0.9418717758940276,
           0.9601924197871944,
           1,
           0.9850472954389252,
           0.8613782872559135,
           1,
           0.7944856661191995,
           0.2932031523194223,
           0.7405041335865249,
           0.72011228042129,
           1,
           1,
           0.4877889571279723,
           0.661861634444495,
           0.9610743493480838,
           0.3758719337158476,
           0.9188686210718744,
           0.367842580288183,
           0.9288787802362044,
           0.9754562803389174,
           1,
           0.023906921965213,
           0.8903733804781554,
           0.9739195666739184,
           0.9772599673108976,
           0.9768596094005908,
           0.8283377246601852,
           1,
           1,
           0.2738408031138887,
           1,
           1,
           0.8910230602855607,
           1,
           1,
           0.9647354047182706,
           0.824686143930963,
           0.9503648340116424,
           0.999966880707852,
           0.9358206399747514,
           0.9707268783684596,
           0.9359710299034448,
           1,
           0.4309827742617397,
           0.9967576260948952,
           0.0487627588714312,
           1,
           1,
           1,
           1,
           0.9468238970287476,
           0.1161131165695418,
           0.9675055898027904,
           0.9735155061414184,
           0.7783562638803598,
           0.3434597516997231,
           0.877366236667675,
           1,
           0.6489554394326076,
           1,
           0.9402014420684668,
           0.2095273275505995,
           0.9876472450362588,
           1,
           1,
           1,
           0.9975958335060664,
           0.379015753513757,
           0.929328079161321,
           1,
           0.8833462256153723,
           0.967297971162952,
           0.980934586892628,
           1,
           0.9397260494167792,
           1,
           0.070903890672331,
           0.2628111581600572,
           0.9757178528524676,
           0.9747734981121514,
           1,
           0.932357094955524,
           0.9283391773415052,
           1,
           1,
           0.5872187038694257,
           1,
           0.9348097811635542,
           1,
           0.8916196394672546,
           0.8794579160942018,
           0.8133069902942225,
           1,
           1,
           0.9217370292638932,
           0.9674984659396316,
           1,
           1,
           0.7633335157390769,
           1,
           0.3942298160689444,
           1,
           1,
           0.3157111118475092,
           0.5365158351286876,
           1,
           0.0635652038392036,
           1,
           0.5742383697494073,
           0.9423979549284448,
           1,
           0.9612520472190712,
           0.8723021843073692,
           0.6622360500453851,
           1,
           0.8208327671208264,
           1,
           1,
           1,
           1,
           0.5146315941854094,
           0.9704895393268648,
           0.9953487065671938,
           1,
           0.9472498633421264,
           1,
           1,
           0.9829291278571074,
           0.803530830465743,
           0.9744326286328958,
           0.8720001904995517,
           1,
           1,
           0.0761293279984815,
           0.9482480466162256,
           0.9892016535883472,
           0.9179741863426748,
           0.9985031971596298,
           1,
           1,
           0.9950639410574365,
           0.918651909738338,
           0.6627823441491636,
           1,
           0.7389639858394237,
           1,
           0.731073835746276,
           1,
           1,
           0.9383579235659142,
           0.9638386966726684,
           0.966382588382872,
           0.2692714245608444,
           1,
           0.954070453255631,
           1,
           0.8957791469591516,
           1,
           0.9175440289998908,
           1,
           0.4790080375492733,
           0.995527294013827,
           0.4165109334432695,
           0.7942726403516477,
           1,
           1,
           0.9809888144922416,
           1,
           0.976784514398834,
           0.7610653458706871,
           1,
           1,
           0.9023230255106583,
           1,
           1,
           1,
           0.5180904956584214,
           0.7145595194385416,
           0.9835591942084604,
           1,
           0.0778862261719908,
           1,
           1,
           0.940914698854984,
           1,
           0.6824314128454019,
           1,
           1,
           0.8798611043995752,
           1,
           1,
           1,
           1,
           0.8910230602859409,
           0.9545931144627644,
           1,
           1,
           0.9853028081943092,
           1,
           1,
           1,
           0.9973973738120084,
           0.9132935337251222,
           0.9718051383697957,
           0.2750531970853354,
           1,
           0.2415563690734038,
           1,
           0.895174840694579,
           0.345566007964002,
           1,
           1,
           1,
           1,
           1,
           0.9835248925161324,
           1,
           0.9563351279311206,
           0.9977848097067116,
           0.7399688765081351,
           1,
           0.7464306832261809,
           0.5867420633096035,
           0.0776927121907793,
           0.4242013790155854,
           0.9603994405852344,
           0.5438016783954467,
           1,
           1,
           1,
           1,
           1,
           1,
           1,
           1,
           0.3324925360846205,
           1,
           1,
           0.6062003935583636,
           0.9857025148607724,
           0.9727876329616748,
           0.9869775165007644,
           1,
           0.9945121891968756,
           1,
           0.4984048189337594,
           0.9912625944537408,
           1,
           0.4576526336455476,
           0.8328824913753605,
           1,
           0.950291137132356,
           1,
           0.4353201267833341,
           0.936675424659343,
           1,
           0.9313697794909592,
           1,
           1,
           1,
           0.1915402339724938,
           0.6809551461267556,
           0.9622844078664632,
           1,
           0.967292872643148,
           1,
           0.5931762439107249,
           0.8977157544829311,
           0.4696725689253001
          ],
          "colorbar": {
           "title": {
            "text": "Viability"
           }
          },
          "colorscale": [
           [
            0,
            "#440154"
           ],
           [
            0.1111111111111111,
            "#482878"
           ],
           [
            0.2222222222222222,
            "#3e4989"
           ],
           [
            0.3333333333333333,
            "#31688e"
           ],
           [
            0.4444444444444444,
            "#26828e"
           ],
           [
            0.5555555555555556,
            "#1f9e89"
           ],
           [
            0.6666666666666666,
            "#35b779"
           ],
           [
            0.7777777777777778,
            "#6ece58"
           ],
           [
            0.8888888888888888,
            "#b5de2b"
           ],
           [
            1,
            "#fde725"
           ]
          ],
          "showscale": true,
          "size": 5
         },
         "mode": "markers",
         "name": "Data Points (3D)",
         "showlegend": false,
         "type": "scatter3d",
         "visible": true,
         "x": [
          -1.6191194343176158,
          -3.4330223719063513,
          -0.31460747355594026,
          19.85176585649023,
          -12.704185969463321,
          -4.334141303326039,
          4.353988827703033,
          -4.279404098310509,
          5.119816568538348,
          -2.41862268043298,
          -2.2356638457201465,
          -3.08974604136999,
          -2.531010194881971,
          -2.4502459067699136,
          -2.7711886785974116,
          -3.739197868532008,
          1.2890172389810475,
          -2.8293923168168043,
          -0.3919812387760588,
          5.428715564838464,
          -2.7780948120215454,
          -1.8675494168975204,
          -4.713401634760736,
          -3.250844750018353,
          -4.023231254815665,
          -0.6634170773392594,
          -0.0076918499393938446,
          26.78947760497992,
          0.538889060231223,
          3.745644109321397,
          -9.75273082027737,
          -0.2944159579837562,
          -10.955634091246575,
          -10.929519654730212,
          -2.074120795712231,
          -6.479888935963692,
          -4.524897224413589,
          -2.946189104016806,
          -6.345482105345237,
          3.1852398273916513,
          -4.714440280366462,
          -2.370109764684829,
          0.13304796323850204,
          7.429149194756833,
          -5.4724487645582816,
          -4.28065806205313,
          -12.09639198304301,
          -2.565384347635745,
          -7.843523833975606,
          -2.769467495979998,
          1.5733217820475038,
          -4.367601516774892,
          -1.8143365351169958,
          -2.572384967074021,
          11.64931187198348,
          2.6577482479737573,
          -11.407981524448836,
          0.23216423313034013,
          -3.936834507970126,
          3.6037379363511883,
          5.746647013856584,
          3.4611273784148886,
          8.102439040449426,
          -4.074551004582244,
          -2.851952154779424,
          -3.3172258237280072,
          -7.891063886484436,
          -2.8632983414743416,
          -15.805726276655244,
          -5.822212750198375,
          -6.258508793727594,
          -3.1508337143962417,
          -2.2355872699197232,
          1.892396657872861,
          -2.3034891723087108,
          6.997751275015902,
          -2.609895495153028,
          -4.4051566066791965,
          -1.8613231960096903,
          -2.1327172157825167,
          5.189401059416617,
          -15.311558300855685,
          -1.3567024002809174,
          -12.309302758017106,
          -16.73618095514268,
          -3.706718988598941,
          -5.582563761762194,
          -3.212867529486898,
          0.5470044371846887,
          -3.0893785017259066,
          -5.684262533262251,
          -0.450353024365875,
          -4.944866182668585,
          1.6032664818585987,
          -4.471580716602631,
          -2.4585196764746513,
          -8.486974865412533,
          35.4119591060475,
          -2.2276810902661217,
          23.34996995494795,
          6.899509724771282,
          -0.6618727642871397,
          -3.483027207791667,
          -3.8189989611808364,
          0.6402300446799011,
          11.732648670533168,
          -2.1858401054460015,
          2.150457609759279,
          5.010383659460019,
          2.510147821632253,
          17.704799997276346,
          -6.744793928713721,
          0.8567212816451893,
          -3.2953028424003867,
          -9.718522466828652,
          8.214613683957943,
          4.719355515209589,
          0.2778387903849188,
          -2.3223215522922147,
          0.01975702797488558,
          0.011482868972844298,
          -6.631279981729488,
          -3.245416410458577,
          -2.7517912494765353,
          20.334761283629927,
          -3.0744512833832873,
          0.4254231713490638,
          -16.266678866951633,
          -3.451953286075621,
          -1.5755275660048562,
          -4.620274300555705,
          2.029188287223346,
          6.974113877377715,
          12.631743332033851,
          2.092850119069034,
          20.335816497516713,
          0.9644946163874273,
          -2.1378389516091096,
          4.514837582315906,
          -1.7737371111789784,
          0.8907813531651274,
          6.896964637580398,
          -6.767808507354656,
          21.90655396542922,
          26.075470781694868,
          -0.057929749482179986,
          -3.477522912180284,
          -5.786542545739448,
          -8.240970751435682,
          -2.4909164322771034,
          -2.1619637513840897,
          -1.6833436952018124,
          -7.542039447453983,
          29.351320891941636,
          -1.967107548309662,
          -2.828941995175749,
          -2.3925054250287103,
          4.4055391330152975,
          -0.6808026290216955,
          16.56243058940302,
          -1.6682576859289702,
          -2.3945370621753206,
          -1.5304134190263898,
          -3.7755851230754227,
          -1.5206075274586512,
          18.52580548603728,
          -2.1034442093506005,
          -2.50264765888188,
          -2.1498919272612174,
          9.24074210641667,
          -3.0951018613413614,
          5.299149546435083,
          -4.696293901565385,
          -1.1987936884565267,
          -9.867618332834768,
          13.929983026403907,
          0.4334904896743989,
          -3.94239158440123,
          0.830584115623311,
          0.41930395574245444,
          7.379101427731215,
          -6.395561301673828,
          -22.62294187638471,
          1.610926623741776,
          -4.8832929834950844,
          17.90161494582831,
          -2.076679892676374,
          -1.8903219907561457,
          -0.2815189670095532,
          -2.93941684794423,
          -2.4195923145575753,
          -1.9667310924375363,
          -2.0359337635797243,
          -8.582662259849958,
          15.51146514687862,
          7.675389707824141,
          19.251783663765185,
          -1.6888676566083969,
          -2.4133033659392638,
          -3.124431133258983,
          0.3409859955223359,
          -0.12313919782811904,
          -1.5770489876442781,
          0.31571334907615833,
          9.716952580064051,
          -2.5706416572771063,
          20.749701239366253,
          10.58414149345257,
          -2.858396976855329,
          -3.7438564145300486,
          -1.9632740894260863,
          0.4013379115979807,
          0.12815951484533744,
          -18.65605658700801,
          0.0032384091117290564,
          -5.242712922509742,
          11.241783834796333,
          7.959101828863014,
          -6.706566885743996,
          -1.8263287826236387,
          22.419773515812512,
          9.653977687207323,
          -2.673015108528816,
          5.001825104705934,
          -2.9375609047369085,
          -2.071044401167171,
          -1.216482620129234,
          -2.6756477276774246,
          -2.6099006007687953,
          -8.99023718790704,
          -5.021742755088377,
          -10.203468777193518,
          -5.429672787575241,
          -6.360869370286828,
          -1.6767871400888839,
          -2.107680061529186,
          -2.58837317793314,
          3.1004925541047585,
          9.598463689999644,
          -7.103155455001993,
          -2.2466400046429573,
          1.0876857921826937,
          7.681246591684294,
          7.3995081264220675,
          -4.781625935123672,
          10.292558788647185,
          5.263599158020681,
          -2.8090880993652645,
          28.463308384810077,
          0.2696827837224455,
          -2.15103466021084,
          -10.449074087076042,
          3.2588197994247836,
          -9.500050708141123,
          -9.443856344598995,
          -0.8171158167701781,
          -10.569751165206617,
          -0.8303597938813159,
          -4.297899170775348,
          -7.301856886102331,
          11.461417033077229,
          -5.542521529931435,
          0.4773889836469393,
          -2.3168576690189457,
          -11.487043129306016,
          -2.6578550294923,
          -2.8248598449189863,
          -11.879085359117807,
          -1.32517473253052,
          -1.5684975265403156,
          -3.581364758217336,
          -4.888326824690292,
          -2.181913267865349,
          -4.893342907979094,
          23.266762813048246,
          -5.1412432032034525,
          7.422590981112007,
          -5.230752075888315,
          -0.25446811031338135,
          4.317137244463731,
          -2.3522243835909658,
          -21.184972080020046,
          3.3170694097626923,
          -1.7845413432284611,
          -6.339857677164955,
          -8.134201680887562,
          9.868839591698148,
          19.36434236996145,
          -2.6264319303759556,
          1.8883842687906198,
          3.8067793689603753,
          -9.841699911219868,
          4.276117603527768,
          -1.876987117456729,
          3.7958657634751782,
          2.433485748811365,
          -3.0090396739892347,
          -1.0865318704727245,
          0.9925629512697777,
          -19.949358020321377,
          -4.060294655110595,
          -3.8759557115539423,
          -5.810402936691759,
          -11.023657620428047,
          -4.792422757425129,
          -3.8405434438382775,
          -2.1258262384831332,
          6.677947554038268,
          1.5263783666414008,
          -6.471168941113249,
          -1.0393015796292873,
          0.5822453008945532,
          -5.221007913266505,
          1.1651119900877236,
          -4.527525919766307,
          12.551884652435762,
          -1.7617236482067085,
          21.837981684547213,
          -3.589326417758429,
          -1.7585067622707087,
          -2.997741462252417,
          -6.22197011268004,
          -3.393230642936681,
          -4.4868782206350595,
          -1.6665026659478934,
          -0.13403871049395177,
          32.402205321244615,
          -13.041114102297962,
          -1.687346065590464,
          -6.49293766175575,
          -12.965115491500264,
          0.29980378988278966,
          -3.3177086891827328,
          -1.7569565971482988,
          -9.1453955625806,
          -0.9994972550684399,
          -1.4124701550049494,
          32.93500122687517,
          24.553292074038758,
          -10.61563118158003,
          39.660716293305185,
          -2.160740483963507,
          -2.0880708651844495,
          4.50212574621074,
          -3.277976016751953,
          -1.7487079424557523,
          -6.402359016896241,
          -5.18539046885293,
          -2.1924922918675427,
          -2.6812324906842733,
          -1.59541946811089,
          -3.5883744114586436,
          3.384215227174853,
          -1.2093095939542025,
          -5.9315621859885015,
          -8.901800372176982,
          -1.5231934306021109,
          -3.805602539845471,
          -1.57570419246632,
          16.102468074602832,
          -2.5835748752467005,
          -2.8255927029382013,
          4.501740468213929,
          -1.0793999847543578,
          1.6824565373501321,
          29.37720432603814,
          5.637043035506053,
          1.8391934383007995,
          12.667005587321315,
          -1.8922655734248102,
          -3.5022234191216097,
          -2.45560875988733,
          0.0769847106336404,
          1.6497388240434077,
          -1.974156375447791,
          0.9478713456157186,
          -2.676889104042728,
          -8.635872586878314,
          -2.296637609325587,
          -0.6259872028971816,
          -3.2623385732530035,
          -1.44134161814927,
          -1.8978489920127415,
          22.771210116144413,
          -1.4029512623318408,
          0.7128494474731026,
          -4.716807969437108,
          -1.8191736540923584,
          -3.0210904927618643,
          -9.436086797909285,
          -3.483752335011384,
          -0.5452531500126315,
          11.694743861000452,
          -2.4127956686557415,
          18.778443870128147,
          -4.669711247984987,
          7.090821463761574,
          -0.39840615531853335,
          5.673985541953806,
          -3.653116588339455,
          -1.692090389072839,
          2.533333689484465,
          -3.2865749638714354,
          3.938494435293324,
          -5.098956368351689,
          -1.9940800056513976,
          -1.8040960145790526,
          -5.986396878004156,
          -20.557514655196425,
          -2.2068790767542774,
          1.5350346865237123,
          -7.633099353992887,
          -3.068963658477214,
          4.349256947728517,
          -6.040690783669207,
          -1.3246280795160832,
          20.29779031821597,
          0.023682201644252623,
          -0.9031305029611869,
          27.65671771896071,
          -3.3488942169557223,
          -2.9900583622052697,
          4.181893042119487,
          -4.649794180093828,
          -6.022172609556688,
          -0.9242229815497163,
          1.4264813524188822,
          -7.1128120541976285,
          -3.3960694422055573,
          -3.1178994101673188,
          -5.073206802227248,
          -5.97128671033248,
          -0.054466918804616384,
          -8.857855800804442,
          11.831762454671903,
          34.16073261755346,
          -1.4835987777409814,
          -4.8475375341546325,
          -3.386390627196237,
          12.56966231813317,
          -1.5565330214927204,
          -9.345628718418668,
          -4.841961754284198,
          -3.4286056100194964,
          -1.2859733608716817,
          13.292015118026528,
          -13.222308276231855,
          1.7148055560251354,
          -0.2907438301142811,
          -2.302560756667395,
          18.079063605314253,
          3.0519274568699086,
          -3.172397791926031,
          3.4317730855884183,
          14.965499357619034,
          -2.088495974939196,
          8.20383249029149,
          -6.101037483937248,
          12.341945621070366,
          -1.5980203616150734,
          -2.6685397127630575,
          -1.1412385947649109,
          -3.8260116974124445,
          -2.2739815654063165,
          -6.307860475412541,
          -1.5564507042558573,
          4.655688370128418,
          -14.567170152856413,
          -1.3729899823346934,
          5.073069318706242,
          -0.5839584002737163,
          -3.6210610446813294,
          -19.04941248936276,
          -4.763384816242239,
          -3.712356503711766,
          -3.465707548537978,
          6.603729159835199,
          -1.2321463316912515,
          -3.6304013827893913,
          4.160842341792869,
          -2.1215081287830833,
          -3.326604219702023,
          -2.7780578772968307,
          6.6140749442932005,
          1.1250937961596146,
          -1.025270474928734,
          -1.7366734002124515,
          -15.306307402619712,
          -1.8017991018237265,
          -3.852945923991602,
          -2.330899878215379,
          11.08919583452519,
          -1.125358890273212,
          13.237509595446475,
          -1.5609061190932345,
          -1.886009407005042,
          -0.8159881911929859,
          21.379240576569998,
          -3.2328398423807587,
          32.35958048925741
         ],
         "y": [
          -2.1308682501075786,
          0.2830264425458971,
          2.6875166680335005,
          -7.7823444359775,
          -4.690731584941122,
          0.34833381615460646,
          5.326969649508824,
          0.8068525605448112,
          1.9746984570660358,
          -0.013479955469554427,
          -0.9902573075508944,
          0.3374699983454271,
          -0.42950125972767694,
          0.7613865577324148,
          3.1608777904992262,
          -0.014603811687379608,
          -1.8196958603216917,
          2.9920233862789813,
          1.610383915515658,
          -12.801784889821676,
          -0.8298589011675399,
          3.0653851525557196,
          -0.5578777086274789,
          -2.7434226343172075,
          -0.2733248206608978,
          -0.478742262576963,
          -1.4665192324065262,
          7.253050331629098,
          1.500939316958527,
          1.8615383398675323,
          -1.8563098570764156,
          6.659211271299256,
          -2.085142765129034,
          2.507958301079375,
          0.527006278596315,
          2.412463480847473,
          2.360979107429635,
          2.654372337389176,
          -0.9780209557672224,
          0.09168935955690474,
          1.5065357113142692,
          0.3907867593372951,
          3.5514425835526002,
          -11.063896685287741,
          1.2245046363659893,
          -0.32388942159573686,
          1.1140999230898243,
          1.1666270409920392,
          1.6803025369784552,
          0.6363537452873183,
          0.8807910021364339,
          -1.3546157468717137,
          0.9743399922136264,
          -0.06022420298982185,
          3.022809855591365,
          -2.707315362563265,
          -0.6154303769437077,
          -0.1551151807215698,
          1.3090490200680405,
          1.645018239453926,
          5.528457131390391,
          -3.8005620019241304,
          -4.338139982197546,
          1.7081216083096524,
          -1.076848384906694,
          -1.3207133572485463,
          -2.3153917105260975,
          0.3035084800435561,
          -2.3649903887872754,
          -0.20260679522762212,
          -1.0930505519080664,
          -1.2598109505683426,
          -0.5480453744683691,
          1.4716445389071404,
          -2.348661945969615,
          3.8861864345211217,
          2.425987230903081,
          0.1559764094140043,
          0.40138583044958637,
          -0.1965057295010922,
          -0.8197063819658543,
          1.3099995553160402,
          2.2927806495358602,
          -1.2061684013811804,
          -4.724154359906626,
          0.914644725626434,
          1.0405702469518263,
          1.924725076584407,
          2.9948433529230654,
          -0.11113063989149126,
          0.7827526999535246,
          2.5015770763455523,
          0.8133367035294223,
          -5.123500757066178,
          0.7713390751622262,
          0.2892358413733862,
          -1.5827571290152085,
          -2.553002949539506,
          0.13846854454048663,
          4.157508536443012,
          -0.32715712050306645,
          0.8250882563591637,
          0.6979381448467362,
          0.5056530621801174,
          -0.5816986662142886,
          -0.4846022669429735,
          0.37542041111484653,
          2.058351764798783,
          -1.165116078191608,
          4.904608670025459,
          -2.165142468137213,
          -2.3549892918758424,
          3.138772994555662,
          1.186835657897883,
          -0.07118676386603409,
          7.212986180689367,
          -4.0699508736715035,
          0.47761933581663407,
          0.10649625942284098,
          2.0165511353740864,
          0.43412749495579883,
          1.31395140445157,
          1.5301371832713013,
          2.8449589449470554,
          -6.675848370792254,
          -0.2445276026365802,
          1.4185018047769993,
          -3.8032786367988693,
          -0.4341314291914484,
          -0.21035170544199977,
          1.4579798289618977,
          0.1992458031772045,
          -8.025807996998202,
          7.90644317889007,
          3.4094743195121158,
          6.6927220766819975,
          2.35083689150228,
          1.8189498716995596,
          2.6139052083161296,
          -0.04640954542736517,
          1.4501432006978225,
          1.4120616267000685,
          0.34611519491257525,
          -13.575366776657258,
          -0.5878868947422635,
          -0.16757370584184167,
          0.29849614643246924,
          -0.525405798270913,
          -2.75476681291821,
          1.495939232817799,
          0.8476682530270923,
          2.697061343009354,
          0.506350191202195,
          2.650585904425997,
          -0.049077580096845014,
          1.01707262957585,
          2.276409853589561,
          -2.6752403283783277,
          0.7884684272784862,
          -13.104772723097378,
          0.8412080504628514,
          0.622279584518493,
          -8.1653060762126,
          -1.113588985739594,
          2.9126921194258286,
          7.278250229961079,
          0.6696760510920011,
          0.8395802999348628,
          2.061528722060671,
          3.87539230086097,
          1.195675167013605,
          -15.702982925429325,
          0.20216686410494472,
          1.1159149673604498,
          0.36187293882314814,
          5.186395469990216,
          0.7696804523703366,
          1.9524643743195107,
          2.0401547802519406,
          2.0476685681319777,
          -11.635727334722686,
          -0.38573469942375826,
          1.8862270226590763,
          0.6939253676789385,
          3.3779980149370537,
          0.047116223999108454,
          1.3047415966142981,
          2.1759101689833216,
          -6.973747299527479,
          1.4343649248328394,
          0.5871540676173598,
          0.7929376583346424,
          1.0870958709647351,
          0.9203971525391937,
          -8.176524032317593,
          -2.3693388911281468,
          6.753296706706861,
          1.0476375198882506,
          0.13273668563895116,
          0.8189083886355103,
          1.4259118606159429,
          4.358369805577288,
          -0.07349155967331049,
          -6.001278188350483,
          -10.835018340962536,
          1.2678327089345227,
          -4.000336338688797,
          5.687426062971046,
          1.0586662094583128,
          -3.8346940137703736,
          0.737224580958235,
          1.3050006082532015,
          1.3671703716663008,
          -3.2558034881275466,
          2.199299484297177,
          -0.12752811350839321,
          -2.598320825615142,
          1.487637191609397,
          -0.12209416730528518,
          0.8591887820752139,
          -2.0700023629846704,
          -7.509299108762704,
          0.1741952245150052,
          3.716635717420259,
          1.0927701000650398,
          0.9577873780019032,
          1.1977784187563671,
          -0.526690857817742,
          0.6443246491792469,
          -0.5990192576975083,
          -0.06525006172763027,
          -12.75939114878339,
          0.834945081983624,
          0.7172074729600031,
          0.11409884540999887,
          -0.7161278789662411,
          0.7167766346105832,
          -17.701050070334002,
          -2.2434471192025085,
          -2.8398992854919447,
          0.34273689926158346,
          1.5176329469210201,
          5.06004117347014,
          -5.23982462076638,
          -0.014793419095807338,
          0.7391808788290778,
          1.8959576250844343,
          1.083298000739174,
          -3.0369284780414705,
          -0.6132842751855693,
          1.5833394748890595,
          1.6366926427775155,
          -4.343479295349087,
          -1.933532552218159,
          -0.8302221737900074,
          1.1530971941834787,
          -0.2164729412800579,
          -3.471236492338051,
          0.5845132352076116,
          -0.24986132588418541,
          -9.407031855994498,
          0.6536462859132026,
          1.3922644478611923,
          0.32265879676848275,
          -2.0487808375872665,
          -0.1828197851235345,
          2.4482919456300425,
          -1.6426116250889427,
          1.271343192363668,
          1.6861748815078028,
          4.48725490985965,
          0.6224473415632408,
          1.1673919198559792,
          0.35345869414725,
          -4.713111801091004,
          2.653722507205753,
          -4.134514966053094,
          -1.4200395024976482,
          -0.4741109468826491,
          4.737575946431323,
          0.6034719611245845,
          -2.3725742614113394,
          2.8939525587958417,
          0.2967425486786234,
          -3.160605090694216,
          -0.3020377484251965,
          -13.569065446785359,
          5.936647737143433,
          1.891329580025741,
          0.9162510133533687,
          0.3261413369789555,
          -1.022190862571251,
          -10.918998858467937,
          0.44932421628407776,
          4.571708941161445,
          2.514486857878156,
          0.6954381942988664,
          3.30230331248962,
          -5.376444615589216,
          -4.775279234690926,
          0.050323120459781184,
          2.2602008895801236,
          0.5056951586230536,
          -5.275637892711842,
          3.06847840557797,
          -0.5084101739953952,
          1.5680988995233067,
          -19.029146595527372,
          -0.6183219540825273,
          -6.13414211950782,
          1.6763547002071817,
          1.502687837470914,
          -0.09036391577090334,
          1.6543826023719634,
          1.525364425930743,
          5.5882032830495865,
          1.0034902490716808,
          -0.7234877942942414,
          -0.07379344828357012,
          0.16187502307922833,
          -0.12167506305094905,
          0.7459949110291237,
          -0.32155578800272794,
          1.0547705316352163,
          0.9012876612255749,
          2.1672400349440304,
          4.974477193484066,
          -0.762162793142281,
          0.46545458501218384,
          2.203193181639057,
          -3.3487645912596746,
          1.6679782441300437,
          1.0054986113983486,
          0.6518566868022941,
          4.233753921033557,
          -1.4451574901647024,
          0.4805776136075573,
          3.316105676660243,
          -3.280188493694826,
          1.558052416865247,
          1.4078297424753647,
          0.6737832456851561,
          0.6395003733711808,
          -0.7094178944943641,
          0.5250952194600051,
          0.6478889319148277,
          -0.08885690364974254,
          -2.7130837678605633,
          -0.4037707133183531,
          1.282709401471013,
          0.09390726006628777,
          -3.1027886362520802,
          5.064370816131499,
          -0.011823704073630233,
          -0.3490356856201744,
          -1.7564271392839035,
          0.1253465477961697,
          -0.2927003826760389,
          1.2725214985363371,
          1.600233051970012,
          1.3481804525686218,
          -3.574788537002402,
          5.5529309178054795,
          0.3846813715429178,
          -0.883501902048298,
          6.43062350540059,
          2.2931163368809817,
          2.9614299005629796,
          3.1378518493872978,
          -1.1043347175553369,
          -1.2575800890873852,
          1.1330080746451543,
          -1.30248913992944,
          -6.91337932416593,
          0.5759498498324443,
          -0.24647447740359124,
          0.8473905700934277,
          -3.9372906702137263,
          1.4297206473848245,
          -5.863785370991493,
          0.49313735429037914,
          -1.2871014181854792,
          -2.9337825569158467,
          2.423365666142083,
          1.4665530792913892,
          2.873372659851965,
          0.8254294446129165,
          0.24240352855927355,
          0.7312383675115843,
          -0.5126740644571811,
          1.1686568572256941,
          0.46767513662599436,
          5.218137280964374,
          2.5264772892309635,
          6.646209789342843,
          2.5038405917692015,
          2.230855423041775,
          -0.14240236043451876,
          0.7489882106386743,
          0.8352551153884301,
          0.7074781823851987,
          4.258042294714767,
          1.1554983806637278,
          -1.0268956286702748,
          1.1844162799681492,
          0.47464754829966455,
          0.9397002168200019,
          3.833160503230812,
          -1.0698361587818854,
          0.9601352453228748,
          -0.5041306418407421,
          -8.566940887006462,
          -0.702968435792551,
          6.649673084190718,
          1.289428792059419,
          2.8255540293742425,
          -0.9276983723389847,
          1.096004602419424,
          0.8491188508763982,
          -4.109123194299161,
          -5.285792232265867,
          1.540857818050397,
          2.2362846149313356,
          0.035140618099640884,
          0.7613063235771317,
          -0.8669962246010299,
          2.055247391724683,
          1.5684701238540617,
          1.4594922291924464,
          -1.1032446209128017,
          3.5906154758688387,
          0.28652062617581686,
          0.4520728635486727,
          -0.9398942304956754,
          4.7939828664380375,
          -3.7569445049364827,
          0.6746007370481061,
          -11.797474794673567,
          1.7265401939154428,
          -12.31648255154353,
          1.918332668004324,
          -0.7422937440882139,
          1.5980647643767785,
          1.123369277149745,
          0.47076496501494275,
          4.175491170409949,
          -2.5996450694581443,
          1.706992264751375,
          0.7285073411926851,
          -0.39372752785275245,
          4.115717287293551,
          4.570047978503852,
          -2.479406524159497,
          0.4628499202387222,
          -0.7123734059621073,
          -0.19027891758372667,
          -2.118451218659178,
          0.986815999256062,
          6.887422035513234,
          1.7488592189414263,
          0.7683532986285488,
          0.50106728590325,
          1.2347227888457148,
          1.6663758422422466,
          0.3135356821715569,
          2.191258694998179,
          -10.102399044414419,
          -2.123449534986129,
          2.0498181432576907,
          -4.014742189864424,
          -4.521630569337748,
          0.8764084796589897,
          1.808160270353322,
          1.3558759487706378,
          1.4866693286620036,
          0.027027622192915764,
          -2.507452639602637,
          1.1575984102609134,
          1.6319452270646069,
          -11.203042712229175,
          1.667201509658663,
          -0.31893170592686776,
          0.8231852264787513,
          3.5491753835221993,
          -1.9743646161792014,
          0.3603402039369507,
          0.6175522998137073,
          0.7353356603326657,
          0.09559895232121528,
          -0.43291674293689525,
          0.7948696278334283,
          -0.15249383875089348,
          -1.8352362604238024,
          10.305285332803802,
          1.8053268536161968,
          1.2314709680981961,
          1.755902527340426,
          1.4731158483769355,
          -0.5147271512569361,
          -6.916209719958013
         ],
         "z": [
          -0.5526861190058667,
          -0.9145402681778051,
          -1.3447269944386262,
          4.9722824443253755,
          -1.065452535774357,
          1.0442741484457023,
          2.0637749142371677,
          0.5927689066548074,
          3.5879458525226133,
          -0.7082775421511046,
          -0.4479464064269116,
          -1.2802389239746286,
          0.5047868777973517,
          1.3485812384234994,
          -2.4244062069479786,
          -1.7873748828145148,
          -3.260673295971018,
          0.9434427978431835,
          -1.362261117733656,
          -1.9567913437817632,
          -5.286156208996137,
          -0.49703691560767577,
          0.019453039142464143,
          0.9294936489125082,
          -0.3939934313325702,
          1.1564598243644093,
          -0.3239742988563823,
          -6.021794766336377,
          -1.3732225085290164,
          -4.270499852186336,
          1.1184000055397634,
          -6.053345781538787,
          2.051184929416914,
          0.12824713548426264,
          -2.2727922724709813,
          -0.505008029302277,
          0.5031185183501056,
          0.7325119693234509,
          0.13333275203813647,
          0.9878093441293498,
          3.2783289999066705,
          0.3530322994251832,
          -1.3953929748345346,
          -2.4554299334788086,
          1.2692431729478906,
          -0.4987840482400162,
          0.9799041935879965,
          2.1172595157400984,
          0.8578562984212758,
          -2.5549954692536136,
          -0.49771592195782216,
          1.3577715050870052,
          1.2180329715407703,
          -0.29571543150900337,
          -1.9073254857900144,
          -4.8362325091652085,
          1.3087972329309232,
          -1.8408485550724782,
          -0.371677705617414,
          1.5809855164800726,
          -4.322075998675867,
          -1.9670925153600414,
          1.2296662786057069,
          3.0401775933645534,
          -0.17775354447156408,
          -1.4102402787236474,
          0.3433950767683165,
          -1.2486506334258658,
          0.6222880437129993,
          -0.5933360763408152,
          -1.1067392114604835,
          -0.7238897471352939,
          -0.9853615357049762,
          -2.6386880410406093,
          -1.3786482708785446,
          -2.911600382929224,
          -0.05228187637770881,
          -0.5912422321638331,
          -0.05179376124506966,
          -0.17605080012430505,
          4.15515651299408,
          -2.8557675992440843,
          0.3117448672261189,
          -0.8224562235818265,
          -0.8832692948882047,
          2.040103151648397,
          -1.1914356862070425,
          1.2845470760738984,
          -1.935909438653605,
          1.4526980091226385,
          0.4686181006062927,
          1.6246762181114687,
          0.23182920092287473,
          -8.195545919599844,
          0.9297643139543766,
          -0.8902762572416293,
          0.7416814732680514,
          2.678505046920667,
          -0.15663444309206997,
          6.868547613719994,
          17.896820118882648,
          -1.693212320322758,
          -1.9596540366579165,
          -0.4452014543906905,
          1.5954059266660674,
          -2.0368403221864644,
          -1.0441486544513952,
          1.0595063798200084,
          -0.8758273368718859,
          0.5949199462747252,
          3.7635268365427352,
          -5.84013204814931,
          -0.9638260978540436,
          -0.06187497432204996,
          0.9221842751813498,
          2.3956869710254582,
          -4.617388079005393,
          -3.5475421237056297,
          -0.9303697871362336,
          -1.176180176031603,
          -0.6102667175491355,
          1.1856447808012827,
          1.5674899429859404,
          1.433666992692406,
          -0.5262120096131855,
          -0.34022404847682813,
          1.8905196977699805,
          -4.20023867593912,
          0.3126899088779852,
          -0.665136764460446,
          1.1210175556638282,
          0.5141611099904706,
          -1.5389310555361222,
          0.4433768250639158,
          3.092089914612624,
          -6.08719267273576,
          -2.556989147715982,
          -0.8723919124224054,
          2.3501993376304764,
          3.2888120467260786,
          -3.0681106483509564,
          -4.1013559401019455,
          1.386813708346792,
          10.611166405950726,
          -2.8557337053647265,
          -1.8814146562340412,
          0.37777175469609586,
          1.8727601507377285,
          5.83573751786568,
          1.5318944452351149,
          0.31297374328316957,
          -2.8767918433353667,
          1.1959553394711908,
          -4.097217801610294,
          -0.5724761287711712,
          -0.24744223394468828,
          -0.9786304862399701,
          -3.396241839751485,
          1.401107050331196,
          7.06680856005404,
          -1.22626321400124,
          -1.5853592872849998,
          -5.406182304565644,
          1.0763123284588674,
          0.7070694965451286,
          -3.6318667958974977,
          0.24202924655066493,
          1.2397063321725141,
          -0.35535835688096157,
          3.7401564680263824,
          -1.6221467504045302,
          -8.713830905214245,
          0.07505781697237443,
          -0.12704086635120448,
          4.874680076768963,
          2.8599550436150873,
          -1.3300998121414207,
          0.6233877747933706,
          -0.8356060477779688,
          -2.1032220059245894,
          3.9821744037369324,
          0.1891916850627535,
          8.808087458296475,
          -1.5393747343208406,
          0.4025934840283659,
          8.240862909583416,
          1.6734577165844875,
          0.6488274325451677,
          0.08391112094677217,
          0.6447779190513117,
          6.32928351189485,
          -0.5001220905645551,
          0.0334945342075311,
          0.22847934606732265,
          -0.3149311044566891,
          0.8454694810615588,
          -5.491136197046204,
          0.8173324990911988,
          -1.4088775294518872,
          -0.42571820263774274,
          -0.5694416198909606,
          6.546981121459133,
          -1.1709375914162734,
          1.8270790542269644,
          9.717887087244806,
          -0.03134450868310684,
          9.810535547958692,
          3.2989136645019523,
          -0.437650937894437,
          -0.34943126227928073,
          0.16990087309384583,
          4.5287286353759395,
          -0.04415063389883178,
          -1.6892338606433346,
          -0.48246733537554426,
          -1.1770599210971198,
          12.387159294515948,
          -3.7056699692968587,
          -0.6121460576376444,
          -0.2108873799814286,
          -10.233041902137035,
          -1.1864867806357122,
          0.6956559561629122,
          2.7433340410972105,
          -0.18583975706574,
          -1.1727548014186975,
          -0.05222844995587034,
          -1.397432275045391,
          -2.545400988223825,
          -2.914089322596753,
          -0.4078585527241572,
          4.809213139652547,
          0.4935242675237624,
          0.8901250961098225,
          -0.8441142215334902,
          -1.5399972674236864,
          1.0733875305865126,
          9.308483767994904,
          0.4157466964223861,
          0.1959531936524832,
          0.17517195252621082,
          -1.744674267896973,
          0.059407001838031055,
          -4.241217094519996,
          -1.268881879205169,
          3.6059530614538837,
          16.677759764364158,
          -0.33596761617584653,
          -4.545102813309651,
          -0.47842052074021296,
          0.11164498697878258,
          4.978182638751437,
          -14.183624500283141,
          -3.642981542010294,
          -2.1601058611009725,
          -0.6798510787582593,
          -2.0627455480822507,
          0.41347536123117046,
          -0.7801004546555562,
          -0.34933186895340756,
          -4.047502780449545,
          0.5589678821185304,
          -1.2107585692719232,
          -0.017136619716894067,
          -1.8140652976551852,
          0.4833889972960894,
          6.912711910017632,
          3.237835217913736,
          -0.8994313848509737,
          -2.023978749785634,
          1.0574295292075109,
          -0.3565341135083253,
          0.3953272215444537,
          -0.6768218084078815,
          -5.573172754755879,
          0.43571018118484267,
          11.343287199595343,
          -0.9484922890529958,
          -0.8487515027736627,
          -0.018153870318073223,
          -4.9122402712485345,
          5.573288739609627,
          0.058554495373441304,
          -0.10888793935518323,
          0.5532912860867357,
          -0.39099386504026745,
          -6.801151904041261,
          -0.9388814385213594,
          0.4162438134950805,
          -3.8029561594475836,
          0.32110684106108034,
          -3.210695120784242,
          -1.3004743693907528,
          -2.118776906687014,
          1.1651663228057558,
          -0.5550983934860241,
          1.331736655862171,
          -2.040561699555991,
          -1.8473724918204544,
          0.19248403903528044,
          -0.2957328615614364,
          -1.2051059392118908,
          -2.150915454420932,
          -0.36441787360511224,
          0.5291703677610725,
          1.2314054788729625,
          -1.522579577735168,
          7.124274276522986,
          0.030610347143109194,
          -0.37051519487718293,
          0.3950941768424715,
          2.7438167000002296,
          2.2906597649715255,
          -0.018409310021960768,
          -3.533992817082368,
          7.722258946499825,
          -2.755580235912491,
          1.7061126498466492,
          0.835152316045661,
          -0.5068127946280088,
          -0.43530908438632926,
          2.2234318447610044,
          5.138349791613843,
          -0.7591505878015393,
          -0.43599429115635846,
          1.9608931257948878,
          -0.9648419224652192,
          -0.16131414298384775,
          -0.6047468793121046,
          5.025503194761842,
          -2.496006086729188,
          2.011944460904158,
          1.8334279114316494,
          0.42760625252626394,
          5.9430399174260256,
          -0.026129215926585406,
          -0.2748308633094596,
          2.793714061004823,
          3.00275506465654,
          -2.9547586183417094,
          -5.5022519708682145,
          -0.22531983782989398,
          -0.2567094341900255,
          0.4726907208751936,
          -0.15530179122060905,
          -0.7890966207726768,
          -0.31643681640624843,
          -5.089774826904536,
          0.0652905400367594,
          -0.20282404776072033,
          -3.5347029699055748,
          -0.3147134772710858,
          -0.5928990184485168,
          -0.8723644805602401,
          2.2840246320933764,
          -2.5982292307170316,
          -0.8523023602794109,
          2.018431070392155,
          -1.3262720707035565,
          -5.857523058150288,
          2.983934133255505,
          -0.043500692970101014,
          3.602882918071588,
          0.3245673365050432,
          1.9115980881156827,
          8.805385415401979,
          6.658647687792454,
          1.5168550058979882,
          -6.186820799846132,
          0.6486364505698772,
          0.8847909254312669,
          2.631928646042938,
          -1.84590462045718,
          -1.716773307481001,
          -0.10977908608619001,
          1.2666069781823803,
          -0.060339650015044176,
          -1.489336279249536,
          -0.5298968549051707,
          -5.853005363751751,
          -0.1548573248483828,
          0.4457429546478739,
          -1.3202881858912336,
          0.7883330885146774,
          -1.8977903556109916,
          3.5782324658181373,
          0.5842715838085386,
          0.09891521779235915,
          0.8107411267571591,
          -1.8050201798417331,
          -1.910918994212565,
          2.072197087983915,
          0.8931053778729481,
          2.0765877193193134,
          -3.668118682990183,
          -2.728574675194989,
          0.9445892744412642,
          -1.3758019732949474,
          -1.8853678030952583,
          -0.7231026892581297,
          0.05854311324199172,
          1.5847291422507157,
          0.046839842728623744,
          3.0517965821649553,
          0.05278802933486626,
          -0.04710662448987415,
          0.15110555419176547,
          4.307172675542996,
          2.8972443089913615,
          -0.19751837471970218,
          1.1225385379941957,
          -4.979879258757565,
          0.21938170234376372,
          8.05959250769544,
          1.4116963651423913,
          -0.2527874271051642,
          -4.849435833829259,
          0.273171627950571,
          -0.2684039896606401,
          4.309197567332141,
          1.9695478404208615,
          0.5970712066177712,
          0.3778037984380927,
          1.452689101245577,
          -0.24732434189865632,
          -3.7575019197757893,
          -0.5916649303887097,
          -2.351067937293521,
          0.4014829312528991,
          2.760430093240097,
          -8.062348485856319,
          0.9745271303733833,
          0.3050176721832482,
          -1.976383391442738,
          0.013636526434130759,
          3.4665994445773483,
          0.6361148893528596,
          6.4314821638149295,
          1.8319257326107126,
          -5.149412787195912,
          3.196621343533882,
          1.6711224334384023,
          -0.20219005473738508,
          1.021754459607666,
          1.994263909740674,
          5.5837897290789655,
          -0.24676088823623263,
          -1.6203437829188454,
          -0.5424746252932647,
          3.3898121413314186,
          1.7521422387403776,
          -3.8509863312881643,
          -2.106772915245885,
          -4.182937262084301,
          -10.686475995616165,
          -0.23678352839504394,
          0.39277317346376145,
          0.20734897675439576,
          0.9816443577018042,
          -1.4135769106488958,
          0.1849597993528788,
          0.6366763834674836,
          0.5772879552561707,
          0.19378686574968224,
          -0.3878571059363061,
          -0.8283460238151712,
          -6.082645869608363,
          1.5437542684011805,
          0.28913459451894796,
          -5.474281578721382,
          0.5965899746243761,
          1.5980673645313244,
          0.8154713449644777,
          0.30942287047625855,
          -0.10030579915780534,
          0.48859060349169864,
          -6.0800804086480555,
          0.3592140282403304,
          -1.6434050310241246,
          -7.2257642840381555,
          -0.08844080228545886,
          0.0716499721828144,
          -0.0218692851746012,
          0.26371221805811373,
          -4.713732509686732,
          0.5651298010684881,
          -0.4619488265256886,
          2.3121540159547145,
          -0.4429407005361472,
          0.29669440467382124,
          0.8980276113543318,
          -0.7228368868421254,
          -0.16710908511978384,
          -10.464102193853156,
          -0.565505631550163,
          -1.4737869742151646,
          1.5303125380750486,
          -2.7598539570399994,
          -1.0721184288174272,
          6.083621827885041
         ]
        },
        {
         "line": {
          "color": "red",
          "width": 2
         },
         "mode": "lines+text",
         "showlegend": false,
         "text": [
          null,
          "CD320"
         ],
         "type": "scatter3d",
         "visible": true,
         "x": [
          0,
          7.033747893292709
         ],
         "y": [
          0,
          1.9515310887803137
         ],
         "z": [
          0,
          -1.127791990223785
         ]
        },
        {
         "line": {
          "color": "red",
          "width": 2
         },
         "mode": "lines+text",
         "showlegend": false,
         "text": [
          null,
          "ECD"
         ],
         "type": "scatter3d",
         "visible": true,
         "x": [
          0,
          6.554318159541345
         ],
         "y": [
          0,
          0.8988636604836359
         ],
         "z": [
          0,
          2.687889237147983
         ]
        },
        {
         "line": {
          "color": "red",
          "width": 2
         },
         "mode": "lines+text",
         "showlegend": false,
         "text": [
          null,
          "DHX29"
         ],
         "type": "scatter3d",
         "visible": true,
         "x": [
          0,
          6.086366316497852
         ],
         "y": [
          0,
          3.6855443625730238
         ],
         "z": [
          0,
          0.43263364633579293
         ]
        },
        {
         "line": {
          "color": "red",
          "width": 2
         },
         "mode": "lines+text",
         "showlegend": false,
         "text": [
          null,
          "AMDHD2"
         ],
         "type": "scatter3d",
         "visible": true,
         "x": [
          0,
          7.053955087122362
         ],
         "y": [
          0,
          -0.6739028677793796
         ],
         "z": [
          0,
          2.6176215870884407
         ]
        },
        {
         "line": {
          "color": "red",
          "width": 2
         },
         "mode": "lines+text",
         "showlegend": false,
         "text": [
          null,
          "EPN2"
         ],
         "type": "scatter3d",
         "visible": true,
         "x": [
          0,
          7.299227717541857
         ],
         "y": [
          0,
          2.639118758176119
         ],
         "z": [
          0,
          0.42398811148967586
         ]
        },
        {
         "line": {
          "color": "red",
          "width": 2
         },
         "mode": "lines+text",
         "showlegend": false,
         "text": [
          null,
          "ITGAE"
         ],
         "type": "scatter3d",
         "visible": true,
         "x": [
          0,
          6.136320049484288
         ],
         "y": [
          0,
          -2.0606870308612883
         ],
         "z": [
          0,
          2.194482958206788
         ]
        },
        {
         "line": {
          "color": "red",
          "width": 2
         },
         "mode": "lines+text",
         "showlegend": false,
         "text": [
          null,
          "TXNL4B"
         ],
         "type": "scatter3d",
         "visible": true,
         "x": [
          0,
          6.922346439284354
         ],
         "y": [
          0,
          3.0311724530221844
         ],
         "z": [
          0,
          -0.7793805389117732
         ]
        },
        {
         "line": {
          "color": "red",
          "width": 2
         },
         "mode": "lines+text",
         "showlegend": false,
         "text": [
          null,
          "STAMBP"
         ],
         "type": "scatter3d",
         "visible": true,
         "x": [
          0,
          6.728247362668741
         ],
         "y": [
          0,
          2.067546211738947
         ],
         "z": [
          0,
          1.977083106606887
         ]
        },
        {
         "line": {
          "color": "red",
          "width": 2
         },
         "mode": "lines+text",
         "showlegend": false,
         "text": [
          null,
          "CCP110"
         ],
         "type": "scatter3d",
         "visible": true,
         "x": [
          0,
          7.535793745389631
         ],
         "y": [
          0,
          2.839522488214482
         ],
         "z": [
          0,
          -0.5821427056273196
         ]
        },
        {
         "line": {
          "color": "red",
          "width": 2
         },
         "mode": "lines+text",
         "showlegend": false,
         "text": [
          null,
          "INTS3"
         ],
         "type": "scatter3d",
         "visible": true,
         "x": [
          0,
          -5.2424655504489115
         ],
         "y": [
          0,
          3.4103307689310682
         ],
         "z": [
          0,
          2.3832885740365666
         ]
        }
       ],
       "layout": {
        "scene": {
         "xaxis": {
          "title": {
           "text": "PC1 (15.89%)"
          },
          "visible": true
         },
         "yaxis": {
          "title": {
           "text": "PC2 (2.66%)"
          },
          "visible": true
         },
         "zaxis": {
          "title": {
           "text": "PC3 (2.16%)"
          },
          "visible": true
         }
        },
        "template": {
         "data": {
          "bar": [
           {
            "error_x": {
             "color": "#2a3f5f"
            },
            "error_y": {
             "color": "#2a3f5f"
            },
            "marker": {
             "line": {
              "color": "#E5ECF6",
              "width": 0.5
             },
             "pattern": {
              "fillmode": "overlay",
              "size": 10,
              "solidity": 0.2
             }
            },
            "type": "bar"
           }
          ],
          "barpolar": [
           {
            "marker": {
             "line": {
              "color": "#E5ECF6",
              "width": 0.5
             },
             "pattern": {
              "fillmode": "overlay",
              "size": 10,
              "solidity": 0.2
             }
            },
            "type": "barpolar"
           }
          ],
          "carpet": [
           {
            "aaxis": {
             "endlinecolor": "#2a3f5f",
             "gridcolor": "white",
             "linecolor": "white",
             "minorgridcolor": "white",
             "startlinecolor": "#2a3f5f"
            },
            "baxis": {
             "endlinecolor": "#2a3f5f",
             "gridcolor": "white",
             "linecolor": "white",
             "minorgridcolor": "white",
             "startlinecolor": "#2a3f5f"
            },
            "type": "carpet"
           }
          ],
          "choropleth": [
           {
            "colorbar": {
             "outlinewidth": 0,
             "ticks": ""
            },
            "type": "choropleth"
           }
          ],
          "contour": [
           {
            "colorbar": {
             "outlinewidth": 0,
             "ticks": ""
            },
            "colorscale": [
             [
              0,
              "#0d0887"
             ],
             [
              0.1111111111111111,
              "#46039f"
             ],
             [
              0.2222222222222222,
              "#7201a8"
             ],
             [
              0.3333333333333333,
              "#9c179e"
             ],
             [
              0.4444444444444444,
              "#bd3786"
             ],
             [
              0.5555555555555556,
              "#d8576b"
             ],
             [
              0.6666666666666666,
              "#ed7953"
             ],
             [
              0.7777777777777778,
              "#fb9f3a"
             ],
             [
              0.8888888888888888,
              "#fdca26"
             ],
             [
              1,
              "#f0f921"
             ]
            ],
            "type": "contour"
           }
          ],
          "contourcarpet": [
           {
            "colorbar": {
             "outlinewidth": 0,
             "ticks": ""
            },
            "type": "contourcarpet"
           }
          ],
          "heatmap": [
           {
            "colorbar": {
             "outlinewidth": 0,
             "ticks": ""
            },
            "colorscale": [
             [
              0,
              "#0d0887"
             ],
             [
              0.1111111111111111,
              "#46039f"
             ],
             [
              0.2222222222222222,
              "#7201a8"
             ],
             [
              0.3333333333333333,
              "#9c179e"
             ],
             [
              0.4444444444444444,
              "#bd3786"
             ],
             [
              0.5555555555555556,
              "#d8576b"
             ],
             [
              0.6666666666666666,
              "#ed7953"
             ],
             [
              0.7777777777777778,
              "#fb9f3a"
             ],
             [
              0.8888888888888888,
              "#fdca26"
             ],
             [
              1,
              "#f0f921"
             ]
            ],
            "type": "heatmap"
           }
          ],
          "heatmapgl": [
           {
            "colorbar": {
             "outlinewidth": 0,
             "ticks": ""
            },
            "colorscale": [
             [
              0,
              "#0d0887"
             ],
             [
              0.1111111111111111,
              "#46039f"
             ],
             [
              0.2222222222222222,
              "#7201a8"
             ],
             [
              0.3333333333333333,
              "#9c179e"
             ],
             [
              0.4444444444444444,
              "#bd3786"
             ],
             [
              0.5555555555555556,
              "#d8576b"
             ],
             [
              0.6666666666666666,
              "#ed7953"
             ],
             [
              0.7777777777777778,
              "#fb9f3a"
             ],
             [
              0.8888888888888888,
              "#fdca26"
             ],
             [
              1,
              "#f0f921"
             ]
            ],
            "type": "heatmapgl"
           }
          ],
          "histogram": [
           {
            "marker": {
             "pattern": {
              "fillmode": "overlay",
              "size": 10,
              "solidity": 0.2
             }
            },
            "type": "histogram"
           }
          ],
          "histogram2d": [
           {
            "colorbar": {
             "outlinewidth": 0,
             "ticks": ""
            },
            "colorscale": [
             [
              0,
              "#0d0887"
             ],
             [
              0.1111111111111111,
              "#46039f"
             ],
             [
              0.2222222222222222,
              "#7201a8"
             ],
             [
              0.3333333333333333,
              "#9c179e"
             ],
             [
              0.4444444444444444,
              "#bd3786"
             ],
             [
              0.5555555555555556,
              "#d8576b"
             ],
             [
              0.6666666666666666,
              "#ed7953"
             ],
             [
              0.7777777777777778,
              "#fb9f3a"
             ],
             [
              0.8888888888888888,
              "#fdca26"
             ],
             [
              1,
              "#f0f921"
             ]
            ],
            "type": "histogram2d"
           }
          ],
          "histogram2dcontour": [
           {
            "colorbar": {
             "outlinewidth": 0,
             "ticks": ""
            },
            "colorscale": [
             [
              0,
              "#0d0887"
             ],
             [
              0.1111111111111111,
              "#46039f"
             ],
             [
              0.2222222222222222,
              "#7201a8"
             ],
             [
              0.3333333333333333,
              "#9c179e"
             ],
             [
              0.4444444444444444,
              "#bd3786"
             ],
             [
              0.5555555555555556,
              "#d8576b"
             ],
             [
              0.6666666666666666,
              "#ed7953"
             ],
             [
              0.7777777777777778,
              "#fb9f3a"
             ],
             [
              0.8888888888888888,
              "#fdca26"
             ],
             [
              1,
              "#f0f921"
             ]
            ],
            "type": "histogram2dcontour"
           }
          ],
          "mesh3d": [
           {
            "colorbar": {
             "outlinewidth": 0,
             "ticks": ""
            },
            "type": "mesh3d"
           }
          ],
          "parcoords": [
           {
            "line": {
             "colorbar": {
              "outlinewidth": 0,
              "ticks": ""
             }
            },
            "type": "parcoords"
           }
          ],
          "pie": [
           {
            "automargin": true,
            "type": "pie"
           }
          ],
          "scatter": [
           {
            "fillpattern": {
             "fillmode": "overlay",
             "size": 10,
             "solidity": 0.2
            },
            "type": "scatter"
           }
          ],
          "scatter3d": [
           {
            "line": {
             "colorbar": {
              "outlinewidth": 0,
              "ticks": ""
             }
            },
            "marker": {
             "colorbar": {
              "outlinewidth": 0,
              "ticks": ""
             }
            },
            "type": "scatter3d"
           }
          ],
          "scattercarpet": [
           {
            "marker": {
             "colorbar": {
              "outlinewidth": 0,
              "ticks": ""
             }
            },
            "type": "scattercarpet"
           }
          ],
          "scattergeo": [
           {
            "marker": {
             "colorbar": {
              "outlinewidth": 0,
              "ticks": ""
             }
            },
            "type": "scattergeo"
           }
          ],
          "scattergl": [
           {
            "marker": {
             "colorbar": {
              "outlinewidth": 0,
              "ticks": ""
             }
            },
            "type": "scattergl"
           }
          ],
          "scattermapbox": [
           {
            "marker": {
             "colorbar": {
              "outlinewidth": 0,
              "ticks": ""
             }
            },
            "type": "scattermapbox"
           }
          ],
          "scatterpolar": [
           {
            "marker": {
             "colorbar": {
              "outlinewidth": 0,
              "ticks": ""
             }
            },
            "type": "scatterpolar"
           }
          ],
          "scatterpolargl": [
           {
            "marker": {
             "colorbar": {
              "outlinewidth": 0,
              "ticks": ""
             }
            },
            "type": "scatterpolargl"
           }
          ],
          "scatterternary": [
           {
            "marker": {
             "colorbar": {
              "outlinewidth": 0,
              "ticks": ""
             }
            },
            "type": "scatterternary"
           }
          ],
          "surface": [
           {
            "colorbar": {
             "outlinewidth": 0,
             "ticks": ""
            },
            "colorscale": [
             [
              0,
              "#0d0887"
             ],
             [
              0.1111111111111111,
              "#46039f"
             ],
             [
              0.2222222222222222,
              "#7201a8"
             ],
             [
              0.3333333333333333,
              "#9c179e"
             ],
             [
              0.4444444444444444,
              "#bd3786"
             ],
             [
              0.5555555555555556,
              "#d8576b"
             ],
             [
              0.6666666666666666,
              "#ed7953"
             ],
             [
              0.7777777777777778,
              "#fb9f3a"
             ],
             [
              0.8888888888888888,
              "#fdca26"
             ],
             [
              1,
              "#f0f921"
             ]
            ],
            "type": "surface"
           }
          ],
          "table": [
           {
            "cells": {
             "fill": {
              "color": "#EBF0F8"
             },
             "line": {
              "color": "white"
             }
            },
            "header": {
             "fill": {
              "color": "#C8D4E3"
             },
             "line": {
              "color": "white"
             }
            },
            "type": "table"
           }
          ]
         },
         "layout": {
          "annotationdefaults": {
           "arrowcolor": "#2a3f5f",
           "arrowhead": 0,
           "arrowwidth": 1
          },
          "autotypenumbers": "strict",
          "coloraxis": {
           "colorbar": {
            "outlinewidth": 0,
            "ticks": ""
           }
          },
          "colorscale": {
           "diverging": [
            [
             0,
             "#8e0152"
            ],
            [
             0.1,
             "#c51b7d"
            ],
            [
             0.2,
             "#de77ae"
            ],
            [
             0.3,
             "#f1b6da"
            ],
            [
             0.4,
             "#fde0ef"
            ],
            [
             0.5,
             "#f7f7f7"
            ],
            [
             0.6,
             "#e6f5d0"
            ],
            [
             0.7,
             "#b8e186"
            ],
            [
             0.8,
             "#7fbc41"
            ],
            [
             0.9,
             "#4d9221"
            ],
            [
             1,
             "#276419"
            ]
           ],
           "sequential": [
            [
             0,
             "#0d0887"
            ],
            [
             0.1111111111111111,
             "#46039f"
            ],
            [
             0.2222222222222222,
             "#7201a8"
            ],
            [
             0.3333333333333333,
             "#9c179e"
            ],
            [
             0.4444444444444444,
             "#bd3786"
            ],
            [
             0.5555555555555556,
             "#d8576b"
            ],
            [
             0.6666666666666666,
             "#ed7953"
            ],
            [
             0.7777777777777778,
             "#fb9f3a"
            ],
            [
             0.8888888888888888,
             "#fdca26"
            ],
            [
             1,
             "#f0f921"
            ]
           ],
           "sequentialminus": [
            [
             0,
             "#0d0887"
            ],
            [
             0.1111111111111111,
             "#46039f"
            ],
            [
             0.2222222222222222,
             "#7201a8"
            ],
            [
             0.3333333333333333,
             "#9c179e"
            ],
            [
             0.4444444444444444,
             "#bd3786"
            ],
            [
             0.5555555555555556,
             "#d8576b"
            ],
            [
             0.6666666666666666,
             "#ed7953"
            ],
            [
             0.7777777777777778,
             "#fb9f3a"
            ],
            [
             0.8888888888888888,
             "#fdca26"
            ],
            [
             1,
             "#f0f921"
            ]
           ]
          },
          "colorway": [
           "#636efa",
           "#EF553B",
           "#00cc96",
           "#ab63fa",
           "#FFA15A",
           "#19d3f3",
           "#FF6692",
           "#B6E880",
           "#FF97FF",
           "#FECB52"
          ],
          "font": {
           "color": "#2a3f5f"
          },
          "geo": {
           "bgcolor": "white",
           "lakecolor": "white",
           "landcolor": "#E5ECF6",
           "showlakes": true,
           "showland": true,
           "subunitcolor": "white"
          },
          "hoverlabel": {
           "align": "left"
          },
          "hovermode": "closest",
          "mapbox": {
           "style": "light"
          },
          "paper_bgcolor": "white",
          "plot_bgcolor": "#E5ECF6",
          "polar": {
           "angularaxis": {
            "gridcolor": "white",
            "linecolor": "white",
            "ticks": ""
           },
           "bgcolor": "#E5ECF6",
           "radialaxis": {
            "gridcolor": "white",
            "linecolor": "white",
            "ticks": ""
           }
          },
          "scene": {
           "xaxis": {
            "backgroundcolor": "#E5ECF6",
            "gridcolor": "white",
            "gridwidth": 2,
            "linecolor": "white",
            "showbackground": true,
            "ticks": "",
            "zerolinecolor": "white"
           },
           "yaxis": {
            "backgroundcolor": "#E5ECF6",
            "gridcolor": "white",
            "gridwidth": 2,
            "linecolor": "white",
            "showbackground": true,
            "ticks": "",
            "zerolinecolor": "white"
           },
           "zaxis": {
            "backgroundcolor": "#E5ECF6",
            "gridcolor": "white",
            "gridwidth": 2,
            "linecolor": "white",
            "showbackground": true,
            "ticks": "",
            "zerolinecolor": "white"
           }
          },
          "shapedefaults": {
           "line": {
            "color": "#2a3f5f"
           }
          },
          "ternary": {
           "aaxis": {
            "gridcolor": "white",
            "linecolor": "white",
            "ticks": ""
           },
           "baxis": {
            "gridcolor": "white",
            "linecolor": "white",
            "ticks": ""
           },
           "bgcolor": "#E5ECF6",
           "caxis": {
            "gridcolor": "white",
            "linecolor": "white",
            "ticks": ""
           }
          },
          "title": {
           "x": 0.05
          },
          "xaxis": {
           "automargin": true,
           "gridcolor": "white",
           "linecolor": "white",
           "ticks": "",
           "title": {
            "standoff": 15
           },
           "zerolinecolor": "white",
           "zerolinewidth": 2
          },
          "yaxis": {
           "automargin": true,
           "gridcolor": "white",
           "linecolor": "white",
           "ticks": "",
           "title": {
            "standoff": 15
           },
           "zerolinecolor": "white",
           "zerolinewidth": 2
          }
         }
        },
        "title": {
         "text": "Gene Dataset: 3D PCA Biplot (Explained Variance: 20.71%)"
        },
        "updatemenus": [
         {
          "buttons": [
           {
            "args": [
             {
              "visible": [
               false,
               false,
               false,
               false,
               false,
               false,
               false,
               false,
               false,
               false,
               false,
               true,
               true,
               true,
               true,
               true,
               true,
               true,
               true,
               true,
               true,
               true
              ]
             },
             {}
            ],
            "label": "Show All",
            "method": "update"
           },
           {
            "args": [
             {
              "visible": [
               false,
               false,
               false,
               false,
               false,
               false,
               false,
               false,
               false,
               false,
               false,
               true,
               false,
               false,
               false,
               false,
               false,
               false,
               false,
               false,
               false,
               false
              ]
             },
             {}
            ],
            "label": "Show Data Points Only",
            "method": "update"
           },
           {
            "args": [
             {
              "visible": [
               false,
               false,
               false,
               false,
               false,
               false,
               false,
               false,
               false,
               false,
               false,
               false,
               true,
               true,
               true,
               true,
               true,
               true,
               true,
               true,
               true,
               true
              ]
             },
             {}
            ],
            "label": "Show Loadings Only",
            "method": "update"
           }
          ],
          "direction": "down",
          "showactive": true,
          "x": 0.1,
          "xanchor": "left",
          "y": 1.15,
          "yanchor": "top"
         }
        ],
        "xaxis": {
         "visible": false
        },
        "yaxis": {
         "visible": false
        }
       }
      }
     },
     "metadata": {},
     "output_type": "display_data"
    },
    {
     "data": {
      "application/vnd.plotly.v1+json": {
       "config": {
        "plotlyServerURL": "https://plot.ly"
       },
       "data": [
        {
         "hovertemplate": "0=%{x}<br>1=%{y}<br>viability=%{marker.color}<extra></extra>",
         "legendgroup": "",
         "marker": {
          "color": [
           0.9911572251061926,
           1,
           0.9763426956788256,
           0.3764199443247731,
           1,
           1,
           1,
           1,
           1,
           1,
           0.902433500861249,
           0.9965594255498296,
           1,
           0.8701642995293112,
           0.8118997621394186,
           0.9707202422048736,
           1,
           1,
           0.9026565042352812,
           0.9284214823333788,
           0.9283391773415052,
           0.8871788957014122,
           0.8735072210701182,
           0.7729527366351572,
           1,
           0.5907228459832805,
           1,
           1,
           1,
           1,
           1,
           0.9343329708348804,
           1,
           0.9058648643780084,
           0.9957237742923652,
           1,
           0.931707313971434,
           0.9551832161427256,
           1,
           1,
           1,
           1,
           1,
           1,
           1,
           0.9334119724860734,
           1,
           1,
           0.9682378335902452,
           0.391580169065613,
           0.91547659184532,
           1,
           0.0526205687951325,
           0.7097918107442335,
           0.6012445070831133,
           0.9954713079656806,
           1,
           0.925295646456794,
           0.9371302443754312,
           1,
           0.9632665734880318,
           0.9529222969005088,
           0.9342068642363196,
           0.4705060371530662,
           0.8575002016537739,
           0.8543599099145673,
           0.7713943872752447,
           0.8856281917213811,
           1,
           0.9764999816243652,
           0.9162615080987344,
           0.9249065938039877,
           0.9698195641669288,
           1,
           0.918939132250458,
           1,
           0.8764983911293238,
           0.9486347740201498,
           0.9945772345400858,
           0.91046308368916,
           1,
           0.9763693079735108,
           0.2761501590638442,
           0.9982688826883876,
           0.9807724594688424,
           1,
           0.8293461337787491,
           0.9900982219982036,
           0.9974582686724016,
           0.990816172069673,
           0.955115008396499,
           0.9870786107513476,
           0.9938913014643518,
           1,
           1,
           0.919269537116401,
           0.9271155081517242,
           1,
           1,
           1,
           0.3762892830406895,
           1,
           1,
           0.9463904673721824,
           0.9054336931248422,
           0.3693915502739749,
           0.9949511960594416,
           1,
           0.9662712264431316,
           0.7787090306804507,
           0.1918259918590977,
           0.9653816122625418,
           0.9395700347787058,
           0.9952816212766048,
           1,
           1,
           1,
           0.894731694861747,
           1,
           0.9455883958096952,
           1,
           1,
           0.9069873491633816,
           0.8831448654048591,
           0.2665513526674094,
           0.8542335395427392,
           1,
           1,
           0.9596922808567652,
           0.6151199063318602,
           0.9323570949246758,
           0.6570258183731501,
           0.1070177702747052,
           1,
           1,
           1,
           1,
           1,
           1,
           0.8069655848937446,
           1,
           0.984180471933336,
           0.9885687547090676,
           0.5956069420894501,
           0.1731298951338346,
           0.7916014360909273,
           1,
           0.9900742358083144,
           1,
           0.965136376525251,
           0.9601171222698764,
           1,
           1,
           0.649932914649567,
           0.9447120611112292,
           1,
           0.8114940031594375,
           0.478572437916353,
           1,
           0.0152860642407448,
           0.2721578241972284,
           1,
           0.4669368740402836,
           0.914880068550586,
           0.9918828890589848,
           0.9535617867886126,
           0.9195722871437332,
           0.9152889092573472,
           1,
           1,
           0.9728891671704378,
           0.5620782798737056,
           0.9538391773920766,
           1,
           0.9906856128348271,
           0.7168576691068649,
           1,
           0.9393729240101346,
           1,
           0.9815149873627168,
           0.0503888221703299,
           1,
           0.9375063580247344,
           1,
           1,
           0.0599706222801095,
           1,
           0.8062214758109016,
           0.3557055302340094,
           0.8897957386515137,
           0.5740832308142804,
           0.9212151627512338,
           0.9470433581314808,
           0.9380667240833974,
           1,
           0.6078416259233785,
           1,
           0.9787666679656272,
           0.9495539263277896,
           0.9573365017673474,
           1,
           1,
           1,
           0.711475112928782,
           0.5696368977165406,
           0.9604150577841696,
           0.926723030041402,
           0.9523162501502024,
           0.9406002856274,
           0.7505498974222241,
           1,
           0.8405203195182673,
           1,
           0.9513467966906042,
           0.9220446852173314,
           0.9996751998710034,
           0.1199571245942936,
           0.9793414298594464,
           0.9320453618719834,
           1,
           0.158064988933863,
           0.2535515727493794,
           1,
           1,
           0.4511429202478141,
           1,
           1,
           1,
           0.8209703873836756,
           1,
           0.9735785935526384,
           0.9418717758940276,
           0.9601924197871944,
           1,
           0.9850472954389252,
           0.8613782872559135,
           1,
           0.7944856661191995,
           0.2932031523194223,
           0.7405041335865249,
           0.72011228042129,
           1,
           1,
           0.4877889571279723,
           0.661861634444495,
           0.9610743493480838,
           0.3758719337158476,
           0.9188686210718744,
           0.367842580288183,
           0.9288787802362044,
           0.9754562803389174,
           1,
           0.023906921965213,
           0.8903733804781554,
           0.9739195666739184,
           0.9772599673108976,
           0.9768596094005908,
           0.8283377246601852,
           1,
           1,
           0.2738408031138887,
           1,
           1,
           0.8910230602855607,
           1,
           1,
           0.9647354047182706,
           0.824686143930963,
           0.9503648340116424,
           0.999966880707852,
           0.9358206399747514,
           0.9707268783684596,
           0.9359710299034448,
           1,
           0.4309827742617397,
           0.9967576260948952,
           0.0487627588714312,
           1,
           1,
           1,
           1,
           0.9468238970287476,
           0.1161131165695418,
           0.9675055898027904,
           0.9735155061414184,
           0.7783562638803598,
           0.3434597516997231,
           0.877366236667675,
           1,
           0.6489554394326076,
           1,
           0.9402014420684668,
           0.2095273275505995,
           0.9876472450362588,
           1,
           1,
           1,
           0.9975958335060664,
           0.379015753513757,
           0.929328079161321,
           1,
           0.8833462256153723,
           0.967297971162952,
           0.980934586892628,
           1,
           0.9397260494167792,
           1,
           0.070903890672331,
           0.2628111581600572,
           0.9757178528524676,
           0.9747734981121514,
           1,
           0.932357094955524,
           0.9283391773415052,
           1,
           1,
           0.5872187038694257,
           1,
           0.9348097811635542,
           1,
           0.8916196394672546,
           0.8794579160942018,
           0.8133069902942225,
           1,
           1,
           0.9217370292638932,
           0.9674984659396316,
           1,
           1,
           0.7633335157390769,
           1,
           0.3942298160689444,
           1,
           1,
           0.3157111118475092,
           0.5365158351286876,
           1,
           0.0635652038392036,
           1,
           0.5742383697494073,
           0.9423979549284448,
           1,
           0.9612520472190712,
           0.8723021843073692,
           0.6622360500453851,
           1,
           0.8208327671208264,
           1,
           1,
           1,
           1,
           0.5146315941854094,
           0.9704895393268648,
           0.9953487065671938,
           1,
           0.9472498633421264,
           1,
           1,
           0.9829291278571074,
           0.803530830465743,
           0.9744326286328958,
           0.8720001904995517,
           1,
           1,
           0.0761293279984815,
           0.9482480466162256,
           0.9892016535883472,
           0.9179741863426748,
           0.9985031971596298,
           1,
           1,
           0.9950639410574365,
           0.918651909738338,
           0.6627823441491636,
           1,
           0.7389639858394237,
           1,
           0.731073835746276,
           1,
           1,
           0.9383579235659142,
           0.9638386966726684,
           0.966382588382872,
           0.2692714245608444,
           1,
           0.954070453255631,
           1,
           0.8957791469591516,
           1,
           0.9175440289998908,
           1,
           0.4790080375492733,
           0.995527294013827,
           0.4165109334432695,
           0.7942726403516477,
           1,
           1,
           0.9809888144922416,
           1,
           0.976784514398834,
           0.7610653458706871,
           1,
           1,
           0.9023230255106583,
           1,
           1,
           1,
           0.5180904956584214,
           0.7145595194385416,
           0.9835591942084604,
           1,
           0.0778862261719908,
           1,
           1,
           0.940914698854984,
           1,
           0.6824314128454019,
           1,
           1,
           0.8798611043995752,
           1,
           1,
           1,
           1,
           0.8910230602859409,
           0.9545931144627644,
           1,
           1,
           0.9853028081943092,
           1,
           1,
           1,
           0.9973973738120084,
           0.9132935337251222,
           0.9718051383697957,
           0.2750531970853354,
           1,
           0.2415563690734038,
           1,
           0.895174840694579,
           0.345566007964002,
           1,
           1,
           1,
           1,
           1,
           0.9835248925161324,
           1,
           0.9563351279311206,
           0.9977848097067116,
           0.7399688765081351,
           1,
           0.7464306832261809,
           0.5867420633096035,
           0.0776927121907793,
           0.4242013790155854,
           0.9603994405852344,
           0.5438016783954467,
           1,
           1,
           1,
           1,
           1,
           1,
           1,
           1,
           0.3324925360846205,
           1,
           1,
           0.6062003935583636,
           0.9857025148607724,
           0.9727876329616748,
           0.9869775165007644,
           1,
           0.9945121891968756,
           1,
           0.4984048189337594,
           0.9912625944537408,
           1,
           0.4576526336455476,
           0.8328824913753605,
           1,
           0.950291137132356,
           1,
           0.4353201267833341,
           0.936675424659343,
           1,
           0.9313697794909592,
           1,
           1,
           1,
           0.1915402339724938,
           0.6809551461267556,
           0.9622844078664632,
           1,
           0.967292872643148,
           1,
           0.5931762439107249,
           0.8977157544829311,
           0.4696725689253001
          ],
          "coloraxis": "coloraxis",
          "symbol": "circle"
         },
         "mode": "markers",
         "name": "",
         "orientation": "v",
         "showlegend": false,
         "type": "scatter",
         "x": [
          7.473076820373535,
          -3.8972880840301514,
          1.111924648284912,
          6.771328449249268,
          -6.144012451171875,
          -3.451096773147583,
          3.436957836151123,
          -7.380373954772949,
          0.7574753761291504,
          -1.2650173902511597,
          8.311330795288086,
          -0.8924651741981506,
          0.4096400737762451,
          -1.0736961364746094,
          1.7528727054595947,
          -2.121986150741577,
          6.23204231262207,
          1.3287103176116943,
          3.5909230709075928,
          7.672888278961182,
          -0.17930182814598083,
          -1.2178845405578613,
          -4.576529026031494,
          4.130138874053955,
          -3.3613815307617188,
          0.8345106840133667,
          6.618782043457031,
          3.990841865539551,
          1.478888750076294,
          4.29166841506958,
          -5.10076904296875,
          1.1831409931182861,
          -5.239719867706299,
          -4.546963214874268,
          2.948693037033081,
          -2.7069382667541504,
          1.878141164779663,
          -2.501361846923828,
          -4.59454870223999,
          2.77295184135437,
          -3.896186590194702,
          -0.9877126812934875,
          2.4476706981658936,
          6.420094966888428,
          -5.454041957855225,
          -3.4462854862213135,
          -5.684667110443115,
          -3.0925586223602295,
          -6.227170467376709,
          -0.3776276409626007,
          5.13177490234375,
          9.420937538146973,
          3.271940231323242,
          -4.055834770202637,
          4.441266059875488,
          5.496570110321045,
          -5.147475719451904,
          5.234462738037109,
          -7.347080230712891,
          0.7065044045448303,
          2.8099024295806885,
          6.349852085113525,
          6.395998477935791,
          -0.7034311890602112,
          -7.488051414489746,
          -4.051721572875977,
          -6.147634983062744,
          5.275941371917725,
          -4.195720195770264,
          -8.75749397277832,
          -9.535889625549316,
          -4.296124458312988,
          -3.2384896278381348,
          4.350418567657471,
          7.760608673095703,
          3.8260421752929688,
          -6.320167541503906,
          -8.506048202514648,
          -5.543329238891602,
          3.0528347492218018,
          3.9034321308135986,
          -6.260433197021484,
          0.8970947265625,
          -2.1136817932128906,
          -5.682638645172119,
          -3.416572093963623,
          -7.5090107917785645,
          -0.28435254096984863,
          3.56355357170105,
          -5.406708717346191,
          -5.566997051239014,
          -4.812972545623779,
          -4.6438422203063965,
          6.15622615814209,
          -5.977925777435303,
          -8.28847885131836,
          -4.933185577392578,
          6.025023937225342,
          -2.465702533721924,
          2.6146087646484375,
          -0.031079960986971855,
          4.549792289733887,
          -5.493732929229736,
          -2.291008710861206,
          -2.213660717010498,
          5.583406448364258,
          -2.3035335540771484,
          3.5990898609161377,
          4.975090026855469,
          2.5436384677886963,
          6.645810127258301,
          1.9936457872390747,
          3.165945291519165,
          -2.9517908096313477,
          -3.5093319416046143,
          3.4057974815368652,
          7.445263862609863,
          2.6761670112609863,
          -2.336151361465454,
          4.026101589202881,
          3.3217740058898926,
          -3.662355899810791,
          -1.828155279159546,
          -0.9806807041168213,
          5.821400165557861,
          -6.087295055389404,
          0.22421270608901978,
          -7.748908996582031,
          -3.389997720718384,
          -6.651506423950195,
          -6.548901081085205,
          6.6440324783325195,
          8.101280212402344,
          4.050042629241943,
          2.2058279514312744,
          3.8215010166168213,
          3.7318339347839355,
          0.6186246871948242,
          3.640085220336914,
          -2.59610652923584,
          0.5749041438102722,
          4.140578746795654,
          -4.7149786949157715,
          8.91366195678711,
          5.129157066345215,
          4.40602970123291,
          -5.530947208404541,
          -7.837274551391602,
          -6.475018501281738,
          -1.965654730796814,
          -1.7985759973526,
          -7.109785556793213,
          -4.5650458335876465,
          4.583306312561035,
          5.54302978515625,
          -5.025387287139893,
          -0.7625011801719666,
          6.477043151855469,
          -0.793006420135498,
          8.931376457214355,
          -2.1790099143981934,
          -2.3733110427856445,
          7.455207824707031,
          -6.136241912841797,
          -4.89369010925293,
          4.897619247436523,
          -5.367135524749756,
          0.6267731189727783,
          -0.08746889233589172,
          2.8068344593048096,
          -1.1473989486694336,
          6.362673759460449,
          -5.526717185974121,
          3.27527117729187,
          -2.3356871604919434,
          6.426821708679199,
          3.817603349685669,
          -5.0187788009643555,
          3.9518158435821533,
          4.438815593719482,
          9.044861793518066,
          -5.661190986633301,
          -5.1335296630859375,
          5.282329082489014,
          -4.681797504425049,
          7.963216304779053,
          -5.2923994064331055,
          -3.5256235599517822,
          5.895770072937012,
          -3.3772799968719482,
          -0.7055538296699524,
          6.526437282562256,
          -4.557696342468262,
          -4.859131813049316,
          6.619280815124512,
          5.057412624359131,
          4.054529666900635,
          -1.8465734720230103,
          5.599883079528809,
          -5.466457366943359,
          0.09515915811061859,
          -0.07565802335739136,
          -0.7798150777816772,
          8.935420036315918,
          8.982084274291992,
          -1.036665439605713,
          6.9537763595581055,
          3.6573760509490967,
          -1.7717225551605225,
          9.16674518585205,
          -5.3527631759643555,
          0.948027491569519,
          2.391970634460449,
          -2.3069851398468018,
          -0.9142526388168335,
          -6.208871841430664,
          8.058488845825195,
          5.447936534881592,
          -5.636660099029541,
          -0.9708260893821716,
          4.519809246063232,
          7.460259437561035,
          -6.367575168609619,
          2.5835258960723877,
          -5.665375232696533,
          0.6705703139305115,
          -3.076282501220703,
          -4.680057048797607,
          -0.5468975901603699,
          -2.703460931777954,
          -5.968451023101807,
          4.4423089027404785,
          -6.533530235290527,
          -3.0997490882873535,
          -0.3061370849609375,
          5.155856609344482,
          -4.659921646118164,
          8.659107208251953,
          5.041254043579102,
          0.6669886708259583,
          -6.801953315734863,
          3.65511155128479,
          2.4829976558685303,
          5.929605484008789,
          -2.1041479110717773,
          8.612931251525879,
          -0.032026082277297974,
          -6.869168758392334,
          5.642567157745361,
          -1.2357438802719116,
          1.3133318424224854,
          -4.952924728393555,
          7.8205389976501465,
          -3.9856410026550293,
          -8.69747257232666,
          2.66524076461792,
          -6.2348761558532715,
          9.170117378234863,
          -4.2967915534973145,
          -6.022723197937012,
          6.0815229415893555,
          -6.69838809967041,
          -1.4415838718414307,
          -9.28878116607666,
          -7.550045967102051,
          5.363285064697266,
          0.08321429789066315,
          -4.700167655944824,
          0.11823524534702301,
          -0.024917755275964737,
          -3.3906426429748535,
          -4.752328395843506,
          -7.672994136810303,
          -7.379270553588867,
          5.570540904998779,
          -2.588414430618286,
          7.875420093536377,
          3.715258836746216,
          6.242772579193115,
          3.569183826446533,
          -1.1688183546066284,
          -5.350703716278076,
          5.52601432800293,
          2.011171817779541,
          -3.2223758697509766,
          -4.3781208992004395,
          5.613232612609863,
          5.863093852996826,
          -2.2389109134674072,
          2.710925817489624,
          4.348653316497803,
          -3.6180570125579834,
          6.64919900894165,
          -0.8317490220069885,
          2.581681489944458,
          2.8575551509857178,
          -5.581831932067871,
          -0.6420767903327942,
          8.084999084472656,
          -5.646390438079834,
          -2.091059923171997,
          -6.762279510498047,
          -4.316928863525391,
          -2.296541929244995,
          -5.082762718200684,
          -2.918813467025757,
          1.747641682624817,
          8.964153289794922,
          6.437860012054443,
          4.301446914672852,
          5.148646354675293,
          2.421736717224121,
          -2.5926661491394043,
          -0.8407717943191528,
          2.516832113265991,
          3.8509955406188965,
          1.871373176574707,
          5.418744087219238,
          -6.451560974121094,
          1.7942967414855957,
          -7.138894557952881,
          -8.090841293334961,
          -3.5127573013305664,
          -7.633021354675293,
          1.754995346069336,
          1.6427476406097412,
          4.508060455322266,
          -6.811805248260498,
          -2.6335372924804688,
          -4.143235683441162,
          -5.926374435424805,
          -0.526133120059967,
          -6.953667640686035,
          -5.106139183044434,
          -4.226186275482178,
          4.782406806945801,
          0.07252857834100723,
          6.046191215515137,
          4.011711597442627,
          -7.580407619476318,
          4.689096450805664,
          -0.5936371088027954,
          -2.8459160327911377,
          5.20673131942749,
          -5.869174480438232,
          0.3596424162387848,
          -7.435911178588867,
          5.698261260986328,
          7.285751819610596,
          -5.911297798156738,
          1.290842056274414,
          -6.669817924499512,
          1.485236406326294,
          4.831392288208008,
          -4.800914287567139,
          -3.5225675106048584,
          0.37731462717056274,
          -9.071256637573242,
          2.4382107257843018,
          4.535460948944092,
          4.393340587615967,
          -4.268214702606201,
          0.025910548865795135,
          2.032224655151367,
          2.8408405780792236,
          3.7599923610687256,
          1.7413004636764526,
          -1.7561824321746826,
          4.503997325897217,
          -1.6522083282470703,
          -4.2620134353637695,
          1.1273952722549438,
          6.083316326141357,
          7.560186386108398,
          -1.1548066139221191,
          6.589600563049316,
          -4.342759132385254,
          -4.336441516876221,
          -4.03759241104126,
          5.804719924926758,
          -3.9868080615997314,
          -5.352794647216797,
          7.254286766052246,
          4.42801570892334,
          1.084552526473999,
          -0.9441366195678711,
          -5.670816421508789,
          -2.0681464672088623,
          -6.762510299682617,
          -6.608312129974365,
          -1.4147495031356812,
          0.7687543034553528,
          4.741382598876953,
          -6.648386001586914,
          4.99454402923584,
          -1.3277255296707153,
          2.861980676651001,
          3.7350735664367676,
          3.67354416847229,
          -4.140275001525879,
          -1.9727518558502197,
          1.5972800254821777,
          -8.700305938720703,
          4.089136123657227,
          -5.212307929992676,
          0.5061200857162476,
          1.276589274406433,
          -4.399847984313965,
          -4.387459754943848,
          -1.4338488578796387,
          2.1619067192077637,
          7.635876178741455,
          -4.235757827758789,
          4.4054460525512695,
          -5.788393020629883,
          1.413348913192749,
          5.261929988861084,
          0.18382611870765686,
          -0.5715166926383972,
          5.612527370452881,
          -4.799676418304443,
          -3.286155939102173,
          4.7087883949279785,
          -3.814924955368042,
          -8.61160945892334,
          7.404280185699463,
          3.7565081119537354,
          -3.0276684761047363,
          0.2647489905357361,
          -2.0340077877044678,
          1.5277153253555298,
          -4.252651214599609,
          -1.6100633144378662,
          -5.128073215484619,
          4.524378299713135,
          5.651022911071777,
          -4.4481520652771,
          9.131516456604004,
          -4.241872310638428,
          7.243487358093262,
          -0.585477888584137,
          -5.3334527015686035,
          -5.719667434692383,
          -3.880396842956543,
          -3.788118362426758,
          3.5533225536346436,
          -8.15239143371582,
          4.060561180114746,
          -0.06139863282442093,
          -2.388023614883423,
          4.516026973724365,
          3.653224468231201,
          -0.11496607959270477,
          3.073963165283203,
          5.430187225341797,
          -7.746370315551758,
          2.9940783977508545,
          -4.172075271606445,
          3.9837021827697754,
          1.9151825904846191,
          -3.4277703762054443,
          -0.3291820287704468,
          -3.876988649368286,
          2.374828577041626,
          -5.67801570892334,
          -3.0311789512634277,
          5.429090976715088,
          -5.084355354309082,
          -2.3313937187194824,
          5.241043567657471,
          8.365208625793457,
          0.7927857637405396,
          -5.243354797363281,
          -6.252737045288086,
          -7.408174991607666,
          -1.3110761642456055,
          5.9032182693481445,
          3.3025095462799072,
          -3.893521547317505,
          6.655641078948975,
          -0.10248883068561554,
          -6.746062278747559,
          -5.659739017486572,
          2.365391731262207,
          0.028438394889235497,
          2.022481918334961,
          -2.017812728881836,
          -5.619335174560547,
          1.3579696416854858,
          -2.6282365322113037,
          -3.189286470413208,
          7.738083839416504,
          5.005529880523682,
          3.306649684906006,
          -5.429108619689941,
          -0.4619877338409424,
          0.15438959002494812,
          5.4403252601623535,
          -2.609271764755249,
          6.077670097351074
         ],
         "xaxis": "x",
         "y": [
          -1.6099097728729248,
          3.8180859088897705,
          3.693718194961548,
          2.8467538356781006,
          -2.800896167755127,
          -2.138185739517212,
          -1.617367148399353,
          -3.3561654090881348,
          -3.566267251968384,
          -1.094183087348938,
          -1.7281049489974976,
          -0.7996501922607422,
          -1.0586655139923096,
          -4.162285804748535,
          3.8693222999572754,
          1.4326725006103516,
          1.4956514835357666,
          -0.11488024145364761,
          0.7524994611740112,
          -0.04376987740397453,
          3.2041778564453125,
          -4.2202534675598145,
          -1.9646211862564087,
          -3.664222002029419,
          0.32810717821121216,
          0.914110004901886,
          -1.1687734127044678,
          2.771557331085205,
          0.780052900314331,
          2.0946061611175537,
          -2.360076904296875,
          2.8845913410186768,
          -2.1966817378997803,
          -2.7372772693634033,
          4.218281269073486,
          -1.4228605031967163,
          -3.2215747833251953,
          -5.834789276123047,
          -1.6350955963134766,
          3.3634421825408936,
          -1.7106044292449951,
          3.0303571224212646,
          2.861999034881592,
          0.5515157580375671,
          -0.7517804503440857,
          0.2012123018503189,
          -0.9479426145553589,
          -3.6121420860290527,
          0.6858252286911011,
          -0.6551921963691711,
          3.227092742919922,
          1.1185808181762695,
          -2.126455307006836,
          2.124586343765259,
          0.9830808043479919,
          0.33615216612815857,
          -1.327871322631836,
          1.875515341758728,
          0.053188446909189224,
          -3.3226659297943115,
          2.3752238750457764,
          1.8471206426620483,
          1.3154371976852417,
          -7.912782192230225,
          -4.658230304718018,
          -0.9174060821533203,
          -1.5457510948181152,
          -1.6493901014328003,
          -1.178768277168274,
          0.7164627313613892,
          -1.3848540782928467,
          -2.2167413234710693,
          2.1370630264282227,
          3.157559871673584,
          1.3287138938903809,
          3.478627920150757,
          2.7934932708740234,
          -1.354990839958191,
          -3.0850670337677,
          -3.1700363159179688,
          -1.331517219543457,
          -1.626856803894043,
          -6.228935241699219,
          0.40358126163482666,
          -1.751667857170105,
          -2.883270263671875,
          -2.5340261459350586,
          3.4521126747131348,
          2.5812172889709473,
          -2.7037034034729004,
          -4.885185718536377,
          -4.62889289855957,
          -2.715670108795166,
          0.02887633815407753,
          -0.6510377526283264,
          -1.9347894191741943,
          5.2625250816345215,
          2.419022798538208,
          -1.5144275426864624,
          -0.45097216963768005,
          7.260890483856201,
          3.6747426986694336,
          0.8900119662284851,
          -0.7390086054801941,
          -3.004542827606201,
          3.8153934478759766,
          -4.521697521209717,
          -1.551679253578186,
          -0.10014835000038147,
          7.008048057556152,
          2.033766269683838,
          -2.7401485443115234,
          -1.2964200973510742,
          -3.3693177700042725,
          -2.064182758331299,
          4.731866836547852,
          2.9053609371185303,
          3.7582905292510986,
          3.748443841934204,
          1.8694961071014404,
          1.3950128555297852,
          -0.8417887091636658,
          0.3873906135559082,
          -2.129777431488037,
          0.9737698435783386,
          -2.1777944564819336,
          0.5217632055282593,
          0.8941874504089355,
          2.8314905166625977,
          -6.255161285400391,
          -0.17612595856189728,
          3.5668423175811768,
          4.072391033172607,
          1.782104253768921,
          -0.9197540283203125,
          2.5214433670043945,
          4.188295841217041,
          2.9763402938842773,
          -1.3785197734832764,
          2.8103294372558594,
          1.8825088739395142,
          4.642492771148682,
          -2.0018129348754883,
          0.2691289484500885,
          1.237960934638977,
          -0.7325066328048706,
          -4.156501293182373,
          1.1791141033172607,
          -1.76210618019104,
          -1.621692419052124,
          -1.535554051399231,
          1.7361847162246704,
          0.5283730626106262,
          2.8801145553588867,
          -0.30436351895332336,
          0.5375260710716248,
          -3.0971758365631104,
          0.07444842904806137,
          2.05954647064209,
          0.1542620062828064,
          3.9197335243225098,
          4.740328311920166,
          0.25812625885009766,
          -0.6481755971908569,
          2.6539907455444336,
          2.5618810653686523,
          2.8354012966156006,
          -2.1218929290771484,
          0.6134287714958191,
          0.237259641289711,
          3.8697659969329834,
          -0.020276924595236778,
          -1.5970473289489746,
          3.256671905517578,
          0.7629719972610474,
          3.3184049129486084,
          3.5842318534851074,
          1.861523985862732,
          4.371127128601074,
          -1.476216435432434,
          0.11594020575284958,
          -2.0003747940063477,
          -1.6854221820831299,
          5.00473690032959,
          1.200762152671814,
          2.0158090591430664,
          3.5378873348236084,
          -3.9057772159576416,
          -0.6093276739120483,
          1.5612177848815918,
          -7.902956962585449,
          -3.4471707344055176,
          0.5129949450492859,
          -0.10952528566122055,
          -0.15270084142684937,
          0.2985755503177643,
          3.259479284286499,
          -3.8268651962280273,
          -2.6554110050201416,
          -2.8887429237365723,
          0.05496203154325485,
          7.218654632568359,
          0.3326086103916168,
          0.44917091727256775,
          0.23146776854991913,
          -5.502523899078369,
          2.5446841716766357,
          0.555574893951416,
          -1.8872814178466797,
          2.9033048152923584,
          1.2691826820373535,
          0.39926812052726746,
          7.129016876220703,
          0.29652372002601624,
          -5.637558460235596,
          1.8619966506958008,
          2.2652528285980225,
          3.8523335456848145,
          -0.032859016209840775,
          2.207531690597534,
          1.0459270477294922,
          2.8615167140960693,
          -1.009196400642395,
          1.0154982805252075,
          0.5233290195465088,
          3.817840576171875,
          2.937828540802002,
          3.3151280879974365,
          4.643019199371338,
          1.066368579864502,
          1.2575163841247559,
          -3.839576482772827,
          -2.3113632202148438,
          -0.7281563878059387,
          -1.7577240467071533,
          -4.290401458740234,
          -0.5632290244102478,
          0.07868360728025436,
          0.42480865120887756,
          -6.2305145263671875,
          1.5613549947738647,
          2.5800158977508545,
          1.696325659751892,
          0.8801195025444031,
          -2.732210636138916,
          2.6054370403289795,
          7.257735252380371,
          -0.36458122730255127,
          1.2486863136291504,
          -2.455465316772461,
          1.708179235458374,
          -1.8176994323730469,
          -0.49744412302970886,
          -3.7818901538848877,
          -0.07771477103233337,
          2.174335241317749,
          -2.8210320472717285,
          2.910350799560547,
          -3.1386029720306396,
          -1.4102647304534912,
          0.5332804322242737,
          -3.3878023624420166,
          5.632707595825195,
          0.27725937962532043,
          0.035055775195360184,
          -1.7614576816558838,
          -3.056375741958618,
          -3.457699775695801,
          2.0002658367156982,
          3.0858449935913086,
          1.0543292760849,
          -3.4847092628479004,
          -0.5853321552276611,
          -1.6816401481628418,
          1.2469744682312012,
          -1.370279312133789,
          3.82723069190979,
          -4.972667694091797,
          -2.7710235118865967,
          1.3471750020980835,
          -0.5674540996551514,
          -1.3843379020690918,
          2.5166988372802734,
          -4.293600559234619,
          -5.281126976013184,
          -6.160274505615234,
          0.4503270089626312,
          3.0051259994506836,
          -3.3617517948150635,
          2.18696928024292,
          4.992424011230469,
          0.05406118184328079,
          0.5129750370979309,
          0.889544665813446,
          6.979583263397217,
          4.39174747467041,
          -4.2763848304748535,
          -0.5627378821372986,
          4.073541641235352,
          -1.7465287446975708,
          0.381530225276947,
          0.23066113889217377,
          -4.291435718536377,
          -0.028184175491333008,
          0.1097000315785408,
          -1.5457706451416016,
          1.5199477672576904,
          0.21474839746952057,
          -3.091242790222168,
          -3.7112998962402344,
          4.4589033126831055,
          1.2139867544174194,
          1.064882516860962,
          -2.907404661178589,
          5.274343013763428,
          -0.45975860953330994,
          4.6944050788879395,
          1.9673508405685425,
          -4.377822399139404,
          4.113398551940918,
          -1.3228856325149536,
          -3.8017725944519043,
          -4.264648914337158,
          2.5325303077697754,
          2.943965435028076,
          -0.2848564386367798,
          2.8347184658050537,
          -0.9093945622444153,
          -4.314275741577148,
          -0.5697444081306458,
          -2.034635066986084,
          2.031921625137329,
          -2.703178882598877,
          -1.4482433795928955,
          1.0326534509658813,
          -3.6560633182525635,
          1.6340278387069702,
          2.7786881923675537,
          -1.2023766040802002,
          -0.9397727847099304,
          2.920748233795166,
          0.5037400126457214,
          2.3805248737335205,
          -1.0494023561477661,
          -1.0954937934875488,
          5.248666286468506,
          -0.6588230729103088,
          -2.717825412750244,
          4.606198310852051,
          -3.471449851989746,
          1.9346781969070435,
          -4.365661144256592,
          1.7288579940795898,
          1.752091407775879,
          -0.3391428589820862,
          -0.756096363067627,
          -0.7946047782897949,
          -2.6788318157196045,
          3.48642635345459,
          2.4019393920898438,
          -4.283848285675049,
          -6.792633533477783,
          -1.6363420486450195,
          -4.351703643798828,
          0.7328904867172241,
          -0.14183390140533447,
          -0.16071924567222595,
          2.562533378601074,
          3.7049150466918945,
          0.8403812646865845,
          -6.821437358856201,
          -1.908247470855713,
          4.325739860534668,
          2.655747652053833,
          -3.07942271232605,
          -1.46565842628479,
          0.3819044232368469,
          -6.805181980133057,
          2.497624397277832,
          -0.8998057842254639,
          -1.7334825992584229,
          3.7493715286254883,
          -0.9122166037559509,
          1.2159754037857056,
          -2.506707191467285,
          -5.505020618438721,
          0.05516756325960159,
          -5.35697078704834,
          0.7241997122764587,
          -1.3332442045211792,
          -0.6373705267906189,
          -6.255544185638428,
          2.79464054107666,
          -6.290379047393799,
          3.01078462600708,
          -0.4061700701713562,
          -0.28176349401474,
          -1.911751389503479,
          3.5456345081329346,
          -4.871729850769043,
          2.1391892433166504,
          -0.09758216142654419,
          -0.3903902471065521,
          -0.27390703558921814,
          -0.9954348206520081,
          4.504469871520996,
          -1.4008958339691162,
          0.5652821660041809,
          -2.1851305961608887,
          -2.0114457607269287,
          -1.7968695163726807,
          -0.5588341355323792,
          -6.901660442352295,
          -4.489683151245117,
          -1.191910982131958,
          -1.76324462890625,
          0.954384446144104,
          1.8110722303390503,
          3.1163156032562256,
          1.3545829057693481,
          5.315155029296875,
          -1.3563534021377563,
          3.7517755031585693,
          -2.5063860416412354,
          0.1766301840543747,
          1.0145251750946045,
          5.7205281257629395,
          -0.9646629691123962,
          -2.8682284355163574,
          -2.438763380050659,
          5.159140110015869,
          -1.0867581367492676,
          1.6065130233764648,
          0.09221842885017395,
          3.1810624599456787,
          0.6816651225090027,
          1.3030731678009033,
          0.017512034624814987,
          -0.5156209468841553,
          -0.23881639540195465,
          1.2324652671813965,
          -1.4612431526184082,
          -0.5099865794181824,
          -3.244907855987549,
          4.433227062225342,
          -0.13935844600200653,
          -2.9018290042877197,
          3.318378448486328,
          -0.3611336052417755,
          -2.79093861579895,
          2.3471593856811523,
          3.631556510925293,
          4.709517478942871,
          2.2554359436035156,
          2.351020574569702,
          2.512875556945801,
          3.1022350788116455,
          1.2610691785812378,
          2.701319456100464,
          -1.2170162200927734,
          -0.2406107634305954,
          -3.8756344318389893,
          -1.7141411304473877,
          -0.3691408336162567,
          -1.321752667427063,
          2.451871633529663,
          0.09472712874412537,
          -0.6389194130897522,
          -0.8925153613090515,
          0.568023681640625,
          -0.08905310928821564,
          -4.15004301071167,
          -1.569227695465088,
          0.5355639457702637,
          -2.0664026737213135,
          -2.078373670578003,
          1.2776339054107666,
          1.3182615041732788,
          2.8136465549468994,
          -0.057685449719429016,
          -1.717522144317627,
          4.066054344177246,
          -0.5509272813796997,
          -0.9249312877655029,
          1.2330198287963867,
          0.4333503842353821,
          5.039685249328613,
          -1.177137017250061,
          2.058068037033081,
          -2.337672472000122,
          -2.2624351978302,
          3.8042173385620117,
          -4.323832988739014,
          4.0723652839660645,
          2.505584955215454,
          1.1731988191604614,
          -4.53216552734375,
          2.7174665927886963,
          0.20465360581874847,
          2.670957088470459
         ],
         "yaxis": "y"
        }
       ],
       "layout": {
        "coloraxis": {
         "colorbar": {
          "title": {
           "text": "viability"
          }
         },
         "colorscale": [
          [
           0,
           "#0d0887"
          ],
          [
           0.1111111111111111,
           "#46039f"
          ],
          [
           0.2222222222222222,
           "#7201a8"
          ],
          [
           0.3333333333333333,
           "#9c179e"
          ],
          [
           0.4444444444444444,
           "#bd3786"
          ],
          [
           0.5555555555555556,
           "#d8576b"
          ],
          [
           0.6666666666666666,
           "#ed7953"
          ],
          [
           0.7777777777777778,
           "#fb9f3a"
          ],
          [
           0.8888888888888888,
           "#fdca26"
          ],
          [
           1,
           "#f0f921"
          ]
         ]
        },
        "legend": {
         "tracegroupgap": 0
        },
        "template": {
         "data": {
          "bar": [
           {
            "error_x": {
             "color": "#2a3f5f"
            },
            "error_y": {
             "color": "#2a3f5f"
            },
            "marker": {
             "line": {
              "color": "#E5ECF6",
              "width": 0.5
             },
             "pattern": {
              "fillmode": "overlay",
              "size": 10,
              "solidity": 0.2
             }
            },
            "type": "bar"
           }
          ],
          "barpolar": [
           {
            "marker": {
             "line": {
              "color": "#E5ECF6",
              "width": 0.5
             },
             "pattern": {
              "fillmode": "overlay",
              "size": 10,
              "solidity": 0.2
             }
            },
            "type": "barpolar"
           }
          ],
          "carpet": [
           {
            "aaxis": {
             "endlinecolor": "#2a3f5f",
             "gridcolor": "white",
             "linecolor": "white",
             "minorgridcolor": "white",
             "startlinecolor": "#2a3f5f"
            },
            "baxis": {
             "endlinecolor": "#2a3f5f",
             "gridcolor": "white",
             "linecolor": "white",
             "minorgridcolor": "white",
             "startlinecolor": "#2a3f5f"
            },
            "type": "carpet"
           }
          ],
          "choropleth": [
           {
            "colorbar": {
             "outlinewidth": 0,
             "ticks": ""
            },
            "type": "choropleth"
           }
          ],
          "contour": [
           {
            "colorbar": {
             "outlinewidth": 0,
             "ticks": ""
            },
            "colorscale": [
             [
              0,
              "#0d0887"
             ],
             [
              0.1111111111111111,
              "#46039f"
             ],
             [
              0.2222222222222222,
              "#7201a8"
             ],
             [
              0.3333333333333333,
              "#9c179e"
             ],
             [
              0.4444444444444444,
              "#bd3786"
             ],
             [
              0.5555555555555556,
              "#d8576b"
             ],
             [
              0.6666666666666666,
              "#ed7953"
             ],
             [
              0.7777777777777778,
              "#fb9f3a"
             ],
             [
              0.8888888888888888,
              "#fdca26"
             ],
             [
              1,
              "#f0f921"
             ]
            ],
            "type": "contour"
           }
          ],
          "contourcarpet": [
           {
            "colorbar": {
             "outlinewidth": 0,
             "ticks": ""
            },
            "type": "contourcarpet"
           }
          ],
          "heatmap": [
           {
            "colorbar": {
             "outlinewidth": 0,
             "ticks": ""
            },
            "colorscale": [
             [
              0,
              "#0d0887"
             ],
             [
              0.1111111111111111,
              "#46039f"
             ],
             [
              0.2222222222222222,
              "#7201a8"
             ],
             [
              0.3333333333333333,
              "#9c179e"
             ],
             [
              0.4444444444444444,
              "#bd3786"
             ],
             [
              0.5555555555555556,
              "#d8576b"
             ],
             [
              0.6666666666666666,
              "#ed7953"
             ],
             [
              0.7777777777777778,
              "#fb9f3a"
             ],
             [
              0.8888888888888888,
              "#fdca26"
             ],
             [
              1,
              "#f0f921"
             ]
            ],
            "type": "heatmap"
           }
          ],
          "heatmapgl": [
           {
            "colorbar": {
             "outlinewidth": 0,
             "ticks": ""
            },
            "colorscale": [
             [
              0,
              "#0d0887"
             ],
             [
              0.1111111111111111,
              "#46039f"
             ],
             [
              0.2222222222222222,
              "#7201a8"
             ],
             [
              0.3333333333333333,
              "#9c179e"
             ],
             [
              0.4444444444444444,
              "#bd3786"
             ],
             [
              0.5555555555555556,
              "#d8576b"
             ],
             [
              0.6666666666666666,
              "#ed7953"
             ],
             [
              0.7777777777777778,
              "#fb9f3a"
             ],
             [
              0.8888888888888888,
              "#fdca26"
             ],
             [
              1,
              "#f0f921"
             ]
            ],
            "type": "heatmapgl"
           }
          ],
          "histogram": [
           {
            "marker": {
             "pattern": {
              "fillmode": "overlay",
              "size": 10,
              "solidity": 0.2
             }
            },
            "type": "histogram"
           }
          ],
          "histogram2d": [
           {
            "colorbar": {
             "outlinewidth": 0,
             "ticks": ""
            },
            "colorscale": [
             [
              0,
              "#0d0887"
             ],
             [
              0.1111111111111111,
              "#46039f"
             ],
             [
              0.2222222222222222,
              "#7201a8"
             ],
             [
              0.3333333333333333,
              "#9c179e"
             ],
             [
              0.4444444444444444,
              "#bd3786"
             ],
             [
              0.5555555555555556,
              "#d8576b"
             ],
             [
              0.6666666666666666,
              "#ed7953"
             ],
             [
              0.7777777777777778,
              "#fb9f3a"
             ],
             [
              0.8888888888888888,
              "#fdca26"
             ],
             [
              1,
              "#f0f921"
             ]
            ],
            "type": "histogram2d"
           }
          ],
          "histogram2dcontour": [
           {
            "colorbar": {
             "outlinewidth": 0,
             "ticks": ""
            },
            "colorscale": [
             [
              0,
              "#0d0887"
             ],
             [
              0.1111111111111111,
              "#46039f"
             ],
             [
              0.2222222222222222,
              "#7201a8"
             ],
             [
              0.3333333333333333,
              "#9c179e"
             ],
             [
              0.4444444444444444,
              "#bd3786"
             ],
             [
              0.5555555555555556,
              "#d8576b"
             ],
             [
              0.6666666666666666,
              "#ed7953"
             ],
             [
              0.7777777777777778,
              "#fb9f3a"
             ],
             [
              0.8888888888888888,
              "#fdca26"
             ],
             [
              1,
              "#f0f921"
             ]
            ],
            "type": "histogram2dcontour"
           }
          ],
          "mesh3d": [
           {
            "colorbar": {
             "outlinewidth": 0,
             "ticks": ""
            },
            "type": "mesh3d"
           }
          ],
          "parcoords": [
           {
            "line": {
             "colorbar": {
              "outlinewidth": 0,
              "ticks": ""
             }
            },
            "type": "parcoords"
           }
          ],
          "pie": [
           {
            "automargin": true,
            "type": "pie"
           }
          ],
          "scatter": [
           {
            "fillpattern": {
             "fillmode": "overlay",
             "size": 10,
             "solidity": 0.2
            },
            "type": "scatter"
           }
          ],
          "scatter3d": [
           {
            "line": {
             "colorbar": {
              "outlinewidth": 0,
              "ticks": ""
             }
            },
            "marker": {
             "colorbar": {
              "outlinewidth": 0,
              "ticks": ""
             }
            },
            "type": "scatter3d"
           }
          ],
          "scattercarpet": [
           {
            "marker": {
             "colorbar": {
              "outlinewidth": 0,
              "ticks": ""
             }
            },
            "type": "scattercarpet"
           }
          ],
          "scattergeo": [
           {
            "marker": {
             "colorbar": {
              "outlinewidth": 0,
              "ticks": ""
             }
            },
            "type": "scattergeo"
           }
          ],
          "scattergl": [
           {
            "marker": {
             "colorbar": {
              "outlinewidth": 0,
              "ticks": ""
             }
            },
            "type": "scattergl"
           }
          ],
          "scattermapbox": [
           {
            "marker": {
             "colorbar": {
              "outlinewidth": 0,
              "ticks": ""
             }
            },
            "type": "scattermapbox"
           }
          ],
          "scatterpolar": [
           {
            "marker": {
             "colorbar": {
              "outlinewidth": 0,
              "ticks": ""
             }
            },
            "type": "scatterpolar"
           }
          ],
          "scatterpolargl": [
           {
            "marker": {
             "colorbar": {
              "outlinewidth": 0,
              "ticks": ""
             }
            },
            "type": "scatterpolargl"
           }
          ],
          "scatterternary": [
           {
            "marker": {
             "colorbar": {
              "outlinewidth": 0,
              "ticks": ""
             }
            },
            "type": "scatterternary"
           }
          ],
          "surface": [
           {
            "colorbar": {
             "outlinewidth": 0,
             "ticks": ""
            },
            "colorscale": [
             [
              0,
              "#0d0887"
             ],
             [
              0.1111111111111111,
              "#46039f"
             ],
             [
              0.2222222222222222,
              "#7201a8"
             ],
             [
              0.3333333333333333,
              "#9c179e"
             ],
             [
              0.4444444444444444,
              "#bd3786"
             ],
             [
              0.5555555555555556,
              "#d8576b"
             ],
             [
              0.6666666666666666,
              "#ed7953"
             ],
             [
              0.7777777777777778,
              "#fb9f3a"
             ],
             [
              0.8888888888888888,
              "#fdca26"
             ],
             [
              1,
              "#f0f921"
             ]
            ],
            "type": "surface"
           }
          ],
          "table": [
           {
            "cells": {
             "fill": {
              "color": "#EBF0F8"
             },
             "line": {
              "color": "white"
             }
            },
            "header": {
             "fill": {
              "color": "#C8D4E3"
             },
             "line": {
              "color": "white"
             }
            },
            "type": "table"
           }
          ]
         },
         "layout": {
          "annotationdefaults": {
           "arrowcolor": "#2a3f5f",
           "arrowhead": 0,
           "arrowwidth": 1
          },
          "autotypenumbers": "strict",
          "coloraxis": {
           "colorbar": {
            "outlinewidth": 0,
            "ticks": ""
           }
          },
          "colorscale": {
           "diverging": [
            [
             0,
             "#8e0152"
            ],
            [
             0.1,
             "#c51b7d"
            ],
            [
             0.2,
             "#de77ae"
            ],
            [
             0.3,
             "#f1b6da"
            ],
            [
             0.4,
             "#fde0ef"
            ],
            [
             0.5,
             "#f7f7f7"
            ],
            [
             0.6,
             "#e6f5d0"
            ],
            [
             0.7,
             "#b8e186"
            ],
            [
             0.8,
             "#7fbc41"
            ],
            [
             0.9,
             "#4d9221"
            ],
            [
             1,
             "#276419"
            ]
           ],
           "sequential": [
            [
             0,
             "#0d0887"
            ],
            [
             0.1111111111111111,
             "#46039f"
            ],
            [
             0.2222222222222222,
             "#7201a8"
            ],
            [
             0.3333333333333333,
             "#9c179e"
            ],
            [
             0.4444444444444444,
             "#bd3786"
            ],
            [
             0.5555555555555556,
             "#d8576b"
            ],
            [
             0.6666666666666666,
             "#ed7953"
            ],
            [
             0.7777777777777778,
             "#fb9f3a"
            ],
            [
             0.8888888888888888,
             "#fdca26"
            ],
            [
             1,
             "#f0f921"
            ]
           ],
           "sequentialminus": [
            [
             0,
             "#0d0887"
            ],
            [
             0.1111111111111111,
             "#46039f"
            ],
            [
             0.2222222222222222,
             "#7201a8"
            ],
            [
             0.3333333333333333,
             "#9c179e"
            ],
            [
             0.4444444444444444,
             "#bd3786"
            ],
            [
             0.5555555555555556,
             "#d8576b"
            ],
            [
             0.6666666666666666,
             "#ed7953"
            ],
            [
             0.7777777777777778,
             "#fb9f3a"
            ],
            [
             0.8888888888888888,
             "#fdca26"
            ],
            [
             1,
             "#f0f921"
            ]
           ]
          },
          "colorway": [
           "#636efa",
           "#EF553B",
           "#00cc96",
           "#ab63fa",
           "#FFA15A",
           "#19d3f3",
           "#FF6692",
           "#B6E880",
           "#FF97FF",
           "#FECB52"
          ],
          "font": {
           "color": "#2a3f5f"
          },
          "geo": {
           "bgcolor": "white",
           "lakecolor": "white",
           "landcolor": "#E5ECF6",
           "showlakes": true,
           "showland": true,
           "subunitcolor": "white"
          },
          "hoverlabel": {
           "align": "left"
          },
          "hovermode": "closest",
          "mapbox": {
           "style": "light"
          },
          "paper_bgcolor": "white",
          "plot_bgcolor": "#E5ECF6",
          "polar": {
           "angularaxis": {
            "gridcolor": "white",
            "linecolor": "white",
            "ticks": ""
           },
           "bgcolor": "#E5ECF6",
           "radialaxis": {
            "gridcolor": "white",
            "linecolor": "white",
            "ticks": ""
           }
          },
          "scene": {
           "xaxis": {
            "backgroundcolor": "#E5ECF6",
            "gridcolor": "white",
            "gridwidth": 2,
            "linecolor": "white",
            "showbackground": true,
            "ticks": "",
            "zerolinecolor": "white"
           },
           "yaxis": {
            "backgroundcolor": "#E5ECF6",
            "gridcolor": "white",
            "gridwidth": 2,
            "linecolor": "white",
            "showbackground": true,
            "ticks": "",
            "zerolinecolor": "white"
           },
           "zaxis": {
            "backgroundcolor": "#E5ECF6",
            "gridcolor": "white",
            "gridwidth": 2,
            "linecolor": "white",
            "showbackground": true,
            "ticks": "",
            "zerolinecolor": "white"
           }
          },
          "shapedefaults": {
           "line": {
            "color": "#2a3f5f"
           }
          },
          "ternary": {
           "aaxis": {
            "gridcolor": "white",
            "linecolor": "white",
            "ticks": ""
           },
           "baxis": {
            "gridcolor": "white",
            "linecolor": "white",
            "ticks": ""
           },
           "bgcolor": "#E5ECF6",
           "caxis": {
            "gridcolor": "white",
            "linecolor": "white",
            "ticks": ""
           }
          },
          "title": {
           "x": 0.05
          },
          "xaxis": {
           "automargin": true,
           "gridcolor": "white",
           "linecolor": "white",
           "ticks": "",
           "title": {
            "standoff": 15
           },
           "zerolinecolor": "white",
           "zerolinewidth": 2
          },
          "yaxis": {
           "automargin": true,
           "gridcolor": "white",
           "linecolor": "white",
           "ticks": "",
           "title": {
            "standoff": 15
           },
           "zerolinecolor": "white",
           "zerolinewidth": 2
          }
         }
        },
        "title": {
         "text": "TF Data TSNE: 2D t-SNE Plot"
        },
        "xaxis": {
         "anchor": "y",
         "domain": [
          0,
          1
         ],
         "title": {
          "text": "0"
         }
        },
        "yaxis": {
         "anchor": "x",
         "domain": [
          0,
          1
         ],
         "title": {
          "text": "1"
         }
        }
       }
      }
     },
     "metadata": {},
     "output_type": "display_data"
    },
    {
     "data": {
      "application/vnd.plotly.v1+json": {
       "config": {
        "plotlyServerURL": "https://plot.ly"
       },
       "data": [
        {
         "hovertemplate": "0=%{x}<br>1=%{y}<br>2=%{z}<br>viability=%{marker.color}<extra></extra>",
         "legendgroup": "",
         "marker": {
          "color": [
           0.9911572251061926,
           1,
           0.9763426956788256,
           0.3764199443247731,
           1,
           1,
           1,
           1,
           1,
           1,
           0.902433500861249,
           0.9965594255498296,
           1,
           0.8701642995293112,
           0.8118997621394186,
           0.9707202422048736,
           1,
           1,
           0.9026565042352812,
           0.9284214823333788,
           0.9283391773415052,
           0.8871788957014122,
           0.8735072210701182,
           0.7729527366351572,
           1,
           0.5907228459832805,
           1,
           1,
           1,
           1,
           1,
           0.9343329708348804,
           1,
           0.9058648643780084,
           0.9957237742923652,
           1,
           0.931707313971434,
           0.9551832161427256,
           1,
           1,
           1,
           1,
           1,
           1,
           1,
           0.9334119724860734,
           1,
           1,
           0.9682378335902452,
           0.391580169065613,
           0.91547659184532,
           1,
           0.0526205687951325,
           0.7097918107442335,
           0.6012445070831133,
           0.9954713079656806,
           1,
           0.925295646456794,
           0.9371302443754312,
           1,
           0.9632665734880318,
           0.9529222969005088,
           0.9342068642363196,
           0.4705060371530662,
           0.8575002016537739,
           0.8543599099145673,
           0.7713943872752447,
           0.8856281917213811,
           1,
           0.9764999816243652,
           0.9162615080987344,
           0.9249065938039877,
           0.9698195641669288,
           1,
           0.918939132250458,
           1,
           0.8764983911293238,
           0.9486347740201498,
           0.9945772345400858,
           0.91046308368916,
           1,
           0.9763693079735108,
           0.2761501590638442,
           0.9982688826883876,
           0.9807724594688424,
           1,
           0.8293461337787491,
           0.9900982219982036,
           0.9974582686724016,
           0.990816172069673,
           0.955115008396499,
           0.9870786107513476,
           0.9938913014643518,
           1,
           1,
           0.919269537116401,
           0.9271155081517242,
           1,
           1,
           1,
           0.3762892830406895,
           1,
           1,
           0.9463904673721824,
           0.9054336931248422,
           0.3693915502739749,
           0.9949511960594416,
           1,
           0.9662712264431316,
           0.7787090306804507,
           0.1918259918590977,
           0.9653816122625418,
           0.9395700347787058,
           0.9952816212766048,
           1,
           1,
           1,
           0.894731694861747,
           1,
           0.9455883958096952,
           1,
           1,
           0.9069873491633816,
           0.8831448654048591,
           0.2665513526674094,
           0.8542335395427392,
           1,
           1,
           0.9596922808567652,
           0.6151199063318602,
           0.9323570949246758,
           0.6570258183731501,
           0.1070177702747052,
           1,
           1,
           1,
           1,
           1,
           1,
           0.8069655848937446,
           1,
           0.984180471933336,
           0.9885687547090676,
           0.5956069420894501,
           0.1731298951338346,
           0.7916014360909273,
           1,
           0.9900742358083144,
           1,
           0.965136376525251,
           0.9601171222698764,
           1,
           1,
           0.649932914649567,
           0.9447120611112292,
           1,
           0.8114940031594375,
           0.478572437916353,
           1,
           0.0152860642407448,
           0.2721578241972284,
           1,
           0.4669368740402836,
           0.914880068550586,
           0.9918828890589848,
           0.9535617867886126,
           0.9195722871437332,
           0.9152889092573472,
           1,
           1,
           0.9728891671704378,
           0.5620782798737056,
           0.9538391773920766,
           1,
           0.9906856128348271,
           0.7168576691068649,
           1,
           0.9393729240101346,
           1,
           0.9815149873627168,
           0.0503888221703299,
           1,
           0.9375063580247344,
           1,
           1,
           0.0599706222801095,
           1,
           0.8062214758109016,
           0.3557055302340094,
           0.8897957386515137,
           0.5740832308142804,
           0.9212151627512338,
           0.9470433581314808,
           0.9380667240833974,
           1,
           0.6078416259233785,
           1,
           0.9787666679656272,
           0.9495539263277896,
           0.9573365017673474,
           1,
           1,
           1,
           0.711475112928782,
           0.5696368977165406,
           0.9604150577841696,
           0.926723030041402,
           0.9523162501502024,
           0.9406002856274,
           0.7505498974222241,
           1,
           0.8405203195182673,
           1,
           0.9513467966906042,
           0.9220446852173314,
           0.9996751998710034,
           0.1199571245942936,
           0.9793414298594464,
           0.9320453618719834,
           1,
           0.158064988933863,
           0.2535515727493794,
           1,
           1,
           0.4511429202478141,
           1,
           1,
           1,
           0.8209703873836756,
           1,
           0.9735785935526384,
           0.9418717758940276,
           0.9601924197871944,
           1,
           0.9850472954389252,
           0.8613782872559135,
           1,
           0.7944856661191995,
           0.2932031523194223,
           0.7405041335865249,
           0.72011228042129,
           1,
           1,
           0.4877889571279723,
           0.661861634444495,
           0.9610743493480838,
           0.3758719337158476,
           0.9188686210718744,
           0.367842580288183,
           0.9288787802362044,
           0.9754562803389174,
           1,
           0.023906921965213,
           0.8903733804781554,
           0.9739195666739184,
           0.9772599673108976,
           0.9768596094005908,
           0.8283377246601852,
           1,
           1,
           0.2738408031138887,
           1,
           1,
           0.8910230602855607,
           1,
           1,
           0.9647354047182706,
           0.824686143930963,
           0.9503648340116424,
           0.999966880707852,
           0.9358206399747514,
           0.9707268783684596,
           0.9359710299034448,
           1,
           0.4309827742617397,
           0.9967576260948952,
           0.0487627588714312,
           1,
           1,
           1,
           1,
           0.9468238970287476,
           0.1161131165695418,
           0.9675055898027904,
           0.9735155061414184,
           0.7783562638803598,
           0.3434597516997231,
           0.877366236667675,
           1,
           0.6489554394326076,
           1,
           0.9402014420684668,
           0.2095273275505995,
           0.9876472450362588,
           1,
           1,
           1,
           0.9975958335060664,
           0.379015753513757,
           0.929328079161321,
           1,
           0.8833462256153723,
           0.967297971162952,
           0.980934586892628,
           1,
           0.9397260494167792,
           1,
           0.070903890672331,
           0.2628111581600572,
           0.9757178528524676,
           0.9747734981121514,
           1,
           0.932357094955524,
           0.9283391773415052,
           1,
           1,
           0.5872187038694257,
           1,
           0.9348097811635542,
           1,
           0.8916196394672546,
           0.8794579160942018,
           0.8133069902942225,
           1,
           1,
           0.9217370292638932,
           0.9674984659396316,
           1,
           1,
           0.7633335157390769,
           1,
           0.3942298160689444,
           1,
           1,
           0.3157111118475092,
           0.5365158351286876,
           1,
           0.0635652038392036,
           1,
           0.5742383697494073,
           0.9423979549284448,
           1,
           0.9612520472190712,
           0.8723021843073692,
           0.6622360500453851,
           1,
           0.8208327671208264,
           1,
           1,
           1,
           1,
           0.5146315941854094,
           0.9704895393268648,
           0.9953487065671938,
           1,
           0.9472498633421264,
           1,
           1,
           0.9829291278571074,
           0.803530830465743,
           0.9744326286328958,
           0.8720001904995517,
           1,
           1,
           0.0761293279984815,
           0.9482480466162256,
           0.9892016535883472,
           0.9179741863426748,
           0.9985031971596298,
           1,
           1,
           0.9950639410574365,
           0.918651909738338,
           0.6627823441491636,
           1,
           0.7389639858394237,
           1,
           0.731073835746276,
           1,
           1,
           0.9383579235659142,
           0.9638386966726684,
           0.966382588382872,
           0.2692714245608444,
           1,
           0.954070453255631,
           1,
           0.8957791469591516,
           1,
           0.9175440289998908,
           1,
           0.4790080375492733,
           0.995527294013827,
           0.4165109334432695,
           0.7942726403516477,
           1,
           1,
           0.9809888144922416,
           1,
           0.976784514398834,
           0.7610653458706871,
           1,
           1,
           0.9023230255106583,
           1,
           1,
           1,
           0.5180904956584214,
           0.7145595194385416,
           0.9835591942084604,
           1,
           0.0778862261719908,
           1,
           1,
           0.940914698854984,
           1,
           0.6824314128454019,
           1,
           1,
           0.8798611043995752,
           1,
           1,
           1,
           1,
           0.8910230602859409,
           0.9545931144627644,
           1,
           1,
           0.9853028081943092,
           1,
           1,
           1,
           0.9973973738120084,
           0.9132935337251222,
           0.9718051383697957,
           0.2750531970853354,
           1,
           0.2415563690734038,
           1,
           0.895174840694579,
           0.345566007964002,
           1,
           1,
           1,
           1,
           1,
           0.9835248925161324,
           1,
           0.9563351279311206,
           0.9977848097067116,
           0.7399688765081351,
           1,
           0.7464306832261809,
           0.5867420633096035,
           0.0776927121907793,
           0.4242013790155854,
           0.9603994405852344,
           0.5438016783954467,
           1,
           1,
           1,
           1,
           1,
           1,
           1,
           1,
           0.3324925360846205,
           1,
           1,
           0.6062003935583636,
           0.9857025148607724,
           0.9727876329616748,
           0.9869775165007644,
           1,
           0.9945121891968756,
           1,
           0.4984048189337594,
           0.9912625944537408,
           1,
           0.4576526336455476,
           0.8328824913753605,
           1,
           0.950291137132356,
           1,
           0.4353201267833341,
           0.936675424659343,
           1,
           0.9313697794909592,
           1,
           1,
           1,
           0.1915402339724938,
           0.6809551461267556,
           0.9622844078664632,
           1,
           0.967292872643148,
           1,
           0.5931762439107249,
           0.8977157544829311,
           0.4696725689253001
          ],
          "coloraxis": "coloraxis",
          "size": 5,
          "symbol": "circle"
         },
         "mode": "markers",
         "name": "",
         "scene": "scene",
         "showlegend": false,
         "type": "scatter3d",
         "x": [
          -80.02333068847656,
          -31.788116455078125,
          -26.27180290222168,
          89.01786041259766,
          -50.21330642700195,
          -73.57621765136719,
          1.995947241783142,
          -4.8086161613464355,
          9.632125854492188,
          -36.32419967651367,
          18.416906356811523,
          -6.098033905029297,
          59.63761520385742,
          -40.94038772583008,
          -63.27960968017578,
          -17.536775588989258,
          18.692729949951172,
          -105.25881958007812,
          -28.553325653076172,
          6.376082420349121,
          -22.04750633239746,
          -16.380481719970703,
          15.916439056396484,
          -64.75828552246094,
          -22.901039123535156,
          71.45124053955078,
          -42.25159454345703,
          55.37712860107422,
          -14.49461555480957,
          58.70901870727539,
          -46.689842224121094,
          61.70697021484375,
          -18.330598831176758,
          10.946207046508789,
          -52.754703521728516,
          -92.6786117553711,
          -21.595121383666992,
          62.077754974365234,
          -22.31867218017578,
          42.18783950805664,
          -45.46112060546875,
          17.106435775756836,
          -38.307159423828125,
          38.22450256347656,
          50.474952697753906,
          -14.05229663848877,
          -69.74077606201172,
          -5.546426773071289,
          -95.68991088867188,
          -31.499975204467773,
          -26.159448623657227,
          -34.15401840209961,
          23.41950798034668,
          -58.02589797973633,
          35.031524658203125,
          36.06918716430664,
          -1.9018138647079468,
          6.950985908508301,
          -51.28153991699219,
          -37.98055648803711,
          -9.796050071716309,
          46.1259765625,
          7.953461647033691,
          18.29258155822754,
          31.958538055419922,
          -71.71308135986328,
          26.072824478149414,
          36.07484817504883,
          -38.710758209228516,
          -4.647856712341309,
          -16.924137115478516,
          -12.740758895874023,
          -3.0515124797821045,
          16.896282196044922,
          90.71980285644531,
          58.187469482421875,
          -42.03945541381836,
          -22.41351318359375,
          -699.861083984375,
          49.7060432434082,
          -33.969871520996094,
          -28.49944496154785,
          9.53246021270752,
          6.88690710067749,
          36.964576721191406,
          -76.4323501586914,
          -61.79710388183594,
          -60.20764923095703,
          -41.69978713989258,
          -2.9181177616119385,
          -28.476993560791016,
          23.843730926513672,
          -6.3721160888671875,
          49.10398483276367,
          34.21158218383789,
          382.4629821777344,
          -50.52008056640625,
          66.78907775878906,
          -12.125621795654297,
          35.31742477416992,
          -34.25370788574219,
          28.133398056030273,
          -64.37751007080078,
          34.03925323486328,
          -21.575220108032227,
          -8.266336441040039,
          -36.718814849853516,
          22.906112670898438,
          -14.60800552368164,
          57.29362487792969,
          23.366806030273438,
          74.6217269897461,
          29.623336791992188,
          42.49290466308594,
          -43.71007537841797,
          34.34490966796875,
          -43.04109573364258,
          -14.473305702209473,
          -8.209733009338379,
          10.344907760620117,
          68.17842102050781,
          -95.30308532714844,
          -79.55715942382812,
          -42.2335319519043,
          35.116451263427734,
          -13.835686683654785,
          -18.736736297607422,
          -14.817986488342285,
          -63.09272384643555,
          0.7185100317001343,
          19.611427307128906,
          2.7822461128234863,
          19.783823013305664,
          23.694787979125977,
          82.29673767089844,
          41.46040344238281,
          43.27800750732422,
          6.352401256561279,
          12.390128135681152,
          -37.88404083251953,
          -13.907170295715332,
          -57.5125846862793,
          -3.7351982593536377,
          79.26082611083984,
          45.528507232666016,
          6.943882465362549,
          -21.381103515625,
          -61.25315475463867,
          51.97431564331055,
          11.3673677444458,
          -18.79422378540039,
          -45.502925872802734,
          53.000526428222656,
          58.358055114746094,
          4.528244495391846,
          30.18610382080078,
          -19.888946533203125,
          60.95407485961914,
          -19.52756690979004,
          76.91317749023438,
          3.8777194023132324,
          19.8280029296875,
          -73.67742919921875,
          -60.536808013916016,
          -38.169925689697266,
          37.35300064086914,
          38.160465240478516,
          -68.3151626586914,
          -12.477039337158203,
          62.19411087036133,
          28.667116165161133,
          38.77759552001953,
          -50.57869338989258,
          -7.081998348236084,
          -14.452072143554688,
          48.27103042602539,
          20.228322982788086,
          -64.38273620605469,
          0.8611657023429871,
          58.5101432800293,
          66.86421966552734,
          -30.555681228637695,
          -28.14501953125,
          96.73241424560547,
          -17.063617706298828,
          15.65429401397705,
          38.546226501464844,
          17.911771774291992,
          30.946550369262695,
          -76.259765625,
          37.27656555175781,
          -27.65247917175293,
          2.4711415767669678,
          51.4245491027832,
          1.7225698232650757,
          81.40950775146484,
          47.40875244140625,
          -14.876338958740234,
          -44.30329895019531,
          6.745700359344482,
          -31.135316848754883,
          39.71465301513672,
          54.459110260009766,
          -6.512460708618164,
          69.53250885009766,
          -7.512863636016846,
          30.018781661987305,
          6.4618306159973145,
          -2.323462963104248,
          -40.35811996459961,
          2.3495302200317383,
          40.095489501953125,
          54.52067565917969,
          8.950305938720703,
          -47.75794219970703,
          29.242267608642578,
          -92.7837905883789,
          21.009275436401367,
          -1.1881133317947388,
          -79.84326171875,
          63.33216094970703,
          79.81141662597656,
          -12.290508270263672,
          19.60988426208496,
          -71.03048706054688,
          0.8838536143302917,
          34.68980407714844,
          31.200000762939453,
          76.13163757324219,
          -59.355377197265625,
          -73.32914733886719,
          -34.09194564819336,
          -52.50543975830078,
          -52.3464241027832,
          -10.702567100524902,
          2.630674123764038,
          -3.8568406105041504,
          58.24464416503906,
          -22.433231353759766,
          -93.5030746459961,
          8.75119400024414,
          30.250411987304688,
          -7.397136688232422,
          -20.51228904724121,
          -19.57003402709961,
          2.1339948177337646,
          -40.66191101074219,
          -40.91884231567383,
          52.02212142944336,
          -4.915919303894043,
          -37.42583084106445,
          -45.515403747558594,
          -50.234275817871094,
          -42.197139739990234,
          -0.10080011188983917,
          13.76069450378418,
          -20.276269912719727,
          -44.32300567626953,
          -27.40946388244629,
          21.286073684692383,
          23.625402450561523,
          22.53597068786621,
          -36.11567687988281,
          9.766413688659668,
          -3.953397512435913,
          -69.44519805908203,
          10.25777530670166,
          -30.7246036529541,
          -30.232921600341797,
          -3.2856554985046387,
          -94.86376953125,
          -79.10993194580078,
          -47.14518356323242,
          -68.10539245605469,
          46.50507354736328,
          -58.35968780517578,
          -59.95588684082031,
          -96.67604064941406,
          75.32117462158203,
          20.49929428100586,
          -84.33441925048828,
          13.610077857971191,
          60.148101806640625,
          32.40304183959961,
          -46.79931640625,
          -56.84761047363281,
          -63.59294891357422,
          53.86626434326172,
          -33.64301300048828,
          -33.72835159301758,
          39.4022216796875,
          -57.59101104736328,
          20.1668643951416,
          -86.14448547363281,
          4.536530017852783,
          2.576075553894043,
          17.683094024658203,
          58.603858947753906,
          -34.34950637817383,
          -26.586862564086914,
          -31.288667678833008,
          35.04740905761719,
          53.960357666015625,
          -11.009801864624023,
          -32.249027252197266,
          -63.043514251708984,
          72.9825668334961,
          63.504051208496094,
          21.643903732299805,
          7.347806453704834,
          -73.3426284790039,
          -17.20482063293457,
          -73.06458282470703,
          30.62763023376465,
          -20.916528701782227,
          78.33053588867188,
          -26.07712745666504,
          25.42862319946289,
          -32.39270782470703,
          21.03142547607422,
          -14.626116752624512,
          39.9603157043457,
          -23.404766082763672,
          -68.01749420166016,
          -6.254437446594238,
          -41.523963928222656,
          64.76050567626953,
          -59.48290252685547,
          28.871177673339844,
          52.46931838989258,
          -64.70563507080078,
          16.23543930053711,
          77.09391784667969,
          -3.7004947662353516,
          21.93433380126953,
          17.582538604736328,
          5.086226940155029,
          79.07276916503906,
          44.1590461730957,
          -81.67073059082031,
          73.27713012695312,
          -25.803997039794922,
          -17.841882705688477,
          -30.090940475463867,
          -25.31642723083496,
          -2.4607949256896973,
          -54.98198699951172,
          12.473060607910156,
          0.22293516993522644,
          -24.676603317260742,
          9.340755462646484,
          -66.7380599975586,
          11.532078742980957,
          21.622814178466797,
          19.596115112304688,
          87.86896514892578,
          1.1063652038574219,
          29.417572021484375,
          -2.347276449203491,
          50.075164794921875,
          -40.3715934753418,
          -0.9381316900253296,
          43.70866775512695,
          17.64985466003418,
          -19.832870483398438,
          47.025760650634766,
          -17.264652252197266,
          6.957602500915527,
          44.24885940551758,
          -53.0645751953125,
          86.21862030029297,
          -58.66270065307617,
          73.52647399902344,
          89.60645294189453,
          -31.877241134643555,
          55.052921295166016,
          21.634679794311523,
          -93.79856872558594,
          -11.856402397155762,
          -0.08004646003246307,
          7.631080150604248,
          39.36897659301758,
          -71.3686294555664,
          32.24103927612305,
          -53.464080810546875,
          80.27700805664062,
          55.373355865478516,
          -14.443016052246094,
          -27.93140411376953,
          42.14236068725586,
          29.536293029785156,
          3.8516480922698975,
          20.28110694885254,
          -55.73937225341797,
          34.60222244262695,
          -83.02157592773438,
          -46.83245086669922,
          38.92866897583008,
          44.48074722290039,
          -73.45118713378906,
          -39.400753021240234,
          -1.9727628231048584,
          27.611309051513672,
          32.124420166015625,
          97.26749420166016,
          -11.421005249023438,
          -32.41146469116211,
          74.9873046875,
          -44.72019958496094,
          19.385778427124023,
          49.47747039794922,
          -16.63492202758789,
          16.808677673339844,
          5.711886405944824,
          -42.033851623535156,
          -34.90788650512695,
          41.1019172668457,
          42.9288215637207,
          40.187705993652344,
          55.3582649230957,
          98.79275512695312,
          -24.17452621459961,
          36.86811828613281,
          -45.40331268310547,
          21.312288284301758,
          11.690459251403809,
          61.53147506713867,
          -85.90843963623047,
          60.25645065307617,
          -42.73069763183594,
          71.88348388671875,
          -10.930150032043457,
          -88.72586059570312,
          -36.50355529785156,
          36.59382629394531,
          60.19956970214844,
          9.640498161315918,
          3.262723922729492,
          6.783645153045654,
          61.78213882446289,
          0.5865143537521362,
          -43.690834045410156,
          60.65169906616211,
          -43.05350112915039,
          14.033387184143066,
          18.91204071044922,
          -21.662303924560547,
          -33.207130432128906,
          -20.980060577392578,
          -16.763256072998047,
          19.089675903320312,
          -10.775847434997559,
          -67.32447814941406,
          -20.63155174255371,
          57.480072021484375,
          17.744626998901367,
          67.17657470703125,
          -61.240570068359375,
          28.171438217163086,
          56.800262451171875,
          9.716767311096191,
          -0.4835294485092163,
          -8.285699844360352,
          31.86983871459961,
          -20.628713607788086,
          71.82305145263672,
          -42.38285446166992,
          -12.07932186126709,
          37.15521240234375,
          -1.6375244855880737,
          51.51976013183594,
          5.160036563873291,
          -55.12615966796875,
          0.3327006697654724,
          -51.385108947753906,
          -45.266963958740234,
          94.44786834716797,
          -22.24386978149414,
          -10.539518356323242,
          44.36083984375,
          -4.1875200271606445,
          -0.7727129459381104,
          -27.823833465576172,
          15.408835411071777,
          -78.22884368896484,
          13.229065895080566,
          -31.745786666870117,
          39.18670654296875,
          73.1539535522461,
          -10.011774063110352,
          -0.10391201078891754,
          26.494915008544922,
          -84.48614501953125,
          40.11391067504883,
          -0.7518777251243591,
          -25.501293182373047,
          -73.55006408691406,
          44.19539260864258,
          -10.935564994812012,
          79.51107788085938
         ],
         "y": [
          -34.35003662109375,
          45.80042266845703,
          -9.492058753967285,
          -17.592906951904297,
          30.73812484741211,
          13.396946907043457,
          -16.373167037963867,
          70.58917236328125,
          -72.06304931640625,
          -47.40652084350586,
          11.388516426086426,
          -65.91477966308594,
          79.55524444580078,
          -78.55519104003906,
          -43.881595611572266,
          -61.98887634277344,
          -65.3730239868164,
          -0.4765309989452362,
          48.186702728271484,
          7.749300003051758,
          12.93576431274414,
          -0.9860627055168152,
          22.12788200378418,
          6.699475288391113,
          86.93499755859375,
          61.83478546142578,
          -90.1177749633789,
          -46.10929489135742,
          -21.208967208862305,
          -73.57774353027344,
          44.013633728027344,
          14.679733276367188,
          42.97769546508789,
          62.771121978759766,
          -12.505949974060059,
          27.00536346435547,
          98.88165283203125,
          22.8317928314209,
          7.170342445373535,
          -77.24968719482422,
          9.532160758972168,
          -33.26168441772461,
          -30.592859268188477,
          45.93887710571289,
          2.7101590633392334,
          -1.3082236051559448,
          61.62237548828125,
          0.2820596396923065,
          2.5195882320404053,
          25.051259994506836,
          -72.24774932861328,
          -31.90144157409668,
          5.456226825714111,
          -6.042058944702148,
          -26.989639282226562,
          65.3705062866211,
          -41.431175231933594,
          -36.244773864746094,
          13.477663040161133,
          85.99174499511719,
          -80.48745727539062,
          20.721553802490234,
          32.388614654541016,
          23.981592178344727,
          37.90348815917969,
          15.67175579071045,
          40.314674377441406,
          18.321632385253906,
          -7.356058120727539,
          67.3065414428711,
          55.835750579833984,
          52.03895568847656,
          37.41691970825195,
          -76.16422271728516,
          16.974597930908203,
          -33.23311233520508,
          3.704120397567749,
          -35.370338439941406,
          554.7174682617188,
          15.150307655334473,
          -76.3792724609375,
          71.62730407714844,
          -31.419260025024414,
          -32.7554931640625,
          22.47910499572754,
          19.69219207763672,
          13.655864715576172,
          57.95052719116211,
          14.01418399810791,
          15.670878410339355,
          63.71579360961914,
          18.542078018188477,
          19.544416427612305,
          40.2751579284668,
          94.28693389892578,
          -257.5828552246094,
          -6.126518249511719,
          -68.86105346679688,
          19.951522827148438,
          -43.247093200683594,
          -34.92884063720703,
          -58.07320022583008,
          -68.17833709716797,
          -32.5505256652832,
          -96.13514709472656,
          26.691625595092773,
          -34.832435607910156,
          57.97260665893555,
          -43.80099868774414,
          -19.782934188842773,
          -87.51034545898438,
          36.30942153930664,
          -87.33892059326172,
          57.61371994018555,
          -0.6315408945083618,
          85.99522399902344,
          -62.98584747314453,
          30.647531509399414,
          -0.4633137583732605,
          -38.052120208740234,
          3.0110580921173096,
          -31.443206787109375,
          -28.34664535522461,
          76.42042541503906,
          -65.32943725585938,
          12.930808067321777,
          57.61494827270508,
          -14.645968437194824,
          57.72783660888672,
          -60.380550384521484,
          77.66034698486328,
          60.22817611694336,
          64.73895263671875,
          -33.72382354736328,
          -30.313697814941406,
          -39.763301849365234,
          -38.97090148925781,
          -25.41350555419922,
          -74.04671478271484,
          70.34291076660156,
          -74.98767852783203,
          -22.04503059387207,
          30.258026123046875,
          25.17613410949707,
          -58.33610153198242,
          -99.17650604248047,
          19.814987182617188,
          -49.427337646484375,
          72.95466613769531,
          -12.975821495056152,
          11.440170288085938,
          -65.41603088378906,
          19.68512725830078,
          -35.95794677734375,
          24.664216995239258,
          27.73224639892578,
          -15.134222030639648,
          24.218772888183594,
          -60.553070068359375,
          33.896217346191406,
          -19.15091896057129,
          -15.865220069885254,
          1.0434882640838623,
          28.73946189880371,
          -6.049243450164795,
          -38.80021286010742,
          0.09380695223808289,
          48.05570983886719,
          -18.840435028076172,
          8.741562843322754,
          97.80496978759766,
          49.01077651977539,
          20.218339920043945,
          -22.440664291381836,
          -27.546646118164062,
          -3.9347643852233887,
          -29.095722198486328,
          27.805278778076172,
          -66.5131607055664,
          -15.881308555603027,
          48.69953155517578,
          -84.52079772949219,
          24.83563995361328,
          -7.998048305511475,
          33.9689826965332,
          -93.39185333251953,
          31.25086212158203,
          -3.302213191986084,
          63.1851806640625,
          47.36354064941406,
          74.84629821777344,
          9.167366981506348,
          -1.5252978801727295,
          68.70864868164062,
          -54.15890884399414,
          -6.6679158210754395,
          -52.26395034790039,
          -32.66606140136719,
          -15.195060729980469,
          -1.614193320274353,
          -67.48483276367188,
          54.23198318481445,
          81.2339859008789,
          -78.5896224975586,
          29.026268005371094,
          -15.737277030944824,
          -77.73828887939453,
          -66.35697937011719,
          9.582657814025879,
          52.836856842041016,
          18.742097854614258,
          75.96556854248047,
          -4.475917816162109,
          -16.029844284057617,
          41.930912017822266,
          18.380216598510742,
          18.21868133544922,
          23.94376564025879,
          41.42897415161133,
          32.53792190551758,
          -45.92578125,
          -15.54288387298584,
          35.60354995727539,
          -42.79236602783203,
          -55.469268798828125,
          13.040562629699707,
          2.278170585632324,
          -2.2324302196502686,
          26.527585983276367,
          -26.68937110900879,
          -34.14385986328125,
          81.80142211914062,
          11.202299118041992,
          85.00233459472656,
          -36.857177734375,
          102.39225006103516,
          47.669837951660156,
          48.36418151855469,
          34.84208679199219,
          -18.468570709228516,
          43.160648345947266,
          -14.359703063964844,
          -73.97753143310547,
          -51.4080810546875,
          94.75850677490234,
          -33.74416732788086,
          -37.252601623535156,
          -13.44580364227295,
          -81.92620086669922,
          46.215084075927734,
          10.144575119018555,
          4.585380554199219,
          64.31623840332031,
          35.15577697753906,
          -0.20553839206695557,
          -18.648340225219727,
          -17.921478271484375,
          38.31291961669922,
          30.616559982299805,
          2.484278678894043,
          -47.70451354980469,
          42.66998291015625,
          -63.01351547241211,
          -3.637530565261841,
          77.2492904663086,
          62.030372619628906,
          55.7384033203125,
          13.883650779724121,
          48.5102653503418,
          -47.805999755859375,
          7.493463516235352,
          -10.636981964111328,
          -17.888593673706055,
          -25.647903442382812,
          -74.07281494140625,
          -64.77483367919922,
          -35.723487854003906,
          -21.56965446472168,
          5.578284740447998,
          -51.743892669677734,
          1.6489791870117188,
          22.6531925201416,
          -19.260498046875,
          -2.2246177196502686,
          -82.7392578125,
          38.3697624206543,
          45.000030517578125,
          -64.36383819580078,
          -4.272367477416992,
          42.9429931640625,
          -25.99932289123535,
          82.00736236572266,
          79.00519561767578,
          -21.602943420410156,
          -53.38542175292969,
          -94.0262451171875,
          44.8178825378418,
          -54.326805114746094,
          21.875476837158203,
          30.07855796813965,
          -12.765454292297363,
          -0.06391777843236923,
          37.396240234375,
          21.226194381713867,
          -14.681876182556152,
          -19.430252075195312,
          -6.6573100090026855,
          38.90776443481445,
          22.821138381958008,
          4.162895202636719,
          -13.091008186340332,
          2.8854010105133057,
          -5.481372833251953,
          -22.618988037109375,
          -53.43231201171875,
          -33.53492736816406,
          -43.350547790527344,
          -51.0942268371582,
          5.180159568786621,
          -17.853485107421875,
          -24.111173629760742,
          37.84354019165039,
          49.70708465576172,
          -3.4264841079711914,
          13.95188045501709,
          -53.334228515625,
          -50.10350799560547,
          17.835512161254883,
          11.231565475463867,
          44.496089935302734,
          -49.36238098144531,
          -41.20914077758789,
          39.473731994628906,
          -106.38787841796875,
          42.5572624206543,
          41.53873825073242,
          -37.77979278564453,
          -58.38667678833008,
          -57.52212142944336,
          22.345096588134766,
          -39.48064422607422,
          -19.16994285583496,
          8.094080924987793,
          -31.836864471435547,
          -1.7685686349868774,
          -11.613107681274414,
          -12.41625690460205,
          84.50926971435547,
          -17.28604507446289,
          -10.72785472869873,
          89.498291015625,
          -72.51722717285156,
          66.78433227539062,
          -5.850707530975342,
          62.468082427978516,
          -36.288421630859375,
          58.8631477355957,
          50.171077728271484,
          -17.28903579711914,
          -24.79530143737793,
          47.42593765258789,
          50.10100555419922,
          23.785350799560547,
          -17.60483169555664,
          50.21154022216797,
          -44.470619201660156,
          66.2792739868164,
          0.4669613242149353,
          -60.26699447631836,
          -46.27499771118164,
          51.86277770996094,
          -29.693445205688477,
          0.804124653339386,
          24.717681884765625,
          30.23450469970703,
          4.443549156188965,
          29.28386878967285,
          -0.7341248989105225,
          -33.78385925292969,
          -90.8922119140625,
          29.275386810302734,
          17.454875946044922,
          -26.440250396728516,
          -69.14258575439453,
          -27.76995086669922,
          10.076776504516602,
          16.979814529418945,
          1.3251729011535645,
          30.593605041503906,
          -4.064319610595703,
          42.95729064941406,
          65.80619812011719,
          -73.78292083740234,
          -3.371328592300415,
          -67.00727081298828,
          30.18248748779297,
          -50.81946563720703,
          -2.0440144538879395,
          -21.301225662231445,
          -0.292631059885025,
          -32.039772033691406,
          -57.30153274536133,
          4.618138790130615,
          68.88114929199219,
          24.887300491333008,
          -1.7838882207870483,
          3.9843385219573975,
          64.62256622314453,
          22.995601654052734,
          10.511945724487305,
          -45.368770599365234,
          72.80059814453125,
          43.832523345947266,
          38.26866912841797,
          8.17361068725586,
          -17.024694442749023,
          -80.25479125976562,
          -7.919888496398926,
          -17.18617057800293,
          -62.51242446899414,
          8.485438346862793,
          -7.5366716384887695,
          -18.45378875732422,
          61.18016052246094,
          -12.925711631774902,
          80.6950912475586,
          59.08192443847656,
          -54.74618911743164,
          -0.8487582802772522,
          -51.144474029541016,
          -51.805118560791016,
          -37.676212310791016,
          39.33291244506836,
          64.17918395996094,
          -59.17607879638672,
          -50.35731887817383,
          2.684459686279297,
          92.34700775146484,
          -15.529393196105957,
          -8.417811393737793,
          20.512535095214844,
          -20.131343841552734,
          -28.796754837036133,
          23.74675941467285,
          13.391524314880371,
          -53.34267807006836,
          22.047245025634766,
          -56.88630294799805,
          -52.209129333496094,
          82.79704284667969,
          -52.08452224731445,
          -84.90071868896484,
          1.0747907161712646,
          -95.12501525878906,
          -32.10213088989258,
          26.072538375854492,
          -15.699759483337402,
          26.165672302246094,
          -36.558692932128906,
          41.72040939331055,
          12.297165870666504,
          -54.69746398925781,
          -34.31759262084961,
          -23.14750862121582,
          59.88369369506836,
          -17.374544143676758,
          -33.24116516113281,
          8.282340049743652,
          -1.105783224105835,
          -42.684566497802734,
          55.62840270996094,
          48.839542388916016,
          17.885440826416016,
          35.519798278808594,
          41.196407318115234,
          61.96369171142578,
          -7.848920822143555,
          -48.82633972167969,
          30.99684715270996,
          13.667201042175293,
          58.027015686035156,
          90.92870330810547,
          -23.811382293701172,
          -15.154047966003418,
          -46.04264831542969,
          4.061315059661865,
          14.881430625915527,
          26.442590713500977,
          16.872072219848633,
          78.74797821044922,
          28.820772171020508,
          -52.92449951171875,
          62.538570404052734,
          -46.79514694213867,
          -0.16997890174388885,
          -27.535011291503906,
          40.539432525634766,
          -27.959373474121094,
          -4.032066345214844,
          -58.05852127075195
         ],
         "z": [
          22.280208587646484,
          4.670642852783203,
          52.320335388183594,
          21.892534255981445,
          -58.1915397644043,
          -9.604635238647461,
          65.29695129394531,
          -20.350582122802734,
          -11.036982536315918,
          33.59185791015625,
          -28.198022842407227,
          -41.77803421020508,
          -3.7871057987213135,
          1.935477614402771,
          65.93277740478516,
          -10.593083381652832,
          -30.210472106933594,
          1.9910234212875366,
          83.64995574951172,
          77.64644622802734,
          52.7598991394043,
          71.69050598144531,
          -46.49555206298828,
          9.697264671325684,
          -44.616336822509766,
          20.848976135253906,
          26.936548233032227,
          14.08388900756836,
          82.02059173583984,
          -17.713497161865234,
          -76.6414794921875,
          39.81081008911133,
          -44.726749420166016,
          -7.288930416107178,
          54.889892578125,
          17.17521858215332,
          11.367019653320312,
          -39.685272216796875,
          -71.0011215209961,
          -46.31900405883789,
          91.15503692626953,
          -46.01543045043945,
          66.7499771118164,
          52.933006286621094,
          -45.51234436035156,
          -53.46430587768555,
          -14.810216903686523,
          53.543277740478516,
          -44.812965393066406,
          79.54214477539062,
          15.962825775146484,
          -76.7352294921875,
          29.180912017822266,
          -4.862277984619141,
          -23.635372161865234,
          66.8968276977539,
          -40.10710525512695,
          49.80616760253906,
          -7.485438823699951,
          28.546377182006836,
          54.98957061767578,
          79.65686798095703,
          72.4207992553711,
          22.65694236755371,
          32.977508544921875,
          28.685958862304688,
          -63.04020309448242,
          11.627420425415039,
          -81.26065826416016,
          -42.66352844238281,
          -62.40792465209961,
          -26.656688690185547,
          21.826539993286133,
          -53.90076446533203,
          40.3626594543457,
          66.73716735839844,
          43.553611755371094,
          25.058273315429688,
          -24.81559181213379,
          -3.2264699935913086,
          49.185359954833984,
          -22.843347549438477,
          28.009552001953125,
          -65.93449401855469,
          -84.90288543701172,
          -32.27001953125,
          -51.04337692260742,
          9.773146629333496,
          62.2056999206543,
          -43.407859802246094,
          -42.46536636352539,
          64.62895965576172,
          -65.6020278930664,
          -29.11481475830078,
          -10.125828742980957,
          110.8542709350586,
          -42.391998291015625,
          20.411590576171875,
          19.54062271118164,
          54.003013610839844,
          -45.089290618896484,
          -69.85139465332031,
          -33.217655181884766,
          -60.6812744140625,
          6.481348037719727,
          95.12933349609375,
          -23.731292724609375,
          39.68740463256836,
          -7.383216857910156,
          -78.26170349121094,
          -1.38246750831604,
          48.91141128540039,
          -26.220138549804688,
          25.65052604675293,
          -18.976001739501953,
          -34.8755989074707,
          -48.56460952758789,
          38.18485641479492,
          -15.010330200195312,
          9.700958251953125,
          -0.696921706199646,
          -13.232412338256836,
          -58.3673210144043,
          53.88629150390625,
          43.96728515625,
          -29.476511001586914,
          43.62043762207031,
          -72.08885192871094,
          -53.33059310913086,
          -79.9744873046875,
          -53.138893127441406,
          -84.76680755615234,
          -31.77000617980957,
          -3.2928221225738525,
          -39.558143615722656,
          4.9627275466918945,
          -38.04024887084961,
          -28.07476043701172,
          41.318328857421875,
          -64.8507308959961,
          -64.43363189697266,
          79.41249084472656,
          -90.10662078857422,
          9.293058395385742,
          25.33599281311035,
          -16.673620223999023,
          4.070806503295898,
          -60.158363342285156,
          -52.94801330566406,
          25.46575355529785,
          -12.307251930236816,
          32.18230438232422,
          -62.95135498046875,
          30.490219116210938,
          8.734764099121094,
          -28.358396530151367,
          33.790016174316406,
          -17.413272857666016,
          34.05207443237305,
          22.717397689819336,
          -7.52290153503418,
          -36.442054748535156,
          -72.74249267578125,
          -18.30596923828125,
          71.97574615478516,
          21.274232864379883,
          -1.509811282157898,
          59.255367279052734,
          -2.539748191833496,
          -81.49946594238281,
          16.477100372314453,
          -22.820817947387695,
          26.03333854675293,
          21.44106674194336,
          59.796138763427734,
          31.5705509185791,
          66.39862060546875,
          6.494094371795654,
          71.87972259521484,
          50.26824951171875,
          -43.5821418762207,
          -45.67116928100586,
          -78.73606872558594,
          -7.689902305603027,
          -12.556692123413086,
          24.26397132873535,
          -8.309625625610352,
          62.71501541137695,
          -71.35289001464844,
          -3.2028369903564453,
          8.455358505249023,
          16.732954025268555,
          -1.7795273065567017,
          -27.012741088867188,
          3.587956666946411,
          48.028709411621094,
          -3.249849319458008,
          -57.93568420410156,
          15.275694847106934,
          -36.94582748413086,
          -26.773296356201172,
          -46.823486328125,
          24.464012145996094,
          -23.938568115234375,
          3.0444893836975098,
          -21.326444625854492,
          56.11210632324219,
          21.487194061279297,
          10.794395446777344,
          60.703224182128906,
          30.22735595703125,
          45.12744903564453,
          13.243494987487793,
          -73.96279907226562,
          18.755165100097656,
          -62.9456901550293,
          -8.728372573852539,
          93.0269546508789,
          -69.95396423339844,
          -0.8857666850090027,
          -4.832010269165039,
          9.43892765045166,
          5.681268215179443,
          -26.569517135620117,
          36.43611526489258,
          -21.47315216064453,
          47.42438888549805,
          -29.849702835083008,
          -60.19900894165039,
          -43.65658950805664,
          0.7603275179862976,
          -0.9712685942649841,
          -28.922740936279297,
          -18.302101135253906,
          39.8325309753418,
          -3.412365674972534,
          -9.381585121154785,
          -7.519068717956543,
          57.24875259399414,
          42.48273849487305,
          3.4709479808807373,
          30.109216690063477,
          4.556910991668701,
          58.017459869384766,
          -19.4499568939209,
          95.44232177734375,
          -54.530921936035156,
          -3.252373218536377,
          28.846904754638672,
          59.13014221191406,
          -98.42588806152344,
          13.083999633789062,
          -32.817298889160156,
          -27.475784301757812,
          -76.4161148071289,
          7.622960090637207,
          -96.25801086425781,
          58.922752380371094,
          -35.44217300415039,
          -77.56291198730469,
          83.7131118774414,
          -40.67040252685547,
          72.09313201904297,
          -18.335161209106445,
          -65.58765411376953,
          35.37443161010742,
          -55.47900390625,
          -28.40532684326172,
          -19.449018478393555,
          23.963443756103516,
          35.49837112426758,
          -4.966437816619873,
          -25.701190948486328,
          -21.997310638427734,
          39.561824798583984,
          16.103317260742188,
          32.65432357788086,
          12.310943603515625,
          23.717208862304688,
          -5.219893932342529,
          13.815840721130371,
          -72.6214828491211,
          -34.08412170410156,
          14.681405067443848,
          -20.584177017211914,
          38.74610900878906,
          -31.2247314453125,
          4.5430192947387695,
          28.29643440246582,
          37.24972152709961,
          81.34471130371094,
          10.071858406066895,
          30.958850860595703,
          -33.82858657836914,
          -57.56887435913086,
          8.833842277526855,
          -16.58800506591797,
          -51.967159271240234,
          37.74998474121094,
          -63.867149353027344,
          -39.198429107666016,
          95.54535675048828,
          35.171722412109375,
          70.7707748413086,
          -58.58979034423828,
          11.107340812683105,
          -62.11553955078125,
          13.658884048461914,
          43.718109130859375,
          -56.72569274902344,
          29.521554946899414,
          94.41535186767578,
          -46.73041534423828,
          11.93133544921875,
          -54.034671783447266,
          47.50895309448242,
          85.34004974365234,
          16.268997192382812,
          -45.52772903442383,
          -15.187604904174805,
          -39.05204772949219,
          12.84598159790039,
          -85.64752960205078,
          -24.647987365722656,
          -3.864798069000244,
          6.74290132522583,
          24.519269943237305,
          48.83890914916992,
          -11.60585880279541,
          -67.40215301513672,
          -11.570923805236816,
          -87.88863372802734,
          -21.979124069213867,
          -31.13762855529785,
          -87.51725006103516,
          54.91533279418945,
          -11.441368103027344,
          26.34591293334961,
          62.22577667236328,
          -56.22603225708008,
          17.90536880493164,
          -23.084836959838867,
          34.0113525390625,
          46.797454833984375,
          -23.565866470336914,
          9.483098030090332,
          -63.44197082519531,
          -18.187604904174805,
          -50.280216217041016,
          12.378641128540039,
          50.46131134033203,
          -5.24599552154541,
          72.17056274414062,
          -2.0888028144836426,
          15.070486068725586,
          -8.906417846679688,
          29.881288528442383,
          -0.25550204515457153,
          42.039306640625,
          12.787895202636719,
          -49.32279586791992,
          86.25749206542969,
          53.687347412109375,
          45.34342575073242,
          22.35822105407715,
          46.29653549194336,
          68.08121490478516,
          102.03628540039062,
          -31.7164363861084,
          -33.309715270996094,
          0.6457931399345398,
          -79.32476043701172,
          -40.75680160522461,
          -38.19549560546875,
          -6.010056495666504,
          58.07080078125,
          3.560811758041382,
          -21.085634231567383,
          -21.992656707763672,
          -44.741111755371094,
          -29.484540939331055,
          31.859968185424805,
          51.809818267822266,
          23.24148941040039,
          -8.765149116516113,
          -18.972362518310547,
          17.980066299438477,
          2.680954933166504,
          19.814401626586914,
          -65.94195556640625,
          77.95545959472656,
          50.05989074707031,
          8.480840682983398,
          28.766151428222656,
          -7.788828372955322,
          45.50783157348633,
          52.319786071777344,
          -94.70206451416016,
          -3.8013715744018555,
          48.914833068847656,
          2.601513624191284,
          46.277671813964844,
          -47.41437530517578,
          -12.821100234985352,
          -9.755172729492188,
          19.930553436279297,
          0.903484582901001,
          -21.366069793701172,
          -42.78102493286133,
          6.723138332366943,
          -74.84678649902344,
          23.216066360473633,
          21.272994995117188,
          39.98744583129883,
          -63.016727447509766,
          94.86907958984375,
          10.467109680175781,
          -17.372093200683594,
          -44.509796142578125,
          34.785675048828125,
          13.414409637451172,
          -7.3717827796936035,
          55.02245330810547,
          -8.789752006530762,
          -58.537452697753906,
          6.61112117767334,
          45.505615234375,
          -0.334720253944397,
          -21.633764266967773,
          -13.549293518066406,
          -29.39404296875,
          -82.02436065673828,
          -26.341838836669922,
          14.123537063598633,
          6.569074630737305,
          45.90483474731445,
          18.146228790283203,
          -38.43444061279297,
          -98.4906997680664,
          77.62629699707031,
          51.5805778503418,
          37.663700103759766,
          -55.231590270996094,
          7.488612174987793,
          -99.35187530517578,
          58.45427703857422,
          -49.93894958496094,
          -75.35380554199219,
          11.388874053955078,
          46.40034103393555,
          34.90118408203125,
          30.572856903076172,
          71.87942504882812,
          -18.363800048828125,
          -20.356781005859375,
          -13.831077575683594,
          28.95973014831543,
          73.95219421386719,
          35.029239654541016,
          68.2830581665039,
          -7.111616134643555,
          -23.05538558959961,
          6.583981037139893,
          -82.90491485595703,
          -4.060267448425293,
          -12.09819221496582,
          21.615999221801758,
          -93.03839874267578,
          72.16902923583984,
          72.23149108886719,
          2.984896659851074,
          -31.549720764160156,
          -79.00286102294922,
          -49.541282653808594,
          -5.309986114501953,
          34.54285430908203,
          -33.0243034362793,
          -30.975181579589844,
          -28.359355926513672,
          -26.49833106994629,
          9.6748628616333,
          24.91509437561035,
          -7.765697956085205,
          85.1817398071289,
          -34.12740707397461,
          44.8502082824707,
          -10.304753303527832,
          -47.21366882324219,
          67.35456085205078,
          0.1546795815229416,
          -9.642542839050293,
          -46.928401947021484,
          10.035113334655762,
          -15.526854515075684,
          33.50080871582031,
          9.643811225891113,
          22.525827407836914,
          33.620582580566406,
          -35.34868240356445,
          10.394881248474121
         ]
        }
       ],
       "layout": {
        "coloraxis": {
         "colorbar": {
          "title": {
           "text": "viability"
          }
         },
         "colorscale": [
          [
           0,
           "#0d0887"
          ],
          [
           0.1111111111111111,
           "#46039f"
          ],
          [
           0.2222222222222222,
           "#7201a8"
          ],
          [
           0.3333333333333333,
           "#9c179e"
          ],
          [
           0.4444444444444444,
           "#bd3786"
          ],
          [
           0.5555555555555556,
           "#d8576b"
          ],
          [
           0.6666666666666666,
           "#ed7953"
          ],
          [
           0.7777777777777778,
           "#fb9f3a"
          ],
          [
           0.8888888888888888,
           "#fdca26"
          ],
          [
           1,
           "#f0f921"
          ]
         ]
        },
        "legend": {
         "tracegroupgap": 0
        },
        "scene": {
         "domain": {
          "x": [
           0,
           1
          ],
          "y": [
           0,
           1
          ]
         },
         "xaxis": {
          "title": {
           "text": "0"
          }
         },
         "yaxis": {
          "title": {
           "text": "1"
          }
         },
         "zaxis": {
          "title": {
           "text": "2"
          }
         }
        },
        "template": {
         "data": {
          "bar": [
           {
            "error_x": {
             "color": "#2a3f5f"
            },
            "error_y": {
             "color": "#2a3f5f"
            },
            "marker": {
             "line": {
              "color": "#E5ECF6",
              "width": 0.5
             },
             "pattern": {
              "fillmode": "overlay",
              "size": 10,
              "solidity": 0.2
             }
            },
            "type": "bar"
           }
          ],
          "barpolar": [
           {
            "marker": {
             "line": {
              "color": "#E5ECF6",
              "width": 0.5
             },
             "pattern": {
              "fillmode": "overlay",
              "size": 10,
              "solidity": 0.2
             }
            },
            "type": "barpolar"
           }
          ],
          "carpet": [
           {
            "aaxis": {
             "endlinecolor": "#2a3f5f",
             "gridcolor": "white",
             "linecolor": "white",
             "minorgridcolor": "white",
             "startlinecolor": "#2a3f5f"
            },
            "baxis": {
             "endlinecolor": "#2a3f5f",
             "gridcolor": "white",
             "linecolor": "white",
             "minorgridcolor": "white",
             "startlinecolor": "#2a3f5f"
            },
            "type": "carpet"
           }
          ],
          "choropleth": [
           {
            "colorbar": {
             "outlinewidth": 0,
             "ticks": ""
            },
            "type": "choropleth"
           }
          ],
          "contour": [
           {
            "colorbar": {
             "outlinewidth": 0,
             "ticks": ""
            },
            "colorscale": [
             [
              0,
              "#0d0887"
             ],
             [
              0.1111111111111111,
              "#46039f"
             ],
             [
              0.2222222222222222,
              "#7201a8"
             ],
             [
              0.3333333333333333,
              "#9c179e"
             ],
             [
              0.4444444444444444,
              "#bd3786"
             ],
             [
              0.5555555555555556,
              "#d8576b"
             ],
             [
              0.6666666666666666,
              "#ed7953"
             ],
             [
              0.7777777777777778,
              "#fb9f3a"
             ],
             [
              0.8888888888888888,
              "#fdca26"
             ],
             [
              1,
              "#f0f921"
             ]
            ],
            "type": "contour"
           }
          ],
          "contourcarpet": [
           {
            "colorbar": {
             "outlinewidth": 0,
             "ticks": ""
            },
            "type": "contourcarpet"
           }
          ],
          "heatmap": [
           {
            "colorbar": {
             "outlinewidth": 0,
             "ticks": ""
            },
            "colorscale": [
             [
              0,
              "#0d0887"
             ],
             [
              0.1111111111111111,
              "#46039f"
             ],
             [
              0.2222222222222222,
              "#7201a8"
             ],
             [
              0.3333333333333333,
              "#9c179e"
             ],
             [
              0.4444444444444444,
              "#bd3786"
             ],
             [
              0.5555555555555556,
              "#d8576b"
             ],
             [
              0.6666666666666666,
              "#ed7953"
             ],
             [
              0.7777777777777778,
              "#fb9f3a"
             ],
             [
              0.8888888888888888,
              "#fdca26"
             ],
             [
              1,
              "#f0f921"
             ]
            ],
            "type": "heatmap"
           }
          ],
          "heatmapgl": [
           {
            "colorbar": {
             "outlinewidth": 0,
             "ticks": ""
            },
            "colorscale": [
             [
              0,
              "#0d0887"
             ],
             [
              0.1111111111111111,
              "#46039f"
             ],
             [
              0.2222222222222222,
              "#7201a8"
             ],
             [
              0.3333333333333333,
              "#9c179e"
             ],
             [
              0.4444444444444444,
              "#bd3786"
             ],
             [
              0.5555555555555556,
              "#d8576b"
             ],
             [
              0.6666666666666666,
              "#ed7953"
             ],
             [
              0.7777777777777778,
              "#fb9f3a"
             ],
             [
              0.8888888888888888,
              "#fdca26"
             ],
             [
              1,
              "#f0f921"
             ]
            ],
            "type": "heatmapgl"
           }
          ],
          "histogram": [
           {
            "marker": {
             "pattern": {
              "fillmode": "overlay",
              "size": 10,
              "solidity": 0.2
             }
            },
            "type": "histogram"
           }
          ],
          "histogram2d": [
           {
            "colorbar": {
             "outlinewidth": 0,
             "ticks": ""
            },
            "colorscale": [
             [
              0,
              "#0d0887"
             ],
             [
              0.1111111111111111,
              "#46039f"
             ],
             [
              0.2222222222222222,
              "#7201a8"
             ],
             [
              0.3333333333333333,
              "#9c179e"
             ],
             [
              0.4444444444444444,
              "#bd3786"
             ],
             [
              0.5555555555555556,
              "#d8576b"
             ],
             [
              0.6666666666666666,
              "#ed7953"
             ],
             [
              0.7777777777777778,
              "#fb9f3a"
             ],
             [
              0.8888888888888888,
              "#fdca26"
             ],
             [
              1,
              "#f0f921"
             ]
            ],
            "type": "histogram2d"
           }
          ],
          "histogram2dcontour": [
           {
            "colorbar": {
             "outlinewidth": 0,
             "ticks": ""
            },
            "colorscale": [
             [
              0,
              "#0d0887"
             ],
             [
              0.1111111111111111,
              "#46039f"
             ],
             [
              0.2222222222222222,
              "#7201a8"
             ],
             [
              0.3333333333333333,
              "#9c179e"
             ],
             [
              0.4444444444444444,
              "#bd3786"
             ],
             [
              0.5555555555555556,
              "#d8576b"
             ],
             [
              0.6666666666666666,
              "#ed7953"
             ],
             [
              0.7777777777777778,
              "#fb9f3a"
             ],
             [
              0.8888888888888888,
              "#fdca26"
             ],
             [
              1,
              "#f0f921"
             ]
            ],
            "type": "histogram2dcontour"
           }
          ],
          "mesh3d": [
           {
            "colorbar": {
             "outlinewidth": 0,
             "ticks": ""
            },
            "type": "mesh3d"
           }
          ],
          "parcoords": [
           {
            "line": {
             "colorbar": {
              "outlinewidth": 0,
              "ticks": ""
             }
            },
            "type": "parcoords"
           }
          ],
          "pie": [
           {
            "automargin": true,
            "type": "pie"
           }
          ],
          "scatter": [
           {
            "fillpattern": {
             "fillmode": "overlay",
             "size": 10,
             "solidity": 0.2
            },
            "type": "scatter"
           }
          ],
          "scatter3d": [
           {
            "line": {
             "colorbar": {
              "outlinewidth": 0,
              "ticks": ""
             }
            },
            "marker": {
             "colorbar": {
              "outlinewidth": 0,
              "ticks": ""
             }
            },
            "type": "scatter3d"
           }
          ],
          "scattercarpet": [
           {
            "marker": {
             "colorbar": {
              "outlinewidth": 0,
              "ticks": ""
             }
            },
            "type": "scattercarpet"
           }
          ],
          "scattergeo": [
           {
            "marker": {
             "colorbar": {
              "outlinewidth": 0,
              "ticks": ""
             }
            },
            "type": "scattergeo"
           }
          ],
          "scattergl": [
           {
            "marker": {
             "colorbar": {
              "outlinewidth": 0,
              "ticks": ""
             }
            },
            "type": "scattergl"
           }
          ],
          "scattermapbox": [
           {
            "marker": {
             "colorbar": {
              "outlinewidth": 0,
              "ticks": ""
             }
            },
            "type": "scattermapbox"
           }
          ],
          "scatterpolar": [
           {
            "marker": {
             "colorbar": {
              "outlinewidth": 0,
              "ticks": ""
             }
            },
            "type": "scatterpolar"
           }
          ],
          "scatterpolargl": [
           {
            "marker": {
             "colorbar": {
              "outlinewidth": 0,
              "ticks": ""
             }
            },
            "type": "scatterpolargl"
           }
          ],
          "scatterternary": [
           {
            "marker": {
             "colorbar": {
              "outlinewidth": 0,
              "ticks": ""
             }
            },
            "type": "scatterternary"
           }
          ],
          "surface": [
           {
            "colorbar": {
             "outlinewidth": 0,
             "ticks": ""
            },
            "colorscale": [
             [
              0,
              "#0d0887"
             ],
             [
              0.1111111111111111,
              "#46039f"
             ],
             [
              0.2222222222222222,
              "#7201a8"
             ],
             [
              0.3333333333333333,
              "#9c179e"
             ],
             [
              0.4444444444444444,
              "#bd3786"
             ],
             [
              0.5555555555555556,
              "#d8576b"
             ],
             [
              0.6666666666666666,
              "#ed7953"
             ],
             [
              0.7777777777777778,
              "#fb9f3a"
             ],
             [
              0.8888888888888888,
              "#fdca26"
             ],
             [
              1,
              "#f0f921"
             ]
            ],
            "type": "surface"
           }
          ],
          "table": [
           {
            "cells": {
             "fill": {
              "color": "#EBF0F8"
             },
             "line": {
              "color": "white"
             }
            },
            "header": {
             "fill": {
              "color": "#C8D4E3"
             },
             "line": {
              "color": "white"
             }
            },
            "type": "table"
           }
          ]
         },
         "layout": {
          "annotationdefaults": {
           "arrowcolor": "#2a3f5f",
           "arrowhead": 0,
           "arrowwidth": 1
          },
          "autotypenumbers": "strict",
          "coloraxis": {
           "colorbar": {
            "outlinewidth": 0,
            "ticks": ""
           }
          },
          "colorscale": {
           "diverging": [
            [
             0,
             "#8e0152"
            ],
            [
             0.1,
             "#c51b7d"
            ],
            [
             0.2,
             "#de77ae"
            ],
            [
             0.3,
             "#f1b6da"
            ],
            [
             0.4,
             "#fde0ef"
            ],
            [
             0.5,
             "#f7f7f7"
            ],
            [
             0.6,
             "#e6f5d0"
            ],
            [
             0.7,
             "#b8e186"
            ],
            [
             0.8,
             "#7fbc41"
            ],
            [
             0.9,
             "#4d9221"
            ],
            [
             1,
             "#276419"
            ]
           ],
           "sequential": [
            [
             0,
             "#0d0887"
            ],
            [
             0.1111111111111111,
             "#46039f"
            ],
            [
             0.2222222222222222,
             "#7201a8"
            ],
            [
             0.3333333333333333,
             "#9c179e"
            ],
            [
             0.4444444444444444,
             "#bd3786"
            ],
            [
             0.5555555555555556,
             "#d8576b"
            ],
            [
             0.6666666666666666,
             "#ed7953"
            ],
            [
             0.7777777777777778,
             "#fb9f3a"
            ],
            [
             0.8888888888888888,
             "#fdca26"
            ],
            [
             1,
             "#f0f921"
            ]
           ],
           "sequentialminus": [
            [
             0,
             "#0d0887"
            ],
            [
             0.1111111111111111,
             "#46039f"
            ],
            [
             0.2222222222222222,
             "#7201a8"
            ],
            [
             0.3333333333333333,
             "#9c179e"
            ],
            [
             0.4444444444444444,
             "#bd3786"
            ],
            [
             0.5555555555555556,
             "#d8576b"
            ],
            [
             0.6666666666666666,
             "#ed7953"
            ],
            [
             0.7777777777777778,
             "#fb9f3a"
            ],
            [
             0.8888888888888888,
             "#fdca26"
            ],
            [
             1,
             "#f0f921"
            ]
           ]
          },
          "colorway": [
           "#636efa",
           "#EF553B",
           "#00cc96",
           "#ab63fa",
           "#FFA15A",
           "#19d3f3",
           "#FF6692",
           "#B6E880",
           "#FF97FF",
           "#FECB52"
          ],
          "font": {
           "color": "#2a3f5f"
          },
          "geo": {
           "bgcolor": "white",
           "lakecolor": "white",
           "landcolor": "#E5ECF6",
           "showlakes": true,
           "showland": true,
           "subunitcolor": "white"
          },
          "hoverlabel": {
           "align": "left"
          },
          "hovermode": "closest",
          "mapbox": {
           "style": "light"
          },
          "paper_bgcolor": "white",
          "plot_bgcolor": "#E5ECF6",
          "polar": {
           "angularaxis": {
            "gridcolor": "white",
            "linecolor": "white",
            "ticks": ""
           },
           "bgcolor": "#E5ECF6",
           "radialaxis": {
            "gridcolor": "white",
            "linecolor": "white",
            "ticks": ""
           }
          },
          "scene": {
           "xaxis": {
            "backgroundcolor": "#E5ECF6",
            "gridcolor": "white",
            "gridwidth": 2,
            "linecolor": "white",
            "showbackground": true,
            "ticks": "",
            "zerolinecolor": "white"
           },
           "yaxis": {
            "backgroundcolor": "#E5ECF6",
            "gridcolor": "white",
            "gridwidth": 2,
            "linecolor": "white",
            "showbackground": true,
            "ticks": "",
            "zerolinecolor": "white"
           },
           "zaxis": {
            "backgroundcolor": "#E5ECF6",
            "gridcolor": "white",
            "gridwidth": 2,
            "linecolor": "white",
            "showbackground": true,
            "ticks": "",
            "zerolinecolor": "white"
           }
          },
          "shapedefaults": {
           "line": {
            "color": "#2a3f5f"
           }
          },
          "ternary": {
           "aaxis": {
            "gridcolor": "white",
            "linecolor": "white",
            "ticks": ""
           },
           "baxis": {
            "gridcolor": "white",
            "linecolor": "white",
            "ticks": ""
           },
           "bgcolor": "#E5ECF6",
           "caxis": {
            "gridcolor": "white",
            "linecolor": "white",
            "ticks": ""
           }
          },
          "title": {
           "x": 0.05
          },
          "xaxis": {
           "automargin": true,
           "gridcolor": "white",
           "linecolor": "white",
           "ticks": "",
           "title": {
            "standoff": 15
           },
           "zerolinecolor": "white",
           "zerolinewidth": 2
          },
          "yaxis": {
           "automargin": true,
           "gridcolor": "white",
           "linecolor": "white",
           "ticks": "",
           "title": {
            "standoff": 15
           },
           "zerolinecolor": "white",
           "zerolinewidth": 2
          }
         }
        },
        "title": {
         "text": "Gene Data TSNE: 3D t-SNE Plot"
        }
       }
      }
     },
     "metadata": {},
     "output_type": "display_data"
    }
   ],
   "source": [
    "if config[\"preprocess\"][\"use_vt\"]:\n",
    "    # Separate features and target\n",
    "    tf_features = tf_df.drop(columns=[\"viability\"])\n",
    "    tf_target = tf_df[\"viability\"]\n",
    "    gene_features = gene_df.drop(columns=[\"viability\"])\n",
    "    gene_target = gene_df[\"viability\"]\n",
    "\n",
    "    # Instantiate separate VarianceThreshold selectors for each dataset\n",
    "    tf_selector = VarianceThreshold(threshold=config[\"preprocess\"][\"vt_threshold_tf\"])\n",
    "    gene_selector = VarianceThreshold(\n",
    "        threshold=config[\"preprocess\"][\"vt_threshold_gene\"]\n",
    "    )\n",
    "\n",
    "    # Apply VarianceThreshold to the features\n",
    "    tf_features_selected = tf_selector.fit_transform(tf_features)\n",
    "    gene_features_selected = gene_selector.fit_transform(gene_features)\n",
    "\n",
    "    # Convert the results back to DataFrames\n",
    "    tf_features_selected = pd.DataFrame(\n",
    "        tf_features_selected, columns=tf_features.columns[tf_selector.get_support()]\n",
    "    )\n",
    "    gene_features_selected = pd.DataFrame(\n",
    "        gene_features_selected,\n",
    "        columns=gene_features.columns[gene_selector.get_support()],\n",
    "    )\n",
    "\n",
    "    # Concatenate the target column back to the selected features\n",
    "    tf_df = pd.concat([tf_features_selected, tf_target.reset_index(drop=True)], axis=1)\n",
    "    gene_df = pd.concat(\n",
    "        [gene_features_selected, gene_target.reset_index(drop=True)], axis=1\n",
    "    )\n",
    "\n",
    "    # Log the shape of the datasets after applying VarianceThreshold\n",
    "    logging.debug(\n",
    "        f\"TF data shape after VarianceThreshold: {tf_df.shape}, Gene data shape after VarianceThreshold: {gene_df.shape}\"\n",
    "    )\n",
    "\n",
    "if config[\"preprocess\"][\"use_pca\"]:\n",
    "    # Step 1: Extract the original feature names\n",
    "    tf_feature_names = X_tf_train.columns.to_list() \n",
    "    gene_feature_names = X_gene_train.columns.to_list()\n",
    "\n",
    "    # Step 2: Perform PCA\n",
    "    X_tf_train_pca, tf_pca = perform_pca(\n",
    "        X_tf_train, config[\"preprocess\"][\"pca_var_tf\"]\n",
    "    )\n",
    "    X_gene_train_pca, gene_pca = perform_pca(\n",
    "        X_gene_train, config[\"preprocess\"][\"pca_var_gene\"]\n",
    "    )\n",
    "\n",
    "    logging.debug(\n",
    "        f\"TF PCA Data shape: {X_tf_train_pca.shape}, Gene PCA Data shape: {X_gene_train_pca.shape}\"\n",
    "    )\n",
    "\n",
    "    # Step 3: Scree Plot\n",
    "    plot_pca_variance(tf_pca, \"TF Data\")\n",
    "    plot_pca_variance(gene_pca, \"Gene Data\")\n",
    "\n",
    "    # Step 4: 3D PCA Biplots\n",
    "    create_pca_biplot(\n",
    "        pca=tf_pca,\n",
    "        X=X_tf_train_pca,\n",
    "        Y=y_tf_train,\n",
    "        features=tf_feature_names,\n",
    "        dimension=\"2D\",\n",
    "        dataset_name=\"TF Dataset\",\n",
    "        top_n_loadings=10,\n",
    "        sample_size=1000,\n",
    "        loading_scale=10,\n",
    "    )\n",
    "\n",
    "    create_pca_biplot(\n",
    "        pca=gene_pca,\n",
    "        X=X_gene_train_pca,\n",
    "        Y=y_gene_train,\n",
    "        features=gene_feature_names,\n",
    "        dimension=\"3D\",\n",
    "        dataset_name=\"Gene Dataset\",\n",
    "        top_n_loadings=10,\n",
    "        sample_size=1000,\n",
    "        loading_scale=10,\n",
    "    )\n",
    "\n",
    "    # Step 5: TSNE Plots\n",
    "    create_tsne_plot(\n",
    "        X_tf_train_pca,\n",
    "        y_tf_train,\n",
    "        target_column=\"viability\",\n",
    "        sample_size=1000,\n",
    "        dimension=\"2D\",\n",
    "        dataset_name=\"TF Data TSNE\",\n",
    "    )\n",
    "\n",
    "    create_tsne_plot(\n",
    "        X_gene_train_pca,\n",
    "        y_gene_train,\n",
    "        target_column=\"viability\",\n",
    "        sample_size=1000,\n",
    "        dimension=\"3D\",\n",
    "        dataset_name=\"Gene Data TSNE\",\n",
    "    )"
   ]
  },
  {
   "cell_type": "code",
   "execution_count": 14,
   "metadata": {},
   "outputs": [],
   "source": [
    "# if config[\"preprocess\"][\"use_pca\"]:\t\n",
    "#     # Set the X data variable to the PCA transformed data\n",
    "#     X_tf_train = X_tf_train_pca\n",
    "#     X_gene_train = X_gene_train_pca\n",
    "\n",
    "#     # Also transform the validation and test data\n",
    "#     X_tf_val = tf_pca.transform(X_tf_val)\n",
    "#     X_tf_test = tf_pca.transform(X_tf_test)\n",
    "\n",
    "#     X_gene_val = gene_pca.transform(X_gene_val)\n",
    "#     X_gene_test = gene_pca.transform(X_gene_test)"
   ]
  },
  {
   "cell_type": "markdown",
   "metadata": {},
   "source": [
    "# Implement Simple Regression Models\n",
    "Implement the Ridge regression model and train it on the TF dataset."
   ]
  },
  {
   "cell_type": "code",
   "execution_count": 15,
   "metadata": {},
   "outputs": [
    {
     "name": "stderr",
     "output_type": "stream",
     "text": [
      "2024-12-11 10:32:49,771 - Training Linear on TF Data...\n",
      "2024-12-11 10:32:52,441 - Training Ridge on TF Data...\n",
      "2024-12-11 10:32:58,847 - Training Lasso on TF Data...\n",
      "2024-12-11 10:33:01,589 - Training Elastic Net on TF Data...\n",
      "2024-12-11 10:33:11,489 - Training Bayesian Ridge on TF Data...\n",
      "2024-12-11 10:33:13,432 - Training Huber on TF Data...\n",
      "c:\\Users\\20191678\\AppData\\Local\\miniconda3\\envs\\5ARG45\\lib\\site-packages\\sklearn\\linear_model\\_huber.py:342: ConvergenceWarning:\n",
      "\n",
      "lbfgs failed to converge (status=1):\n",
      "STOP: TOTAL NO. of ITERATIONS REACHED LIMIT.\n",
      "\n",
      "Increase the number of iterations (max_iter) or scale the data as shown in:\n",
      "    https://scikit-learn.org/stable/modules/preprocessing.html\n",
      "\n",
      "2024-12-11 10:33:28,792 - Training Linear on Gene Data...\n",
      "2024-12-11 10:33:30,208 - Training Ridge on Gene Data...\n",
      "2024-12-11 10:33:40,366 - Training Lasso on Gene Data...\n",
      "2024-12-11 10:33:44,368 - Training Elastic Net on Gene Data...\n",
      "2024-12-11 10:33:59,753 - Training Bayesian Ridge on Gene Data...\n",
      "2024-12-11 10:34:02,803 - Training Huber on Gene Data...\n"
     ]
    },
    {
     "data": {
      "application/vnd.plotly.v1+json": {
       "config": {
        "plotlyServerURL": "https://plot.ly"
       },
       "data": [
        {
         "marker": {
          "color": "blue"
         },
         "name": "Positive",
         "showlegend": true,
         "type": "bar",
         "visible": true,
         "x": [
          "E2F4",
          "DLX2",
          "MNX1",
          "IRF3",
          "GSC",
          "SALL1",
          "HDAC5"
         ],
         "y": [
          0.04423091990788486,
          0.02900045145973859,
          0.02856958591633559,
          0.02700384177482124,
          0.024891722700493384,
          0.024772000279651336,
          0.02401733046420345
         ]
        },
        {
         "marker": {
          "color": "red"
         },
         "name": "Negative",
         "showlegend": true,
         "type": "bar",
         "visible": true,
         "x": [
          "ZXDC",
          "FOXO3",
          "MEIS2"
         ],
         "y": [
          -0.02849719870850103,
          -0.027009786594349883,
          -0.02396656537421518
         ]
        },
        {
         "marker": {
          "color": "blue"
         },
         "name": "Positive",
         "showlegend": true,
         "type": "bar",
         "visible": false,
         "x": [
          "E2F4",
          "DLX2",
          "MNX1",
          "IRF3",
          "GSC",
          "SALL1",
          "HDAC5",
          "BHLHE40"
         ],
         "y": [
          0.04370849254016261,
          0.028433340077187636,
          0.027742504352717245,
          0.026622248991240688,
          0.024416354486476857,
          0.02404021989148486,
          0.0237226088172332,
          0.023485127693649376
         ]
        },
        {
         "marker": {
          "color": "red"
         },
         "name": "Negative",
         "showlegend": true,
         "type": "bar",
         "visible": false,
         "x": [
          "ZXDC",
          "FOXO3"
         ],
         "y": [
          -0.027640653219804998,
          -0.026368553469152987
         ]
        },
        {
         "marker": {
          "color": "blue"
         },
         "name": "Positive",
         "showlegend": true,
         "type": "bar",
         "visible": false,
         "x": [
          "E2F4",
          "DMAP1",
          "RCOR2",
          "E2F2",
          "SP7"
         ],
         "y": [
          0.04913015719304169,
          0.010493787159547937,
          0.007260928598650271,
          0.007251841812830135,
          0.006989912498137105
         ]
        },
        {
         "marker": {
          "color": "red"
         },
         "name": "Negative",
         "showlegend": true,
         "type": "bar",
         "visible": false,
         "x": [
          "HBP1",
          "FOXO3",
          "RB1",
          "CREB1",
          "ABL1"
         ],
         "y": [
          -0.021675824777587734,
          -0.012923519355754417,
          -0.009930269067713366,
          -0.009761952766655306,
          -0.00721449312825909
         ]
        },
        {
         "marker": {
          "color": "blue"
         },
         "name": "Positive",
         "showlegend": true,
         "type": "bar",
         "visible": false,
         "x": [
          "E2F4",
          "HOXB7",
          "NR2C1"
         ],
         "y": [
          0.033600849840571996,
          0.011665218453494539,
          0.011515967438625487
         ]
        },
        {
         "marker": {
          "color": "red"
         },
         "name": "Negative",
         "showlegend": true,
         "type": "bar",
         "visible": false,
         "x": [
          "HBP1",
          "MEIS2",
          "ABL1",
          "FOXO3",
          "HDAC9",
          "ZBTB33",
          "EPAS1"
         ],
         "y": [
          -0.016520530546947628,
          -0.013330415917180819,
          -0.01238649019532296,
          -0.012274654722345684,
          -0.01107404833118485,
          -0.01080215640895917,
          -0.010477886756075229
         ]
        },
        {
         "marker": {
          "color": "blue"
         },
         "name": "Positive",
         "showlegend": true,
         "type": "bar",
         "visible": false,
         "x": [
          "E2F4",
          "HDAC5",
          "IRF3",
          "NR2C1"
         ],
         "y": [
          0.023064738456333608,
          0.015248624486606015,
          0.015136059114712806,
          0.014999034621145959
         ]
        },
        {
         "marker": {
          "color": "red"
         },
         "name": "Negative",
         "showlegend": true,
         "type": "bar",
         "visible": false,
         "x": [
          "ZBTB33",
          "ABL1",
          "FOXO3",
          "MEIS2",
          "ZXDC",
          "HBP1"
         ],
         "y": [
          -0.014480790229501933,
          -0.013823788484065914,
          -0.013474426909929303,
          -0.012687341443069912,
          -0.012367274840977837,
          -0.012354964184242888
         ]
        },
        {
         "marker": {
          "color": "blue"
         },
         "name": "Positive",
         "showlegend": true,
         "type": "bar",
         "visible": false,
         "x": [
          "E2F4",
          "MNX1",
          "DLX2",
          "IRF3",
          "RXRG",
          "NHLH2",
          "HDAC5",
          "BHLHE40"
         ],
         "y": [
          0.02571114474559498,
          0.017581669926504038,
          0.01730348727791049,
          0.016911202996068745,
          0.01615485551213275,
          0.016135693836770066,
          0.015926912232294786,
          0.015492713372786992
         ]
        },
        {
         "marker": {
          "color": "red"
         },
         "name": "Negative",
         "showlegend": true,
         "type": "bar",
         "visible": false,
         "x": [
          "ZNF91",
          "ZXDC"
         ],
         "y": [
          -0.017983696465791166,
          -0.017530333670650402
         ]
        },
        {
         "marker": {
          "color": "blue"
         },
         "name": "Positive",
         "showlegend": true,
         "type": "bar",
         "visible": false,
         "x": [
          "NFATC4",
          "ALAS1",
          "BAD",
          "ATF1",
          "CDK4"
         ],
         "y": [
          19780375600.300552,
          17696264056.463455,
          9459168167.630621,
          8963568516.73792,
          7740146490.21542
         ]
        },
        {
         "marker": {
          "color": "red"
         },
         "name": "Negative",
         "showlegend": true,
         "type": "bar",
         "visible": false,
         "x": [
          "ANXA7",
          "ACAT2",
          "CCND1",
          "AGL",
          "BLMH"
         ],
         "y": [
          -24218539500.464874,
          -21691292720.809715,
          -18751882033.67753,
          -9738906056.05043,
          -6917021482.534003
         ]
        },
        {
         "marker": {
          "color": "blue"
         },
         "name": "Positive",
         "showlegend": true,
         "type": "bar",
         "visible": false,
         "x": [
          "PIGB",
          "IL1B",
          "CIAPIN1",
          "BNIP3"
         ],
         "y": [
          0.011181619194300552,
          0.010368991191753194,
          0.009946809369595603,
          0.009931546784689682
         ]
        },
        {
         "marker": {
          "color": "red"
         },
         "name": "Negative",
         "showlegend": true,
         "type": "bar",
         "visible": false,
         "x": [
          "TMEM97",
          "GRWD1",
          "RXYLT1",
          "ERO1A",
          "MBOAT7",
          "BAX"
         ],
         "y": [
          -0.014767578616933497,
          -0.01428873593226148,
          -0.01200897109034536,
          -0.010996813744928885,
          -0.010155632413594531,
          -0.009925613203360894
         ]
        },
        {
         "marker": {
          "color": "blue"
         },
         "name": "Positive",
         "showlegend": true,
         "type": "bar",
         "visible": false,
         "x": [
          "SIRT3",
          "NUSAP1",
          "CDC42",
          "ABCF3"
         ],
         "y": [
          0.012317033697806023,
          0.012242837581441264,
          0.008951640404217445,
          0.00818412873703689
         ]
        },
        {
         "marker": {
          "color": "red"
         },
         "name": "Negative",
         "showlegend": true,
         "type": "bar",
         "visible": false,
         "x": [
          "TMEM97",
          "OXCT1",
          "NOL3",
          "GRWD1",
          "MBOAT7",
          "AURKA"
         ],
         "y": [
          -0.021376260222980312,
          -0.012978035324144741,
          -0.012957976964841328,
          -0.012480424629268592,
          -0.009453181111790268,
          -0.008722180608421672
         ]
        },
        {
         "marker": {
          "color": "blue"
         },
         "name": "Positive",
         "showlegend": true,
         "type": "bar",
         "visible": false,
         "x": [
          "SIRT3",
          "NUSAP1",
          "SNX13",
          "IL1B"
         ],
         "y": [
          0.009922622864340576,
          0.009274508254184315,
          0.008936337771011368,
          0.008446380132066836
         ]
        },
        {
         "marker": {
          "color": "red"
         },
         "name": "Negative",
         "showlegend": true,
         "type": "bar",
         "visible": false,
         "x": [
          "TMEM97",
          "GRWD1",
          "MBOAT7",
          "OXCT1",
          "BAX",
          "RXYLT1"
         ],
         "y": [
          -0.01618521118380232,
          -0.014572471589336378,
          -0.009789189348807806,
          -0.009162842371008197,
          -0.009015335389221656,
          -0.008447789844116923
         ]
        },
        {
         "marker": {
          "color": "blue"
         },
         "name": "Positive",
         "showlegend": true,
         "type": "bar",
         "visible": false,
         "x": [
          "IL1B",
          "PIGB",
          "SNX13",
          "SIRT3"
         ],
         "y": [
          0.008900454015929576,
          0.00885210064010664,
          0.008473211857575285,
          0.008361839368198088
         ]
        },
        {
         "marker": {
          "color": "red"
         },
         "name": "Negative",
         "showlegend": true,
         "type": "bar",
         "visible": false,
         "x": [
          "TMEM97",
          "GRWD1",
          "RXYLT1",
          "MBOAT7",
          "ERO1A",
          "BAX"
         ],
         "y": [
          -0.013316362707140384,
          -0.01271614432015774,
          -0.00937603932202042,
          -0.008881476493153656,
          -0.008675701149403837,
          -0.008226749352110315
         ]
        },
        {
         "marker": {
          "color": "blue"
         },
         "name": "Positive",
         "showlegend": true,
         "type": "bar",
         "visible": false,
         "x": [
          "PIGB",
          "CDC42",
          "NUSAP1",
          "SIRT3",
          "INTS3",
          "IL1B"
         ],
         "y": [
          0.008639048094767838,
          0.008383783952341009,
          0.007897639565798338,
          0.007739518925132911,
          0.0075185980442566405,
          0.007144480802513171
         ]
        },
        {
         "marker": {
          "color": "red"
         },
         "name": "Negative",
         "showlegend": true,
         "type": "bar",
         "visible": false,
         "x": [
          "GRWD1",
          "TMEM97",
          "ERO1A",
          "CNPY3"
         ],
         "y": [
          -0.010747226412327563,
          -0.009855785160495343,
          -0.007354271491926321,
          -0.006708088306104763
         ]
        }
       ],
       "layout": {
        "legend": {
         "title": {
          "text": "Coefficient Sign"
         }
        },
        "template": {
         "data": {
          "bar": [
           {
            "error_x": {
             "color": "#2a3f5f"
            },
            "error_y": {
             "color": "#2a3f5f"
            },
            "marker": {
             "line": {
              "color": "#E5ECF6",
              "width": 0.5
             },
             "pattern": {
              "fillmode": "overlay",
              "size": 10,
              "solidity": 0.2
             }
            },
            "type": "bar"
           }
          ],
          "barpolar": [
           {
            "marker": {
             "line": {
              "color": "#E5ECF6",
              "width": 0.5
             },
             "pattern": {
              "fillmode": "overlay",
              "size": 10,
              "solidity": 0.2
             }
            },
            "type": "barpolar"
           }
          ],
          "carpet": [
           {
            "aaxis": {
             "endlinecolor": "#2a3f5f",
             "gridcolor": "white",
             "linecolor": "white",
             "minorgridcolor": "white",
             "startlinecolor": "#2a3f5f"
            },
            "baxis": {
             "endlinecolor": "#2a3f5f",
             "gridcolor": "white",
             "linecolor": "white",
             "minorgridcolor": "white",
             "startlinecolor": "#2a3f5f"
            },
            "type": "carpet"
           }
          ],
          "choropleth": [
           {
            "colorbar": {
             "outlinewidth": 0,
             "ticks": ""
            },
            "type": "choropleth"
           }
          ],
          "contour": [
           {
            "colorbar": {
             "outlinewidth": 0,
             "ticks": ""
            },
            "colorscale": [
             [
              0,
              "#0d0887"
             ],
             [
              0.1111111111111111,
              "#46039f"
             ],
             [
              0.2222222222222222,
              "#7201a8"
             ],
             [
              0.3333333333333333,
              "#9c179e"
             ],
             [
              0.4444444444444444,
              "#bd3786"
             ],
             [
              0.5555555555555556,
              "#d8576b"
             ],
             [
              0.6666666666666666,
              "#ed7953"
             ],
             [
              0.7777777777777778,
              "#fb9f3a"
             ],
             [
              0.8888888888888888,
              "#fdca26"
             ],
             [
              1,
              "#f0f921"
             ]
            ],
            "type": "contour"
           }
          ],
          "contourcarpet": [
           {
            "colorbar": {
             "outlinewidth": 0,
             "ticks": ""
            },
            "type": "contourcarpet"
           }
          ],
          "heatmap": [
           {
            "colorbar": {
             "outlinewidth": 0,
             "ticks": ""
            },
            "colorscale": [
             [
              0,
              "#0d0887"
             ],
             [
              0.1111111111111111,
              "#46039f"
             ],
             [
              0.2222222222222222,
              "#7201a8"
             ],
             [
              0.3333333333333333,
              "#9c179e"
             ],
             [
              0.4444444444444444,
              "#bd3786"
             ],
             [
              0.5555555555555556,
              "#d8576b"
             ],
             [
              0.6666666666666666,
              "#ed7953"
             ],
             [
              0.7777777777777778,
              "#fb9f3a"
             ],
             [
              0.8888888888888888,
              "#fdca26"
             ],
             [
              1,
              "#f0f921"
             ]
            ],
            "type": "heatmap"
           }
          ],
          "heatmapgl": [
           {
            "colorbar": {
             "outlinewidth": 0,
             "ticks": ""
            },
            "colorscale": [
             [
              0,
              "#0d0887"
             ],
             [
              0.1111111111111111,
              "#46039f"
             ],
             [
              0.2222222222222222,
              "#7201a8"
             ],
             [
              0.3333333333333333,
              "#9c179e"
             ],
             [
              0.4444444444444444,
              "#bd3786"
             ],
             [
              0.5555555555555556,
              "#d8576b"
             ],
             [
              0.6666666666666666,
              "#ed7953"
             ],
             [
              0.7777777777777778,
              "#fb9f3a"
             ],
             [
              0.8888888888888888,
              "#fdca26"
             ],
             [
              1,
              "#f0f921"
             ]
            ],
            "type": "heatmapgl"
           }
          ],
          "histogram": [
           {
            "marker": {
             "pattern": {
              "fillmode": "overlay",
              "size": 10,
              "solidity": 0.2
             }
            },
            "type": "histogram"
           }
          ],
          "histogram2d": [
           {
            "colorbar": {
             "outlinewidth": 0,
             "ticks": ""
            },
            "colorscale": [
             [
              0,
              "#0d0887"
             ],
             [
              0.1111111111111111,
              "#46039f"
             ],
             [
              0.2222222222222222,
              "#7201a8"
             ],
             [
              0.3333333333333333,
              "#9c179e"
             ],
             [
              0.4444444444444444,
              "#bd3786"
             ],
             [
              0.5555555555555556,
              "#d8576b"
             ],
             [
              0.6666666666666666,
              "#ed7953"
             ],
             [
              0.7777777777777778,
              "#fb9f3a"
             ],
             [
              0.8888888888888888,
              "#fdca26"
             ],
             [
              1,
              "#f0f921"
             ]
            ],
            "type": "histogram2d"
           }
          ],
          "histogram2dcontour": [
           {
            "colorbar": {
             "outlinewidth": 0,
             "ticks": ""
            },
            "colorscale": [
             [
              0,
              "#0d0887"
             ],
             [
              0.1111111111111111,
              "#46039f"
             ],
             [
              0.2222222222222222,
              "#7201a8"
             ],
             [
              0.3333333333333333,
              "#9c179e"
             ],
             [
              0.4444444444444444,
              "#bd3786"
             ],
             [
              0.5555555555555556,
              "#d8576b"
             ],
             [
              0.6666666666666666,
              "#ed7953"
             ],
             [
              0.7777777777777778,
              "#fb9f3a"
             ],
             [
              0.8888888888888888,
              "#fdca26"
             ],
             [
              1,
              "#f0f921"
             ]
            ],
            "type": "histogram2dcontour"
           }
          ],
          "mesh3d": [
           {
            "colorbar": {
             "outlinewidth": 0,
             "ticks": ""
            },
            "type": "mesh3d"
           }
          ],
          "parcoords": [
           {
            "line": {
             "colorbar": {
              "outlinewidth": 0,
              "ticks": ""
             }
            },
            "type": "parcoords"
           }
          ],
          "pie": [
           {
            "automargin": true,
            "type": "pie"
           }
          ],
          "scatter": [
           {
            "fillpattern": {
             "fillmode": "overlay",
             "size": 10,
             "solidity": 0.2
            },
            "type": "scatter"
           }
          ],
          "scatter3d": [
           {
            "line": {
             "colorbar": {
              "outlinewidth": 0,
              "ticks": ""
             }
            },
            "marker": {
             "colorbar": {
              "outlinewidth": 0,
              "ticks": ""
             }
            },
            "type": "scatter3d"
           }
          ],
          "scattercarpet": [
           {
            "marker": {
             "colorbar": {
              "outlinewidth": 0,
              "ticks": ""
             }
            },
            "type": "scattercarpet"
           }
          ],
          "scattergeo": [
           {
            "marker": {
             "colorbar": {
              "outlinewidth": 0,
              "ticks": ""
             }
            },
            "type": "scattergeo"
           }
          ],
          "scattergl": [
           {
            "marker": {
             "colorbar": {
              "outlinewidth": 0,
              "ticks": ""
             }
            },
            "type": "scattergl"
           }
          ],
          "scattermapbox": [
           {
            "marker": {
             "colorbar": {
              "outlinewidth": 0,
              "ticks": ""
             }
            },
            "type": "scattermapbox"
           }
          ],
          "scatterpolar": [
           {
            "marker": {
             "colorbar": {
              "outlinewidth": 0,
              "ticks": ""
             }
            },
            "type": "scatterpolar"
           }
          ],
          "scatterpolargl": [
           {
            "marker": {
             "colorbar": {
              "outlinewidth": 0,
              "ticks": ""
             }
            },
            "type": "scatterpolargl"
           }
          ],
          "scatterternary": [
           {
            "marker": {
             "colorbar": {
              "outlinewidth": 0,
              "ticks": ""
             }
            },
            "type": "scatterternary"
           }
          ],
          "surface": [
           {
            "colorbar": {
             "outlinewidth": 0,
             "ticks": ""
            },
            "colorscale": [
             [
              0,
              "#0d0887"
             ],
             [
              0.1111111111111111,
              "#46039f"
             ],
             [
              0.2222222222222222,
              "#7201a8"
             ],
             [
              0.3333333333333333,
              "#9c179e"
             ],
             [
              0.4444444444444444,
              "#bd3786"
             ],
             [
              0.5555555555555556,
              "#d8576b"
             ],
             [
              0.6666666666666666,
              "#ed7953"
             ],
             [
              0.7777777777777778,
              "#fb9f3a"
             ],
             [
              0.8888888888888888,
              "#fdca26"
             ],
             [
              1,
              "#f0f921"
             ]
            ],
            "type": "surface"
           }
          ],
          "table": [
           {
            "cells": {
             "fill": {
              "color": "#EBF0F8"
             },
             "line": {
              "color": "white"
             }
            },
            "header": {
             "fill": {
              "color": "#C8D4E3"
             },
             "line": {
              "color": "white"
             }
            },
            "type": "table"
           }
          ]
         },
         "layout": {
          "annotationdefaults": {
           "arrowcolor": "#2a3f5f",
           "arrowhead": 0,
           "arrowwidth": 1
          },
          "autotypenumbers": "strict",
          "coloraxis": {
           "colorbar": {
            "outlinewidth": 0,
            "ticks": ""
           }
          },
          "colorscale": {
           "diverging": [
            [
             0,
             "#8e0152"
            ],
            [
             0.1,
             "#c51b7d"
            ],
            [
             0.2,
             "#de77ae"
            ],
            [
             0.3,
             "#f1b6da"
            ],
            [
             0.4,
             "#fde0ef"
            ],
            [
             0.5,
             "#f7f7f7"
            ],
            [
             0.6,
             "#e6f5d0"
            ],
            [
             0.7,
             "#b8e186"
            ],
            [
             0.8,
             "#7fbc41"
            ],
            [
             0.9,
             "#4d9221"
            ],
            [
             1,
             "#276419"
            ]
           ],
           "sequential": [
            [
             0,
             "#0d0887"
            ],
            [
             0.1111111111111111,
             "#46039f"
            ],
            [
             0.2222222222222222,
             "#7201a8"
            ],
            [
             0.3333333333333333,
             "#9c179e"
            ],
            [
             0.4444444444444444,
             "#bd3786"
            ],
            [
             0.5555555555555556,
             "#d8576b"
            ],
            [
             0.6666666666666666,
             "#ed7953"
            ],
            [
             0.7777777777777778,
             "#fb9f3a"
            ],
            [
             0.8888888888888888,
             "#fdca26"
            ],
            [
             1,
             "#f0f921"
            ]
           ],
           "sequentialminus": [
            [
             0,
             "#0d0887"
            ],
            [
             0.1111111111111111,
             "#46039f"
            ],
            [
             0.2222222222222222,
             "#7201a8"
            ],
            [
             0.3333333333333333,
             "#9c179e"
            ],
            [
             0.4444444444444444,
             "#bd3786"
            ],
            [
             0.5555555555555556,
             "#d8576b"
            ],
            [
             0.6666666666666666,
             "#ed7953"
            ],
            [
             0.7777777777777778,
             "#fb9f3a"
            ],
            [
             0.8888888888888888,
             "#fdca26"
            ],
            [
             1,
             "#f0f921"
            ]
           ]
          },
          "colorway": [
           "#636efa",
           "#EF553B",
           "#00cc96",
           "#ab63fa",
           "#FFA15A",
           "#19d3f3",
           "#FF6692",
           "#B6E880",
           "#FF97FF",
           "#FECB52"
          ],
          "font": {
           "color": "#2a3f5f"
          },
          "geo": {
           "bgcolor": "white",
           "lakecolor": "white",
           "landcolor": "#E5ECF6",
           "showlakes": true,
           "showland": true,
           "subunitcolor": "white"
          },
          "hoverlabel": {
           "align": "left"
          },
          "hovermode": "closest",
          "mapbox": {
           "style": "light"
          },
          "paper_bgcolor": "white",
          "plot_bgcolor": "#E5ECF6",
          "polar": {
           "angularaxis": {
            "gridcolor": "white",
            "linecolor": "white",
            "ticks": ""
           },
           "bgcolor": "#E5ECF6",
           "radialaxis": {
            "gridcolor": "white",
            "linecolor": "white",
            "ticks": ""
           }
          },
          "scene": {
           "xaxis": {
            "backgroundcolor": "#E5ECF6",
            "gridcolor": "white",
            "gridwidth": 2,
            "linecolor": "white",
            "showbackground": true,
            "ticks": "",
            "zerolinecolor": "white"
           },
           "yaxis": {
            "backgroundcolor": "#E5ECF6",
            "gridcolor": "white",
            "gridwidth": 2,
            "linecolor": "white",
            "showbackground": true,
            "ticks": "",
            "zerolinecolor": "white"
           },
           "zaxis": {
            "backgroundcolor": "#E5ECF6",
            "gridcolor": "white",
            "gridwidth": 2,
            "linecolor": "white",
            "showbackground": true,
            "ticks": "",
            "zerolinecolor": "white"
           }
          },
          "shapedefaults": {
           "line": {
            "color": "#2a3f5f"
           }
          },
          "ternary": {
           "aaxis": {
            "gridcolor": "white",
            "linecolor": "white",
            "ticks": ""
           },
           "baxis": {
            "gridcolor": "white",
            "linecolor": "white",
            "ticks": ""
           },
           "bgcolor": "#E5ECF6",
           "caxis": {
            "gridcolor": "white",
            "linecolor": "white",
            "ticks": ""
           }
          },
          "title": {
           "x": 0.05
          },
          "xaxis": {
           "automargin": true,
           "gridcolor": "white",
           "linecolor": "white",
           "ticks": "",
           "title": {
            "standoff": 15
           },
           "zerolinecolor": "white",
           "zerolinewidth": 2
          },
          "yaxis": {
           "automargin": true,
           "gridcolor": "white",
           "linecolor": "white",
           "ticks": "",
           "title": {
            "standoff": 15
           },
           "zerolinecolor": "white",
           "zerolinewidth": 2
          }
         }
        },
        "title": {
         "text": "Top 10 Features: TF Data - Linear"
        },
        "updatemenus": [
         {
          "buttons": [
           {
            "args": [
             {
              "visible": [
               false,
               false,
               false,
               false,
               false,
               false,
               false,
               false,
               false,
               false,
               false,
               false,
               false,
               false,
               false,
               false,
               false,
               false,
               false,
               false,
               true,
               true,
               false,
               false
              ]
             },
             {
              "title": "Top 10 Features: Gene Data - Bayesian Ridge"
             }
            ],
            "label": "Gene Data",
            "method": "update"
           },
           {
            "args": [
             {
              "visible": [
               false,
               false,
               false,
               false,
               false,
               false,
               false,
               false,
               true,
               true,
               false,
               false,
               false,
               false,
               false,
               false,
               false,
               false,
               false,
               false,
               false,
               false,
               false,
               false
              ]
             },
             {
              "title": "Top 10 Features: TF Data - Bayesian Ridge"
             }
            ],
            "label": "TF Data",
            "method": "update"
           }
          ],
          "direction": "down",
          "name": "Feature Set",
          "pad": {
           "r": 10,
           "t": 10
          },
          "showactive": true,
          "x": 0.3,
          "xanchor": "center",
          "y": 1.2,
          "yanchor": "top"
         },
         {
          "buttons": [
           {
            "args": [
             {
              "visible": [
               false,
               false,
               false,
               false,
               false,
               false,
               false,
               false,
               true,
               true,
               false,
               false,
               false,
               false,
               false,
               false,
               false,
               false,
               false,
               false,
               false,
               false,
               false,
               false
              ]
             },
             {
              "title": "Top 10 Features: TF Data - Bayesian Ridge"
             }
            ],
            "label": "Bayesian Ridge",
            "method": "update"
           },
           {
            "args": [
             {
              "visible": [
               false,
               false,
               false,
               false,
               false,
               false,
               true,
               true,
               false,
               false,
               false,
               false,
               false,
               false,
               false,
               false,
               false,
               false,
               false,
               false,
               false,
               false,
               false,
               false
              ]
             },
             {
              "title": "Top 10 Features: TF Data - Elastic Net"
             }
            ],
            "label": "Elastic Net",
            "method": "update"
           },
           {
            "args": [
             {
              "visible": [
               false,
               false,
               false,
               false,
               false,
               false,
               false,
               false,
               false,
               false,
               true,
               true,
               false,
               false,
               false,
               false,
               false,
               false,
               false,
               false,
               false,
               false,
               false,
               false
              ]
             },
             {
              "title": "Top 10 Features: TF Data - Huber"
             }
            ],
            "label": "Huber",
            "method": "update"
           },
           {
            "args": [
             {
              "visible": [
               false,
               false,
               false,
               false,
               true,
               true,
               false,
               false,
               false,
               false,
               false,
               false,
               false,
               false,
               false,
               false,
               false,
               false,
               false,
               false,
               false,
               false,
               false,
               false
              ]
             },
             {
              "title": "Top 10 Features: TF Data - Lasso"
             }
            ],
            "label": "Lasso",
            "method": "update"
           },
           {
            "args": [
             {
              "visible": [
               true,
               true,
               false,
               false,
               false,
               false,
               false,
               false,
               false,
               false,
               false,
               false,
               false,
               false,
               false,
               false,
               false,
               false,
               false,
               false,
               false,
               false,
               false,
               false
              ]
             },
             {
              "title": "Top 10 Features: TF Data - Linear"
             }
            ],
            "label": "Linear",
            "method": "update"
           },
           {
            "args": [
             {
              "visible": [
               false,
               false,
               true,
               true,
               false,
               false,
               false,
               false,
               false,
               false,
               false,
               false,
               false,
               false,
               false,
               false,
               false,
               false,
               false,
               false,
               false,
               false,
               false,
               false
              ]
             },
             {
              "title": "Top 10 Features: TF Data - Ridge"
             }
            ],
            "label": "Ridge",
            "method": "update"
           }
          ],
          "direction": "down",
          "name": "Model Type",
          "pad": {
           "r": 10,
           "t": 10
          },
          "showactive": true,
          "x": 0.7,
          "xanchor": "center",
          "y": 1.2,
          "yanchor": "top"
         }
        ],
        "xaxis": {
         "title": {
          "text": "Feature Name"
         }
        },
        "yaxis": {
         "title": {
          "text": "Coefficient Value"
         }
        }
       }
      }
     },
     "metadata": {},
     "output_type": "display_data"
    }
   ],
   "source": [
    "from sklearn.base import clone\n",
    "from visualizations.visualizations import create_coefficients_visualization\n",
    "# Define models\n",
    "models = {\n",
    "    \"Linear\": (LinearRegression()),\n",
    "    \"Ridge\": (RidgeCV(alphas=[0.01, 0.1, 1.0, 10.0], cv=5)),\n",
    "    \"Lasso\": (LassoCV(alphas=[0.01, 0.1, 1.0, 10.0], cv=5)),\n",
    "    \"Elastic Net\": (ElasticNetCV(l1_ratio=[0.2, 0.4, 0.6, 0.8], alphas=[0.01, 0.1, 1.0, 10.0], cv=5)),\n",
    "    \"Bayesian Ridge\": (BayesianRidge()),\n",
    "    \"Huber\": (HuberRegressor()),\n",
    "}\n",
    "\n",
    "# Define feature sets\n",
    "feature_sets = {\n",
    "    \"TF Data\": (X_tf_train, y_tf_train, X_tf_test, y_tf_test),\n",
    "    \"Gene Data\": (X_gene_train, y_gene_train, X_gene_test, y_gene_test),\n",
    "}\n",
    "\n",
    "class ModelPipeline:\n",
    "    def __init__(self, models, feature_sets):\n",
    "        self.models = models \n",
    "        self.feature_sets = feature_sets\n",
    "        self.trained_models = {}  # Dictionary to store trained models\n",
    "        self.results = {}  # Dictionary to store evaluation results\n",
    "\n",
    "    def train_and_evaluate(self):\n",
    "        for feature_name, (\n",
    "            X_train,\n",
    "            y_train,\n",
    "            X_test,\n",
    "            y_test,\n",
    "        ) in self.feature_sets.items():\n",
    "            for model_name, base_model in self.models.items():\n",
    "                logging.debug(f\"Training {model_name} on {feature_name}...\")\n",
    "\n",
    "                # Clone the base model to ensure no overwriting\n",
    "                model = clone(base_model)\n",
    "\n",
    "                # Train the cloned model\n",
    "                trained_model = model.fit(X_train, y_train)\n",
    "\n",
    "                # Store the trained model with a unique key\n",
    "                self.trained_models[(feature_name, model_name)] = trained_model\n",
    "\n",
    "                # Evaluate the model\n",
    "                test_loss, metrics = evaluate_shallow_model(\n",
    "                    trained_model, X_test, y_test\n",
    "                )\n",
    "                self.results[(feature_name, model_name)] = metrics\n",
    "\n",
    "    def get_results(self):\n",
    "        results_df = pd.DataFrame.from_dict(self.results, orient=\"index\")\n",
    "        results_df.index = pd.MultiIndex.from_tuples(\n",
    "            results_df.index, names=[\"Feature Set\", \"Regression Model Type\"]\n",
    "        )\n",
    "        return results_df.sort_index()\n",
    "\n",
    "    def visualize_coefficients(self, top_n=10):\n",
    "        create_coefficients_visualization(\n",
    "            self.trained_models, self.feature_sets, top_n\n",
    "        )\n",
    "\n",
    "\n",
    "# Usage\n",
    "pipeline = ModelPipeline(models, feature_sets)\n",
    "pipeline.train_and_evaluate()\n",
    "results_df = pipeline.get_results()\n",
    "pipeline.visualize_coefficients(top_n=10)"
   ]
  },
  {
   "cell_type": "code",
   "execution_count": 16,
   "metadata": {},
   "outputs": [
    {
     "data": {
      "text/html": [
       "<style type=\"text/css\">\n",
       "#T_dd794_row2_col1, #T_dd794_row11_col0, #T_dd794_row11_col2, #T_dd794_row11_col3, #T_dd794_row11_col4 {\n",
       "  background-color: lightgreen;\n",
       "}\n",
       "</style>\n",
       "<table id=\"T_dd794\">\n",
       "  <caption>Regression Model Evaluation Metrics</caption>\n",
       "  <thead>\n",
       "    <tr>\n",
       "      <th class=\"blank\" >&nbsp;</th>\n",
       "      <th class=\"blank level0\" >&nbsp;</th>\n",
       "      <th id=\"T_dd794_level0_col0\" class=\"col_heading level0 col0\" >MSE</th>\n",
       "      <th id=\"T_dd794_level0_col1\" class=\"col_heading level0 col1\" >MAE</th>\n",
       "      <th id=\"T_dd794_level0_col2\" class=\"col_heading level0 col2\" >R²</th>\n",
       "      <th id=\"T_dd794_level0_col3\" class=\"col_heading level0 col3\" >Pearson Correlation</th>\n",
       "      <th id=\"T_dd794_level0_col4\" class=\"col_heading level0 col4\" >Weighted Score</th>\n",
       "    </tr>\n",
       "    <tr>\n",
       "      <th class=\"index_name level0\" >Feature Set</th>\n",
       "      <th class=\"index_name level1\" >Regression Model Type</th>\n",
       "      <th class=\"blank col0\" >&nbsp;</th>\n",
       "      <th class=\"blank col1\" >&nbsp;</th>\n",
       "      <th class=\"blank col2\" >&nbsp;</th>\n",
       "      <th class=\"blank col3\" >&nbsp;</th>\n",
       "      <th class=\"blank col4\" >&nbsp;</th>\n",
       "    </tr>\n",
       "  </thead>\n",
       "  <tbody>\n",
       "    <tr>\n",
       "      <th id=\"T_dd794_level0_row0\" class=\"row_heading level0 row0\" rowspan=\"6\">Gene Data</th>\n",
       "      <th id=\"T_dd794_level1_row0\" class=\"row_heading level1 row0\" >Bayesian Ridge</th>\n",
       "      <td id=\"T_dd794_row0_col0\" class=\"data row0 col0\" >0.036</td>\n",
       "      <td id=\"T_dd794_row0_col1\" class=\"data row0 col1\" >0.127</td>\n",
       "      <td id=\"T_dd794_row0_col2\" class=\"data row0 col2\" >0.403</td>\n",
       "      <td id=\"T_dd794_row0_col3\" class=\"data row0 col3\" >0.635</td>\n",
       "      <td id=\"T_dd794_row0_col4\" class=\"data row0 col4\" >0.519</td>\n",
       "    </tr>\n",
       "    <tr>\n",
       "      <th id=\"T_dd794_level1_row1\" class=\"row_heading level1 row1\" >Elastic Net</th>\n",
       "      <td id=\"T_dd794_row1_col0\" class=\"data row1 col0\" >0.036</td>\n",
       "      <td id=\"T_dd794_row1_col1\" class=\"data row1 col1\" >0.127</td>\n",
       "      <td id=\"T_dd794_row1_col2\" class=\"data row1 col2\" >0.396</td>\n",
       "      <td id=\"T_dd794_row1_col3\" class=\"data row1 col3\" >0.631</td>\n",
       "      <td id=\"T_dd794_row1_col4\" class=\"data row1 col4\" >0.514</td>\n",
       "    </tr>\n",
       "    <tr>\n",
       "      <th id=\"T_dd794_level1_row2\" class=\"row_heading level1 row2\" >Huber</th>\n",
       "      <td id=\"T_dd794_row2_col0\" class=\"data row2 col0\" >0.038</td>\n",
       "      <td id=\"T_dd794_row2_col1\" class=\"data row2 col1\" >0.118</td>\n",
       "      <td id=\"T_dd794_row2_col2\" class=\"data row2 col2\" >0.368</td>\n",
       "      <td id=\"T_dd794_row2_col3\" class=\"data row2 col3\" >0.629</td>\n",
       "      <td id=\"T_dd794_row2_col4\" class=\"data row2 col4\" >0.499</td>\n",
       "    </tr>\n",
       "    <tr>\n",
       "      <th id=\"T_dd794_level1_row3\" class=\"row_heading level1 row3\" >Lasso</th>\n",
       "      <td id=\"T_dd794_row3_col0\" class=\"data row3 col0\" >0.039</td>\n",
       "      <td id=\"T_dd794_row3_col1\" class=\"data row3 col1\" >0.134</td>\n",
       "      <td id=\"T_dd794_row3_col2\" class=\"data row3 col2\" >0.343</td>\n",
       "      <td id=\"T_dd794_row3_col3\" class=\"data row3 col3\" >0.596</td>\n",
       "      <td id=\"T_dd794_row3_col4\" class=\"data row3 col4\" >0.469</td>\n",
       "    </tr>\n",
       "    <tr>\n",
       "      <th id=\"T_dd794_level1_row4\" class=\"row_heading level1 row4\" >Linear</th>\n",
       "      <td id=\"T_dd794_row4_col0\" class=\"data row4 col0\" >0.036</td>\n",
       "      <td id=\"T_dd794_row4_col1\" class=\"data row4 col1\" >0.128</td>\n",
       "      <td id=\"T_dd794_row4_col2\" class=\"data row4 col2\" >0.398</td>\n",
       "      <td id=\"T_dd794_row4_col3\" class=\"data row4 col3\" >0.631</td>\n",
       "      <td id=\"T_dd794_row4_col4\" class=\"data row4 col4\" >0.515</td>\n",
       "    </tr>\n",
       "    <tr>\n",
       "      <th id=\"T_dd794_level1_row5\" class=\"row_heading level1 row5\" >Ridge</th>\n",
       "      <td id=\"T_dd794_row5_col0\" class=\"data row5 col0\" >0.036</td>\n",
       "      <td id=\"T_dd794_row5_col1\" class=\"data row5 col1\" >0.128</td>\n",
       "      <td id=\"T_dd794_row5_col2\" class=\"data row5 col2\" >0.398</td>\n",
       "      <td id=\"T_dd794_row5_col3\" class=\"data row5 col3\" >0.631</td>\n",
       "      <td id=\"T_dd794_row5_col4\" class=\"data row5 col4\" >0.515</td>\n",
       "    </tr>\n",
       "    <tr>\n",
       "      <th id=\"T_dd794_level0_row6\" class=\"row_heading level0 row6\" rowspan=\"6\">TF Data</th>\n",
       "      <th id=\"T_dd794_level1_row6\" class=\"row_heading level1 row6\" >Bayesian Ridge</th>\n",
       "      <td id=\"T_dd794_row6_col0\" class=\"data row6 col0\" >0.034</td>\n",
       "      <td id=\"T_dd794_row6_col1\" class=\"data row6 col1\" >0.128</td>\n",
       "      <td id=\"T_dd794_row6_col2\" class=\"data row6 col2\" >0.426</td>\n",
       "      <td id=\"T_dd794_row6_col3\" class=\"data row6 col3\" >0.653</td>\n",
       "      <td id=\"T_dd794_row6_col4\" class=\"data row6 col4\" >0.540</td>\n",
       "    </tr>\n",
       "    <tr>\n",
       "      <th id=\"T_dd794_level1_row7\" class=\"row_heading level1 row7\" >Elastic Net</th>\n",
       "      <td id=\"T_dd794_row7_col0\" class=\"data row7 col0\" >0.036</td>\n",
       "      <td id=\"T_dd794_row7_col1\" class=\"data row7 col1\" >0.130</td>\n",
       "      <td id=\"T_dd794_row7_col2\" class=\"data row7 col2\" >0.395</td>\n",
       "      <td id=\"T_dd794_row7_col3\" class=\"data row7 col3\" >0.630</td>\n",
       "      <td id=\"T_dd794_row7_col4\" class=\"data row7 col4\" >0.513</td>\n",
       "    </tr>\n",
       "    <tr>\n",
       "      <th id=\"T_dd794_level1_row8\" class=\"row_heading level1 row8\" >Huber</th>\n",
       "      <td id=\"T_dd794_row8_col0\" class=\"data row8 col0\" >0.036</td>\n",
       "      <td id=\"T_dd794_row8_col1\" class=\"data row8 col1\" >0.120</td>\n",
       "      <td id=\"T_dd794_row8_col2\" class=\"data row8 col2\" >0.389</td>\n",
       "      <td id=\"T_dd794_row8_col3\" class=\"data row8 col3\" >0.648</td>\n",
       "      <td id=\"T_dd794_row8_col4\" class=\"data row8 col4\" >0.518</td>\n",
       "    </tr>\n",
       "    <tr>\n",
       "      <th id=\"T_dd794_level1_row9\" class=\"row_heading level1 row9\" >Lasso</th>\n",
       "      <td id=\"T_dd794_row9_col0\" class=\"data row9 col0\" >0.041</td>\n",
       "      <td id=\"T_dd794_row9_col1\" class=\"data row9 col1\" >0.137</td>\n",
       "      <td id=\"T_dd794_row9_col2\" class=\"data row9 col2\" >0.313</td>\n",
       "      <td id=\"T_dd794_row9_col3\" class=\"data row9 col3\" >0.570</td>\n",
       "      <td id=\"T_dd794_row9_col4\" class=\"data row9 col4\" >0.442</td>\n",
       "    </tr>\n",
       "    <tr>\n",
       "      <th id=\"T_dd794_level1_row10\" class=\"row_heading level1 row10\" >Linear</th>\n",
       "      <td id=\"T_dd794_row10_col0\" class=\"data row10 col0\" >0.034</td>\n",
       "      <td id=\"T_dd794_row10_col1\" class=\"data row10 col1\" >0.129</td>\n",
       "      <td id=\"T_dd794_row10_col2\" class=\"data row10 col2\" >0.426</td>\n",
       "      <td id=\"T_dd794_row10_col3\" class=\"data row10 col3\" >0.654</td>\n",
       "      <td id=\"T_dd794_row10_col4\" class=\"data row10 col4\" >0.540</td>\n",
       "    </tr>\n",
       "    <tr>\n",
       "      <th id=\"T_dd794_level1_row11\" class=\"row_heading level1 row11\" >Ridge</th>\n",
       "      <td id=\"T_dd794_row11_col0\" class=\"data row11 col0\" >0.034</td>\n",
       "      <td id=\"T_dd794_row11_col1\" class=\"data row11 col1\" >0.129</td>\n",
       "      <td id=\"T_dd794_row11_col2\" class=\"data row11 col2\" >0.427</td>\n",
       "      <td id=\"T_dd794_row11_col3\" class=\"data row11 col3\" >0.654</td>\n",
       "      <td id=\"T_dd794_row11_col4\" class=\"data row11 col4\" >0.540</td>\n",
       "    </tr>\n",
       "  </tbody>\n",
       "</table>\n"
      ],
      "text/plain": [
       "<pandas.io.formats.style.Styler at 0x1c2bbc766e0>"
      ]
     },
     "execution_count": 16,
     "metadata": {},
     "output_type": "execute_result"
    }
   ],
   "source": [
    "results_df.style.format(precision=3).set_caption(\n",
    "    \"Regression Model Evaluation Metrics\"\n",
    ").highlight_max(subset=[\"R²\", \"Pearson Correlation\", \"Weighted Score\"], color=\"lightgreen\").highlight_min(\n",
    "    subset=[\"MAE\", \"MSE\"], color=\"lightgreen\"\n",
    ")"
   ]
  },
  {
   "cell_type": "code",
   "execution_count": 17,
   "metadata": {},
   "outputs": [
    {
     "data": {
      "application/vnd.plotly.v1+json": {
       "config": {
        "plotlyServerURL": "https://plot.ly"
       },
       "data": [
        {
         "alignmentgroup": "True",
         "hovertemplate": "Feature Set=Gene Data<br>Models=%{x}<br>Weighted Score=%{y}<extra></extra>",
         "legendgroup": "Gene Data",
         "marker": {
          "color": "#636efa",
          "pattern": {
           "shape": ""
          }
         },
         "name": "Gene Data",
         "offsetgroup": "Gene Data",
         "orientation": "v",
         "showlegend": true,
         "textposition": "auto",
         "type": "bar",
         "x": [
          "Bayesian Ridge",
          "Elastic Net",
          "Huber",
          "Lasso",
          "Linear",
          "Ridge"
         ],
         "xaxis": "x",
         "y": [
          0.5191199719991068,
          0.5136213878525938,
          0.49894299958915056,
          0.4691956446605503,
          0.5145344900606063,
          0.5145573425509313
         ],
         "yaxis": "y"
        },
        {
         "alignmentgroup": "True",
         "hovertemplate": "Feature Set=TF Data<br>Models=%{x}<br>Weighted Score=%{y}<extra></extra>",
         "legendgroup": "TF Data",
         "marker": {
          "color": "#EF553B",
          "pattern": {
           "shape": ""
          }
         },
         "name": "TF Data",
         "offsetgroup": "TF Data",
         "orientation": "v",
         "showlegend": true,
         "textposition": "auto",
         "type": "bar",
         "x": [
          "Bayesian Ridge",
          "Elastic Net",
          "Huber",
          "Lasso",
          "Linear",
          "Ridge"
         ],
         "xaxis": "x",
         "y": [
          0.5397104843105646,
          0.5127653707710997,
          0.5183282976909485,
          0.44151883515097934,
          0.540208934266453,
          0.5404207105855144
         ],
         "yaxis": "y"
        }
       ],
       "layout": {
        "barmode": "group",
        "legend": {
         "title": {
          "text": "Feature Set"
         },
         "tracegroupgap": 0
        },
        "template": {
         "data": {
          "bar": [
           {
            "error_x": {
             "color": "#2a3f5f"
            },
            "error_y": {
             "color": "#2a3f5f"
            },
            "marker": {
             "line": {
              "color": "#E5ECF6",
              "width": 0.5
             },
             "pattern": {
              "fillmode": "overlay",
              "size": 10,
              "solidity": 0.2
             }
            },
            "type": "bar"
           }
          ],
          "barpolar": [
           {
            "marker": {
             "line": {
              "color": "#E5ECF6",
              "width": 0.5
             },
             "pattern": {
              "fillmode": "overlay",
              "size": 10,
              "solidity": 0.2
             }
            },
            "type": "barpolar"
           }
          ],
          "carpet": [
           {
            "aaxis": {
             "endlinecolor": "#2a3f5f",
             "gridcolor": "white",
             "linecolor": "white",
             "minorgridcolor": "white",
             "startlinecolor": "#2a3f5f"
            },
            "baxis": {
             "endlinecolor": "#2a3f5f",
             "gridcolor": "white",
             "linecolor": "white",
             "minorgridcolor": "white",
             "startlinecolor": "#2a3f5f"
            },
            "type": "carpet"
           }
          ],
          "choropleth": [
           {
            "colorbar": {
             "outlinewidth": 0,
             "ticks": ""
            },
            "type": "choropleth"
           }
          ],
          "contour": [
           {
            "colorbar": {
             "outlinewidth": 0,
             "ticks": ""
            },
            "colorscale": [
             [
              0,
              "#0d0887"
             ],
             [
              0.1111111111111111,
              "#46039f"
             ],
             [
              0.2222222222222222,
              "#7201a8"
             ],
             [
              0.3333333333333333,
              "#9c179e"
             ],
             [
              0.4444444444444444,
              "#bd3786"
             ],
             [
              0.5555555555555556,
              "#d8576b"
             ],
             [
              0.6666666666666666,
              "#ed7953"
             ],
             [
              0.7777777777777778,
              "#fb9f3a"
             ],
             [
              0.8888888888888888,
              "#fdca26"
             ],
             [
              1,
              "#f0f921"
             ]
            ],
            "type": "contour"
           }
          ],
          "contourcarpet": [
           {
            "colorbar": {
             "outlinewidth": 0,
             "ticks": ""
            },
            "type": "contourcarpet"
           }
          ],
          "heatmap": [
           {
            "colorbar": {
             "outlinewidth": 0,
             "ticks": ""
            },
            "colorscale": [
             [
              0,
              "#0d0887"
             ],
             [
              0.1111111111111111,
              "#46039f"
             ],
             [
              0.2222222222222222,
              "#7201a8"
             ],
             [
              0.3333333333333333,
              "#9c179e"
             ],
             [
              0.4444444444444444,
              "#bd3786"
             ],
             [
              0.5555555555555556,
              "#d8576b"
             ],
             [
              0.6666666666666666,
              "#ed7953"
             ],
             [
              0.7777777777777778,
              "#fb9f3a"
             ],
             [
              0.8888888888888888,
              "#fdca26"
             ],
             [
              1,
              "#f0f921"
             ]
            ],
            "type": "heatmap"
           }
          ],
          "heatmapgl": [
           {
            "colorbar": {
             "outlinewidth": 0,
             "ticks": ""
            },
            "colorscale": [
             [
              0,
              "#0d0887"
             ],
             [
              0.1111111111111111,
              "#46039f"
             ],
             [
              0.2222222222222222,
              "#7201a8"
             ],
             [
              0.3333333333333333,
              "#9c179e"
             ],
             [
              0.4444444444444444,
              "#bd3786"
             ],
             [
              0.5555555555555556,
              "#d8576b"
             ],
             [
              0.6666666666666666,
              "#ed7953"
             ],
             [
              0.7777777777777778,
              "#fb9f3a"
             ],
             [
              0.8888888888888888,
              "#fdca26"
             ],
             [
              1,
              "#f0f921"
             ]
            ],
            "type": "heatmapgl"
           }
          ],
          "histogram": [
           {
            "marker": {
             "pattern": {
              "fillmode": "overlay",
              "size": 10,
              "solidity": 0.2
             }
            },
            "type": "histogram"
           }
          ],
          "histogram2d": [
           {
            "colorbar": {
             "outlinewidth": 0,
             "ticks": ""
            },
            "colorscale": [
             [
              0,
              "#0d0887"
             ],
             [
              0.1111111111111111,
              "#46039f"
             ],
             [
              0.2222222222222222,
              "#7201a8"
             ],
             [
              0.3333333333333333,
              "#9c179e"
             ],
             [
              0.4444444444444444,
              "#bd3786"
             ],
             [
              0.5555555555555556,
              "#d8576b"
             ],
             [
              0.6666666666666666,
              "#ed7953"
             ],
             [
              0.7777777777777778,
              "#fb9f3a"
             ],
             [
              0.8888888888888888,
              "#fdca26"
             ],
             [
              1,
              "#f0f921"
             ]
            ],
            "type": "histogram2d"
           }
          ],
          "histogram2dcontour": [
           {
            "colorbar": {
             "outlinewidth": 0,
             "ticks": ""
            },
            "colorscale": [
             [
              0,
              "#0d0887"
             ],
             [
              0.1111111111111111,
              "#46039f"
             ],
             [
              0.2222222222222222,
              "#7201a8"
             ],
             [
              0.3333333333333333,
              "#9c179e"
             ],
             [
              0.4444444444444444,
              "#bd3786"
             ],
             [
              0.5555555555555556,
              "#d8576b"
             ],
             [
              0.6666666666666666,
              "#ed7953"
             ],
             [
              0.7777777777777778,
              "#fb9f3a"
             ],
             [
              0.8888888888888888,
              "#fdca26"
             ],
             [
              1,
              "#f0f921"
             ]
            ],
            "type": "histogram2dcontour"
           }
          ],
          "mesh3d": [
           {
            "colorbar": {
             "outlinewidth": 0,
             "ticks": ""
            },
            "type": "mesh3d"
           }
          ],
          "parcoords": [
           {
            "line": {
             "colorbar": {
              "outlinewidth": 0,
              "ticks": ""
             }
            },
            "type": "parcoords"
           }
          ],
          "pie": [
           {
            "automargin": true,
            "type": "pie"
           }
          ],
          "scatter": [
           {
            "fillpattern": {
             "fillmode": "overlay",
             "size": 10,
             "solidity": 0.2
            },
            "type": "scatter"
           }
          ],
          "scatter3d": [
           {
            "line": {
             "colorbar": {
              "outlinewidth": 0,
              "ticks": ""
             }
            },
            "marker": {
             "colorbar": {
              "outlinewidth": 0,
              "ticks": ""
             }
            },
            "type": "scatter3d"
           }
          ],
          "scattercarpet": [
           {
            "marker": {
             "colorbar": {
              "outlinewidth": 0,
              "ticks": ""
             }
            },
            "type": "scattercarpet"
           }
          ],
          "scattergeo": [
           {
            "marker": {
             "colorbar": {
              "outlinewidth": 0,
              "ticks": ""
             }
            },
            "type": "scattergeo"
           }
          ],
          "scattergl": [
           {
            "marker": {
             "colorbar": {
              "outlinewidth": 0,
              "ticks": ""
             }
            },
            "type": "scattergl"
           }
          ],
          "scattermapbox": [
           {
            "marker": {
             "colorbar": {
              "outlinewidth": 0,
              "ticks": ""
             }
            },
            "type": "scattermapbox"
           }
          ],
          "scatterpolar": [
           {
            "marker": {
             "colorbar": {
              "outlinewidth": 0,
              "ticks": ""
             }
            },
            "type": "scatterpolar"
           }
          ],
          "scatterpolargl": [
           {
            "marker": {
             "colorbar": {
              "outlinewidth": 0,
              "ticks": ""
             }
            },
            "type": "scatterpolargl"
           }
          ],
          "scatterternary": [
           {
            "marker": {
             "colorbar": {
              "outlinewidth": 0,
              "ticks": ""
             }
            },
            "type": "scatterternary"
           }
          ],
          "surface": [
           {
            "colorbar": {
             "outlinewidth": 0,
             "ticks": ""
            },
            "colorscale": [
             [
              0,
              "#0d0887"
             ],
             [
              0.1111111111111111,
              "#46039f"
             ],
             [
              0.2222222222222222,
              "#7201a8"
             ],
             [
              0.3333333333333333,
              "#9c179e"
             ],
             [
              0.4444444444444444,
              "#bd3786"
             ],
             [
              0.5555555555555556,
              "#d8576b"
             ],
             [
              0.6666666666666666,
              "#ed7953"
             ],
             [
              0.7777777777777778,
              "#fb9f3a"
             ],
             [
              0.8888888888888888,
              "#fdca26"
             ],
             [
              1,
              "#f0f921"
             ]
            ],
            "type": "surface"
           }
          ],
          "table": [
           {
            "cells": {
             "fill": {
              "color": "#EBF0F8"
             },
             "line": {
              "color": "white"
             }
            },
            "header": {
             "fill": {
              "color": "#C8D4E3"
             },
             "line": {
              "color": "white"
             }
            },
            "type": "table"
           }
          ]
         },
         "layout": {
          "annotationdefaults": {
           "arrowcolor": "#2a3f5f",
           "arrowhead": 0,
           "arrowwidth": 1
          },
          "autotypenumbers": "strict",
          "coloraxis": {
           "colorbar": {
            "outlinewidth": 0,
            "ticks": ""
           }
          },
          "colorscale": {
           "diverging": [
            [
             0,
             "#8e0152"
            ],
            [
             0.1,
             "#c51b7d"
            ],
            [
             0.2,
             "#de77ae"
            ],
            [
             0.3,
             "#f1b6da"
            ],
            [
             0.4,
             "#fde0ef"
            ],
            [
             0.5,
             "#f7f7f7"
            ],
            [
             0.6,
             "#e6f5d0"
            ],
            [
             0.7,
             "#b8e186"
            ],
            [
             0.8,
             "#7fbc41"
            ],
            [
             0.9,
             "#4d9221"
            ],
            [
             1,
             "#276419"
            ]
           ],
           "sequential": [
            [
             0,
             "#0d0887"
            ],
            [
             0.1111111111111111,
             "#46039f"
            ],
            [
             0.2222222222222222,
             "#7201a8"
            ],
            [
             0.3333333333333333,
             "#9c179e"
            ],
            [
             0.4444444444444444,
             "#bd3786"
            ],
            [
             0.5555555555555556,
             "#d8576b"
            ],
            [
             0.6666666666666666,
             "#ed7953"
            ],
            [
             0.7777777777777778,
             "#fb9f3a"
            ],
            [
             0.8888888888888888,
             "#fdca26"
            ],
            [
             1,
             "#f0f921"
            ]
           ],
           "sequentialminus": [
            [
             0,
             "#0d0887"
            ],
            [
             0.1111111111111111,
             "#46039f"
            ],
            [
             0.2222222222222222,
             "#7201a8"
            ],
            [
             0.3333333333333333,
             "#9c179e"
            ],
            [
             0.4444444444444444,
             "#bd3786"
            ],
            [
             0.5555555555555556,
             "#d8576b"
            ],
            [
             0.6666666666666666,
             "#ed7953"
            ],
            [
             0.7777777777777778,
             "#fb9f3a"
            ],
            [
             0.8888888888888888,
             "#fdca26"
            ],
            [
             1,
             "#f0f921"
            ]
           ]
          },
          "colorway": [
           "#636efa",
           "#EF553B",
           "#00cc96",
           "#ab63fa",
           "#FFA15A",
           "#19d3f3",
           "#FF6692",
           "#B6E880",
           "#FF97FF",
           "#FECB52"
          ],
          "font": {
           "color": "#2a3f5f"
          },
          "geo": {
           "bgcolor": "white",
           "lakecolor": "white",
           "landcolor": "#E5ECF6",
           "showlakes": true,
           "showland": true,
           "subunitcolor": "white"
          },
          "hoverlabel": {
           "align": "left"
          },
          "hovermode": "closest",
          "mapbox": {
           "style": "light"
          },
          "paper_bgcolor": "white",
          "plot_bgcolor": "#E5ECF6",
          "polar": {
           "angularaxis": {
            "gridcolor": "white",
            "linecolor": "white",
            "ticks": ""
           },
           "bgcolor": "#E5ECF6",
           "radialaxis": {
            "gridcolor": "white",
            "linecolor": "white",
            "ticks": ""
           }
          },
          "scene": {
           "xaxis": {
            "backgroundcolor": "#E5ECF6",
            "gridcolor": "white",
            "gridwidth": 2,
            "linecolor": "white",
            "showbackground": true,
            "ticks": "",
            "zerolinecolor": "white"
           },
           "yaxis": {
            "backgroundcolor": "#E5ECF6",
            "gridcolor": "white",
            "gridwidth": 2,
            "linecolor": "white",
            "showbackground": true,
            "ticks": "",
            "zerolinecolor": "white"
           },
           "zaxis": {
            "backgroundcolor": "#E5ECF6",
            "gridcolor": "white",
            "gridwidth": 2,
            "linecolor": "white",
            "showbackground": true,
            "ticks": "",
            "zerolinecolor": "white"
           }
          },
          "shapedefaults": {
           "line": {
            "color": "#2a3f5f"
           }
          },
          "ternary": {
           "aaxis": {
            "gridcolor": "white",
            "linecolor": "white",
            "ticks": ""
           },
           "baxis": {
            "gridcolor": "white",
            "linecolor": "white",
            "ticks": ""
           },
           "bgcolor": "#E5ECF6",
           "caxis": {
            "gridcolor": "white",
            "linecolor": "white",
            "ticks": ""
           }
          },
          "title": {
           "x": 0.05
          },
          "xaxis": {
           "automargin": true,
           "gridcolor": "white",
           "linecolor": "white",
           "ticks": "",
           "title": {
            "standoff": 15
           },
           "zerolinecolor": "white",
           "zerolinewidth": 2
          },
          "yaxis": {
           "automargin": true,
           "gridcolor": "white",
           "linecolor": "white",
           "ticks": "",
           "title": {
            "standoff": 15
           },
           "zerolinecolor": "white",
           "zerolinewidth": 2
          }
         }
        },
        "title": {
         "text": "Weighted Score of Regression Models"
        },
        "xaxis": {
         "anchor": "y",
         "domain": [
          0,
          1
         ],
         "title": {
          "text": "Regression Models"
         }
        },
        "yaxis": {
         "anchor": "x",
         "domain": [
          0,
          1
         ],
         "title": {
          "text": "Weighted Score"
         }
        }
       }
      }
     },
     "metadata": {},
     "output_type": "display_data"
    },
    {
     "data": {
      "application/vnd.plotly.v1+json": {
       "config": {
        "plotlyServerURL": "https://plot.ly"
       },
       "data": [
        {
         "alignmentgroup": "True",
         "hovertemplate": "Regression Model Type=Bayesian Ridge<br>Feature Set=%{x}<br>Weighted Score=%{y}<extra></extra>",
         "legendgroup": "Bayesian Ridge",
         "marker": {
          "color": "#636efa",
          "pattern": {
           "shape": ""
          }
         },
         "name": "Bayesian Ridge",
         "offsetgroup": "Bayesian Ridge",
         "orientation": "v",
         "showlegend": true,
         "textposition": "auto",
         "type": "bar",
         "x": [
          "Gene Data",
          "TF Data"
         ],
         "xaxis": "x",
         "y": [
          0.5191199719991068,
          0.5397104843105646
         ],
         "yaxis": "y"
        },
        {
         "alignmentgroup": "True",
         "hovertemplate": "Regression Model Type=Elastic Net<br>Feature Set=%{x}<br>Weighted Score=%{y}<extra></extra>",
         "legendgroup": "Elastic Net",
         "marker": {
          "color": "#EF553B",
          "pattern": {
           "shape": ""
          }
         },
         "name": "Elastic Net",
         "offsetgroup": "Elastic Net",
         "orientation": "v",
         "showlegend": true,
         "textposition": "auto",
         "type": "bar",
         "x": [
          "Gene Data",
          "TF Data"
         ],
         "xaxis": "x",
         "y": [
          0.5136213878525938,
          0.5127653707710997
         ],
         "yaxis": "y"
        },
        {
         "alignmentgroup": "True",
         "hovertemplate": "Regression Model Type=Huber<br>Feature Set=%{x}<br>Weighted Score=%{y}<extra></extra>",
         "legendgroup": "Huber",
         "marker": {
          "color": "#00cc96",
          "pattern": {
           "shape": ""
          }
         },
         "name": "Huber",
         "offsetgroup": "Huber",
         "orientation": "v",
         "showlegend": true,
         "textposition": "auto",
         "type": "bar",
         "x": [
          "Gene Data",
          "TF Data"
         ],
         "xaxis": "x",
         "y": [
          0.49894299958915056,
          0.5183282976909485
         ],
         "yaxis": "y"
        },
        {
         "alignmentgroup": "True",
         "hovertemplate": "Regression Model Type=Lasso<br>Feature Set=%{x}<br>Weighted Score=%{y}<extra></extra>",
         "legendgroup": "Lasso",
         "marker": {
          "color": "#ab63fa",
          "pattern": {
           "shape": ""
          }
         },
         "name": "Lasso",
         "offsetgroup": "Lasso",
         "orientation": "v",
         "showlegend": true,
         "textposition": "auto",
         "type": "bar",
         "x": [
          "Gene Data",
          "TF Data"
         ],
         "xaxis": "x",
         "y": [
          0.4691956446605503,
          0.44151883515097934
         ],
         "yaxis": "y"
        },
        {
         "alignmentgroup": "True",
         "hovertemplate": "Regression Model Type=Linear<br>Feature Set=%{x}<br>Weighted Score=%{y}<extra></extra>",
         "legendgroup": "Linear",
         "marker": {
          "color": "#FFA15A",
          "pattern": {
           "shape": ""
          }
         },
         "name": "Linear",
         "offsetgroup": "Linear",
         "orientation": "v",
         "showlegend": true,
         "textposition": "auto",
         "type": "bar",
         "x": [
          "Gene Data",
          "TF Data"
         ],
         "xaxis": "x",
         "y": [
          0.5145344900606063,
          0.540208934266453
         ],
         "yaxis": "y"
        },
        {
         "alignmentgroup": "True",
         "hovertemplate": "Regression Model Type=Ridge<br>Feature Set=%{x}<br>Weighted Score=%{y}<extra></extra>",
         "legendgroup": "Ridge",
         "marker": {
          "color": "#19d3f3",
          "pattern": {
           "shape": ""
          }
         },
         "name": "Ridge",
         "offsetgroup": "Ridge",
         "orientation": "v",
         "showlegend": true,
         "textposition": "auto",
         "type": "bar",
         "x": [
          "Gene Data",
          "TF Data"
         ],
         "xaxis": "x",
         "y": [
          0.5145573425509313,
          0.5404207105855144
         ],
         "yaxis": "y"
        }
       ],
       "layout": {
        "barmode": "group",
        "legend": {
         "title": {
          "text": "Regression Models"
         },
         "tracegroupgap": 0
        },
        "template": {
         "data": {
          "bar": [
           {
            "error_x": {
             "color": "#2a3f5f"
            },
            "error_y": {
             "color": "#2a3f5f"
            },
            "marker": {
             "line": {
              "color": "#E5ECF6",
              "width": 0.5
             },
             "pattern": {
              "fillmode": "overlay",
              "size": 10,
              "solidity": 0.2
             }
            },
            "type": "bar"
           }
          ],
          "barpolar": [
           {
            "marker": {
             "line": {
              "color": "#E5ECF6",
              "width": 0.5
             },
             "pattern": {
              "fillmode": "overlay",
              "size": 10,
              "solidity": 0.2
             }
            },
            "type": "barpolar"
           }
          ],
          "carpet": [
           {
            "aaxis": {
             "endlinecolor": "#2a3f5f",
             "gridcolor": "white",
             "linecolor": "white",
             "minorgridcolor": "white",
             "startlinecolor": "#2a3f5f"
            },
            "baxis": {
             "endlinecolor": "#2a3f5f",
             "gridcolor": "white",
             "linecolor": "white",
             "minorgridcolor": "white",
             "startlinecolor": "#2a3f5f"
            },
            "type": "carpet"
           }
          ],
          "choropleth": [
           {
            "colorbar": {
             "outlinewidth": 0,
             "ticks": ""
            },
            "type": "choropleth"
           }
          ],
          "contour": [
           {
            "colorbar": {
             "outlinewidth": 0,
             "ticks": ""
            },
            "colorscale": [
             [
              0,
              "#0d0887"
             ],
             [
              0.1111111111111111,
              "#46039f"
             ],
             [
              0.2222222222222222,
              "#7201a8"
             ],
             [
              0.3333333333333333,
              "#9c179e"
             ],
             [
              0.4444444444444444,
              "#bd3786"
             ],
             [
              0.5555555555555556,
              "#d8576b"
             ],
             [
              0.6666666666666666,
              "#ed7953"
             ],
             [
              0.7777777777777778,
              "#fb9f3a"
             ],
             [
              0.8888888888888888,
              "#fdca26"
             ],
             [
              1,
              "#f0f921"
             ]
            ],
            "type": "contour"
           }
          ],
          "contourcarpet": [
           {
            "colorbar": {
             "outlinewidth": 0,
             "ticks": ""
            },
            "type": "contourcarpet"
           }
          ],
          "heatmap": [
           {
            "colorbar": {
             "outlinewidth": 0,
             "ticks": ""
            },
            "colorscale": [
             [
              0,
              "#0d0887"
             ],
             [
              0.1111111111111111,
              "#46039f"
             ],
             [
              0.2222222222222222,
              "#7201a8"
             ],
             [
              0.3333333333333333,
              "#9c179e"
             ],
             [
              0.4444444444444444,
              "#bd3786"
             ],
             [
              0.5555555555555556,
              "#d8576b"
             ],
             [
              0.6666666666666666,
              "#ed7953"
             ],
             [
              0.7777777777777778,
              "#fb9f3a"
             ],
             [
              0.8888888888888888,
              "#fdca26"
             ],
             [
              1,
              "#f0f921"
             ]
            ],
            "type": "heatmap"
           }
          ],
          "heatmapgl": [
           {
            "colorbar": {
             "outlinewidth": 0,
             "ticks": ""
            },
            "colorscale": [
             [
              0,
              "#0d0887"
             ],
             [
              0.1111111111111111,
              "#46039f"
             ],
             [
              0.2222222222222222,
              "#7201a8"
             ],
             [
              0.3333333333333333,
              "#9c179e"
             ],
             [
              0.4444444444444444,
              "#bd3786"
             ],
             [
              0.5555555555555556,
              "#d8576b"
             ],
             [
              0.6666666666666666,
              "#ed7953"
             ],
             [
              0.7777777777777778,
              "#fb9f3a"
             ],
             [
              0.8888888888888888,
              "#fdca26"
             ],
             [
              1,
              "#f0f921"
             ]
            ],
            "type": "heatmapgl"
           }
          ],
          "histogram": [
           {
            "marker": {
             "pattern": {
              "fillmode": "overlay",
              "size": 10,
              "solidity": 0.2
             }
            },
            "type": "histogram"
           }
          ],
          "histogram2d": [
           {
            "colorbar": {
             "outlinewidth": 0,
             "ticks": ""
            },
            "colorscale": [
             [
              0,
              "#0d0887"
             ],
             [
              0.1111111111111111,
              "#46039f"
             ],
             [
              0.2222222222222222,
              "#7201a8"
             ],
             [
              0.3333333333333333,
              "#9c179e"
             ],
             [
              0.4444444444444444,
              "#bd3786"
             ],
             [
              0.5555555555555556,
              "#d8576b"
             ],
             [
              0.6666666666666666,
              "#ed7953"
             ],
             [
              0.7777777777777778,
              "#fb9f3a"
             ],
             [
              0.8888888888888888,
              "#fdca26"
             ],
             [
              1,
              "#f0f921"
             ]
            ],
            "type": "histogram2d"
           }
          ],
          "histogram2dcontour": [
           {
            "colorbar": {
             "outlinewidth": 0,
             "ticks": ""
            },
            "colorscale": [
             [
              0,
              "#0d0887"
             ],
             [
              0.1111111111111111,
              "#46039f"
             ],
             [
              0.2222222222222222,
              "#7201a8"
             ],
             [
              0.3333333333333333,
              "#9c179e"
             ],
             [
              0.4444444444444444,
              "#bd3786"
             ],
             [
              0.5555555555555556,
              "#d8576b"
             ],
             [
              0.6666666666666666,
              "#ed7953"
             ],
             [
              0.7777777777777778,
              "#fb9f3a"
             ],
             [
              0.8888888888888888,
              "#fdca26"
             ],
             [
              1,
              "#f0f921"
             ]
            ],
            "type": "histogram2dcontour"
           }
          ],
          "mesh3d": [
           {
            "colorbar": {
             "outlinewidth": 0,
             "ticks": ""
            },
            "type": "mesh3d"
           }
          ],
          "parcoords": [
           {
            "line": {
             "colorbar": {
              "outlinewidth": 0,
              "ticks": ""
             }
            },
            "type": "parcoords"
           }
          ],
          "pie": [
           {
            "automargin": true,
            "type": "pie"
           }
          ],
          "scatter": [
           {
            "fillpattern": {
             "fillmode": "overlay",
             "size": 10,
             "solidity": 0.2
            },
            "type": "scatter"
           }
          ],
          "scatter3d": [
           {
            "line": {
             "colorbar": {
              "outlinewidth": 0,
              "ticks": ""
             }
            },
            "marker": {
             "colorbar": {
              "outlinewidth": 0,
              "ticks": ""
             }
            },
            "type": "scatter3d"
           }
          ],
          "scattercarpet": [
           {
            "marker": {
             "colorbar": {
              "outlinewidth": 0,
              "ticks": ""
             }
            },
            "type": "scattercarpet"
           }
          ],
          "scattergeo": [
           {
            "marker": {
             "colorbar": {
              "outlinewidth": 0,
              "ticks": ""
             }
            },
            "type": "scattergeo"
           }
          ],
          "scattergl": [
           {
            "marker": {
             "colorbar": {
              "outlinewidth": 0,
              "ticks": ""
             }
            },
            "type": "scattergl"
           }
          ],
          "scattermapbox": [
           {
            "marker": {
             "colorbar": {
              "outlinewidth": 0,
              "ticks": ""
             }
            },
            "type": "scattermapbox"
           }
          ],
          "scatterpolar": [
           {
            "marker": {
             "colorbar": {
              "outlinewidth": 0,
              "ticks": ""
             }
            },
            "type": "scatterpolar"
           }
          ],
          "scatterpolargl": [
           {
            "marker": {
             "colorbar": {
              "outlinewidth": 0,
              "ticks": ""
             }
            },
            "type": "scatterpolargl"
           }
          ],
          "scatterternary": [
           {
            "marker": {
             "colorbar": {
              "outlinewidth": 0,
              "ticks": ""
             }
            },
            "type": "scatterternary"
           }
          ],
          "surface": [
           {
            "colorbar": {
             "outlinewidth": 0,
             "ticks": ""
            },
            "colorscale": [
             [
              0,
              "#0d0887"
             ],
             [
              0.1111111111111111,
              "#46039f"
             ],
             [
              0.2222222222222222,
              "#7201a8"
             ],
             [
              0.3333333333333333,
              "#9c179e"
             ],
             [
              0.4444444444444444,
              "#bd3786"
             ],
             [
              0.5555555555555556,
              "#d8576b"
             ],
             [
              0.6666666666666666,
              "#ed7953"
             ],
             [
              0.7777777777777778,
              "#fb9f3a"
             ],
             [
              0.8888888888888888,
              "#fdca26"
             ],
             [
              1,
              "#f0f921"
             ]
            ],
            "type": "surface"
           }
          ],
          "table": [
           {
            "cells": {
             "fill": {
              "color": "#EBF0F8"
             },
             "line": {
              "color": "white"
             }
            },
            "header": {
             "fill": {
              "color": "#C8D4E3"
             },
             "line": {
              "color": "white"
             }
            },
            "type": "table"
           }
          ]
         },
         "layout": {
          "annotationdefaults": {
           "arrowcolor": "#2a3f5f",
           "arrowhead": 0,
           "arrowwidth": 1
          },
          "autotypenumbers": "strict",
          "coloraxis": {
           "colorbar": {
            "outlinewidth": 0,
            "ticks": ""
           }
          },
          "colorscale": {
           "diverging": [
            [
             0,
             "#8e0152"
            ],
            [
             0.1,
             "#c51b7d"
            ],
            [
             0.2,
             "#de77ae"
            ],
            [
             0.3,
             "#f1b6da"
            ],
            [
             0.4,
             "#fde0ef"
            ],
            [
             0.5,
             "#f7f7f7"
            ],
            [
             0.6,
             "#e6f5d0"
            ],
            [
             0.7,
             "#b8e186"
            ],
            [
             0.8,
             "#7fbc41"
            ],
            [
             0.9,
             "#4d9221"
            ],
            [
             1,
             "#276419"
            ]
           ],
           "sequential": [
            [
             0,
             "#0d0887"
            ],
            [
             0.1111111111111111,
             "#46039f"
            ],
            [
             0.2222222222222222,
             "#7201a8"
            ],
            [
             0.3333333333333333,
             "#9c179e"
            ],
            [
             0.4444444444444444,
             "#bd3786"
            ],
            [
             0.5555555555555556,
             "#d8576b"
            ],
            [
             0.6666666666666666,
             "#ed7953"
            ],
            [
             0.7777777777777778,
             "#fb9f3a"
            ],
            [
             0.8888888888888888,
             "#fdca26"
            ],
            [
             1,
             "#f0f921"
            ]
           ],
           "sequentialminus": [
            [
             0,
             "#0d0887"
            ],
            [
             0.1111111111111111,
             "#46039f"
            ],
            [
             0.2222222222222222,
             "#7201a8"
            ],
            [
             0.3333333333333333,
             "#9c179e"
            ],
            [
             0.4444444444444444,
             "#bd3786"
            ],
            [
             0.5555555555555556,
             "#d8576b"
            ],
            [
             0.6666666666666666,
             "#ed7953"
            ],
            [
             0.7777777777777778,
             "#fb9f3a"
            ],
            [
             0.8888888888888888,
             "#fdca26"
            ],
            [
             1,
             "#f0f921"
            ]
           ]
          },
          "colorway": [
           "#636efa",
           "#EF553B",
           "#00cc96",
           "#ab63fa",
           "#FFA15A",
           "#19d3f3",
           "#FF6692",
           "#B6E880",
           "#FF97FF",
           "#FECB52"
          ],
          "font": {
           "color": "#2a3f5f"
          },
          "geo": {
           "bgcolor": "white",
           "lakecolor": "white",
           "landcolor": "#E5ECF6",
           "showlakes": true,
           "showland": true,
           "subunitcolor": "white"
          },
          "hoverlabel": {
           "align": "left"
          },
          "hovermode": "closest",
          "mapbox": {
           "style": "light"
          },
          "paper_bgcolor": "white",
          "plot_bgcolor": "#E5ECF6",
          "polar": {
           "angularaxis": {
            "gridcolor": "white",
            "linecolor": "white",
            "ticks": ""
           },
           "bgcolor": "#E5ECF6",
           "radialaxis": {
            "gridcolor": "white",
            "linecolor": "white",
            "ticks": ""
           }
          },
          "scene": {
           "xaxis": {
            "backgroundcolor": "#E5ECF6",
            "gridcolor": "white",
            "gridwidth": 2,
            "linecolor": "white",
            "showbackground": true,
            "ticks": "",
            "zerolinecolor": "white"
           },
           "yaxis": {
            "backgroundcolor": "#E5ECF6",
            "gridcolor": "white",
            "gridwidth": 2,
            "linecolor": "white",
            "showbackground": true,
            "ticks": "",
            "zerolinecolor": "white"
           },
           "zaxis": {
            "backgroundcolor": "#E5ECF6",
            "gridcolor": "white",
            "gridwidth": 2,
            "linecolor": "white",
            "showbackground": true,
            "ticks": "",
            "zerolinecolor": "white"
           }
          },
          "shapedefaults": {
           "line": {
            "color": "#2a3f5f"
           }
          },
          "ternary": {
           "aaxis": {
            "gridcolor": "white",
            "linecolor": "white",
            "ticks": ""
           },
           "baxis": {
            "gridcolor": "white",
            "linecolor": "white",
            "ticks": ""
           },
           "bgcolor": "#E5ECF6",
           "caxis": {
            "gridcolor": "white",
            "linecolor": "white",
            "ticks": ""
           }
          },
          "title": {
           "x": 0.05
          },
          "xaxis": {
           "automargin": true,
           "gridcolor": "white",
           "linecolor": "white",
           "ticks": "",
           "title": {
            "standoff": 15
           },
           "zerolinecolor": "white",
           "zerolinewidth": 2
          },
          "yaxis": {
           "automargin": true,
           "gridcolor": "white",
           "linecolor": "white",
           "ticks": "",
           "title": {
            "standoff": 15
           },
           "zerolinecolor": "white",
           "zerolinewidth": 2
          }
         }
        },
        "title": {
         "text": "Weighted Score of Feature Sets by Models"
        },
        "xaxis": {
         "anchor": "y",
         "domain": [
          0,
          1
         ],
         "title": {
          "text": "Feature Sets"
         }
        },
        "yaxis": {
         "anchor": "x",
         "domain": [
          0,
          1
         ],
         "title": {
          "text": "Weighted Score"
         }
        }
       }
      }
     },
     "metadata": {},
     "output_type": "display_data"
    },
    {
     "data": {
      "application/vnd.plotly.v1+json": {
       "config": {
        "plotlyServerURL": "https://plot.ly"
       },
       "data": [
        {
         "alignmentgroup": "True",
         "boxpoints": "outliers",
         "hovertemplate": "Feature Sets=%{x}<br>Weighted Score=%{y}<extra></extra>",
         "legendgroup": "Gene Data",
         "marker": {
          "color": "#636efa"
         },
         "name": "Gene Data",
         "notched": false,
         "offsetgroup": "Gene Data",
         "orientation": "v",
         "showlegend": true,
         "type": "box",
         "x": [
          "Gene Data",
          "Gene Data",
          "Gene Data",
          "Gene Data",
          "Gene Data",
          "Gene Data"
         ],
         "x0": " ",
         "xaxis": "x",
         "y": [
          0.5191199719991068,
          0.5136213878525938,
          0.49894299958915056,
          0.4691956446605503,
          0.5145344900606063,
          0.5145573425509313
         ],
         "y0": " ",
         "yaxis": "y"
        },
        {
         "alignmentgroup": "True",
         "boxpoints": "outliers",
         "hovertemplate": "Feature Sets=%{x}<br>Weighted Score=%{y}<extra></extra>",
         "legendgroup": "TF Data",
         "marker": {
          "color": "#EF553B"
         },
         "name": "TF Data",
         "notched": false,
         "offsetgroup": "TF Data",
         "orientation": "v",
         "showlegend": true,
         "type": "box",
         "x": [
          "TF Data",
          "TF Data",
          "TF Data",
          "TF Data",
          "TF Data",
          "TF Data"
         ],
         "x0": " ",
         "xaxis": "x",
         "y": [
          0.5397104843105646,
          0.5127653707710997,
          0.5183282976909485,
          0.44151883515097934,
          0.540208934266453,
          0.5404207105855144
         ],
         "y0": " ",
         "yaxis": "y"
        }
       ],
       "layout": {
        "boxmode": "overlay",
        "legend": {
         "title": {
          "text": "Feature Sets"
         },
         "tracegroupgap": 0
        },
        "template": {
         "data": {
          "bar": [
           {
            "error_x": {
             "color": "#2a3f5f"
            },
            "error_y": {
             "color": "#2a3f5f"
            },
            "marker": {
             "line": {
              "color": "#E5ECF6",
              "width": 0.5
             },
             "pattern": {
              "fillmode": "overlay",
              "size": 10,
              "solidity": 0.2
             }
            },
            "type": "bar"
           }
          ],
          "barpolar": [
           {
            "marker": {
             "line": {
              "color": "#E5ECF6",
              "width": 0.5
             },
             "pattern": {
              "fillmode": "overlay",
              "size": 10,
              "solidity": 0.2
             }
            },
            "type": "barpolar"
           }
          ],
          "carpet": [
           {
            "aaxis": {
             "endlinecolor": "#2a3f5f",
             "gridcolor": "white",
             "linecolor": "white",
             "minorgridcolor": "white",
             "startlinecolor": "#2a3f5f"
            },
            "baxis": {
             "endlinecolor": "#2a3f5f",
             "gridcolor": "white",
             "linecolor": "white",
             "minorgridcolor": "white",
             "startlinecolor": "#2a3f5f"
            },
            "type": "carpet"
           }
          ],
          "choropleth": [
           {
            "colorbar": {
             "outlinewidth": 0,
             "ticks": ""
            },
            "type": "choropleth"
           }
          ],
          "contour": [
           {
            "colorbar": {
             "outlinewidth": 0,
             "ticks": ""
            },
            "colorscale": [
             [
              0,
              "#0d0887"
             ],
             [
              0.1111111111111111,
              "#46039f"
             ],
             [
              0.2222222222222222,
              "#7201a8"
             ],
             [
              0.3333333333333333,
              "#9c179e"
             ],
             [
              0.4444444444444444,
              "#bd3786"
             ],
             [
              0.5555555555555556,
              "#d8576b"
             ],
             [
              0.6666666666666666,
              "#ed7953"
             ],
             [
              0.7777777777777778,
              "#fb9f3a"
             ],
             [
              0.8888888888888888,
              "#fdca26"
             ],
             [
              1,
              "#f0f921"
             ]
            ],
            "type": "contour"
           }
          ],
          "contourcarpet": [
           {
            "colorbar": {
             "outlinewidth": 0,
             "ticks": ""
            },
            "type": "contourcarpet"
           }
          ],
          "heatmap": [
           {
            "colorbar": {
             "outlinewidth": 0,
             "ticks": ""
            },
            "colorscale": [
             [
              0,
              "#0d0887"
             ],
             [
              0.1111111111111111,
              "#46039f"
             ],
             [
              0.2222222222222222,
              "#7201a8"
             ],
             [
              0.3333333333333333,
              "#9c179e"
             ],
             [
              0.4444444444444444,
              "#bd3786"
             ],
             [
              0.5555555555555556,
              "#d8576b"
             ],
             [
              0.6666666666666666,
              "#ed7953"
             ],
             [
              0.7777777777777778,
              "#fb9f3a"
             ],
             [
              0.8888888888888888,
              "#fdca26"
             ],
             [
              1,
              "#f0f921"
             ]
            ],
            "type": "heatmap"
           }
          ],
          "heatmapgl": [
           {
            "colorbar": {
             "outlinewidth": 0,
             "ticks": ""
            },
            "colorscale": [
             [
              0,
              "#0d0887"
             ],
             [
              0.1111111111111111,
              "#46039f"
             ],
             [
              0.2222222222222222,
              "#7201a8"
             ],
             [
              0.3333333333333333,
              "#9c179e"
             ],
             [
              0.4444444444444444,
              "#bd3786"
             ],
             [
              0.5555555555555556,
              "#d8576b"
             ],
             [
              0.6666666666666666,
              "#ed7953"
             ],
             [
              0.7777777777777778,
              "#fb9f3a"
             ],
             [
              0.8888888888888888,
              "#fdca26"
             ],
             [
              1,
              "#f0f921"
             ]
            ],
            "type": "heatmapgl"
           }
          ],
          "histogram": [
           {
            "marker": {
             "pattern": {
              "fillmode": "overlay",
              "size": 10,
              "solidity": 0.2
             }
            },
            "type": "histogram"
           }
          ],
          "histogram2d": [
           {
            "colorbar": {
             "outlinewidth": 0,
             "ticks": ""
            },
            "colorscale": [
             [
              0,
              "#0d0887"
             ],
             [
              0.1111111111111111,
              "#46039f"
             ],
             [
              0.2222222222222222,
              "#7201a8"
             ],
             [
              0.3333333333333333,
              "#9c179e"
             ],
             [
              0.4444444444444444,
              "#bd3786"
             ],
             [
              0.5555555555555556,
              "#d8576b"
             ],
             [
              0.6666666666666666,
              "#ed7953"
             ],
             [
              0.7777777777777778,
              "#fb9f3a"
             ],
             [
              0.8888888888888888,
              "#fdca26"
             ],
             [
              1,
              "#f0f921"
             ]
            ],
            "type": "histogram2d"
           }
          ],
          "histogram2dcontour": [
           {
            "colorbar": {
             "outlinewidth": 0,
             "ticks": ""
            },
            "colorscale": [
             [
              0,
              "#0d0887"
             ],
             [
              0.1111111111111111,
              "#46039f"
             ],
             [
              0.2222222222222222,
              "#7201a8"
             ],
             [
              0.3333333333333333,
              "#9c179e"
             ],
             [
              0.4444444444444444,
              "#bd3786"
             ],
             [
              0.5555555555555556,
              "#d8576b"
             ],
             [
              0.6666666666666666,
              "#ed7953"
             ],
             [
              0.7777777777777778,
              "#fb9f3a"
             ],
             [
              0.8888888888888888,
              "#fdca26"
             ],
             [
              1,
              "#f0f921"
             ]
            ],
            "type": "histogram2dcontour"
           }
          ],
          "mesh3d": [
           {
            "colorbar": {
             "outlinewidth": 0,
             "ticks": ""
            },
            "type": "mesh3d"
           }
          ],
          "parcoords": [
           {
            "line": {
             "colorbar": {
              "outlinewidth": 0,
              "ticks": ""
             }
            },
            "type": "parcoords"
           }
          ],
          "pie": [
           {
            "automargin": true,
            "type": "pie"
           }
          ],
          "scatter": [
           {
            "fillpattern": {
             "fillmode": "overlay",
             "size": 10,
             "solidity": 0.2
            },
            "type": "scatter"
           }
          ],
          "scatter3d": [
           {
            "line": {
             "colorbar": {
              "outlinewidth": 0,
              "ticks": ""
             }
            },
            "marker": {
             "colorbar": {
              "outlinewidth": 0,
              "ticks": ""
             }
            },
            "type": "scatter3d"
           }
          ],
          "scattercarpet": [
           {
            "marker": {
             "colorbar": {
              "outlinewidth": 0,
              "ticks": ""
             }
            },
            "type": "scattercarpet"
           }
          ],
          "scattergeo": [
           {
            "marker": {
             "colorbar": {
              "outlinewidth": 0,
              "ticks": ""
             }
            },
            "type": "scattergeo"
           }
          ],
          "scattergl": [
           {
            "marker": {
             "colorbar": {
              "outlinewidth": 0,
              "ticks": ""
             }
            },
            "type": "scattergl"
           }
          ],
          "scattermapbox": [
           {
            "marker": {
             "colorbar": {
              "outlinewidth": 0,
              "ticks": ""
             }
            },
            "type": "scattermapbox"
           }
          ],
          "scatterpolar": [
           {
            "marker": {
             "colorbar": {
              "outlinewidth": 0,
              "ticks": ""
             }
            },
            "type": "scatterpolar"
           }
          ],
          "scatterpolargl": [
           {
            "marker": {
             "colorbar": {
              "outlinewidth": 0,
              "ticks": ""
             }
            },
            "type": "scatterpolargl"
           }
          ],
          "scatterternary": [
           {
            "marker": {
             "colorbar": {
              "outlinewidth": 0,
              "ticks": ""
             }
            },
            "type": "scatterternary"
           }
          ],
          "surface": [
           {
            "colorbar": {
             "outlinewidth": 0,
             "ticks": ""
            },
            "colorscale": [
             [
              0,
              "#0d0887"
             ],
             [
              0.1111111111111111,
              "#46039f"
             ],
             [
              0.2222222222222222,
              "#7201a8"
             ],
             [
              0.3333333333333333,
              "#9c179e"
             ],
             [
              0.4444444444444444,
              "#bd3786"
             ],
             [
              0.5555555555555556,
              "#d8576b"
             ],
             [
              0.6666666666666666,
              "#ed7953"
             ],
             [
              0.7777777777777778,
              "#fb9f3a"
             ],
             [
              0.8888888888888888,
              "#fdca26"
             ],
             [
              1,
              "#f0f921"
             ]
            ],
            "type": "surface"
           }
          ],
          "table": [
           {
            "cells": {
             "fill": {
              "color": "#EBF0F8"
             },
             "line": {
              "color": "white"
             }
            },
            "header": {
             "fill": {
              "color": "#C8D4E3"
             },
             "line": {
              "color": "white"
             }
            },
            "type": "table"
           }
          ]
         },
         "layout": {
          "annotationdefaults": {
           "arrowcolor": "#2a3f5f",
           "arrowhead": 0,
           "arrowwidth": 1
          },
          "autotypenumbers": "strict",
          "coloraxis": {
           "colorbar": {
            "outlinewidth": 0,
            "ticks": ""
           }
          },
          "colorscale": {
           "diverging": [
            [
             0,
             "#8e0152"
            ],
            [
             0.1,
             "#c51b7d"
            ],
            [
             0.2,
             "#de77ae"
            ],
            [
             0.3,
             "#f1b6da"
            ],
            [
             0.4,
             "#fde0ef"
            ],
            [
             0.5,
             "#f7f7f7"
            ],
            [
             0.6,
             "#e6f5d0"
            ],
            [
             0.7,
             "#b8e186"
            ],
            [
             0.8,
             "#7fbc41"
            ],
            [
             0.9,
             "#4d9221"
            ],
            [
             1,
             "#276419"
            ]
           ],
           "sequential": [
            [
             0,
             "#0d0887"
            ],
            [
             0.1111111111111111,
             "#46039f"
            ],
            [
             0.2222222222222222,
             "#7201a8"
            ],
            [
             0.3333333333333333,
             "#9c179e"
            ],
            [
             0.4444444444444444,
             "#bd3786"
            ],
            [
             0.5555555555555556,
             "#d8576b"
            ],
            [
             0.6666666666666666,
             "#ed7953"
            ],
            [
             0.7777777777777778,
             "#fb9f3a"
            ],
            [
             0.8888888888888888,
             "#fdca26"
            ],
            [
             1,
             "#f0f921"
            ]
           ],
           "sequentialminus": [
            [
             0,
             "#0d0887"
            ],
            [
             0.1111111111111111,
             "#46039f"
            ],
            [
             0.2222222222222222,
             "#7201a8"
            ],
            [
             0.3333333333333333,
             "#9c179e"
            ],
            [
             0.4444444444444444,
             "#bd3786"
            ],
            [
             0.5555555555555556,
             "#d8576b"
            ],
            [
             0.6666666666666666,
             "#ed7953"
            ],
            [
             0.7777777777777778,
             "#fb9f3a"
            ],
            [
             0.8888888888888888,
             "#fdca26"
            ],
            [
             1,
             "#f0f921"
            ]
           ]
          },
          "colorway": [
           "#636efa",
           "#EF553B",
           "#00cc96",
           "#ab63fa",
           "#FFA15A",
           "#19d3f3",
           "#FF6692",
           "#B6E880",
           "#FF97FF",
           "#FECB52"
          ],
          "font": {
           "color": "#2a3f5f"
          },
          "geo": {
           "bgcolor": "white",
           "lakecolor": "white",
           "landcolor": "#E5ECF6",
           "showlakes": true,
           "showland": true,
           "subunitcolor": "white"
          },
          "hoverlabel": {
           "align": "left"
          },
          "hovermode": "closest",
          "mapbox": {
           "style": "light"
          },
          "paper_bgcolor": "white",
          "plot_bgcolor": "#E5ECF6",
          "polar": {
           "angularaxis": {
            "gridcolor": "white",
            "linecolor": "white",
            "ticks": ""
           },
           "bgcolor": "#E5ECF6",
           "radialaxis": {
            "gridcolor": "white",
            "linecolor": "white",
            "ticks": ""
           }
          },
          "scene": {
           "xaxis": {
            "backgroundcolor": "#E5ECF6",
            "gridcolor": "white",
            "gridwidth": 2,
            "linecolor": "white",
            "showbackground": true,
            "ticks": "",
            "zerolinecolor": "white"
           },
           "yaxis": {
            "backgroundcolor": "#E5ECF6",
            "gridcolor": "white",
            "gridwidth": 2,
            "linecolor": "white",
            "showbackground": true,
            "ticks": "",
            "zerolinecolor": "white"
           },
           "zaxis": {
            "backgroundcolor": "#E5ECF6",
            "gridcolor": "white",
            "gridwidth": 2,
            "linecolor": "white",
            "showbackground": true,
            "ticks": "",
            "zerolinecolor": "white"
           }
          },
          "shapedefaults": {
           "line": {
            "color": "#2a3f5f"
           }
          },
          "ternary": {
           "aaxis": {
            "gridcolor": "white",
            "linecolor": "white",
            "ticks": ""
           },
           "baxis": {
            "gridcolor": "white",
            "linecolor": "white",
            "ticks": ""
           },
           "bgcolor": "#E5ECF6",
           "caxis": {
            "gridcolor": "white",
            "linecolor": "white",
            "ticks": ""
           }
          },
          "title": {
           "x": 0.05
          },
          "xaxis": {
           "automargin": true,
           "gridcolor": "white",
           "linecolor": "white",
           "ticks": "",
           "title": {
            "standoff": 15
           },
           "zerolinecolor": "white",
           "zerolinewidth": 2
          },
          "yaxis": {
           "automargin": true,
           "gridcolor": "white",
           "linecolor": "white",
           "ticks": "",
           "title": {
            "standoff": 15
           },
           "zerolinecolor": "white",
           "zerolinewidth": 2
          }
         }
        },
        "title": {
         "text": "Weighted Score Distribution Across Feature Sets"
        },
        "xaxis": {
         "anchor": "y",
         "categoryarray": [
          "Gene Data",
          "TF Data"
         ],
         "categoryorder": "array",
         "domain": [
          0,
          1
         ],
         "title": {
          "text": "Feature Sets"
         }
        },
        "yaxis": {
         "anchor": "x",
         "domain": [
          0,
          1
         ],
         "title": {
          "text": "Weighted Score"
         }
        }
       }
      }
     },
     "metadata": {},
     "output_type": "display_data"
    }
   ],
   "source": [
    "import plotly.express as px\n",
    "\n",
    "# Bar plot for Weighted Score of Regression Models\n",
    "fig = px.bar(\n",
    "    results_df.reset_index(),\n",
    "    x=\"Regression Model Type\",\n",
    "    y=\"Weighted Score\",\n",
    "    color=\"Feature Set\",\n",
    "    barmode=\"group\",\n",
    "    title=\"Weighted Score of Regression Models\",\n",
    "    labels={\"Weighted Score\": \"Weighted Score\", \"Regression Model Type\": \"Models\"},\n",
    ")\n",
    "fig.update_layout(\n",
    "    xaxis=dict(title=\"Regression Models\"),\n",
    "    yaxis=dict(title=\"Weighted Score\"),\n",
    "    legend=dict(title=\"Feature Set\"),\n",
    ")\n",
    "fig.show()\n",
    "\n",
    "# Bar plot comparing feature sets for each model\n",
    "fig = px.bar(\n",
    "    results_df.reset_index(),\n",
    "    x=\"Feature Set\",\n",
    "    y=\"Weighted Score\",\n",
    "    color=\"Regression Model Type\",\n",
    "    barmode=\"group\",\n",
    "    title=\"Weighted Score of Feature Sets by Models\",\n",
    "    labels={\"Weighted Score\": \"Weighted Score\", \"Feature Set\": \"Feature Set\"},\n",
    ")\n",
    "fig.update_layout(\n",
    "    xaxis=dict(title=\"Feature Sets\"),\n",
    "    yaxis=dict(title=\"Weighted Score\"),\n",
    "    legend=dict(title=\"Regression Models\"),\n",
    ")\n",
    "fig.show()\n",
    "\n",
    "# Box plot for comparing feature sets across models\n",
    "fig = px.box(\n",
    "    results_df.reset_index(),\n",
    "    x=\"Feature Set\",\n",
    "    y=\"Weighted Score\",\n",
    "    color=\"Feature Set\",\n",
    "    title=\"Weighted Score Distribution Across Feature Sets\",\n",
    "    labels={\"Weighted Score\": \"Weighted Score\", \"Feature Set\": \"Feature Sets\"},\n",
    "    points=\"outliers\", \n",
    ")\n",
    "fig.update_layout(\n",
    "    xaxis=dict(title=\"Feature Sets\"),\n",
    "    yaxis=dict(title=\"Weighted Score\"),\n",
    "    legend=dict(title=\"Feature Sets\"),\n",
    ")\n",
    "fig.show()"
   ]
  },
  {
   "cell_type": "code",
   "execution_count": 18,
   "metadata": {},
   "outputs": [],
   "source": [
    "# # Define ensemble models\n",
    "# models = {\n",
    "#     \"Random Forest\": RandomForestRegressor(random_state=42),\n",
    "#     \"Gradient Boosting\": GradientBoostingRegressor(random_state=42),\n",
    "#     \"Bagging\": BaggingRegressor(random_state=42),\n",
    "#     \"AdaBoost\": AdaBoostRegressor(random_state=42),\n",
    "#     \"KNN\": KNeighborsRegressor(),\n",
    "#     \"SVM\": SVR(),\n",
    "# }\n",
    "\n",
    "# # Define hyperparameter distributions\n",
    "# param_distributions = {\n",
    "#     \"Random Forest\": {\n",
    "#         \"n_estimators\": randint(50, 200).rvs(size=10),  # Generate iterable integers\n",
    "#         \"max_depth\": randint(5, 20),\n",
    "#         \"min_samples_split\": randint(2, 10),\n",
    "#         \"min_samples_leaf\": randint(1, 10),\n",
    "#     },\n",
    "#     \"Gradient Boosting\": {\n",
    "#         \"n_estimators\": randint(50, 200).rvs(size=10),\n",
    "#         \"learning_rate\": uniform(0.01, 0.2),\n",
    "#         \"max_depth\": randint(3, 15),\n",
    "#         \"min_samples_split\": randint(2, 10),\n",
    "#         \"min_samples_leaf\": randint(1, 10),\n",
    "#     },\n",
    "#     \"Bagging\": {\n",
    "#         \"n_estimators\": randint(50, 200).rvs(size=10),\n",
    "#         \"max_samples\": uniform(0.5, 1.0),\n",
    "#         \"max_features\": uniform(0.5, 1.0),\n",
    "#     },\n",
    "#     \"AdaBoost\": {\n",
    "#         \"n_estimators\": randint(50, 200).rvs(size=10),\n",
    "#         \"learning_rate\": uniform(0.01, 1.0),\n",
    "#         },\n",
    "#     \"KNN\": {\n",
    "#         \"n_neighbors\": randint(3, 20).rvs(size=10),  # Generate iterable neighbors\n",
    "#         \"weights\": [\"uniform\", \"distance\"],\n",
    "#         \"p\": [1, 2],  # 1: Manhattan, 2: Euclidean\n",
    "#     },\n",
    "#     \"SVM\": {\n",
    "#         \"C\": uniform(0.1, 10.0).rvs(size=10),  # Generate random C values\n",
    "#         \"epsilon\": uniform(0.01, 1.0).rvs(size=10),  # Generate random epsilon values\n",
    "#         \"kernel\": [\"linear\", \"rbf\"],\n",
    "#         \"gamma\": [\"scale\", \"auto\"],\n",
    "#     },\n",
    "# }\n",
    "\n",
    "# # Initialize results dictionary\n",
    "# results = {}\n",
    "\n",
    "# # Model Training and Evaluation with RandomizedSearchCV\n",
    "# for feature_name, (X_train, y_train, X_test, y_test) in feature_sets.items():\n",
    "#     for model_name, base_model in models.items():\n",
    "#         logging.debug(\n",
    "#             f\"Running RandomizedSearchCV for {model_name} on {feature_name}...\"\n",
    "#         )\n",
    "\n",
    "#         # Define RandomizedSearchCV\n",
    "#         search = RandomizedSearchCV(\n",
    "#             estimator=base_model,\n",
    "#             param_distributions=param_distributions[model_name],\n",
    "#             n_iter=1,\n",
    "#             scoring=\"neg_mean_squared_error\",\n",
    "#             cv=5,  # 5-fold cross-validation\n",
    "#             random_state=42,\n",
    "#             n_jobs=-1,  # Use all available cores\n",
    "#         )\n",
    "\n",
    "#         # Perform Randomized Search\n",
    "#         search.fit(X_train, y_train)\n",
    "\n",
    "#         # Get the best model and parameters\n",
    "#         best_model = search.best_estimator_\n",
    "#         best_params = search.best_params_\n",
    "\n",
    "#         # Evaluate the model on the test set\n",
    "#         test_loss, metrics = evaluate_shallow_model(best_model, X_test, y_test)\n",
    "\n",
    "#         # Store evaluation results\n",
    "#         results[(feature_name, model_name)] = {\n",
    "#             **metrics,\n",
    "#         }\n",
    "\n",
    "# # Convert results into a DataFrame with a Multi-Index\n",
    "# results_df = pd.DataFrame.from_dict(results, orient=\"index\")\n",
    "# results_df.index = pd.MultiIndex.from_tuples(\n",
    "#     results_df.index, names=[\"Feature Set\", \"Regression Model Type\"]\n",
    "# )\n",
    "\n",
    "# # Sort the index for better organization\n",
    "# results_df = results_df.sort_index()"
   ]
  },
  {
   "cell_type": "code",
   "execution_count": 19,
   "metadata": {},
   "outputs": [
    {
     "data": {
      "text/html": [
       "<style type=\"text/css\">\n",
       "#T_efcf8_row2_col1, #T_efcf8_row11_col0, #T_efcf8_row11_col2, #T_efcf8_row11_col3, #T_efcf8_row11_col4 {\n",
       "  background-color: lightgreen;\n",
       "}\n",
       "</style>\n",
       "<table id=\"T_efcf8\">\n",
       "  <caption>Regression Model Evaluation Metrics</caption>\n",
       "  <thead>\n",
       "    <tr>\n",
       "      <th class=\"blank\" >&nbsp;</th>\n",
       "      <th class=\"blank level0\" >&nbsp;</th>\n",
       "      <th id=\"T_efcf8_level0_col0\" class=\"col_heading level0 col0\" >MSE</th>\n",
       "      <th id=\"T_efcf8_level0_col1\" class=\"col_heading level0 col1\" >MAE</th>\n",
       "      <th id=\"T_efcf8_level0_col2\" class=\"col_heading level0 col2\" >R²</th>\n",
       "      <th id=\"T_efcf8_level0_col3\" class=\"col_heading level0 col3\" >Pearson Correlation</th>\n",
       "      <th id=\"T_efcf8_level0_col4\" class=\"col_heading level0 col4\" >Weighted Score</th>\n",
       "    </tr>\n",
       "    <tr>\n",
       "      <th class=\"index_name level0\" >Feature Set</th>\n",
       "      <th class=\"index_name level1\" >Regression Model Type</th>\n",
       "      <th class=\"blank col0\" >&nbsp;</th>\n",
       "      <th class=\"blank col1\" >&nbsp;</th>\n",
       "      <th class=\"blank col2\" >&nbsp;</th>\n",
       "      <th class=\"blank col3\" >&nbsp;</th>\n",
       "      <th class=\"blank col4\" >&nbsp;</th>\n",
       "    </tr>\n",
       "  </thead>\n",
       "  <tbody>\n",
       "    <tr>\n",
       "      <th id=\"T_efcf8_level0_row0\" class=\"row_heading level0 row0\" rowspan=\"6\">Gene Data</th>\n",
       "      <th id=\"T_efcf8_level1_row0\" class=\"row_heading level1 row0\" >Bayesian Ridge</th>\n",
       "      <td id=\"T_efcf8_row0_col0\" class=\"data row0 col0\" >0.036</td>\n",
       "      <td id=\"T_efcf8_row0_col1\" class=\"data row0 col1\" >0.127</td>\n",
       "      <td id=\"T_efcf8_row0_col2\" class=\"data row0 col2\" >0.403</td>\n",
       "      <td id=\"T_efcf8_row0_col3\" class=\"data row0 col3\" >0.635</td>\n",
       "      <td id=\"T_efcf8_row0_col4\" class=\"data row0 col4\" >0.519</td>\n",
       "    </tr>\n",
       "    <tr>\n",
       "      <th id=\"T_efcf8_level1_row1\" class=\"row_heading level1 row1\" >Elastic Net</th>\n",
       "      <td id=\"T_efcf8_row1_col0\" class=\"data row1 col0\" >0.036</td>\n",
       "      <td id=\"T_efcf8_row1_col1\" class=\"data row1 col1\" >0.127</td>\n",
       "      <td id=\"T_efcf8_row1_col2\" class=\"data row1 col2\" >0.396</td>\n",
       "      <td id=\"T_efcf8_row1_col3\" class=\"data row1 col3\" >0.631</td>\n",
       "      <td id=\"T_efcf8_row1_col4\" class=\"data row1 col4\" >0.514</td>\n",
       "    </tr>\n",
       "    <tr>\n",
       "      <th id=\"T_efcf8_level1_row2\" class=\"row_heading level1 row2\" >Huber</th>\n",
       "      <td id=\"T_efcf8_row2_col0\" class=\"data row2 col0\" >0.038</td>\n",
       "      <td id=\"T_efcf8_row2_col1\" class=\"data row2 col1\" >0.118</td>\n",
       "      <td id=\"T_efcf8_row2_col2\" class=\"data row2 col2\" >0.368</td>\n",
       "      <td id=\"T_efcf8_row2_col3\" class=\"data row2 col3\" >0.629</td>\n",
       "      <td id=\"T_efcf8_row2_col4\" class=\"data row2 col4\" >0.499</td>\n",
       "    </tr>\n",
       "    <tr>\n",
       "      <th id=\"T_efcf8_level1_row3\" class=\"row_heading level1 row3\" >Lasso</th>\n",
       "      <td id=\"T_efcf8_row3_col0\" class=\"data row3 col0\" >0.039</td>\n",
       "      <td id=\"T_efcf8_row3_col1\" class=\"data row3 col1\" >0.134</td>\n",
       "      <td id=\"T_efcf8_row3_col2\" class=\"data row3 col2\" >0.343</td>\n",
       "      <td id=\"T_efcf8_row3_col3\" class=\"data row3 col3\" >0.596</td>\n",
       "      <td id=\"T_efcf8_row3_col4\" class=\"data row3 col4\" >0.469</td>\n",
       "    </tr>\n",
       "    <tr>\n",
       "      <th id=\"T_efcf8_level1_row4\" class=\"row_heading level1 row4\" >Linear</th>\n",
       "      <td id=\"T_efcf8_row4_col0\" class=\"data row4 col0\" >0.036</td>\n",
       "      <td id=\"T_efcf8_row4_col1\" class=\"data row4 col1\" >0.128</td>\n",
       "      <td id=\"T_efcf8_row4_col2\" class=\"data row4 col2\" >0.398</td>\n",
       "      <td id=\"T_efcf8_row4_col3\" class=\"data row4 col3\" >0.631</td>\n",
       "      <td id=\"T_efcf8_row4_col4\" class=\"data row4 col4\" >0.515</td>\n",
       "    </tr>\n",
       "    <tr>\n",
       "      <th id=\"T_efcf8_level1_row5\" class=\"row_heading level1 row5\" >Ridge</th>\n",
       "      <td id=\"T_efcf8_row5_col0\" class=\"data row5 col0\" >0.036</td>\n",
       "      <td id=\"T_efcf8_row5_col1\" class=\"data row5 col1\" >0.128</td>\n",
       "      <td id=\"T_efcf8_row5_col2\" class=\"data row5 col2\" >0.398</td>\n",
       "      <td id=\"T_efcf8_row5_col3\" class=\"data row5 col3\" >0.631</td>\n",
       "      <td id=\"T_efcf8_row5_col4\" class=\"data row5 col4\" >0.515</td>\n",
       "    </tr>\n",
       "    <tr>\n",
       "      <th id=\"T_efcf8_level0_row6\" class=\"row_heading level0 row6\" rowspan=\"6\">TF Data</th>\n",
       "      <th id=\"T_efcf8_level1_row6\" class=\"row_heading level1 row6\" >Bayesian Ridge</th>\n",
       "      <td id=\"T_efcf8_row6_col0\" class=\"data row6 col0\" >0.034</td>\n",
       "      <td id=\"T_efcf8_row6_col1\" class=\"data row6 col1\" >0.128</td>\n",
       "      <td id=\"T_efcf8_row6_col2\" class=\"data row6 col2\" >0.426</td>\n",
       "      <td id=\"T_efcf8_row6_col3\" class=\"data row6 col3\" >0.653</td>\n",
       "      <td id=\"T_efcf8_row6_col4\" class=\"data row6 col4\" >0.540</td>\n",
       "    </tr>\n",
       "    <tr>\n",
       "      <th id=\"T_efcf8_level1_row7\" class=\"row_heading level1 row7\" >Elastic Net</th>\n",
       "      <td id=\"T_efcf8_row7_col0\" class=\"data row7 col0\" >0.036</td>\n",
       "      <td id=\"T_efcf8_row7_col1\" class=\"data row7 col1\" >0.130</td>\n",
       "      <td id=\"T_efcf8_row7_col2\" class=\"data row7 col2\" >0.395</td>\n",
       "      <td id=\"T_efcf8_row7_col3\" class=\"data row7 col3\" >0.630</td>\n",
       "      <td id=\"T_efcf8_row7_col4\" class=\"data row7 col4\" >0.513</td>\n",
       "    </tr>\n",
       "    <tr>\n",
       "      <th id=\"T_efcf8_level1_row8\" class=\"row_heading level1 row8\" >Huber</th>\n",
       "      <td id=\"T_efcf8_row8_col0\" class=\"data row8 col0\" >0.036</td>\n",
       "      <td id=\"T_efcf8_row8_col1\" class=\"data row8 col1\" >0.120</td>\n",
       "      <td id=\"T_efcf8_row8_col2\" class=\"data row8 col2\" >0.389</td>\n",
       "      <td id=\"T_efcf8_row8_col3\" class=\"data row8 col3\" >0.648</td>\n",
       "      <td id=\"T_efcf8_row8_col4\" class=\"data row8 col4\" >0.518</td>\n",
       "    </tr>\n",
       "    <tr>\n",
       "      <th id=\"T_efcf8_level1_row9\" class=\"row_heading level1 row9\" >Lasso</th>\n",
       "      <td id=\"T_efcf8_row9_col0\" class=\"data row9 col0\" >0.041</td>\n",
       "      <td id=\"T_efcf8_row9_col1\" class=\"data row9 col1\" >0.137</td>\n",
       "      <td id=\"T_efcf8_row9_col2\" class=\"data row9 col2\" >0.313</td>\n",
       "      <td id=\"T_efcf8_row9_col3\" class=\"data row9 col3\" >0.570</td>\n",
       "      <td id=\"T_efcf8_row9_col4\" class=\"data row9 col4\" >0.442</td>\n",
       "    </tr>\n",
       "    <tr>\n",
       "      <th id=\"T_efcf8_level1_row10\" class=\"row_heading level1 row10\" >Linear</th>\n",
       "      <td id=\"T_efcf8_row10_col0\" class=\"data row10 col0\" >0.034</td>\n",
       "      <td id=\"T_efcf8_row10_col1\" class=\"data row10 col1\" >0.129</td>\n",
       "      <td id=\"T_efcf8_row10_col2\" class=\"data row10 col2\" >0.426</td>\n",
       "      <td id=\"T_efcf8_row10_col3\" class=\"data row10 col3\" >0.654</td>\n",
       "      <td id=\"T_efcf8_row10_col4\" class=\"data row10 col4\" >0.540</td>\n",
       "    </tr>\n",
       "    <tr>\n",
       "      <th id=\"T_efcf8_level1_row11\" class=\"row_heading level1 row11\" >Ridge</th>\n",
       "      <td id=\"T_efcf8_row11_col0\" class=\"data row11 col0\" >0.034</td>\n",
       "      <td id=\"T_efcf8_row11_col1\" class=\"data row11 col1\" >0.129</td>\n",
       "      <td id=\"T_efcf8_row11_col2\" class=\"data row11 col2\" >0.427</td>\n",
       "      <td id=\"T_efcf8_row11_col3\" class=\"data row11 col3\" >0.654</td>\n",
       "      <td id=\"T_efcf8_row11_col4\" class=\"data row11 col4\" >0.540</td>\n",
       "    </tr>\n",
       "  </tbody>\n",
       "</table>\n"
      ],
      "text/plain": [
       "<pandas.io.formats.style.Styler at 0x1c2bbc75510>"
      ]
     },
     "execution_count": 19,
     "metadata": {},
     "output_type": "execute_result"
    }
   ],
   "source": [
    "results_df.style.format(precision=3).set_caption(\n",
    "    \"Regression Model Evaluation Metrics\"\n",
    ").highlight_max(\n",
    "    subset=[\"R²\", \"Pearson Correlation\", \"Weighted Score\"], color=\"lightgreen\"\n",
    ").highlight_min(\n",
    "    subset=[\"MAE\", \"MSE\"], color=\"lightgreen\"\n",
    ")"
   ]
  },
  {
   "cell_type": "markdown",
   "metadata": {},
   "source": [
    "# Compare Results with Earlier Research\n",
    "Compare the results of the models with earlier research and report findings in a baseline results summary."
   ]
  },
  {
   "cell_type": "code",
   "execution_count": null,
   "metadata": {},
   "outputs": [],
   "source": []
  }
 ],
 "metadata": {
  "kernelspec": {
   "display_name": "5ARG45",
   "language": "python",
   "name": "python3"
  },
  "language_info": {
   "codemirror_mode": {
    "name": "ipython",
    "version": 3
   },
   "file_extension": ".py",
   "mimetype": "text/x-python",
   "name": "python",
   "nbconvert_exporter": "python",
   "pygments_lexer": "ipython3",
   "version": "3.10.15"
  }
 },
 "nbformat": 4,
 "nbformat_minor": 2
}
