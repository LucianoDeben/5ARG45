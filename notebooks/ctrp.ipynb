{
 "cells": [
  {
   "cell_type": "code",
   "execution_count": null,
   "metadata": {},
   "outputs": [],
   "source": [
    "import os\n",
    "import sys\n",
    "\n",
    "# Add the src directory to the Python path\n",
    "sys.path.append(os.path.abspath(os.path.join(\"..\", \"src\")))\n",
    "\n",
    "import pandas as pd\n",
    "\n",
    "# Load primary data files\n",
    "viability_data = pd.read_csv('../data/raw/CTRP/v20.data.per_cpd_post_qc.txt', sep='\\t')\n",
    "auc_data = pd.read_csv(\"../data/raw/CTRP/v20.data.curves_post_qc.txt\", sep=\"\\t\")\n",
    "\n",
    "# Load metadata files\n",
    "compound_meta = pd.read_csv(\"../data/raw/CTRP/v20.meta.per_compound.txt\", sep=\"\\t\")\n",
    "cell_line_meta = pd.read_csv(\"../data/raw/CTRP/v20.meta.per_cell_line.txt\", sep=\"\\t\")\n",
    "experiment_meta = pd.read_csv(\"../data/raw/CTRP/v20.meta.per_experiment.txt\", sep=\"\\t\")\n",
    "\n",
    "# Load perturbation metadata\n",
    "pert_meta = pd.read_csv(\"../data/raw/compound_perturbation_metadata.txt\", sep=\"\\t\")"
   ]
  },
  {
   "cell_type": "code",
   "execution_count": 2,
   "metadata": {},
   "outputs": [],
   "source": [
    "# Merge viability data with compound metadata on master_cpd_id\n",
    "pv_comp = viability_data.merge(compound_meta, on=\"master_cpd_id\", how=\"left\")\n",
    "\n",
    "# Merge experiment metadata with cell line meta data on master_ccl_id\n",
    "exp_cell = experiment_meta.merge(cell_line_meta, on=\"master_ccl_id\", how=\"left\")"
   ]
  },
  {
   "cell_type": "code",
   "execution_count": 3,
   "metadata": {},
   "outputs": [],
   "source": [
    "# Deduplicate the experiment metadata by experiment_id\n",
    "exp_cell_deduplicated = exp_cell.drop_duplicates(subset=[\"experiment_id\"])"
   ]
  },
  {
   "cell_type": "code",
   "execution_count": 4,
   "metadata": {},
   "outputs": [
    {
     "name": "stdout",
     "output_type": "stream",
     "text": [
      "(6171005, 16)\n",
      "(907, 14)\n"
     ]
    }
   ],
   "source": [
    "# Check shape of the dataframes before merging\n",
    "print(pv_comp.shape)\n",
    "print(exp_cell_deduplicated.shape)"
   ]
  },
  {
   "cell_type": "code",
   "execution_count": 5,
   "metadata": {},
   "outputs": [
    {
     "data": {
      "text/plain": [
       "(6171005, 29)"
      ]
     },
     "execution_count": 5,
     "metadata": {},
     "output_type": "execute_result"
    }
   ],
   "source": [
    "# Merge the dataframes on experiment_id\n",
    "final_data = pv_comp.merge(exp_cell_deduplicated, on=\"experiment_id\", how=\"left\")\n",
    "\n",
    "# Display the resulting dataframe\n",
    "final_data.shape"
   ]
  },
  {
   "cell_type": "code",
   "execution_count": 6,
   "metadata": {},
   "outputs": [],
   "source": [
    "# Rename columns in final_data for clarity\n",
    "final_data = final_data.rename(\n",
    "    columns={\n",
    "        \"cpd_conc_umol\": \"pert_dose\",  # Dose column for merging\n",
    "        \"ccl_name\": \"cell_mfc_name\",  # Match naming convention in pert_meta\n",
    "        \"broad_cpd_id\": \"pert_mfc_id\",  # Match compound identifier\n",
    "        \"cpd_pred_pv\": \"viability_score\",  # Viability score for model training\n",
    "    }\n",
    ")"
   ]
  },
  {
   "cell_type": "code",
   "execution_count": 7,
   "metadata": {},
   "outputs": [],
   "source": [
    "# Filter out irrelevant drugs and cell lines\n",
    "relevant_drugs = pert_meta[\"pert_mfc_id\"].unique()\n",
    "relevant_cell_lines = pert_meta[\"cell_mfc_name\"].unique()"
   ]
  },
  {
   "cell_type": "code",
   "execution_count": 8,
   "metadata": {},
   "outputs": [
    {
     "name": "stdout",
     "output_type": "stream",
     "text": [
      "Original final_data shape: (6171005, 29)\n",
      "Filtered final_data shape: (660133, 29)\n"
     ]
    }
   ],
   "source": [
    "# Filter the final data\n",
    "filtered_final_data = final_data[\n",
    "    (final_data[\"pert_mfc_id\"].isin(relevant_drugs))\n",
    "    & (final_data[\"cell_mfc_name\"].isin(relevant_cell_lines))\n",
    "]\n",
    "\n",
    "print(f\"Original final_data shape: {final_data.shape}\")\n",
    "print(f\"Filtered final_data shape: {filtered_final_data.shape}\")"
   ]
  },
  {
   "cell_type": "code",
   "execution_count": 9,
   "metadata": {},
   "outputs": [],
   "source": [
    "# Perform the direct match\n",
    "direct_matches = pert_meta.merge(\n",
    "    filtered_final_data,\n",
    "    left_on=[\"pert_dose\", \"cell_mfc_name\", \"pert_mfc_id\"],\n",
    "    right_on=[\"pert_dose\", \"cell_mfc_name\", \"pert_mfc_id\"],\n",
    "    how=\"inner\",\n",
    ")"
   ]
  },
  {
   "cell_type": "code",
   "execution_count": 10,
   "metadata": {},
   "outputs": [
    {
     "name": "stdout",
     "output_type": "stream",
     "text": [
      "Total rows in pert_meta: 1311972\n",
      "Direct matches: 5997\n"
     ]
    }
   ],
   "source": [
    "print(f\"Total rows in pert_meta: {len(pert_meta)}\")\n",
    "print(f\"Direct matches: {len(direct_matches)}\")"
   ]
  },
  {
   "cell_type": "code",
   "execution_count": 11,
   "metadata": {},
   "outputs": [
    {
     "name": "stdout",
     "output_type": "stream",
     "text": [
      "Number of unique (cell_mfc_name, pert_mfc_id, pert_dose) triplets: 491368\n"
     ]
    }
   ],
   "source": [
    "# Select the columns of interest\n",
    "unique_triplets = pert_meta[[\"cell_mfc_name\", \"pert_mfc_id\", \"pert_dose\"]]\n",
    "\n",
    "# Drop duplicates\n",
    "unique_triplets = unique_triplets.drop_duplicates()\n",
    "\n",
    "# Count unique triplets\n",
    "num_unique_triplets = len(unique_triplets)\n",
    "\n",
    "print(\n",
    "    f\"Number of unique (cell_mfc_name, pert_mfc_id, pert_dose) triplets: {num_unique_triplets}\"\n",
    ")"
   ]
  },
  {
   "cell_type": "code",
   "execution_count": 14,
   "metadata": {},
   "outputs": [],
   "source": [
    "Y = pd.read_csv(\"../data/raw/Y.tsv\", sep=\"\\t\")"
   ]
  },
  {
   "cell_type": "code",
   "execution_count": 15,
   "metadata": {},
   "outputs": [
    {
     "data": {
      "text/plain": [
       "(31567, 7)"
      ]
     },
     "execution_count": 15,
     "metadata": {},
     "output_type": "execute_result"
    }
   ],
   "source": [
    "Y.shape"
   ]
  },
  {
   "cell_type": "code",
   "execution_count": 3,
   "metadata": {},
   "outputs": [],
   "source": [
    "# Add a column to pert_meta for the viability score and set it to 1 for all rows\n",
    "pert_meta[\"viability\"] = 1\n",
    "\n",
    "# Save the pert_meta dataframe to the original file location and overwrite the file\n",
    "pert_meta.to_csv(\"../data/raw/compound_perturbation_metadata.txt\", sep=\"\\t\", index=False)"
   ]
  }
 ],
 "metadata": {
  "kernelspec": {
   "display_name": "5ARG45",
   "language": "python",
   "name": "python3"
  },
  "language_info": {
   "codemirror_mode": {
    "name": "ipython",
    "version": 3
   },
   "file_extension": ".py",
   "mimetype": "text/x-python",
   "name": "python",
   "nbconvert_exporter": "python",
   "pygments_lexer": "ipython3",
   "version": "3.10.16"
  }
 },
 "nbformat": 4,
 "nbformat_minor": 2
}
