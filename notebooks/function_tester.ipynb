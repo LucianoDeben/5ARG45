{
 "cells": [
  {
   "cell_type": "code",
   "execution_count": 9,
   "metadata": {},
   "outputs": [
    {
     "name": "stderr",
     "output_type": "stream",
     "text": [
      "2024-11-22 16:38:08,180 - INFO - TensorFlow version 2.13.0 available.\n",
      "2024-11-22 16:38:08,181 - INFO - PyTorch version 2.0.1+cpu available.\n",
      "2024-11-22 16:38:08,462 - INFO - Better speed can be achieved with apex installed from https://www.github.com/nvidia/apex .\n",
      "2024-11-22 16:38:11,332 - INFO - Enabling RDKit 2024.03.6 jupyter extensions\n"
     ]
    }
   ],
   "source": [
    "import pandas as pd\n",
    "import numpy as np\n",
    "\n",
    "# Add src to path\n",
    "import sys\n",
    "sys.path.append('../src')\n",
    "\n",
    "from preprocess.preprocess import partition_data\n",
    "from preprocess.data_loader import prepare_chemical_data"
   ]
  },
  {
   "cell_type": "code",
   "execution_count": 2,
   "metadata": {},
   "outputs": [
    {
     "name": "stdout",
     "output_type": "stream",
     "text": [
      "   Unnamed: 0  pert_dose  pert_time cell_mfc_name    pert_mfc_id  \\\n",
      "0           3  10.000000       24.0           PC3  BRD-K76674262   \n",
      "1         134   3.333330       24.0           PC3  BRD-K76674262   \n",
      "2         376   0.041200       24.0          A549  BRD-K76674262   \n",
      "3         459   0.123457       24.0           PC3  BRD-K76674262   \n",
      "4         570  10.000000       24.0         HEPG2  BRD-K76674262   \n",
      "\n",
      "                                          sig_id  viability        pert_id  \\\n",
      "0                             POL001_PC3_24H:G19   0.372083  BRD-K76674262   \n",
      "1                             POL001_PC3_24H:G20   0.410685  BRD-K76674262   \n",
      "2  HOG002_A549_24H:BRD-K76674262-001-02-5:0.0412   0.825084  BRD-K76674262   \n",
      "3                             POL001_PC3_24H:G23   0.698860  BRD-K76674262   \n",
      "4                           POL001_HEPG2_24H:G19   0.516322  BRD-K76674262   \n",
      "\n",
      "       cmap_name                                   canonical_smiles  ...  \\\n",
      "0  BRD-K76674262  COC(=O)C[C@](O)(CCCC(C)(C)O)C(=O)O[C@H]1[C@H]2...  ...   \n",
      "1  BRD-K76674262  COC(=O)C[C@](O)(CCCC(C)(C)O)C(=O)O[C@H]1[C@H]2...  ...   \n",
      "2  BRD-K76674262  COC(=O)C[C@](O)(CCCC(C)(C)O)C(=O)O[C@H]1[C@H]2...  ...   \n",
      "3  BRD-K76674262  COC(=O)C[C@](O)(CCCC(C)(C)O)C(=O)O[C@H]1[C@H]2...  ...   \n",
      "4  BRD-K76674262  COC(=O)C[C@](O)(CCCC(C)(C)O)C(=O)O[C@H]1[C@H]2...  ...   \n",
      "\n",
      "        673       674       675       676       677       678       679  \\\n",
      "0  0.359634 -1.742530 -0.062960 -0.282645  0.024090  0.006158 -0.276312   \n",
      "1 -0.326627 -1.547413 -0.730709  0.368457  0.448908 -0.729577 -0.079773   \n",
      "2  0.590408 -1.800547 -0.231119 -0.106020  1.334879  0.409039  1.285532   \n",
      "3  1.649204 -0.681197 -1.057065  0.345639  1.722410  0.952792  0.483664   \n",
      "4  0.107529 -1.696292 -0.091665 -0.505295  0.511775  0.359123  0.035256   \n",
      "\n",
      "        680       681       682  \n",
      "0  0.394939  1.288381  0.606827  \n",
      "1  0.000381  1.599415  1.129405  \n",
      "2 -0.359685  1.235453  0.461526  \n",
      "3  0.200859  1.308660 -0.270612  \n",
      "4 -0.802694  0.921919  0.216087  \n",
      "\n",
      "[5 rows x 694 columns]\n"
     ]
    }
   ],
   "source": [
    "combined_df = pd.read_csv(\"../data/processed/final_dataset.csv\")\n",
    "print(combined_df.head())"
   ]
  },
  {
   "cell_type": "code",
   "execution_count": 3,
   "metadata": {},
   "outputs": [
    {
     "name": "stdout",
     "output_type": "stream",
     "text": [
      "                                    canonical_smiles\n",
      "0  COC(=O)C[C@](O)(CCCC(C)(C)O)C(=O)O[C@H]1[C@H]2...\n",
      "1  COC(=O)C[C@](O)(CCCC(C)(C)O)C(=O)O[C@H]1[C@H]2...\n",
      "2  COC(=O)C[C@](O)(CCCC(C)(C)O)C(=O)O[C@H]1[C@H]2...\n",
      "3  COC(=O)C[C@](O)(CCCC(C)(C)O)C(=O)O[C@H]1[C@H]2...\n",
      "4  COC(=O)C[C@](O)(CCCC(C)(C)O)C(=O)O[C@H]1[C@H]2...\n",
      "   viability\n",
      "0   0.372083\n",
      "1   0.410685\n",
      "2   0.825084\n",
      "3   0.698860\n",
      "4   0.516322\n",
      "          1         2         3         4         5         6         7  \\\n",
      "0  1.691468  0.372236 -1.314469 -1.930791 -0.211148 -2.320093 -2.142510   \n",
      "1  1.559223  0.320660 -1.116020 -1.846074 -0.547827 -1.222509 -1.477382   \n",
      "2  2.041255  0.981665  0.003209 -0.021115  0.119147 -0.250142  0.275295   \n",
      "3  0.966338 -0.417509 -0.633117  0.670356  0.388585 -0.558583 -1.565128   \n",
      "4  1.471947  0.221686 -1.640204 -2.127661  0.868745 -2.315318 -0.876314   \n",
      "\n",
      "          8         9        10  ...       673       674       675       676  \\\n",
      "0  0.876579  0.625576 -0.574647  ...  0.359634 -1.742530 -0.062960 -0.282645   \n",
      "1  0.318300  0.629693  0.418807  ... -0.326627 -1.547413 -0.730709  0.368457   \n",
      "2 -0.605215  0.229132  1.852584  ...  0.590408 -1.800547 -0.231119 -0.106020   \n",
      "3  0.350073  0.710889 -1.671000  ...  1.649204 -0.681197 -1.057065  0.345639   \n",
      "4  0.045980  1.052755  0.890627  ...  0.107529 -1.696292 -0.091665 -0.505295   \n",
      "\n",
      "        677       678       679       680       681       682  \n",
      "0  0.024090  0.006158 -0.276312  0.394939  1.288381  0.606827  \n",
      "1  0.448908 -0.729577 -0.079773  0.000381  1.599415  1.129405  \n",
      "2  1.334879  0.409039  1.285532 -0.359685  1.235453  0.461526  \n",
      "3  1.722410  0.952792  0.483664  0.200859  1.308660 -0.270612  \n",
      "4  0.511775  0.359123  0.035256 -0.802694  0.921919  0.216087  \n",
      "\n",
      "[5 rows x 682 columns]\n"
     ]
    }
   ],
   "source": [
    "chem_df, viability_df, transcriptomics_df = partition_data(combined_df)\n",
    "\n",
    "print(chem_df.head())\n",
    "print(viability_df.head())\n",
    "print(transcriptomics_df.head())"
   ]
  },
  {
   "cell_type": "code",
   "execution_count": 14,
   "metadata": {},
   "outputs": [
    {
     "name": "stdout",
     "output_type": "stream",
     "text": [
      "30097\n",
      "30097\n"
     ]
    }
   ],
   "source": [
    "# Replace 'column_name' with the actual column name you want to convert to a list\n",
    "smiles_list = chem_df['canonical_smiles'].tolist()\n",
    "targets = viability_df[\"viability\"].tolist()\n",
    "print(len(smiles_list))\n",
    "print(len(targets))"
   ]
  },
  {
   "cell_type": "code",
   "execution_count": 16,
   "metadata": {},
   "outputs": [
    {
     "name": "stdout",
     "output_type": "stream",
     "text": [
      "Start Exctarting features from SMILES\n",
      "Data(x=[78, 15], edge_index=[2, 164], edge_attr=[164, 13])\n"
     ]
    }
   ],
   "source": [
    "from preprocess.molecule_graph import mol_to_graph, collect_continuous_atom_features\n",
    "from sklearn.preprocessing import StandardScaler\n",
    "\n",
    "smiles = (\n",
    "    \"COC(=O)C[C@](O)(CCCC(C)(C)O)C(=O)O[C@H]1[C@H]2c3cc4OCOc4cc3CCN3CCC[C@]23C=C1OC\"\n",
    ")\n",
    "smiles_list = [\n",
    "    \"COC(=O)C[C@](O)(CCCC(C)(C)O)C(=O)O[C@H]1[C@H]2c3cc4OCOc4cc3CCN3CCC[C@]23C=C1OC\",\n",
    "    \"CC(C)(C)OC(=O)C1=CC(=C(C=C1)O)CC(=O)O\",\n",
    "    \"CC1=CC(=C(C=C1)O)CC(=O)O\",\n",
    "    \"CC(=O)O\",  \n",
    "    \"CC(C)(C)OC(=O)C1=CC(=C(C=C1)O)CC(=O)O\",\n",
    "    \"CC(C)(C)OC(=O)C1=CC(=C(C=C1)O)CC(=O)O\",\n",
    "    \"CC(C)(C)OC(=O)C1=CC(=C(C=C1)O)CC(=O)O\",\n",
    "    \"CC(C)(C)OC(=O)C1=CC(=C(C=C1)O)CC(=O)O\",\n",
    "    \"CC(C)(C)OC(=O)C1=CC(=C(C=C1)O)CC(=O)O\",\n",
    "    \"CC(C)(C)OC(=O)C1=CC(=C(C=C1)O)CC(=O)O\",\n",
    "    \"CC(C)(C)OC(=O)C1=CC(=C(C=C1)O)CC(=O)O\",\n",
    "    \"CC(C)(C)OC(=O)C1=CC(=C(C=C1)O)CC(=O)O\",\n",
    "    \"CC(C)(C)OC(=O)C1=CC(=C(C=C1)O)CC(=O)O\",\n",
    "    \"CC(C)(C)OC(=O)C1=CC(=C(C=C1)O)CC(=O)O\",\n",
    "    \"CC(C)(C)OC(=O)C1=CC(=C(C=C1)O)CC(=O)O\",\n",
    "    \"CC(C)(C)OC(=O)C1=CC(=C(C=C1)O)CC(=O)O\",\n",
    "\n",
    "]\n",
    "\n",
    "continuous_atom_features = collect_continuous_atom_features(smiles_list)\n",
    "scaler = StandardScaler()\n",
    "scaler.fit(continuous_atom_features)\n",
    "\n",
    "data = mol_to_graph(smiles, scaler)\n",
    "print(data)"
   ]
  },
  {
   "cell_type": "code",
   "execution_count": 17,
   "metadata": {},
   "outputs": [
    {
     "name": "stdout",
     "output_type": "stream",
     "text": [
      "Start Exctarting features from SMILES\n",
      "Start Exctarting features from SMILES\n",
      "Start Exctarting features from SMILES\n",
      "Start Exctarting features from SMILES\n",
      "Start Exctarting features from SMILES\n",
      "Start Exctarting features from SMILES\n",
      "Start Exctarting features from SMILES\n",
      "Start Exctarting features from SMILES\n",
      "Start Exctarting features from SMILES\n",
      "Start Exctarting features from SMILES\n",
      "Start Exctarting features from SMILES\n",
      "Start Exctarting features from SMILES\n",
      "Start Exctarting features from SMILES\n",
      "Start Exctarting features from SMILES\n",
      "Start Exctarting features from SMILES\n",
      "Start Exctarting features from SMILES\n"
     ]
    },
    {
     "name": "stderr",
     "output_type": "stream",
     "text": [
      "c:\\Users\\20191678\\AppData\\Local\\anaconda3\\Lib\\site-packages\\torch_geometric\\deprecation.py:26: UserWarning: 'data.DataLoader' is deprecated, use 'loader.DataLoader' instead\n",
      "  warnings.warn(out)\n"
     ]
    }
   ],
   "source": [
    "chem_data_loader = prepare_chemical_data(smiles_list, targets, batch_size=16)"
   ]
  },
  {
   "cell_type": "code",
   "execution_count": 19,
   "metadata": {},
   "outputs": [
    {
     "name": "stdout",
     "output_type": "stream",
     "text": [
      "941\n"
     ]
    },
    {
     "name": "stderr",
     "output_type": "stream",
     "text": [
      "c:\\Users\\20191678\\AppData\\Local\\anaconda3\\Lib\\site-packages\\torch_geometric\\deprecation.py:26: UserWarning: 'data.DataLoader' is deprecated, use 'loader.DataLoader' instead\n",
      "  warnings.warn(out)\n"
     ]
    }
   ],
   "source": [
    "from preprocess.data_loader import prepare_transcriptomics_data\n",
    "\n",
    "\n",
    "transcriptomics_data_loader = prepare_transcriptomics_data(\n",
    "        transcriptomics_df, targets, batch_size=32\n",
    "    )\n",
    "\n",
    "print(len(transcriptomics_data_loader))\n"
   ]
  }
 ],
 "metadata": {
  "kernelspec": {
   "display_name": "base",
   "language": "python",
   "name": "python3"
  },
  "language_info": {
   "codemirror_mode": {
    "name": "ipython",
    "version": 3
   },
   "file_extension": ".py",
   "mimetype": "text/x-python",
   "name": "python",
   "nbconvert_exporter": "python",
   "pygments_lexer": "ipython3",
   "version": "3.11.5"
  }
 },
 "nbformat": 4,
 "nbformat_minor": 2
}
