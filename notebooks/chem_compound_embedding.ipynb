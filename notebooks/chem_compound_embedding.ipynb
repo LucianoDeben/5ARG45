{
 "cells": [
  {
   "cell_type": "markdown",
   "metadata": {},
   "source": [
    "# Embedding Workflow\n",
    "---"
   ]
  },
  {
   "cell_type": "code",
   "execution_count": null,
   "metadata": {},
   "outputs": [],
   "source": [
    "from rdkit import Chem\n",
    "from rdkit.Chem import rdFingerprintGenerator\n",
    "import numpy as np\n",
    "import torch\n",
    "from torch_geometric.data import Data\n",
    "from sklearn.preprocessing import StandardScaler\n",
    "import sys\n",
    "from preprocess.molecule_graph import collect_continuous_atom_features, mol_to_graph\n",
    "\n",
    "sys.path.append(\"../src\")"
   ]
  },
  {
   "cell_type": "code",
   "execution_count": 2,
   "metadata": {},
   "outputs": [],
   "source": [
    "smiles = \"COC(=O)C[C@](O)(CCCC(C)(C)O)C(=O)O[C@H]1[C@H]2c3cc4OCOc4cc3CCN3CCC[C@]23C=C1OC\"  # Example SMILES string\n",
    "mol = Chem.MolFromSmiles(smiles)\n",
    "\n",
    "# Create a Morgan fingerprint generator\n",
    "generator = rdFingerprintGenerator.GetMorganGenerator(radius=2, fpSize=2048)\n",
    "\n",
    "# Generate the fingerprint\n",
    "fingerprint = generator.GetFingerprint(mol)"
   ]
  },
  {
   "cell_type": "code",
   "execution_count": 3,
   "metadata": {},
   "outputs": [
    {
     "name": "stdout",
     "output_type": "stream",
     "text": [
      "[0 1]\n"
     ]
    }
   ],
   "source": [
    "# Convert the fingerprint to a NumPy array\n",
    "arr = np.zeros((1,), dtype=int)\n",
    "Chem.DataStructs.ConvertToNumpyArray(fingerprint, arr)\n",
    "print(np.unique(arr))  # Print the unique values in the fingerprint"
   ]
  },
  {
   "cell_type": "code",
   "execution_count": null,
   "metadata": {},
   "outputs": [
    {
     "name": "stdout",
     "output_type": "stream",
     "text": [
      "[Data(x=[9, 15], edge_index=[2, 16], edge_attr=[16, 13]), Data(x=[18, 15], edge_index=[2, 36], edge_attr=[36, 13]), Data(x=[12, 15], edge_index=[2, 24], edge_attr=[24, 13])]\n"
     ]
    }
   ],
   "source": [
    "smiles_list = [\"CCO\", \"C1CCCCC1\", \"c1ccccc1\"]\n",
    "continuous_atom_features = collect_continuous_atom_features(smiles_list)\n",
    "scaler = StandardScaler()\n",
    "scaler.fit(continuous_atom_features)\n",
    "\n",
    "graph_list = []\n",
    "for smiles in smiles_list:\n",
    "    graph = mol_to_graph(smiles, scaler)\n",
    "    if graph is not None:\n",
    "        graph_list.append(graph)\n",
    "\n",
    "print(graph_list)"
   ]
  }
 ],
 "metadata": {
  "kernelspec": {
   "display_name": "base",
   "language": "python",
   "name": "python3"
  },
  "language_info": {
   "codemirror_mode": {
    "name": "ipython",
    "version": 3
   },
   "file_extension": ".py",
   "mimetype": "text/x-python",
   "name": "python",
   "nbconvert_exporter": "python",
   "pygments_lexer": "ipython3",
   "version": "3.11.5"
  }
 },
 "nbformat": 4,
 "nbformat_minor": 2
}
