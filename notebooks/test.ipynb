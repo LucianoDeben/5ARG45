{
 "cells": [
  {
   "cell_type": "code",
   "execution_count": 2,
   "metadata": {},
   "outputs": [
    {
     "ename": "ModuleNotFoundError",
     "evalue": "No module named 'torch'",
     "output_type": "error",
     "traceback": [
      "\u001b[0;31m---------------------------------------------------------------------------\u001b[0m",
      "\u001b[0;31mModuleNotFoundError\u001b[0m                       Traceback (most recent call last)",
      "Cell \u001b[0;32mIn[2], line 15\u001b[0m\n\u001b[1;32m     13\u001b[0m \u001b[38;5;28;01mimport\u001b[39;00m\u001b[38;5;250m \u001b[39m\u001b[38;5;21;01mdecoupler\u001b[39;00m\u001b[38;5;250m \u001b[39m\u001b[38;5;28;01mas\u001b[39;00m\u001b[38;5;250m \u001b[39m\u001b[38;5;21;01mdc\u001b[39;00m\n\u001b[1;32m     14\u001b[0m \u001b[38;5;28;01mimport\u001b[39;00m\u001b[38;5;250m \u001b[39m\u001b[38;5;21;01mpandas\u001b[39;00m\u001b[38;5;250m \u001b[39m\u001b[38;5;28;01mas\u001b[39;00m\u001b[38;5;250m \u001b[39m\u001b[38;5;21;01mpd\u001b[39;00m\n\u001b[0;32m---> 15\u001b[0m \u001b[38;5;28;01mimport\u001b[39;00m\u001b[38;5;250m \u001b[39m\u001b[38;5;21;01mtorch\u001b[39;00m\n\u001b[1;32m     16\u001b[0m \u001b[38;5;28;01mimport\u001b[39;00m\u001b[38;5;250m \u001b[39m\u001b[38;5;21;01mtorch\u001b[39;00m\u001b[38;5;21;01m.\u001b[39;00m\u001b[38;5;21;01mnn\u001b[39;00m\u001b[38;5;250m \u001b[39m\u001b[38;5;28;01mas\u001b[39;00m\u001b[38;5;250m \u001b[39m\u001b[38;5;21;01mnn\u001b[39;00m\n\u001b[1;32m     17\u001b[0m \u001b[38;5;28;01mimport\u001b[39;00m\u001b[38;5;250m \u001b[39m\u001b[38;5;21;01mtorch\u001b[39;00m\u001b[38;5;21;01m.\u001b[39;00m\u001b[38;5;21;01moptim\u001b[39;00m\u001b[38;5;250m \u001b[39m\u001b[38;5;28;01mas\u001b[39;00m\u001b[38;5;250m \u001b[39m\u001b[38;5;21;01moptim\u001b[39;00m\n",
      "\u001b[0;31mModuleNotFoundError\u001b[0m: No module named 'torch'"
     ]
    }
   ],
   "source": [
    "# %% Import required libraries and modules\n",
    "import logging\n",
    "import os\n",
    "import sys\n",
    "import warnings\n",
    "\n",
    "# Add the src directory to the Python path\n",
    "sys.path.append(os.path.abspath(os.path.join(\"..\", \"src\")))\n",
    "\n",
    "# Suppress all FutureWarning messages\n",
    "warnings.simplefilter(action=\"ignore\", category=FutureWarning)\n",
    "\n",
    "import decoupler as dc\n",
    "import pandas as pd\n",
    "import torch\n",
    "import torch.nn as nn\n",
    "import torch.optim as optim\n",
    "from torch.optim.lr_scheduler import ReduceLROnPlateau\n",
    "\n",
    "from evaluation import evaluate_model\n",
    "from models import FlexibleFCNN\n",
    "from preprocess import split_data\n",
    "from training import train_model\n",
    "from utils import create_dataloader, load_config, load_sampled_data\n",
    "\n",
    "\n",
    "# Configure logging\n",
    "logging.basicConfig(\n",
    "    level=logging.DEBUG,\n",
    "    format=\"%(asctime)s - %(levelname)s - %(message)s\",\n",
    ")\n",
    "\n",
    "# Load Config\n",
    "config = load_config(\"../config.yaml\")\n",
    "\n",
    "# Set device\n",
    "device = torch.device(\"cuda\" if torch.cuda.is_available() else \"cpu\")\n",
    "logging.info(f\"Using device: {device}\")\n",
    "\n",
    "# %% Load and Preprocess Datasets with TF Activity Inference\n",
    "logging.info(\"Loading datasets and running TF activity inference...\")"
   ]
  },
  {
   "cell_type": "code",
   "execution_count": null,
   "metadata": {},
   "outputs": [],
   "source": [
    "preprocess_gene_data(config, standardize=True, feature_space=\"best inferred\", chunk_size=2500)"
   ]
  },
  {
   "cell_type": "code",
   "execution_count": 2,
   "metadata": {},
   "outputs": [
    {
     "name": "stdout",
     "output_type": "stream",
     "text": [
      "Unexpected exception formatting exception. Falling back to standard exception\n"
     ]
    },
    {
     "name": "stderr",
     "output_type": "stream",
     "text": [
      "Traceback (most recent call last):\n",
      "  File \"d:\\Programming\\5ARG45\\5ARG45\\.venv\\Lib\\site-packages\\IPython\\core\\interactiveshell.py\", line 2168, in showtraceback\n",
      "    stb = self.InteractiveTB.structured_traceback(\n",
      "          ^^^^^^^^^^^^^^^^^^^^^^^^^^^^^^^^^^^^^^^^\n",
      "  File \"d:\\Programming\\5ARG45\\5ARG45\\.venv\\Lib\\site-packages\\IPython\\core\\ultratb.py\", line 1457, in structured_traceback\n",
      "    return FormattedTB.structured_traceback(\n",
      "           ^^^^^^^^^^^^^^^^^^^^^^^^^^^^^^^^^\n",
      "  File \"d:\\Programming\\5ARG45\\5ARG45\\.venv\\Lib\\site-packages\\IPython\\core\\ultratb.py\", line 1348, in structured_traceback\n",
      "    return VerboseTB.structured_traceback(\n",
      "           ^^^^^^^^^^^^^^^^^^^^^^^^^^^^^^^\n",
      "  File \"d:\\Programming\\5ARG45\\5ARG45\\.venv\\Lib\\site-packages\\IPython\\core\\ultratb.py\", line 1195, in structured_traceback\n",
      "    formatted_exception = self.format_exception_as_a_whole(etype, evalue, etb, number_of_lines_of_context,\n",
      "                          ^^^^^^^^^^^^^^^^^^^^^^^^^^^^^^^^^^^^^^^^^^^^^^^^^^^^^^^^^^^^^^^^^^^^^^^^^^^^^^^^\n",
      "  File \"d:\\Programming\\5ARG45\\5ARG45\\.venv\\Lib\\site-packages\\IPython\\core\\ultratb.py\", line 1085, in format_exception_as_a_whole\n",
      "    self.get_records(etb, number_of_lines_of_context, tb_offset) if etb else []\n",
      "    ^^^^^^^^^^^^^^^^^^^^^^^^^^^^^^^^^^^^^^^^^^^^^^^^^^^^^^^^^^^^\n",
      "  File \"d:\\Programming\\5ARG45\\5ARG45\\.venv\\Lib\\site-packages\\IPython\\core\\ultratb.py\", line 1182, in get_records\n",
      "    res = list(stack_data.FrameInfo.stack_data(etb, options=options))[tb_offset:]\n",
      "          ^^^^^^^^^^^^^^^^^^^^^^^^^^^^^^^^^^^^^^^^^^^^^^^^^^^^^^^^^^^\n",
      "  File \"d:\\Programming\\5ARG45\\5ARG45\\.venv\\Lib\\site-packages\\stack_data\\core.py\", line 597, in stack_data\n",
      "    yield from collapse_repeated(\n",
      "  File \"d:\\Programming\\5ARG45\\5ARG45\\.venv\\Lib\\site-packages\\stack_data\\utils.py\", line 83, in collapse_repeated\n",
      "    yield from map(mapper, original_group)\n",
      "  File \"d:\\Programming\\5ARG45\\5ARG45\\.venv\\Lib\\site-packages\\stack_data\\core.py\", line 587, in mapper\n",
      "    return cls(f, options)\n",
      "           ^^^^^^^^^^^^^^^\n",
      "  File \"d:\\Programming\\5ARG45\\5ARG45\\.venv\\Lib\\site-packages\\stack_data\\core.py\", line 551, in __init__\n",
      "    self.executing = Source.executing(frame_or_tb)\n",
      "                     ^^^^^^^^^^^^^^^^^^^^^^^^^^^^^\n",
      "  File \"d:\\Programming\\5ARG45\\5ARG45\\.venv\\Lib\\site-packages\\executing\\executing.py\", line 264, in executing\n",
      "    source = cls.for_frame(frame)\n",
      "             ^^^^^^^^^^^^^^^^^^^^\n",
      "  File \"d:\\Programming\\5ARG45\\5ARG45\\.venv\\Lib\\site-packages\\executing\\executing.py\", line 183, in for_frame\n",
      "    return cls.for_filename(frame.f_code.co_filename, frame.f_globals or {}, use_cache)\n",
      "           ^^^^^^^^^^^^^^^^^^^^^^^^^^^^^^^^^^^^^^^^^^^^^^^^^^^^^^^^^^^^^^^^^^^^^^^^^^^^\n",
      "  File \"d:\\Programming\\5ARG45\\5ARG45\\.venv\\Lib\\site-packages\\executing\\executing.py\", line 212, in for_filename\n",
      "    return cls._for_filename_and_lines(filename, tuple(lines))\n",
      "           ^^^^^^^^^^^^^^^^^^^^^^^^^^^^^^^^^^^^^^^^^^^^^^^^^^^\n",
      "  File \"d:\\Programming\\5ARG45\\5ARG45\\.venv\\Lib\\site-packages\\executing\\executing.py\", line 223, in _for_filename_and_lines\n",
      "    result = source_cache[(filename, lines)] = cls(filename, lines)\n",
      "                                               ^^^^^^^^^^^^^^^^^^^^\n",
      "  File \"d:\\Programming\\5ARG45\\5ARG45\\.venv\\Lib\\site-packages\\executing\\executing.py\", line 163, in __init__\n",
      "    self.tree = ast.parse(self.text, filename=filename)\n",
      "                ^^^^^^^^^^^^^^^^^^^^^^^^^^^^^^^^^^^^^^^\n",
      "  File \"C:\\Users\\20191678\\AppData\\Local\\miniconda3\\Lib\\ast.py\", line 52, in parse\n",
      "    return compile(source, filename, mode, flags,\n",
      "           ^^^^^^^^^^^^^^^^^^^^^^^^^^^^^^^^^^^^^^\n",
      "MemoryError\n"
     ]
    }
   ],
   "source": [
    "X = load_sampled_data(config[\"data_paths\"][\"preprocessed_best_inferred_file\"])\n",
    "X.shape"
   ]
  },
  {
   "cell_type": "code",
   "execution_count": null,
   "metadata": {},
   "outputs": [],
   "source": [
    "import numpy as np\n",
    "\n",
    "feature_space = \"best inferred\"\n",
    "\n",
    "logging.debug(\"Loading datasets.\")\n",
    "X_rna = np.fromfile(config[\"data_paths\"][\"rna_file\"], dtype=np.float32).reshape(\n",
    "    -1, 12328\n",
    ")\n",
    "geneinfo = pd.read_csv(config[\"data_paths\"][\"geneinfo_file\"], sep=\"\\t\")\n",
    "y_df = pd.read_csv(config[\"data_paths\"][\"y_file\"], delimiter=\"\\t\")\n",
    "print(geneinfo.shape), print(y_df.shape)\n",
    "\n",
    "# Select genes based on user's choice\n",
    "if feature_space == \"landmark\":\n",
    "    logging.debug(\"Using landmark genes.\")\n",
    "    selected_genes = geneinfo[geneinfo.feature_space == \"landmark\"]\n",
    "elif feature_space == \"best inferred\":\n",
    "    logging.debug(\"Using best inferred genes (including landmark genes).\")\n",
    "    selected_genes = geneinfo[\n",
    "        geneinfo.feature_space.isin([\"landmark\", \"best inferred\"])\n",
    "    ]\n",
    "elif feature_space == \"all\":\n",
    "    logging.debug(\"Using all genes.\")\n",
    "    selected_genes = geneinfo\n",
    "else:\n",
    "    raise ValueError(\"Invalid feature space selected.\")"
   ]
  },
  {
   "cell_type": "code",
   "execution_count": 4,
   "metadata": {},
   "outputs": [],
   "source": [
    "import numpy as np\n",
    "X_rna = np.fromfile(config[\"data_paths\"][\"rna_file\"], dtype=np.float32).reshape(\n",
    "    -1, 12328\n",
    ")"
   ]
  },
  {
   "cell_type": "code",
   "execution_count": 5,
   "metadata": {},
   "outputs": [
    {
     "data": {
      "text/plain": [
       "(63134, 12328)"
      ]
     },
     "execution_count": 5,
     "metadata": {},
     "output_type": "execute_result"
    }
   ],
   "source": [
    "X_rna.shape\n"
   ]
  },
  {
   "cell_type": "code",
   "execution_count": 6,
   "metadata": {},
   "outputs": [
    {
     "ename": "NameError",
     "evalue": "name 'geneinfo' is not defined",
     "output_type": "error",
     "traceback": [
      "\u001b[1;31m---------------------------------------------------------------------------\u001b[0m",
      "\u001b[1;31mNameError\u001b[0m                                 Traceback (most recent call last)",
      "Cell \u001b[1;32mIn[6], line 2\u001b[0m\n\u001b[0;32m      1\u001b[0m \u001b[38;5;66;03m# Turn X_rna into a pandas dataframe\u001b[39;00m\n\u001b[1;32m----> 2\u001b[0m X_rna_df \u001b[38;5;241m=\u001b[39m pd\u001b[38;5;241m.\u001b[39mDataFrame(X_rna, columns\u001b[38;5;241m=\u001b[39m\u001b[43mgeneinfo\u001b[49m[\u001b[38;5;124m\"\u001b[39m\u001b[38;5;124mgene_symbol\u001b[39m\u001b[38;5;124m\"\u001b[39m])\n",
      "\u001b[1;31mNameError\u001b[0m: name 'geneinfo' is not defined"
     ]
    }
   ],
   "source": [
    "# Turn X_rna into a pandas dataframe\n",
    "X_rna_df = pd.DataFrame(X_rna, columns=geneinfo[\"gene_symbol\"])"
   ]
  },
  {
   "cell_type": "code",
   "execution_count": 2,
   "metadata": {},
   "outputs": [
    {
     "name": "stderr",
     "output_type": "stream",
     "text": [
      "d:\\Programming\\5ARG45\\5ARG45\\.venv\\Lib\\site-packages\\cmapPy\\pandasGEXpress\\parse_gctx.py:275: FutureWarning: errors='ignore' is deprecated and will raise in a future version. Use to_numeric without passing `errors` and catch exceptions explicitly instead\n",
      "  meta_df = meta_df.apply(lambda x: pd.to_numeric(x, errors=\"ignore\"))\n",
      "d:\\Programming\\5ARG45\\5ARG45\\.venv\\Lib\\site-packages\\cmapPy\\pandasGEXpress\\parse_gctx.py:275: FutureWarning: errors='ignore' is deprecated and will raise in a future version. Use to_numeric without passing `errors` and catch exceptions explicitly instead\n",
      "  meta_df = meta_df.apply(lambda x: pd.to_numeric(x, errors=\"ignore\"))\n"
     ]
    },
    {
     "ename": "MemoryError",
     "evalue": "Unable to allocate 33.1 GiB for an array with shape (720216, 12328) and data type float32",
     "output_type": "error",
     "traceback": [
      "\u001b[1;31m---------------------------------------------------------------------------\u001b[0m",
      "\u001b[1;31mMemoryError\u001b[0m                               Traceback (most recent call last)",
      "Cell \u001b[1;32mIn[2], line 3\u001b[0m\n\u001b[0;32m      1\u001b[0m \u001b[38;5;28;01mfrom\u001b[39;00m\u001b[38;5;250m \u001b[39m\u001b[38;5;21;01mcmapPy\u001b[39;00m\u001b[38;5;250m \u001b[39m\u001b[38;5;28;01mimport\u001b[39;00m \u001b[38;5;241m*\u001b[39m\n\u001b[0;32m      2\u001b[0m \u001b[38;5;28;01mfrom\u001b[39;00m\u001b[38;5;250m \u001b[39m\u001b[38;5;21;01mcmapPy\u001b[39;00m\u001b[38;5;21;01m.\u001b[39;00m\u001b[38;5;21;01mpandasGEXpress\u001b[39;00m\u001b[38;5;21;01m.\u001b[39;00m\u001b[38;5;21;01mparse\u001b[39;00m\u001b[38;5;250m \u001b[39m\u001b[38;5;28;01mimport\u001b[39;00m parse\n\u001b[1;32m----> 3\u001b[0m data \u001b[38;5;241m=\u001b[39m \u001b[43mparse\u001b[49m\u001b[43m(\u001b[49m\u001b[43mfile_path\u001b[49m\u001b[38;5;241;43m=\u001b[39;49m\u001b[43m \u001b[49m\u001b[38;5;124;43m\"\u001b[39;49m\u001b[38;5;124;43m../data/raw/level5_beta_trt_cp_n720216x12328.gctx\u001b[39;49m\u001b[38;5;124;43m\"\u001b[39;49m\u001b[43m)\u001b[49m\n",
      "File \u001b[1;32md:\\Programming\\5ARG45\\5ARG45\\.venv\\Lib\\site-packages\\cmapPy\\pandasGEXpress\\parse.py:65\u001b[0m, in \u001b[0;36mparse\u001b[1;34m(file_path, convert_neg_666, rid, cid, ridx, cidx, row_meta_only, col_meta_only, make_multiindex)\u001b[0m\n\u001b[0;32m     59\u001b[0m     out \u001b[38;5;241m=\u001b[39m parse_gct\u001b[38;5;241m.\u001b[39mparse(file_path, convert_neg_666\u001b[38;5;241m=\u001b[39mconvert_neg_666,\n\u001b[0;32m     60\u001b[0m                           rid\u001b[38;5;241m=\u001b[39mrid, cid\u001b[38;5;241m=\u001b[39mcid, ridx\u001b[38;5;241m=\u001b[39mridx, cidx\u001b[38;5;241m=\u001b[39mcidx,\n\u001b[0;32m     61\u001b[0m                           row_meta_only\u001b[38;5;241m=\u001b[39mrow_meta_only, col_meta_only\u001b[38;5;241m=\u001b[39mcol_meta_only,\n\u001b[0;32m     62\u001b[0m                           make_multiindex\u001b[38;5;241m=\u001b[39mmake_multiindex)\n\u001b[0;32m     64\u001b[0m \u001b[38;5;28;01melif\u001b[39;00m file_path\u001b[38;5;241m.\u001b[39mendswith(\u001b[38;5;124m\"\u001b[39m\u001b[38;5;124m.gctx\u001b[39m\u001b[38;5;124m\"\u001b[39m):\n\u001b[1;32m---> 65\u001b[0m     out \u001b[38;5;241m=\u001b[39m \u001b[43mparse_gctx\u001b[49m\u001b[38;5;241;43m.\u001b[39;49m\u001b[43mparse\u001b[49m\u001b[43m(\u001b[49m\u001b[43mfile_path\u001b[49m\u001b[43m,\u001b[49m\u001b[43m \u001b[49m\u001b[43mconvert_neg_666\u001b[49m\u001b[38;5;241;43m=\u001b[39;49m\u001b[43mconvert_neg_666\u001b[49m\u001b[43m,\u001b[49m\n\u001b[0;32m     66\u001b[0m \u001b[43m                          \u001b[49m\u001b[43mrid\u001b[49m\u001b[38;5;241;43m=\u001b[39;49m\u001b[43mrid\u001b[49m\u001b[43m,\u001b[49m\u001b[43m \u001b[49m\u001b[43mcid\u001b[49m\u001b[38;5;241;43m=\u001b[39;49m\u001b[43mcid\u001b[49m\u001b[43m,\u001b[49m\u001b[43m \u001b[49m\u001b[43mridx\u001b[49m\u001b[38;5;241;43m=\u001b[39;49m\u001b[43mridx\u001b[49m\u001b[43m,\u001b[49m\u001b[43m \u001b[49m\u001b[43mcidx\u001b[49m\u001b[38;5;241;43m=\u001b[39;49m\u001b[43mcidx\u001b[49m\u001b[43m,\u001b[49m\n\u001b[0;32m     67\u001b[0m \u001b[43m                          \u001b[49m\u001b[43mrow_meta_only\u001b[49m\u001b[38;5;241;43m=\u001b[39;49m\u001b[43mrow_meta_only\u001b[49m\u001b[43m,\u001b[49m\u001b[43m \u001b[49m\u001b[43mcol_meta_only\u001b[49m\u001b[38;5;241;43m=\u001b[39;49m\u001b[43mcol_meta_only\u001b[49m\u001b[43m,\u001b[49m\n\u001b[0;32m     68\u001b[0m \u001b[43m                          \u001b[49m\u001b[43mmake_multiindex\u001b[49m\u001b[38;5;241;43m=\u001b[39;49m\u001b[43mmake_multiindex\u001b[49m\u001b[43m)\u001b[49m\n\u001b[0;32m     70\u001b[0m \u001b[38;5;28;01melse\u001b[39;00m:\n\u001b[0;32m     71\u001b[0m     err_msg \u001b[38;5;241m=\u001b[39m \u001b[38;5;124m\"\u001b[39m\u001b[38;5;124mFile to parse must be .gct or .gctx!\u001b[39m\u001b[38;5;124m\"\u001b[39m\n",
      "File \u001b[1;32md:\\Programming\\5ARG45\\5ARG45\\.venv\\Lib\\site-packages\\cmapPy\\pandasGEXpress\\parse_gctx.py:110\u001b[0m, in \u001b[0;36mparse\u001b[1;34m(gctx_file_path, convert_neg_666, rid, cid, ridx, cidx, row_meta_only, col_meta_only, make_multiindex)\u001b[0m\n\u001b[0;32m    107\u001b[0m (sorted_ridx, sorted_cidx) \u001b[38;5;241m=\u001b[39m check_and_order_id_inputs(rid, ridx, cid, cidx, row_meta, col_meta)\n\u001b[0;32m    109\u001b[0m data_dset \u001b[38;5;241m=\u001b[39m gctx_file[data_node]\n\u001b[1;32m--> 110\u001b[0m data_df \u001b[38;5;241m=\u001b[39m \u001b[43mparse_data_df\u001b[49m\u001b[43m(\u001b[49m\u001b[43mdata_dset\u001b[49m\u001b[43m,\u001b[49m\u001b[43m \u001b[49m\u001b[43msorted_ridx\u001b[49m\u001b[43m,\u001b[49m\u001b[43m \u001b[49m\u001b[43msorted_cidx\u001b[49m\u001b[43m,\u001b[49m\u001b[43m \u001b[49m\u001b[43mrow_meta\u001b[49m\u001b[43m,\u001b[49m\u001b[43m \u001b[49m\u001b[43mcol_meta\u001b[49m\u001b[43m)\u001b[49m\n\u001b[0;32m    112\u001b[0m \u001b[38;5;66;03m# (if subsetting) subset metadata\u001b[39;00m\n\u001b[0;32m    113\u001b[0m row_meta \u001b[38;5;241m=\u001b[39m row_meta\u001b[38;5;241m.\u001b[39miloc[sorted_ridx]\n",
      "File \u001b[1;32md:\\Programming\\5ARG45\\5ARG45\\.venv\\Lib\\site-packages\\cmapPy\\pandasGEXpress\\parse_gctx.py:334\u001b[0m, in \u001b[0;36mparse_data_df\u001b[1;34m(data_dset, ridx, cidx, row_meta, col_meta)\u001b[0m\n\u001b[0;32m    321\u001b[0m \u001b[38;5;250m\u001b[39m\u001b[38;5;124;03m\"\"\"\u001b[39;00m\n\u001b[0;32m    322\u001b[0m \u001b[38;5;124;03mParses in data_df from hdf5, subsetting if specified.\u001b[39;00m\n\u001b[0;32m    323\u001b[0m \n\u001b[1;32m   (...)\u001b[0m\n\u001b[0;32m    331\u001b[0m \u001b[38;5;124;03m    -col_meta (pandas DataFrame): the parsed in col metadata\u001b[39;00m\n\u001b[0;32m    332\u001b[0m \u001b[38;5;124;03m\"\"\"\u001b[39;00m\n\u001b[0;32m    333\u001b[0m \u001b[38;5;28;01mif\u001b[39;00m \u001b[38;5;28mlen\u001b[39m(ridx) \u001b[38;5;241m==\u001b[39m \u001b[38;5;28mlen\u001b[39m(row_meta\u001b[38;5;241m.\u001b[39mindex) \u001b[38;5;129;01mand\u001b[39;00m \u001b[38;5;28mlen\u001b[39m(cidx) \u001b[38;5;241m==\u001b[39m \u001b[38;5;28mlen\u001b[39m(col_meta\u001b[38;5;241m.\u001b[39mindex):  \u001b[38;5;66;03m# no subset\u001b[39;00m\n\u001b[1;32m--> 334\u001b[0m     data_array \u001b[38;5;241m=\u001b[39m \u001b[43mnp\u001b[49m\u001b[38;5;241;43m.\u001b[39;49m\u001b[43mempty\u001b[49m\u001b[43m(\u001b[49m\u001b[43mdata_dset\u001b[49m\u001b[38;5;241;43m.\u001b[39;49m\u001b[43mshape\u001b[49m\u001b[43m,\u001b[49m\u001b[43m \u001b[49m\u001b[43mdtype\u001b[49m\u001b[38;5;241;43m=\u001b[39;49m\u001b[43mnp\u001b[49m\u001b[38;5;241;43m.\u001b[39;49m\u001b[43mfloat32\u001b[49m\u001b[43m)\u001b[49m\n\u001b[0;32m    335\u001b[0m     data_dset\u001b[38;5;241m.\u001b[39mread_direct(data_array)\n\u001b[0;32m    336\u001b[0m     data_array \u001b[38;5;241m=\u001b[39m data_array\u001b[38;5;241m.\u001b[39mtranspose()\n",
      "\u001b[1;31mMemoryError\u001b[0m: Unable to allocate 33.1 GiB for an array with shape (720216, 12328) and data type float32"
     ]
    }
   ],
   "source": [
    "from cmapPy import *\n",
    "from cmapPy.pandasGEXpress.parse import parse\n",
    "data = parse(file_path= \"../data/raw/level5_beta_trt_cp_n720216x12328.gctx\")"
   ]
  }
 ],
 "metadata": {
  "kernelspec": {
   "display_name": "venv",
   "language": "python",
   "name": "python3"
  },
  "language_info": {
   "codemirror_mode": {
    "name": "ipython",
    "version": 3
   },
   "file_extension": ".py",
   "mimetype": "text/x-python",
   "name": "python",
   "nbconvert_exporter": "python",
   "pygments_lexer": "ipython3",
   "version": "3.11.3"
  }
 },
 "nbformat": 4,
 "nbformat_minor": 2
}
