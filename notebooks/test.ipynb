{
  "cells": [
    {
      "cell_type": "code",
      "execution_count": null,
      "metadata": {},
      "outputs": [
        {
          "name": "stdout",
          "output_type": "stream",
          "text": [
            "(31567, 24656)\n"
          ]
        }
      ],
      "source": [
        "import numpy as np\n",
        "import pandas as pd\n",
        "\n",
        "# get experiments details including viability per sample ; output Y\n",
        "siginfo = pd.read_csv(\"../data/raw/Y.tsv\", sep=\"\\t\", index_col=0)\n",
        "\n",
        "# remove NaNs\n",
        "na_idxs = siginfo.viability.isna()\n",
        "siginfo = siginfo.loc[~na_idxs]\n",
        "\n",
        "# get gene expressions ; input X_gene\n",
        "X_rna = np.fromfile(\"../data/raw/X_RNA.bin\", dtype=np.float64)\n",
        "X_rna = X_rna.reshape(31567, -1)  # reshape loaded data so we can use it\n",
        "\n",
        "print(X_rna.shape)\n"
      ]
    },
    {
      "cell_type": "code",
      "execution_count": 8,
      "metadata": {},
      "outputs": [],
      "source": [
        "# Load gene annotations\n",
        "geneinfo = pd.read_csv(\"../data/raw/geneinfo_beta.txt\", sep=\"\\t\")\n",
        "\n",
        "# Select genes that are either \"landmark\" or \"best inferred\"\n",
        "selected_genes = geneinfo.feature_space.isin([\"landmark\", \"best inferred\", \"inferred\"])\n",
        "\n",
        "# Filter the X_rna array to include only the selected genes\n",
        "X_landmark = X_rna[:, selected_genes]\n",
        "\n",
        "# Create DataFrame for selected genes\n",
        "X_landmark_df = pd.DataFrame(\n",
        "    X_landmark, index=na_idxs.index, columns=geneinfo.loc[selected_genes, \"gene_symbol\"]\n",
        ")\n",
        "\n",
        "# Remove rows with NaN indices\n",
        "X_landmark_df = X_landmark_df.loc[~na_idxs]"
      ]
    },
    {
      "cell_type": "code",
      "execution_count": 9,
      "metadata": {},
      "outputs": [
        {
          "name": "stdout",
          "output_type": "stream",
          "text": [
            "Shape of the DataFrame with selected genes: (31159, 12328)\n",
            "Number of 0.0 values: 299807961\n",
            "Total number of elements: 384128152\n",
            "Percentage of 0.0 values: 78.05%\n"
          ]
        }
      ],
      "source": [
        "# Print the shape of the resulting DataFrame\n",
        "print(f\"Shape of the DataFrame with selected genes: {X_landmark_df.shape}\")\n",
        "\n",
        "# Sanity checks: Calculate the number and percentage of 0.0 values\n",
        "num_zeros = (X_landmark_df == 0.0).sum().sum()\n",
        "total_elements = X_landmark_df.size\n",
        "\n",
        "# Compute the percentage of 0.0 values\n",
        "percentage_zeros = (num_zeros / total_elements) * 100\n",
        "\n",
        "print(f\"Number of 0.0 values: {num_zeros}\")\n",
        "print(f\"Total number of elements: {total_elements}\")\n",
        "print(f\"Percentage of 0.0 values: {percentage_zeros:.2f}%\")"
      ]
    },
    {
      "cell_type": "code",
      "execution_count": 10,
      "metadata": {},
      "outputs": [
        {
          "name": "stdout",
          "output_type": "stream",
          "text": [
            "Number of columns with only 0.0 values: 0\n",
            "Columns with only 0.0 values: []\n",
            "Percentage of columns with only 0.0 values: 0.00%\n"
          ]
        }
      ],
      "source": [
        "df = X_landmark_df\n",
        "\n",
        "# Check if all values in each column are 0.0\n",
        "all_zeros_columns = (df == 0.0).all()\n",
        "\n",
        "# Count the number of columns with only 0.0 values\n",
        "num_all_zeros_columns = all_zeros_columns.sum()\n",
        "\n",
        "# Get the names of columns with only 0.0 values\n",
        "columns_all_zeros = all_zeros_columns[all_zeros_columns].index.tolist()\n",
        "\n",
        "# Calculate the percentage of columns with only 0.0 values\n",
        "percentage = (num_all_zeros_columns / df.shape[1]) * 100\n",
        "\n",
        "print(f\"Number of columns with only 0.0 values: {num_all_zeros_columns}\")\n",
        "print(f\"Columns with only 0.0 values: {columns_all_zeros}\")\n",
        "print(f\"Percentage of columns with only 0.0 values: {percentage:.2f}%\")"
      ]
    },
    {
      "cell_type": "code",
      "execution_count": 11,
      "metadata": {},
      "outputs": [
        {
          "name": "stdout",
          "output_type": "stream",
          "text": [
            "Number of rows with only 0.0 values: 0\n",
            "Rows with only 0.0 values: []\n",
            "Percentage of rows with only 0.0 values: 0.00%\n"
          ]
        }
      ],
      "source": [
        "df = X_landmark_df\n",
        "\n",
        "# Check if all values in each row are 0.0\n",
        "all_zeros_rows = (df == 0.0).all(axis=1)\n",
        "\n",
        "# Count the number of rows with only 0.0 values\n",
        "num_all_zeros_rows = all_zeros_rows.sum()\n",
        "\n",
        "# Get the names (index labels) of the rows with only 0.0 values\n",
        "rows_all_zeros = all_zeros_rows[all_zeros_rows].index.tolist()\n",
        "\n",
        "# Calculate the percentage of rows with only 0.0 values\n",
        "percentage_rows = (num_all_zeros_rows / df.shape[0]) * 100\n",
        "\n",
        "print(f\"Number of rows with only 0.0 values: {num_all_zeros_rows}\")\n",
        "print(f\"Rows with only 0.0 values: {rows_all_zeros}\")\n",
        "print(f\"Percentage of rows with only 0.0 values: {percentage_rows:.2f}%\")"
      ]
    }
  ],
  "metadata": {
    "kernelspec": {
      "display_name": ".venv",
      "language": "python",
      "name": "python3"
    },
    "language_info": {
      "codemirror_mode": {
        "name": "ipython",
        "version": 3
      },
      "file_extension": ".py",
      "mimetype": "text/x-python",
      "name": "python",
      "nbconvert_exporter": "python",
      "pygments_lexer": "ipython3",
      "version": "3.12.7"
    }
  },
  "nbformat": 4,
  "nbformat_minor": 2
}
